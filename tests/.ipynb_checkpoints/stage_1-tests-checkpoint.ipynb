{
 "cells": [
  {
   "cell_type": "markdown",
   "id": "87dfd418-e7bd-432e-bda3-40906e0ea59f",
   "metadata": {},
   "source": [
    "## ```sampley``` tests - Stage 1 (DataPoints and Sections)"
   ]
  },
  {
   "cell_type": "markdown",
   "id": "23281c45-aab2-400a-8034-5765ec279fa6",
   "metadata": {},
   "source": [
    "### Setup"
   ]
  },
  {
   "cell_type": "code",
   "execution_count": 1,
   "id": "eebced3a-3159-4e5e-ac3f-c071ffb2e5da",
   "metadata": {},
   "outputs": [],
   "source": [
    "from sampley import *"
   ]
  },
  {
   "cell_type": "code",
   "execution_count": 2,
   "id": "7d53e165-4bc1-4035-bd7f-07f983321e8f",
   "metadata": {},
   "outputs": [],
   "source": [
    "import_folder = './import/'\n",
    "export_folder = './export/'"
   ]
  },
  {
   "cell_type": "markdown",
   "id": "c5ab6416-a681-413c-a0af-755e30103497",
   "metadata": {},
   "source": [
    "### DataPoints"
   ]
  },
  {
   "cell_type": "markdown",
   "id": "8668f264-1706-4eff-8e3f-afb905a7963c",
   "metadata": {},
   "source": [
    "#### ```DataPoints.from_file```"
   ]
  },
  {
   "cell_type": "code",
   "execution_count": 3,
   "id": "953ff62c-3ea3-440b-8315-b30b0084028e",
   "metadata": {},
   "outputs": [
    {
     "name": "stdout",
     "output_type": "stream",
     "text": [
      "Success: file opened.\n",
      "Success: reprojected to CRS \"EPSG:32619\"\n",
      "Success: column \"datetime\" reformatted to datetimes.\n",
      "Success: timezone of column \"datetime\" set to \"UTC-05:00\".\n",
      "Success: datapoint IDs generated.\n"
     ]
    }
   ],
   "source": [
    "u_sightings = DataPoints.from_file(\n",
    "    filepath=import_folder+'sightings.gpkg',\n",
    "    crs_working='EPSG:32619',\n",
    "    datetime_col='datetime',\n",
    "    tz_import='UTC-05:00'\n",
    ")"
   ]
  },
  {
   "cell_type": "code",
   "execution_count": 4,
   "id": "87bb9f11-eb21-410d-a4e3-406d9af832df",
   "metadata": {},
   "outputs": [
    {
     "name": "stdout",
     "output_type": "stream",
     "text": [
      "Success: file opened.\n",
      "Success: X and Y coordinates parsed.\n",
      "Success: reprojected to CRS \"EPSG:32619\"\n",
      "Success: datapoint IDs generated.\n"
     ]
    }
   ],
   "source": [
    "u_trackpoints = DataPoints.from_file(\n",
    "    filepath=import_folder+'trackpoints.csv',\n",
    "    x_col='lon',\n",
    "    y_col='lat',\n",
    "    crs_import='EPSG:4326',\n",
    "    crs_working='EPSG:32619',\n",
    "    section_id_col='section_id'\n",
    ")"
   ]
  },
  {
   "cell_type": "code",
   "execution_count": 5,
   "id": "7eb01acb-ed73-4024-b6d7-372448a0fb96",
   "metadata": {},
   "outputs": [
    {
     "name": "stdout",
     "output_type": "stream",
     "text": [
      "Success: file opened.\n",
      "Success: geometries parsed.\n",
      "Success: reprojected to CRS \"EPSG:32619\"\n",
      "Success: datapoint IDs generated.\n"
     ]
    }
   ],
   "source": [
    "u_trackpoints = DataPoints.from_file(\n",
    "    filepath=import_folder+'trackpoints.csv',\n",
    "    geometry_col='geometry',\n",
    "    crs_import='EPSG:4326',\n",
    "    crs_working='EPSG:32619',\n",
    "    section_id_col='section_id'\n",
    ")"
   ]
  },
  {
   "cell_type": "code",
   "execution_count": 6,
   "id": "2f43f461-1e26-4944-b18d-6863f202976a",
   "metadata": {},
   "outputs": [
    {
     "name": "stdout",
     "output_type": "stream",
     "text": [
      "Success: file opened.\n",
      "Success: X and Y coordinates parsed.\n",
      "Success: reprojected to CRS \"EPSG:32619\"\n",
      "Success: column \"datetime\" reformatted to datetimes.\n",
      "Success: timezone of column \"datetime\" set to \"UTC-05:00\".\n",
      "Success: column \"datetime\" converted to timezone \"UTC-06:00\"\n"
     ]
    }
   ],
   "source": [
    "u_trackpoints = DataPoints.from_file(\n",
    "    filepath=import_folder+'trackpoints.csv',\n",
    "    x_col='lon',\n",
    "    y_col='lat',\n",
    "    crs_import='EPSG:4326',\n",
    "    crs_working='EPSG:32619',\n",
    "    datetime_col='datetime',\n",
    "    datetime_format='%Y-%m-%d %H:%M:%S',\n",
    "    tz_import='UTC-05:00',\n",
    "    tz_working='UTC-06:00',\n",
    "    datapoint_id_col='datapoint_id',\n",
    "    section_id_col='section_id'\n",
    ")"
   ]
  },
  {
   "cell_type": "markdown",
   "id": "53991097-7265-46a7-a209-5ae61c6b6465",
   "metadata": {},
   "source": [
    "#### DataPoints attributes"
   ]
  },
  {
   "cell_type": "code",
   "execution_count": 7,
   "id": "c34cf90f-f9ec-458f-bc8f-037382fa0540",
   "metadata": {},
   "outputs": [
    {
     "data": {
      "text/plain": [
       "'datapoints-trackpoints'"
      ]
     },
     "execution_count": 7,
     "metadata": {},
     "output_type": "execute_result"
    }
   ],
   "source": [
    "u_trackpoints.name"
   ]
  },
  {
   "cell_type": "code",
   "execution_count": 8,
   "id": "b0a692a3-97a5-43af-ae14-3cf590f8a036",
   "metadata": {},
   "outputs": [
    {
     "data": {
      "text/plain": [
       "{'datapoints_filepath': 'C:/Users/jsyme/My Drive/JSBigelow/Packages/sampley/tests/import/trackpoints.csv',\n",
       " 'datapoints_crs': 'EPSG:32619',\n",
       " 'datapoints_tz': 'UTC-06:00',\n",
       " 'datapoints_data_cols': 'section_id, individuals, bss, season'}"
      ]
     },
     "execution_count": 8,
     "metadata": {},
     "output_type": "execute_result"
    }
   ],
   "source": [
    "u_trackpoints.parameters"
   ]
  },
  {
   "cell_type": "code",
   "execution_count": 9,
   "id": "1fe7168b-0498-4d19-8bba-23b7d018ab4e",
   "metadata": {},
   "outputs": [
    {
     "data": {
      "text/html": [
       "<div>\n",
       "<style scoped>\n",
       "    .dataframe tbody tr th:only-of-type {\n",
       "        vertical-align: middle;\n",
       "    }\n",
       "\n",
       "    .dataframe tbody tr th {\n",
       "        vertical-align: top;\n",
       "    }\n",
       "\n",
       "    .dataframe thead th {\n",
       "        text-align: right;\n",
       "    }\n",
       "</style>\n",
       "<table border=\"1\" class=\"dataframe\">\n",
       "  <thead>\n",
       "    <tr style=\"text-align: right;\">\n",
       "      <th></th>\n",
       "      <th>datapoint_id</th>\n",
       "      <th>section_id</th>\n",
       "      <th>geometry</th>\n",
       "      <th>datetime</th>\n",
       "      <th>individuals</th>\n",
       "      <th>bss</th>\n",
       "      <th>season</th>\n",
       "    </tr>\n",
       "  </thead>\n",
       "  <tbody>\n",
       "    <tr>\n",
       "      <th>0</th>\n",
       "      <td>dp0001</td>\n",
       "      <td>s001</td>\n",
       "      <td>POINT (580092.757 4742883.408)</td>\n",
       "      <td>2019-01-25 09:18:13-06:00</td>\n",
       "      <td>NaN</td>\n",
       "      <td>2</td>\n",
       "      <td>winter</td>\n",
       "    </tr>\n",
       "    <tr>\n",
       "      <th>1</th>\n",
       "      <td>dp0002</td>\n",
       "      <td>s001</td>\n",
       "      <td>POINT (579997.135 4742882.297)</td>\n",
       "      <td>2019-01-25 09:18:15-06:00</td>\n",
       "      <td>NaN</td>\n",
       "      <td>2</td>\n",
       "      <td>winter</td>\n",
       "    </tr>\n",
       "    <tr>\n",
       "      <th>2</th>\n",
       "      <td>dp0003</td>\n",
       "      <td>s001</td>\n",
       "      <td>POINT (579616.283 4742877.883)</td>\n",
       "      <td>2019-01-25 09:18:23-06:00</td>\n",
       "      <td>NaN</td>\n",
       "      <td>2</td>\n",
       "      <td>winter</td>\n",
       "    </tr>\n",
       "    <tr>\n",
       "      <th>3</th>\n",
       "      <td>dp0004</td>\n",
       "      <td>s001</td>\n",
       "      <td>POINT (579166.78 4742872.701)</td>\n",
       "      <td>2019-01-25 09:18:32-06:00</td>\n",
       "      <td>1.0</td>\n",
       "      <td>2</td>\n",
       "      <td>winter</td>\n",
       "    </tr>\n",
       "    <tr>\n",
       "      <th>4</th>\n",
       "      <td>dp0005</td>\n",
       "      <td>s001</td>\n",
       "      <td>POINT (578880.732 4742869.419)</td>\n",
       "      <td>2019-01-25 09:18:38-06:00</td>\n",
       "      <td>NaN</td>\n",
       "      <td>2</td>\n",
       "      <td>winter</td>\n",
       "    </tr>\n",
       "    <tr>\n",
       "      <th>...</th>\n",
       "      <td>...</td>\n",
       "      <td>...</td>\n",
       "      <td>...</td>\n",
       "      <td>...</td>\n",
       "      <td>...</td>\n",
       "      <td>...</td>\n",
       "      <td>...</td>\n",
       "    </tr>\n",
       "    <tr>\n",
       "      <th>1762</th>\n",
       "      <td>dp1763</td>\n",
       "      <td>s004</td>\n",
       "      <td>POINT (603283.221 4696803.55)</td>\n",
       "      <td>2019-03-05 12:09:25-06:00</td>\n",
       "      <td>NaN</td>\n",
       "      <td>3</td>\n",
       "      <td>spring</td>\n",
       "    </tr>\n",
       "    <tr>\n",
       "      <th>1763</th>\n",
       "      <td>dp1764</td>\n",
       "      <td>s004</td>\n",
       "      <td>POINT (602912.975 4696798.087)</td>\n",
       "      <td>2019-03-05 12:09:33-06:00</td>\n",
       "      <td>NaN</td>\n",
       "      <td>3</td>\n",
       "      <td>spring</td>\n",
       "    </tr>\n",
       "    <tr>\n",
       "      <th>1764</th>\n",
       "      <td>dp1765</td>\n",
       "      <td>s004</td>\n",
       "      <td>POINT (602582.514 4696885.41)</td>\n",
       "      <td>2019-03-05 12:09:41-06:00</td>\n",
       "      <td>NaN</td>\n",
       "      <td>3</td>\n",
       "      <td>spring</td>\n",
       "    </tr>\n",
       "    <tr>\n",
       "      <th>1765</th>\n",
       "      <td>dp1766</td>\n",
       "      <td>s004</td>\n",
       "      <td>POINT (602458.009 4696957.996)</td>\n",
       "      <td>2019-03-05 12:09:45-06:00</td>\n",
       "      <td>NaN</td>\n",
       "      <td>3</td>\n",
       "      <td>spring</td>\n",
       "    </tr>\n",
       "    <tr>\n",
       "      <th>1766</th>\n",
       "      <td>dp1767</td>\n",
       "      <td>s004</td>\n",
       "      <td>POINT (602389.184 4696993.638)</td>\n",
       "      <td>2019-03-05 12:09:46-06:00</td>\n",
       "      <td>NaN</td>\n",
       "      <td>3</td>\n",
       "      <td>spring</td>\n",
       "    </tr>\n",
       "  </tbody>\n",
       "</table>\n",
       "<p>1767 rows × 7 columns</p>\n",
       "</div>"
      ],
      "text/plain": [
       "     datapoint_id section_id                        geometry  \\\n",
       "0          dp0001       s001  POINT (580092.757 4742883.408)   \n",
       "1          dp0002       s001  POINT (579997.135 4742882.297)   \n",
       "2          dp0003       s001  POINT (579616.283 4742877.883)   \n",
       "3          dp0004       s001   POINT (579166.78 4742872.701)   \n",
       "4          dp0005       s001  POINT (578880.732 4742869.419)   \n",
       "...           ...        ...                             ...   \n",
       "1762       dp1763       s004   POINT (603283.221 4696803.55)   \n",
       "1763       dp1764       s004  POINT (602912.975 4696798.087)   \n",
       "1764       dp1765       s004   POINT (602582.514 4696885.41)   \n",
       "1765       dp1766       s004  POINT (602458.009 4696957.996)   \n",
       "1766       dp1767       s004  POINT (602389.184 4696993.638)   \n",
       "\n",
       "                      datetime  individuals  bss  season  \n",
       "0    2019-01-25 09:18:13-06:00          NaN    2  winter  \n",
       "1    2019-01-25 09:18:15-06:00          NaN    2  winter  \n",
       "2    2019-01-25 09:18:23-06:00          NaN    2  winter  \n",
       "3    2019-01-25 09:18:32-06:00          1.0    2  winter  \n",
       "4    2019-01-25 09:18:38-06:00          NaN    2  winter  \n",
       "...                        ...          ...  ...     ...  \n",
       "1762 2019-03-05 12:09:25-06:00          NaN    3  spring  \n",
       "1763 2019-03-05 12:09:33-06:00          NaN    3  spring  \n",
       "1764 2019-03-05 12:09:41-06:00          NaN    3  spring  \n",
       "1765 2019-03-05 12:09:45-06:00          NaN    3  spring  \n",
       "1766 2019-03-05 12:09:46-06:00          NaN    3  spring  \n",
       "\n",
       "[1767 rows x 7 columns]"
      ]
     },
     "execution_count": 9,
     "metadata": {},
     "output_type": "execute_result"
    }
   ],
   "source": [
    "u_trackpoints.datapoints"
   ]
  },
  {
   "cell_type": "markdown",
   "id": "c3da6b46-dfd4-4b52-b53a-c672e257db21",
   "metadata": {},
   "source": [
    "#### ```DataPoints.save```"
   ]
  },
  {
   "cell_type": "code",
   "execution_count": 10,
   "id": "132e74aa-507f-43ca-8409-fc6955527993",
   "metadata": {},
   "outputs": [
    {
     "name": "stdout",
     "output_type": "stream",
     "text": [
      "Success: reprojected to CRS \"EPSG:4326\"\n",
      "Success: column \"datetime\" converted to timezone \"UTC-05:00\"\n"
     ]
    }
   ],
   "source": [
    "u_trackpoints.save(\n",
    "    folder=export_folder, \n",
    "    crs_export='EPSG:4326', \n",
    "    tz_export='UTC-05:00')"
   ]
  },
  {
   "cell_type": "markdown",
   "id": "fcf4f183-2317-4769-9db7-a26aa0490808",
   "metadata": {},
   "source": [
    "#### ```DataPoints.open```"
   ]
  },
  {
   "cell_type": "code",
   "execution_count": 11,
   "id": "8471440f-4ab9-41a8-9e20-4554958ad417",
   "metadata": {},
   "outputs": [
    {
     "name": "stdout",
     "output_type": "stream",
     "text": [
      "Success: file opened.\n",
      "Success: file opened.\n",
      "Success: reprojected to CRS \"EPSG:32619\"\n",
      "Success: column \"datetime\" reformatted to datetimes.\n",
      "Note: the inherent (contained within the datetimes) timezone of column \"datetime\" is \"UTC-05:00\".\n",
      "Success: column \"datetime\" converted to timezone \"UTC-06:00\"\n"
     ]
    }
   ],
   "source": [
    "u_trackpoints = DataPoints.open(\n",
    "    export_folder, \n",
    "    basename='datapoints-trackpoints', \n",
    "    crs_working='EPSG:32619',\n",
    "    tz_working='UTC-06:00')  "
   ]
  },
  {
   "cell_type": "markdown",
   "id": "feb8bc37-b442-40a0-bd80-593cd257a8da",
   "metadata": {},
   "source": [
    "#### ```DataPoints.plot```"
   ]
  },
  {
   "cell_type": "code",
   "execution_count": 12,
   "id": "b671d359-42f5-4b3e-ba70-1bbc0cf60657",
   "metadata": {},
   "outputs": [
    {
     "name": "stdout",
     "output_type": "stream",
     "text": [
      "Success: file opened.\n",
      "Success: reprojected to CRS \"EPSG:32619\"\n",
      "Success: section IDs generated.\n"
     ]
    },
    {
     "data": {
      "image/png": "[encoded data removed]",
      "text/plain": [
       "<Figure size 1600x800 with 1 Axes>"
      ]
     },
     "metadata": {},
     "output_type": "display_data"
    }
   ],
   "source": [
    "u_sections = Sections.from_file(filepath=import_folder+'sections.gpkg', crs_working='EPSG:32619')\n",
    "u_sightings.plot(sections=u_sections)"
   ]
  },
  {
   "cell_type": "markdown",
   "id": "59d79f8d-b921-4143-8ae8-64322e9b9e21",
   "metadata": {},
   "source": [
    "### Sections"
   ]
  },
  {
   "cell_type": "markdown",
   "id": "e72f8cca-55bb-4fd2-9e1a-47e5dea6aa3f",
   "metadata": {},
   "source": [
    "#### ```Sections.from_file```"
   ]
  },
  {
   "cell_type": "code",
   "execution_count": 13,
   "id": "b359f2b3-d4a2-4a1a-9bf9-07bba69b9b72",
   "metadata": {},
   "outputs": [
    {
     "name": "stdout",
     "output_type": "stream",
     "text": [
      "Success: file opened.\n",
      "Success: reprojected to CRS \"EPSG:32619\"\n",
      "Success: section IDs generated.\n"
     ]
    }
   ],
   "source": [
    "u_sections = Sections.from_file(\n",
    "    filepath=import_folder+'sections.gpkg',\n",
    "    crs_working='EPSG:32619'\n",
    ")"
   ]
  },
  {
   "cell_type": "code",
   "execution_count": 14,
   "id": "e3eedf5d-b642-4d5c-8e4b-b8193f4bc2d7",
   "metadata": {},
   "outputs": [
    {
     "name": "stdout",
     "output_type": "stream",
     "text": [
      "Success: file opened.\n",
      "Success: reprojected to CRS \"EPSG:32619\"\n",
      "Success: column \"datetime\" reformatted to datetimes.\n",
      "Success: timezone of column \"datetime\" set to \"UTC-05:00\".\n",
      "Success: column \"datetime\" converted to timezone \"UTC-06:00\"\n"
     ]
    }
   ],
   "source": [
    "u_sections = Sections.from_file(\n",
    "    filepath=import_folder+'sections.gpkg',\n",
    "    crs_working='EPSG:32619',\n",
    "    datetime_col='datetime',\n",
    "    datetime_format='%Y-%m-%d %H:%M:%S',\n",
    "    tz_import='UTC-05:00',\n",
    "    tz_working='UTC-06:00',\n",
    "    section_id_col='section_id'\n",
    ")"
   ]
  },
  {
   "cell_type": "markdown",
   "id": "d7edd6c1-575c-4912-aaae-a718dc82de02",
   "metadata": {},
   "source": [
    "#### ```Sections.from_datapoints```"
   ]
  },
  {
   "cell_type": "code",
   "execution_count": 15,
   "id": "7bd491be-e9e2-496a-a53b-6aaa0c553bf8",
   "metadata": {},
   "outputs": [
    {
     "name": "stdout",
     "output_type": "stream",
     "text": [
      "Success: file opened.\n",
      "Success: X and Y coordinates parsed.\n",
      "Success: reprojected to CRS \"EPSG:32619\"\n",
      "Success: column \"datetime\" reformatted to datetimes.\n",
      "Success: timezone of column \"datetime\" set to \"UTC-05:00\".\n",
      "Success: datapoint IDs generated.\n"
     ]
    }
   ],
   "source": [
    "u_trackpoints = DataPoints.from_file(\n",
    "    filepath=import_folder+'trackpoints.csv',\n",
    "    x_col='lon',\n",
    "    y_col='lat',\n",
    "    crs_import='EPSG:4326',\n",
    "    crs_working='EPSG:32619',\n",
    "    datetime_col='datetime',\n",
    "    tz_import='UTC-05:00',\n",
    "    section_id_col='section_id'\n",
    ")\n",
    "u_sections = Sections.from_datapoints(\n",
    "    datapoints=u_trackpoints,\n",
    "    cols={'bss': 'mean', 'season': 'first', 'datetime': 'first'},\n",
    "    sortby='datetime')"
   ]
  },
  {
   "cell_type": "markdown",
   "id": "2c707e19-9493-4d78-a6d2-26a73d2876d5",
   "metadata": {},
   "source": [
    "#### Sections attributes"
   ]
  },
  {
   "cell_type": "code",
   "execution_count": 16,
   "id": "73922c6d-3d27-497e-a558-10dded15f107",
   "metadata": {},
   "outputs": [
    {
     "data": {
      "text/plain": [
       "'sections-trackpoints'"
      ]
     },
     "execution_count": 16,
     "metadata": {},
     "output_type": "execute_result"
    }
   ],
   "source": [
    "u_sections.name"
   ]
  },
  {
   "cell_type": "code",
   "execution_count": 17,
   "id": "5535735a-2a66-49bf-9606-a359e417cba6",
   "metadata": {},
   "outputs": [
    {
     "data": {
      "text/plain": [
       "{'sections_filepath': 'C:/Users/jsyme/My Drive/JSBigelow/Packages/sampley/tests/import/trackpoints.csv (via datapoints)',\n",
       " 'sections_crs': 'EPSG:32619',\n",
       " 'sections_tz': 'UTC-05:00'}"
      ]
     },
     "execution_count": 17,
     "metadata": {},
     "output_type": "execute_result"
    }
   ],
   "source": [
    "u_sections.parameters"
   ]
  },
  {
   "cell_type": "code",
   "execution_count": 18,
   "id": "b4914284-ed5b-4c2b-80e9-f8fe84c3695f",
   "metadata": {},
   "outputs": [
    {
     "data": {
      "text/html": [
       "<div>\n",
       "<style scoped>\n",
       "    .dataframe tbody tr th:only-of-type {\n",
       "        vertical-align: middle;\n",
       "    }\n",
       "\n",
       "    .dataframe tbody tr th {\n",
       "        vertical-align: top;\n",
       "    }\n",
       "\n",
       "    .dataframe thead th {\n",
       "        text-align: right;\n",
       "    }\n",
       "</style>\n",
       "<table border=\"1\" class=\"dataframe\">\n",
       "  <thead>\n",
       "    <tr style=\"text-align: right;\">\n",
       "      <th></th>\n",
       "      <th>section_id</th>\n",
       "      <th>geometry</th>\n",
       "      <th>datetime</th>\n",
       "      <th>bss</th>\n",
       "      <th>season</th>\n",
       "    </tr>\n",
       "  </thead>\n",
       "  <tbody>\n",
       "    <tr>\n",
       "      <th>0</th>\n",
       "      <td>s001</td>\n",
       "      <td>LINESTRING (580092.757 4742883.408, 579997.135...</td>\n",
       "      <td>2019-01-25 10:18:13-05:00</td>\n",
       "      <td>2.398058</td>\n",
       "      <td>winter</td>\n",
       "    </tr>\n",
       "    <tr>\n",
       "      <th>1</th>\n",
       "      <td>s002</td>\n",
       "      <td>LINESTRING (592927.566 4733678.432, 592818.466...</td>\n",
       "      <td>2019-01-30 14:32:57-05:00</td>\n",
       "      <td>3.000000</td>\n",
       "      <td>winter</td>\n",
       "    </tr>\n",
       "    <tr>\n",
       "      <th>2</th>\n",
       "      <td>s003</td>\n",
       "      <td>LINESTRING (500383.195 4714750.316, 500765.569...</td>\n",
       "      <td>2019-03-02 12:43:27-05:00</td>\n",
       "      <td>1.537864</td>\n",
       "      <td>spring</td>\n",
       "    </tr>\n",
       "    <tr>\n",
       "      <th>3</th>\n",
       "      <td>s004</td>\n",
       "      <td>LINESTRING (656499.299 4751214.73, 656509.418 ...</td>\n",
       "      <td>2019-03-05 11:21:16-05:00</td>\n",
       "      <td>1.280872</td>\n",
       "      <td>spring</td>\n",
       "    </tr>\n",
       "  </tbody>\n",
       "</table>\n",
       "</div>"
      ],
      "text/plain": [
       "  section_id                                           geometry  \\\n",
       "0       s001  LINESTRING (580092.757 4742883.408, 579997.135...   \n",
       "1       s002  LINESTRING (592927.566 4733678.432, 592818.466...   \n",
       "2       s003  LINESTRING (500383.195 4714750.316, 500765.569...   \n",
       "3       s004  LINESTRING (656499.299 4751214.73, 656509.418 ...   \n",
       "\n",
       "                   datetime       bss  season  \n",
       "0 2019-01-25 10:18:13-05:00  2.398058  winter  \n",
       "1 2019-01-30 14:32:57-05:00  3.000000  winter  \n",
       "2 2019-03-02 12:43:27-05:00  1.537864  spring  \n",
       "3 2019-03-05 11:21:16-05:00  1.280872  spring  "
      ]
     },
     "execution_count": 18,
     "metadata": {},
     "output_type": "execute_result"
    }
   ],
   "source": [
    "u_sections.sections"
   ]
  },
  {
   "cell_type": "markdown",
   "id": "4afc430e-ea64-44e3-b1d3-bc018ed6a6d2",
   "metadata": {},
   "source": [
    "#### ```Sections.save```"
   ]
  },
  {
   "cell_type": "code",
   "execution_count": 19,
   "id": "766f48c6-c1a3-4537-b365-9fac1e31e311",
   "metadata": {},
   "outputs": [
    {
     "name": "stdout",
     "output_type": "stream",
     "text": [
      "Success: reprojected to CRS \"EPSG:4326\"\n",
      "Note: conversion of column \"datetime\" to timezone \"UTC-05:00\" not necessary as already in timezone \"UTC-05:00\".\n"
     ]
    }
   ],
   "source": [
    "u_sections.save(\n",
    "    folder=export_folder, \n",
    "    crs_export='EPSG:4326', \n",
    "    tz_export='UTC-05:00')"
   ]
  },
  {
   "cell_type": "markdown",
   "id": "6f1d097d-ffd3-476c-9ffc-92b3d011ab53",
   "metadata": {},
   "source": [
    "#### ```Sections.open```"
   ]
  },
  {
   "cell_type": "code",
   "execution_count": 20,
   "id": "5972ac4a-1dc4-4d46-809b-4cff6d9318b4",
   "metadata": {},
   "outputs": [
    {
     "name": "stdout",
     "output_type": "stream",
     "text": [
      "Success: file opened.\n",
      "Success: file opened.\n",
      "Success: reprojected to CRS \"EPSG:32619\"\n",
      "Success: column \"datetime\" reformatted to datetimes.\n",
      "Note: the inherent (contained within the datetimes) timezone of column \"datetime\" is \"UTC-05:00\".\n",
      "Success: column \"datetime\" converted to timezone \"UTC-06:00\"\n"
     ]
    }
   ],
   "source": [
    "u_sections = Sections.open(\n",
    "    export_folder, \n",
    "    basename='sections-trackpoints', \n",
    "    crs_working='EPSG:32619',\n",
    "    tz_working='UTC-06:00')  "
   ]
  },
  {
   "cell_type": "markdown",
   "id": "0ee48c27-a270-4e7a-a25d-4bdb0ea0253a",
   "metadata": {},
   "source": [
    "#### ```Sections.plot```"
   ]
  },
  {
   "cell_type": "code",
   "execution_count": 21,
   "id": "3a096791-f5bc-4fea-a7bc-c37ec4631d01",
   "metadata": {},
   "outputs": [
    {
     "name": "stdout",
     "output_type": "stream",
     "text": [
      "Success: file opened.\n",
      "Success: reprojected to CRS \"EPSG:32619\"\n",
      "Success: datapoint IDs generated.\n"
     ]
    },
    {
     "data": {
      "image/png": "[encoded data removed]",
      "text/plain": [
       "<Figure size 1600x800 with 1 Axes>"
      ]
     },
     "metadata": {},
     "output_type": "display_data"
    }
   ],
   "source": [
    "u_sightings = DataPoints.from_file(filepath=import_folder+'sightings.gpkg', crs_working='EPSG:32619')\n",
    "u_sections.plot(datapoints=u_sightings)"
   ]
  }
 ],
 "metadata": {
  "kernelspec": {
   "display_name": "Python 3 (ipykernel)",
   "language": "python",
   "name": "python3"
  },
  "language_info": {
   "codemirror_mode": {
    "name": "ipython",
    "version": 3
   },
   "file_extension": ".py",
   "mimetype": "text/x-python",
   "name": "python",
   "nbconvert_exporter": "python",
   "pygments_lexer": "ipython3",
   "version": "3.12.3"
  }
 },
 "nbformat": 4,
 "nbformat_minor": 5
}
