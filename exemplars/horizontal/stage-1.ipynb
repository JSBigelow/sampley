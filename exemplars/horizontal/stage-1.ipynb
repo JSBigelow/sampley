{
 "cells": [
  {
   "cell_type": "markdown",
   "id": "7173bfd9-8cd0-47e0-8550-8756c4fe1ac1",
   "metadata": {},
   "source": [
    "# ```sampley``` exemplar: Stage 1\n",
    "Before going through this exemplar, please consult the _Introduction to sampley exemplars_ (```intro.ipynb```).\n",
    "<br>This exemplar illustrates the classes that can be made in Stage 1, their class methods, their attributes, and their methods."
   ]
  },
  {
   "cell_type": "markdown",
   "id": "e0327bf1-1970-477e-b1e5-c4e7e28ae83b",
   "metadata": {},
   "source": [
    "## Setup"
   ]
  },
  {
   "cell_type": "markdown",
   "id": "c10b4880-edc3-47aa-9221-eb6a66118cca",
   "metadata": {},
   "source": [
    "### Import the package"
   ]
  },
  {
   "cell_type": "code",
   "execution_count": 1,
   "id": "284c854e-0df5-4777-8739-c443aea0b729",
   "metadata": {},
   "outputs": [],
   "source": [
    "from sampley import *"
   ]
  },
  {
   "cell_type": "markdown",
   "id": "12232cc1-1e61-4cd3-bd25-b809bbd0b226",
   "metadata": {},
   "source": [
    "### Set the input folder\n",
    "To run this exemplar, download the mock data files, put them in a folder, and set the path to the folder below."
   ]
  },
  {
   "cell_type": "code",
   "execution_count": 2,
   "id": "84731663-5e0a-4432-abde-f0998e8797ad",
   "metadata": {},
   "outputs": [],
   "source": [
    "input_folder = './input/'"
   ]
  },
  {
   "cell_type": "markdown",
   "id": "15a42b0c-b2fe-4a8f-ab35-74916d6a41e8",
   "metadata": {},
   "source": [
    "### Set the output folder\n",
    "To run this exemplar, make a folder to save the outputs in and set the path to the folder below."
   ]
  },
  {
   "cell_type": "code",
   "execution_count": 3,
   "id": "c72da3d3-fbaa-4654-98f4-86e88029ce25",
   "metadata": {},
   "outputs": [],
   "source": [
    "output_folder = './output/'"
   ]
  },
  {
   "cell_type": "markdown",
   "id": "19115cf0-8d5a-41ae-9ce2-181b8903189d",
   "metadata": {},
   "source": [
    "## DataPoints"
   ]
  },
  {
   "cell_type": "markdown",
   "id": "5cf41b6d-0ca1-4527-9928-b3919bb4bbda",
   "metadata": {},
   "source": [
    "### Make a ```DataPoints``` object...\n",
    "We can make a ```DataPoints``` object from a CSV, XLSX, GPKG, or SHP file with the ```DataPoints.from_file()``` class method. The method is the same, regardless of file type, but we will need to specify a few extra parameters if inputting a CSV or XLSX."
   ]
  },
  {
   "cell_type": "markdown",
   "id": "821558e2-9762-4899-b520-1370ebf954ca",
   "metadata": {},
   "source": [
    "#### ...from a CSV (or XLSX) with x and y coordinates"
   ]
  },
  {
   "cell_type": "code",
   "execution_count": 4,
   "id": "13304183-9a5e-4f4d-a795-d19d21a32c99",
   "metadata": {},
   "outputs": [
    {
     "name": "stdout",
     "output_type": "stream",
     "text": [
      "Success: file successfully input.\n",
      "Success: x and y (lon/lat) coordinates successfully parsed.\n",
      "Success: reprojected to CRS 'EPSG:32619'\n",
      "Success: the column 'datetime' successfully reformatted to datetimes.\n",
      "Success: the timezone of column 'datetime' successfully set to 'UTC-05:00'.\n",
      "Success: datapoint IDs successfully generated.\n"
     ]
    }
   ],
   "source": [
    "u_datapoints = DataPoints.from_file(\n",
    "    filepath=input_folder+'sightings.csv',\n",
    "    x_col='lon',\n",
    "    y_col='lat',\n",
    "    crs_input='EPSG:4326',\n",
    "    crs_working='EPSG:32619',\n",
    "    datetime_col='datetime',\n",
    "    tz_input='UTC-05:00'\n",
    ")"
   ]
  },
  {
   "cell_type": "markdown",
   "id": "2a68ee66-e6c5-4fd7-8168-64a55d1bfa42",
   "metadata": {},
   "source": [
    "#### ...from a GPKG (or SHP)"
   ]
  },
  {
   "cell_type": "code",
   "execution_count": 5,
   "id": "77e32766-3229-403c-9dac-33cd225ec140",
   "metadata": {},
   "outputs": [
    {
     "name": "stdout",
     "output_type": "stream",
     "text": [
      "Success: file successfully input.\n",
      "Success: reprojected to CRS 'EPSG:32619'\n",
      "Success: the column 'datetime' successfully reformatted to datetimes.\n",
      "Success: the timezone of column 'datetime' successfully set to 'UTC-05:00'.\n",
      "Success: datapoint IDs successfully generated.\n"
     ]
    }
   ],
   "source": [
    "u_datapoints = DataPoints.from_file(\n",
    "    filepath=input_folder+'sightings.gpkg',\n",
    "    crs_working='EPSG:32619',\n",
    "    datetime_col='datetime',\n",
    "    tz_input='UTC-05:00'\n",
    ")"
   ]
  },
  {
   "cell_type": "markdown",
   "id": "31d72568-f8bb-4945-b4d7-5009ea60360b",
   "metadata": {},
   "source": [
    "### Access a ```DataPoints``` object's attributes\n",
    "A ```DataPoints``` object, regardless of how it was made, will have three attributes (```name```, ```parameters```, and ```datapoints```) that we can access as follows."
   ]
  },
  {
   "cell_type": "code",
   "execution_count": 6,
   "id": "02ab65ba-2e12-4b0d-97cb-9935136ac63d",
   "metadata": {},
   "outputs": [
    {
     "data": {
      "text/plain": [
       "'datapoints-sightings'"
      ]
     },
     "execution_count": 6,
     "metadata": {},
     "output_type": "execute_result"
    }
   ],
   "source": [
    "u_datapoints.name"
   ]
  },
  {
   "cell_type": "code",
   "execution_count": 7,
   "id": "483e759d-6e7f-41ff-a0af-be9ec46d9c63",
   "metadata": {},
   "outputs": [
    {
     "data": {
      "text/plain": [
       "{'datapoints_filepath': './input/sightings.gpkg',\n",
       " 'datapoints_crs': 'EPSG:32619',\n",
       " 'datapoints_tz': 'UTC-05:00',\n",
       " 'datapoints_data_cols': 'individuals'}"
      ]
     },
     "execution_count": 7,
     "metadata": {},
     "output_type": "execute_result"
    }
   ],
   "source": [
    "u_datapoints.parameters"
   ]
  },
  {
   "cell_type": "code",
   "execution_count": 8,
   "id": "6d0bbe4a-f634-4d46-bcd8-98fb13378adc",
   "metadata": {},
   "outputs": [
    {
     "data": {
      "text/html": [
       "<div>\n",
       "<style scoped>\n",
       "    .dataframe tbody tr th:only-of-type {\n",
       "        vertical-align: middle;\n",
       "    }\n",
       "\n",
       "    .dataframe tbody tr th {\n",
       "        vertical-align: top;\n",
       "    }\n",
       "\n",
       "    .dataframe thead th {\n",
       "        text-align: right;\n",
       "    }\n",
       "</style>\n",
       "<table border=\"1\" class=\"dataframe\">\n",
       "  <thead>\n",
       "    <tr style=\"text-align: right;\">\n",
       "      <th></th>\n",
       "      <th>datapoint_id</th>\n",
       "      <th>geometry</th>\n",
       "      <th>datetime</th>\n",
       "      <th>individuals</th>\n",
       "    </tr>\n",
       "  </thead>\n",
       "  <tbody>\n",
       "    <tr>\n",
       "      <th>0</th>\n",
       "      <td>d01</td>\n",
       "      <td>POINT (579166.78 4742872.701)</td>\n",
       "      <td>2019-01-25 10:18:32-05:00</td>\n",
       "      <td>1</td>\n",
       "    </tr>\n",
       "    <tr>\n",
       "      <th>1</th>\n",
       "      <td>d02</td>\n",
       "      <td>POINT (554184.217 4742741.886)</td>\n",
       "      <td>2019-01-25 10:26:55-05:00</td>\n",
       "      <td>2</td>\n",
       "    </tr>\n",
       "    <tr>\n",
       "      <th>2</th>\n",
       "      <td>d03</td>\n",
       "      <td>POINT (548599.876 4742700.214)</td>\n",
       "      <td>2019-01-25 10:28:47-05:00</td>\n",
       "      <td>5</td>\n",
       "    </tr>\n",
       "    <tr>\n",
       "      <th>3</th>\n",
       "      <td>d04</td>\n",
       "      <td>POINT (520909.741 4714855.058)</td>\n",
       "      <td>2019-02-02 12:50:31-05:00</td>\n",
       "      <td>1</td>\n",
       "    </tr>\n",
       "    <tr>\n",
       "      <th>4</th>\n",
       "      <td>d05</td>\n",
       "      <td>POINT (532548.249 4714899.835)</td>\n",
       "      <td>2019-02-02 12:54:32-05:00</td>\n",
       "      <td>2</td>\n",
       "    </tr>\n",
       "    <tr>\n",
       "      <th>5</th>\n",
       "      <td>d06</td>\n",
       "      <td>POINT (512817.407 4705582.465)</td>\n",
       "      <td>2019-02-02 13:47:02-05:00</td>\n",
       "      <td>1</td>\n",
       "    </tr>\n",
       "    <tr>\n",
       "      <th>6</th>\n",
       "      <td>d07</td>\n",
       "      <td>POINT (504710.41 4705553.392)</td>\n",
       "      <td>2019-02-02 13:49:42-05:00</td>\n",
       "      <td>3</td>\n",
       "    </tr>\n",
       "    <tr>\n",
       "      <th>7</th>\n",
       "      <td>d08</td>\n",
       "      <td>POINT (654449.136 4716189.584)</td>\n",
       "      <td>2019-02-05 12:09:08-05:00</td>\n",
       "      <td>5</td>\n",
       "    </tr>\n",
       "    <tr>\n",
       "      <th>8</th>\n",
       "      <td>d09</td>\n",
       "      <td>POINT (645666.237 4716110.937)</td>\n",
       "      <td>2019-02-05 12:12:21-05:00</td>\n",
       "      <td>2</td>\n",
       "    </tr>\n",
       "    <tr>\n",
       "      <th>9</th>\n",
       "      <td>d10</td>\n",
       "      <td>POINT (643532.681 4716066.52)</td>\n",
       "      <td>2019-02-05 12:13:08-05:00</td>\n",
       "      <td>1</td>\n",
       "    </tr>\n",
       "    <tr>\n",
       "      <th>10</th>\n",
       "      <td>d11</td>\n",
       "      <td>POINT (629124.489 4706545.106)</td>\n",
       "      <td>2019-02-05 12:38:20-05:00</td>\n",
       "      <td>3</td>\n",
       "    </tr>\n",
       "    <tr>\n",
       "      <th>11</th>\n",
       "      <td>d12</td>\n",
       "      <td>POINT (620560.818 4697116.949)</td>\n",
       "      <td>2019-02-05 13:03:00-05:00</td>\n",
       "      <td>2</td>\n",
       "    </tr>\n",
       "    <tr>\n",
       "      <th>12</th>\n",
       "      <td>d13</td>\n",
       "      <td>POINT (611976.857 4696974.111)</td>\n",
       "      <td>2019-02-05 13:06:12-05:00</td>\n",
       "      <td>4</td>\n",
       "    </tr>\n",
       "  </tbody>\n",
       "</table>\n",
       "</div>"
      ],
      "text/plain": [
       "   datapoint_id                        geometry                  datetime  \\\n",
       "0           d01   POINT (579166.78 4742872.701) 2019-01-25 10:18:32-05:00   \n",
       "1           d02  POINT (554184.217 4742741.886) 2019-01-25 10:26:55-05:00   \n",
       "2           d03  POINT (548599.876 4742700.214) 2019-01-25 10:28:47-05:00   \n",
       "3           d04  POINT (520909.741 4714855.058) 2019-02-02 12:50:31-05:00   \n",
       "4           d05  POINT (532548.249 4714899.835) 2019-02-02 12:54:32-05:00   \n",
       "5           d06  POINT (512817.407 4705582.465) 2019-02-02 13:47:02-05:00   \n",
       "6           d07   POINT (504710.41 4705553.392) 2019-02-02 13:49:42-05:00   \n",
       "7           d08  POINT (654449.136 4716189.584) 2019-02-05 12:09:08-05:00   \n",
       "8           d09  POINT (645666.237 4716110.937) 2019-02-05 12:12:21-05:00   \n",
       "9           d10   POINT (643532.681 4716066.52) 2019-02-05 12:13:08-05:00   \n",
       "10          d11  POINT (629124.489 4706545.106) 2019-02-05 12:38:20-05:00   \n",
       "11          d12  POINT (620560.818 4697116.949) 2019-02-05 13:03:00-05:00   \n",
       "12          d13  POINT (611976.857 4696974.111) 2019-02-05 13:06:12-05:00   \n",
       "\n",
       "    individuals  \n",
       "0             1  \n",
       "1             2  \n",
       "2             5  \n",
       "3             1  \n",
       "4             2  \n",
       "5             1  \n",
       "6             3  \n",
       "7             5  \n",
       "8             2  \n",
       "9             1  \n",
       "10            3  \n",
       "11            2  \n",
       "12            4  "
      ]
     },
     "execution_count": 8,
     "metadata": {},
     "output_type": "execute_result"
    }
   ],
   "source": [
    "u_datapoints.datapoints"
   ]
  },
  {
   "cell_type": "markdown",
   "id": "c276cbd7-399a-42a5-a4e5-10d0d17dfee3",
   "metadata": {},
   "source": [
    "### Plot a ```DataPoints``` object\n",
    "```DataPoints``` objects have an inbuilt ```plot``` method to make a simple plot."
   ]
  },
  {
   "cell_type": "code",
   "execution_count": 9,
   "id": "f0a51b8c-6382-47aa-a5b6-fc7bbeb4b72b",
   "metadata": {},
   "outputs": [
    {
     "data": {
      "image/png": "[encoded data removed]",
      "text/plain": [
       "<Figure size 1600x800 with 1 Axes>"
      ]
     },
     "metadata": {},
     "output_type": "display_data"
    }
   ],
   "source": [
    "u_datapoints.plot()"
   ]
  },
  {
   "cell_type": "markdown",
   "id": "e270283b-976c-4676-860f-d547d94e3fa0",
   "metadata": {},
   "source": [
    "### Save a ```DataPoints``` object\n",
    "```DataPoints``` objects have an inbuilt ```save``` method to save the datapoints as a CSV or GPKG."
   ]
  },
  {
   "cell_type": "code",
   "execution_count": 10,
   "id": "880b0472-e828-44a7-b3d2-d3992acaa979",
   "metadata": {},
   "outputs": [],
   "source": [
    "u_datapoints.save(\n",
    "    folder=output_folder)"
   ]
  },
  {
   "cell_type": "markdown",
   "id": "30a6620e-c0a3-495e-9ef0-dc5ddf61b76b",
   "metadata": {},
   "source": [
    "## Sections"
   ]
  },
  {
   "cell_type": "markdown",
   "id": "3fb1ecc2-9417-418e-9d73-00d82700cbf1",
   "metadata": {},
   "source": [
    "### Make a ```Sections``` object...\n",
    "We can make a ```Sections``` object from a GPKG or SHP file with the ```Sections.from_file()``` class method. Alternatively, we can make a ```Sections``` object from a ```DataPoints``` object with the ```Sections.from_datapoints()``` class method."
   ]
  },
  {
   "cell_type": "markdown",
   "id": "5d56f043-3004-4c04-b8c0-3bb17546c419",
   "metadata": {},
   "source": [
    "#### ...from a GPKG (or SHP)"
   ]
  },
  {
   "cell_type": "code",
   "execution_count": 11,
   "id": "fb441d4e-f942-44cd-b1a0-cd4165968df9",
   "metadata": {},
   "outputs": [
    {
     "name": "stdout",
     "output_type": "stream",
     "text": [
      "Success: file successfully input.\n",
      "Success: reprojected to CRS 'EPSG:32619'\n",
      "Success: the column 'datetime_beg' successfully reformatted to datetimes.\n",
      "Success: the timezone of column 'datetime_beg' successfully set to 'UTC-05:00'.\n",
      "Note: column 'datetime_beg' renamed to 'datetime'.\n",
      "Success: section IDs successfully generated.\n"
     ]
    }
   ],
   "source": [
    "u_sections = Sections.from_file(\n",
    "    filepath=input_folder+'sections.gpkg',\n",
    "    crs_working='EPSG:32619',\n",
    "    datetime_col='datetime_beg',\n",
    "    tz_input='UTC-05:00'\n",
    ")"
   ]
  },
  {
   "cell_type": "markdown",
   "id": "2d65535a-34c5-4823-900f-7ea2c4b2cf49",
   "metadata": {},
   "source": [
    "#### ...from a ```DataPoints``` object\n",
    "Although in the example below we make a ```DataPoints``` object from a CSV, the ```DataPoints``` object could be made from any file type (i.e., CSV, XLSX, GPKG or SHP) as demonstrated above."
   ]
  },
  {
   "cell_type": "code",
   "execution_count": 12,
   "id": "48020ff3-1cb3-444d-a2a5-a8ec17396c50",
   "metadata": {},
   "outputs": [
    {
     "name": "stdout",
     "output_type": "stream",
     "text": [
      "Success: file successfully input.\n",
      "Success: x and y (lon/lat) coordinates successfully parsed.\n",
      "Success: reprojected to CRS 'EPSG:32619'\n",
      "Success: the column 'datetime' successfully reformatted to datetimes.\n",
      "Success: the timezone of column 'datetime' successfully set to 'UTC-05:00'.\n",
      "Success: datapoint IDs successfully generated.\n"
     ]
    }
   ],
   "source": [
    "u_datapoints = DataPoints.from_file(  # first make a DataPoints object (from a CSV, XLSX, GPKG, or SHP)\n",
    "    filepath=input_folder+'trackpoints.csv',\n",
    "    x_col='lon',\n",
    "    y_col='lat',\n",
    "    crs_input='EPSG:4326',\n",
    "    crs_working='EPSG:32619',\n",
    "    datetime_col='datetime',\n",
    "    tz_input='UTC-05:00',\n",
    "    section_id_col='section_id'  \n",
    ")\n",
    "u_sections = Sections.from_datapoints(datapoints=u_datapoints)  # then make the Sections object from the DataPoints object"
   ]
  },
  {
   "cell_type": "markdown",
   "id": "ac653d70-23ce-406e-801d-2a834984856d",
   "metadata": {},
   "source": [
    "### Access a ```Sections``` object's attributes\n",
    "A ```Sections``` object, regardless of how it was made, will have three attributes (```name```, ```parameters```, and ```sections```) that we can access as follows."
   ]
  },
  {
   "cell_type": "code",
   "execution_count": 13,
   "id": "4d4dd317-2133-48dc-be0b-4d691ff305c4",
   "metadata": {},
   "outputs": [
    {
     "data": {
      "text/plain": [
       "'sections-trackpoints'"
      ]
     },
     "execution_count": 13,
     "metadata": {},
     "output_type": "execute_result"
    }
   ],
   "source": [
    "u_sections.name"
   ]
  },
  {
   "cell_type": "code",
   "execution_count": 14,
   "id": "7a9e77cf-9f3e-4fbf-b4f7-7615e7576fda",
   "metadata": {},
   "outputs": [
    {
     "data": {
      "text/plain": [
       "{'sections_filepath': './input/trackpoints.csv (via datapoints)',\n",
       " 'sections_crs': 'EPSG:32619',\n",
       " 'sections_tz': 'UTC-05:00'}"
      ]
     },
     "execution_count": 14,
     "metadata": {},
     "output_type": "execute_result"
    }
   ],
   "source": [
    "u_sections.parameters"
   ]
  },
  {
   "cell_type": "code",
   "execution_count": 15,
   "id": "14e8bf0e-2ee7-490e-8355-f6011a10f69c",
   "metadata": {},
   "outputs": [
    {
     "data": {
      "text/html": [
       "<div>\n",
       "<style scoped>\n",
       "    .dataframe tbody tr th:only-of-type {\n",
       "        vertical-align: middle;\n",
       "    }\n",
       "\n",
       "    .dataframe tbody tr th {\n",
       "        vertical-align: top;\n",
       "    }\n",
       "\n",
       "    .dataframe thead th {\n",
       "        text-align: right;\n",
       "    }\n",
       "</style>\n",
       "<table border=\"1\" class=\"dataframe\">\n",
       "  <thead>\n",
       "    <tr style=\"text-align: right;\">\n",
       "      <th></th>\n",
       "      <th>section_id</th>\n",
       "      <th>geometry</th>\n",
       "      <th>datetime</th>\n",
       "    </tr>\n",
       "  </thead>\n",
       "  <tbody>\n",
       "    <tr>\n",
       "      <th>0</th>\n",
       "      <td>s001</td>\n",
       "      <td>LINESTRING (580092.757 4742883.408, 579997.135...</td>\n",
       "      <td>2019-01-25 10:18:13-05:00</td>\n",
       "    </tr>\n",
       "    <tr>\n",
       "      <th>1</th>\n",
       "      <td>s002</td>\n",
       "      <td>LINESTRING (592927.566 4733678.432, 592818.466...</td>\n",
       "      <td>2019-03-03 14:32:57-05:00</td>\n",
       "    </tr>\n",
       "    <tr>\n",
       "      <th>2</th>\n",
       "      <td>s003</td>\n",
       "      <td>LINESTRING (500383.195 4714750.316, 500765.569...</td>\n",
       "      <td>2019-02-02 12:43:27-05:00</td>\n",
       "    </tr>\n",
       "    <tr>\n",
       "      <th>3</th>\n",
       "      <td>s004</td>\n",
       "      <td>LINESTRING (656499.299 4751214.73, 656509.418 ...</td>\n",
       "      <td>2019-02-05 11:21:16-05:00</td>\n",
       "    </tr>\n",
       "  </tbody>\n",
       "</table>\n",
       "</div>"
      ],
      "text/plain": [
       "  section_id                                           geometry  \\\n",
       "0       s001  LINESTRING (580092.757 4742883.408, 579997.135...   \n",
       "1       s002  LINESTRING (592927.566 4733678.432, 592818.466...   \n",
       "2       s003  LINESTRING (500383.195 4714750.316, 500765.569...   \n",
       "3       s004  LINESTRING (656499.299 4751214.73, 656509.418 ...   \n",
       "\n",
       "                   datetime  \n",
       "0 2019-01-25 10:18:13-05:00  \n",
       "1 2019-03-03 14:32:57-05:00  \n",
       "2 2019-02-02 12:43:27-05:00  \n",
       "3 2019-02-05 11:21:16-05:00  "
      ]
     },
     "execution_count": 15,
     "metadata": {},
     "output_type": "execute_result"
    }
   ],
   "source": [
    "u_sections.sections"
   ]
  },
  {
   "cell_type": "markdown",
   "id": "9bebde58-9fc9-4e2e-8221-ce0818e61a02",
   "metadata": {},
   "source": [
    "### Plot a ```Sections``` object\n",
    "```Sections``` objects have an inbuilt ```plot``` method to make a simple plot."
   ]
  },
  {
   "cell_type": "code",
   "execution_count": 16,
   "id": "336da200-fc6a-4c9a-88b3-5ebc2bd32b71",
   "metadata": {},
   "outputs": [
    {
     "data": {
      "image/png": "[encoded data removed]",
      "text/plain": [
       "<Figure size 1600x800 with 1 Axes>"
      ]
     },
     "metadata": {},
     "output_type": "display_data"
    }
   ],
   "source": [
    "u_sections.plot()"
   ]
  },
  {
   "cell_type": "markdown",
   "id": "b2baf55f-e676-458a-9c2e-88ccc0690be8",
   "metadata": {},
   "source": [
    "### Save a ```Sections``` object\n",
    "```Sections``` objects have an inbuilt ```save``` method to save the sections as a CSV or GPKG."
   ]
  },
  {
   "cell_type": "code",
   "execution_count": 17,
   "id": "1de59bab-e78b-4032-b822-571188990abf",
   "metadata": {},
   "outputs": [],
   "source": [
    "u_sections.save(folder=output_folder)"
   ]
  }
 ],
 "metadata": {
  "kernelspec": {
   "display_name": "Python 3 (ipykernel)",
   "language": "python",
   "name": "python3"
  },
  "language_info": {
   "codemirror_mode": {
    "name": "ipython",
    "version": 3
   },
   "file_extension": ".py",
   "mimetype": "text/x-python",
   "name": "python",
   "nbconvert_exporter": "python",
   "pygments_lexer": "ipython3",
   "version": "3.12.3"
  }
 },
 "nbformat": 4,
 "nbformat_minor": 5
}
