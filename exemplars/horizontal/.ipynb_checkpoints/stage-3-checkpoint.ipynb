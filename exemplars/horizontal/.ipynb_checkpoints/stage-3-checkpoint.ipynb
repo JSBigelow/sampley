{
 "cells": [
  {
   "cell_type": "markdown",
   "id": "e9f52a31-09e2-417f-9ca0-8bad39d9e595",
   "metadata": {},
   "source": [
    "# sampley exemplar: Stage 3\n",
    "Before going through this exemplar, please consult the Introduction to sampley exemplars (```intro.ipynb```).\n",
    "<br>This exemplar illustrates the classes that can be made in Stage 3, their class methods, their attributes, and their methods. "
   ]
  },
  {
   "cell_type": "markdown",
   "id": "87fedff0-c698-4be3-b478-954d54561747",
   "metadata": {},
   "source": [
    "## Setup"
   ]
  },
  {
   "cell_type": "markdown",
   "id": "5a3ef15f-4afa-4d13-bfde-7c8d10240576",
   "metadata": {},
   "source": [
    "### Import the package"
   ]
  },
  {
   "cell_type": "code",
   "execution_count": 1,
   "id": "7c7fd056-ead0-4267-b66b-4a564ee0b4f2",
   "metadata": {},
   "outputs": [],
   "source": [
    "from sampley import *"
   ]
  },
  {
   "cell_type": "markdown",
   "id": "bdc34206-9c7b-41c8-812e-18246bb52a20",
   "metadata": {},
   "source": [
    "### Set the input folder\n",
    "To run this exemplar, download the mock data files, put them in a folder, and set the path to the folder below."
   ]
  },
  {
   "cell_type": "code",
   "execution_count": 2,
   "id": "56c7b28f-6147-413e-b335-ade8c658e271",
   "metadata": {},
   "outputs": [],
   "source": [
    "input_folder = './input/'"
   ]
  },
  {
   "cell_type": "markdown",
   "id": "74e89180-f0c5-4211-8148-76ee53603ef7",
   "metadata": {},
   "source": [
    "### Set the output folder\n",
    "To run this exemplar, make a folder to save the outputs in and set the path to the folder below."
   ]
  },
  {
   "cell_type": "code",
   "execution_count": 3,
   "id": "7e4d07bb-8cf9-4275-8268-f8dc7e65b81c",
   "metadata": {},
   "outputs": [],
   "source": [
    "output_folder = './output/'"
   ]
  },
  {
   "cell_type": "markdown",
   "id": "3850f509-3596-4f74-bb7c-737ee488304b",
   "metadata": {},
   "source": [
    "### Make DataPoints, Sections, and delimiters (Stages 1 and 2)\n",
    "Before making any objects in Stage 3, we, of course, have to conduct Stages 1 and 2. For the sake of this exemplar, we make one ```Sections``` and one ```DataPoints``` object below that are then used to make all the subsequent delimiters. See the Stage 1 and 2 exemplars and the User Manual for more details on Stages 1 and 2."
   ]
  },
  {
   "cell_type": "code",
   "execution_count": 4,
   "id": "e58af50a-181f-4f3f-974f-53cf3b1e993e",
   "metadata": {},
   "outputs": [
    {
     "name": "stdout",
     "output_type": "stream",
     "text": [
      "Opening file...\n",
      "Success: file successfully input.\n",
      "Reprojecting CRS...\n",
      "Note: reprojection to CRS 'EPSG:32619' not necessary as already in CRS 'EPSG:32619'.\n",
      "Parsing datetimes...\n",
      "Success: the column 'datetime' successfully reformatted to datetimes.\n",
      "Success: the timezone of column 'datetime' successfully set to 'UTC-05:00'.\n",
      "Converting timezone...\n",
      "Note: conversion of column 'datetime' to timezone 'UTC-05:00' is not necessary as it is already in timezone 'UTC-05:00'.\n",
      "Success: datapoint IDs successfully generated.\n"
     ]
    }
   ],
   "source": [
    "u_sightings = DataPoints.from_file(\n",
    "    filepath=input_folder+'sightings.gpkg',\n",
    "    crs_working='EPSG:32619',\n",
    "    datetime_col='datetime',\n",
    "    tz_input='UTC-05:00',\n",
    "    tz_working='UTC-05:00'\n",
    ")"
   ]
  },
  {
   "cell_type": "code",
   "execution_count": 5,
   "id": "8ecab0a9-9a11-4ec4-aff5-95400f5b7d87",
   "metadata": {},
   "outputs": [
    {
     "name": "stdout",
     "output_type": "stream",
     "text": [
      "Opening file...\n",
      "Success: file successfully input.\n",
      "Reprojecting CRS...\n",
      "Success: reprojected to CRS 'EPSG:32619'\n",
      "Parsing datetimes...\n",
      "Success: the column 'datetime_beg' successfully reformatted to datetimes.\n",
      "Success: the timezone of column 'datetime_beg' successfully set to 'UTC-05:00'.\n",
      "Converting timezone...\n",
      "Note: conversion of column 'datetime_beg' to timezone 'UTC-05:00' is not necessary as it is already in timezone 'UTC-05:00'.\n",
      "Note: column 'datetime_beg' renamed to 'datetime'.\n",
      "Success: section IDs successfully generated.\n"
     ]
    }
   ],
   "source": [
    "u_sections = Sections.from_file(\n",
    "    filepath=input_folder+'sections.gpkg',\n",
    "    crs_working='EPSG:32619',\n",
    "    datetime_col='datetime_beg',\n",
    "    tz_input='UTC-05:00',\n",
    "    tz_working='UTC-05:00'\n",
    ")"
   ]
  },
  {
   "cell_type": "code",
   "execution_count": 6,
   "id": "7912ea01-d8cc-4e54-a834-18f88d0d5c52",
   "metadata": {},
   "outputs": [],
   "source": [
    "u_periods = Periods.delimit(\n",
    "    extent=u_sections,\n",
    "    unit='day',\n",
    "    num=8)"
   ]
  },
  {
   "cell_type": "code",
   "execution_count": 7,
   "id": "7a537d82-ed31-4849-8289-af73e4e5017f",
   "metadata": {},
   "outputs": [],
   "source": [
    "u_cells = Cells.delimit(\n",
    "    extent=u_sections,\n",
    "    var='hexagonal',\n",
    "    side=5000,\n",
    "    buffer=2000)"
   ]
  },
  {
   "cell_type": "code",
   "execution_count": 8,
   "id": "0a3c33a5-7739-4155-92df-81631a0641bb",
   "metadata": {},
   "outputs": [],
   "source": [
    "u_segments = Segments.delimit(\n",
    "    sections=u_sections,\n",
    "    var='simple',\n",
    "    target=10000,\n",
    "    randomise=True)"
   ]
  },
  {
   "cell_type": "code",
   "execution_count": 9,
   "id": "46d56633-c9c8-4d67-8670-4c4089926e94",
   "metadata": {},
   "outputs": [
    {
     "name": "stdout",
     "output_type": "stream",
     "text": [
      "Conducting spatiotemporal thinning...\n",
      "Thinning complete.\n"
     ]
    }
   ],
   "source": [
    "u_presences = Presences.delimit(\n",
    "    datapoints=u_sightings,\n",
    "    presence_col='individuals')\n",
    "u_presences.thin(\n",
    "    sp_threshold=10000,\n",
    "    tm_threshold=5,\n",
    "    tm_unit='day')"
   ]
  },
  {
   "cell_type": "code",
   "execution_count": 10,
   "id": "b7606561-7ec5-47b3-a4c8-e2e3e57cc7f0",
   "metadata": {},
   "outputs": [
    {
     "name": "stdout",
     "output_type": "stream",
     "text": [
      "Note: absence lines to be generated with a temporal threshold of 5 day(s).\n"
     ]
    }
   ],
   "source": [
    "u_absencelines = AbsenceLines.delimit(\n",
    "    sections=u_sections,\n",
    "    presences=u_presences,\n",
    "    sp_threshold=10000,\n",
    "    tm_threshold=5,\n",
    "    tm_unit='day',\n",
    ")"
   ]
  },
  {
   "cell_type": "code",
   "execution_count": 11,
   "id": "889e44e6-b207-4046-98f6-532674973263",
   "metadata": {},
   "outputs": [
    {
     "name": "stdout",
     "output_type": "stream",
     "text": [
      "Conducting spatiotemporal thinning...\n",
      "Thinning complete.\n"
     ]
    }
   ],
   "source": [
    "u_absences = Absences.delimit(\n",
    "    absencelines=u_absencelines,\n",
    "    var='along',\n",
    "    target=20,\n",
    "    dfls=None)\n",
    "u_absences.thin(\n",
    "    sp_threshold=10000,\n",
    "    tm_threshold=5,\n",
    "    tm_unit='day',\n",
    "    target=9)"
   ]
  },
  {
   "cell_type": "markdown",
   "id": "f31a22ff-632a-45fe-9436-7226875a8500",
   "metadata": {},
   "source": [
    "## Samples - grid approach"
   ]
  },
  {
   "cell_type": "markdown",
   "id": "b49aea88-f406-4fdf-a18a-bf0dd48633fd",
   "metadata": {},
   "source": [
    "### Make a ```Samples``` object via the grid approach...\n",
    "If using the grid approach, we can make a ```Samples``` object from a ```DataPoints``` object with the ```Samples.grid()``` class method.\n",
    "<br>We can also make a ```Samples``` object with measures of survey effort from a ```Sections``` object with the ```Samples.grid_se()``` class method.\n",
    "<br>Additionally, we can merge multiple ```Samples``` objects into a single new ```Samples``` object with the ```Samples.merge()``` class method"
   ]
  },
  {
   "cell_type": "markdown",
   "id": "addd1ec9-c45f-403d-8cc9-d42f0cafb62b",
   "metadata": {},
   "source": [
    "#### ...from a ```DataPoints``` object"
   ]
  },
  {
   "cell_type": "code",
   "execution_count": 12,
   "id": "eec942ac-e7a7-41b4-adc7-e2aba8ef0c9c",
   "metadata": {},
   "outputs": [],
   "source": [
    "u_samples_sightings = Samples.grid(\n",
    "    datapoints=u_sightings,\n",
    "    cells=u_cells,\n",
    "    periods=u_periods,\n",
    "    cols={'individuals': 'sum'})"
   ]
  },
  {
   "cell_type": "markdown",
   "id": "9307aa2a-a87b-44cd-830f-7d6f7b4ca8b0",
   "metadata": {},
   "source": [
    "#### ...from a ```Sections``` object"
   ]
  },
  {
   "cell_type": "code",
   "execution_count": 13,
   "id": "7f3e84e3-7d9b-4360-9c3f-d4fec0e20c3e",
   "metadata": {},
   "outputs": [],
   "source": [
    "u_samples_effort = Samples.grid_se(\n",
    "    sections=u_sections,\n",
    "    cells=u_cells,\n",
    "    periods=u_periods,\n",
    "    esw=None)"
   ]
  },
  {
   "cell_type": "markdown",
   "id": "b3356306-449b-45af-9b68-16ff428fe09e",
   "metadata": {},
   "source": [
    "#### ...by merging multiple ```Samples``` objects"
   ]
  },
  {
   "cell_type": "code",
   "execution_count": 14,
   "id": "5d7aca06-fde5-43b2-8955-d9597f2b8add",
   "metadata": {},
   "outputs": [
    {
     "name": "stdout",
     "output_type": "stream",
     "text": [
      "\n",
      "Note: samples generated with the grid approach\n"
     ]
    }
   ],
   "source": [
    "u_samples = Samples.merge(\n",
    "    sightings=u_samples_sightings,\n",
    "    effort=u_samples_effort)"
   ]
  },
  {
   "cell_type": "markdown",
   "id": "885b7836-d510-4973-8b4a-d23ed2f2d503",
   "metadata": {},
   "source": [
    "### Access a ```Samples``` object's attributes\n",
    "A ```Samples``` object, regardless of how it was made, will have three attributes (```name```, ```parameters```, and ```samples```) that we can access as follows."
   ]
  },
  {
   "cell_type": "code",
   "execution_count": 15,
   "id": "6fed7e95-2dfe-4ac0-b64f-0bb431f22703",
   "metadata": {},
   "outputs": [
    {
     "data": {
      "text/plain": [
       "'samples-sightings+effort-x-cells-h5000m-x-periods-8d'"
      ]
     },
     "execution_count": 15,
     "metadata": {},
     "output_type": "execute_result"
    }
   ],
   "source": [
    "u_samples.name"
   ]
  },
  {
   "cell_type": "code",
   "execution_count": 16,
   "id": "97284a61-9991-4a29-b83d-a4f248ae4c07",
   "metadata": {},
   "outputs": [
    {
     "data": {
      "text/plain": [
       "{'names': 'samples-datapoints-sightings-x-cells-h5000m-x-periods-8d+samples-sections-sections-x-cells-h5000m-x-periods-8d',\n",
       " 'approach': 'grid',\n",
       " 'resampled': 'datapoints; effort',\n",
       " 'datapoints_name': 'datapoints-sightings; nan',\n",
       " 'datapoints_filepath': './input/sightings.gpkg; nan',\n",
       " 'datapoints_crs': 'EPSG:32619; nan',\n",
       " 'datapoints_tz': 'UTC-05:00; nan',\n",
       " 'datapoints_data_cols': 'individuals; nan',\n",
       " 'cells_name': 'cells-h5000m',\n",
       " 'cells_crs': 'EPSG:32619',\n",
       " 'cells_extent': '493765.49253164633, 4689798.086839909, 671300.7003074563, 4759798.086839909',\n",
       " 'cells_extent_source': 'Sections - sections-sections',\n",
       " 'cells_var': 'hexagonal',\n",
       " 'cells_side': '5000',\n",
       " 'cells_unit': 'metre',\n",
       " 'cells_buffer': '2000',\n",
       " 'periods_name': 'periods-8d',\n",
       " 'periods_tz': 'UTC-05:00',\n",
       " 'periods_extent': '2019-01-25 00:00:00-2019-03-05 23:59:59',\n",
       " 'periods_extent_source': 'Sections - sections-sections',\n",
       " 'periods_number': '8',\n",
       " 'periods_unit': 'day',\n",
       " 'cols': \"{'individuals': 'sum'}; nan\",\n",
       " 'sections_name': 'nan; sections-sections',\n",
       " 'sections_filepath': 'nan; ./input/sections.gpkg',\n",
       " 'sections_crs': 'nan; EPSG:32619',\n",
       " 'sections_tz': 'nan; UTC-05:00',\n",
       " 'effort_esw': 'nan; None',\n",
       " 'effort_euc-geo': 'nan; euclidean'}"
      ]
     },
     "execution_count": 16,
     "metadata": {},
     "output_type": "execute_result"
    }
   ],
   "source": [
    "u_samples.parameters"
   ]
  },
  {
   "cell_type": "code",
   "execution_count": 17,
   "id": "fe7fc6f4-a299-486c-aa3e-a86e458dc697",
   "metadata": {},
   "outputs": [
    {
     "data": {
      "text/html": [
       "<div>\n",
       "<style scoped>\n",
       "    .dataframe tbody tr th:only-of-type {\n",
       "        vertical-align: middle;\n",
       "    }\n",
       "\n",
       "    .dataframe tbody tr th {\n",
       "        vertical-align: top;\n",
       "    }\n",
       "\n",
       "    .dataframe thead th {\n",
       "        text-align: right;\n",
       "    }\n",
       "</style>\n",
       "<table border=\"1\" class=\"dataframe\">\n",
       "  <thead>\n",
       "    <tr style=\"text-align: right;\">\n",
       "      <th></th>\n",
       "      <th>cell_id</th>\n",
       "      <th>polygon</th>\n",
       "      <th>centroid</th>\n",
       "      <th>period_id</th>\n",
       "      <th>datetime_beg</th>\n",
       "      <th>datetime_mid</th>\n",
       "      <th>datetime_end</th>\n",
       "      <th>individuals</th>\n",
       "      <th>se_length</th>\n",
       "    </tr>\n",
       "  </thead>\n",
       "  <tbody>\n",
       "    <tr>\n",
       "      <th>0</th>\n",
       "      <td>c013-h5000m</td>\n",
       "      <td>POLYGON ((602018.668 4699798.087, 606348.795 4...</td>\n",
       "      <td>POINT (602018.668 4694798.087)</td>\n",
       "      <td>p2019-02-02-8d</td>\n",
       "      <td>2019-02-02 00:00:00-05:00</td>\n",
       "      <td>2019-02-05 23:59:59-05:00</td>\n",
       "      <td>2019-02-09 23:59:59-05:00</td>\n",
       "      <td>NaN</td>\n",
       "      <td>4000.286022</td>\n",
       "    </tr>\n",
       "    <tr>\n",
       "      <th>1</th>\n",
       "      <td>c014-h5000m</td>\n",
       "      <td>POLYGON ((610678.922 4699798.087, 615009.049 4...</td>\n",
       "      <td>POINT (610678.922 4694798.087)</td>\n",
       "      <td>p2019-02-02-8d</td>\n",
       "      <td>2019-02-02 00:00:00-05:00</td>\n",
       "      <td>2019-02-05 23:59:59-05:00</td>\n",
       "      <td>2019-02-09 23:59:59-05:00</td>\n",
       "      <td>4.0</td>\n",
       "      <td>8662.075856</td>\n",
       "    </tr>\n",
       "    <tr>\n",
       "      <th>2</th>\n",
       "      <td>c015-h5000m</td>\n",
       "      <td>POLYGON ((619339.176 4699798.087, 623669.303 4...</td>\n",
       "      <td>POINT (619339.176 4694798.087)</td>\n",
       "      <td>p2019-02-02-8d</td>\n",
       "      <td>2019-02-02 00:00:00-05:00</td>\n",
       "      <td>2019-02-05 23:59:59-05:00</td>\n",
       "      <td>2019-02-09 23:59:59-05:00</td>\n",
       "      <td>2.0</td>\n",
       "      <td>8661.517653</td>\n",
       "    </tr>\n",
       "    <tr>\n",
       "      <th>3</th>\n",
       "      <td>c016-h5000m</td>\n",
       "      <td>POLYGON ((627999.43 4699798.087, 632329.557 46...</td>\n",
       "      <td>POINT (627999.43 4694798.087)</td>\n",
       "      <td>p2019-02-02-8d</td>\n",
       "      <td>2019-02-02 00:00:00-05:00</td>\n",
       "      <td>2019-02-05 23:59:59-05:00</td>\n",
       "      <td>2019-02-09 23:59:59-05:00</td>\n",
       "      <td>NaN</td>\n",
       "      <td>8577.463371</td>\n",
       "    </tr>\n",
       "    <tr>\n",
       "      <th>4</th>\n",
       "      <td>c017-h5000m</td>\n",
       "      <td>POLYGON ((636659.684 4699798.087, 640989.811 4...</td>\n",
       "      <td>POINT (636659.684 4694798.087)</td>\n",
       "      <td>p2019-02-02-8d</td>\n",
       "      <td>2019-02-02 00:00:00-05:00</td>\n",
       "      <td>2019-02-05 23:59:59-05:00</td>\n",
       "      <td>2019-02-09 23:59:59-05:00</td>\n",
       "      <td>NaN</td>\n",
       "      <td>8234.234607</td>\n",
       "    </tr>\n",
       "    <tr>\n",
       "      <th>...</th>\n",
       "      <td>...</td>\n",
       "      <td>...</td>\n",
       "      <td>...</td>\n",
       "      <td>...</td>\n",
       "      <td>...</td>\n",
       "      <td>...</td>\n",
       "      <td>...</td>\n",
       "      <td>...</td>\n",
       "      <td>...</td>\n",
       "    </tr>\n",
       "    <tr>\n",
       "      <th>105</th>\n",
       "      <td>c147-h5000m</td>\n",
       "      <td>POLYGON ((554387.271 4752298.087, 558717.398 4...</td>\n",
       "      <td>POINT (554387.271 4747298.087)</td>\n",
       "      <td>p2019-01-25-8d</td>\n",
       "      <td>2019-01-25 00:00:00-05:00</td>\n",
       "      <td>2019-01-28 23:59:59-05:00</td>\n",
       "      <td>2019-02-01 23:59:59-05:00</td>\n",
       "      <td>2.0</td>\n",
       "      <td>1543.406690</td>\n",
       "    </tr>\n",
       "    <tr>\n",
       "      <th>106</th>\n",
       "      <td>c148-h5000m</td>\n",
       "      <td>POLYGON ((563047.525 4752298.087, 567377.652 4...</td>\n",
       "      <td>POINT (563047.525 4747298.087)</td>\n",
       "      <td>p2019-01-25-8d</td>\n",
       "      <td>2019-01-25 00:00:00-05:00</td>\n",
       "      <td>2019-01-28 23:59:59-05:00</td>\n",
       "      <td>2019-02-01 23:59:59-05:00</td>\n",
       "      <td>NaN</td>\n",
       "      <td>1704.820261</td>\n",
       "    </tr>\n",
       "    <tr>\n",
       "      <th>107</th>\n",
       "      <td>c149-h5000m</td>\n",
       "      <td>POLYGON ((571707.779 4752298.087, 576037.906 4...</td>\n",
       "      <td>POINT (571707.779 4747298.087)</td>\n",
       "      <td>p2019-01-25-8d</td>\n",
       "      <td>2019-01-25 00:00:00-05:00</td>\n",
       "      <td>2019-01-28 23:59:59-05:00</td>\n",
       "      <td>2019-02-01 23:59:59-05:00</td>\n",
       "      <td>NaN</td>\n",
       "      <td>1869.663454</td>\n",
       "    </tr>\n",
       "    <tr>\n",
       "      <th>108</th>\n",
       "      <td>c150-h5000m</td>\n",
       "      <td>POLYGON ((580368.033 4752298.087, 584698.16 47...</td>\n",
       "      <td>POINT (580368.033 4747298.087)</td>\n",
       "      <td>p2019-01-25-8d</td>\n",
       "      <td>2019-01-25 00:00:00-05:00</td>\n",
       "      <td>2019-01-28 23:59:59-05:00</td>\n",
       "      <td>2019-02-01 23:59:59-05:00</td>\n",
       "      <td>NaN</td>\n",
       "      <td>724.066435</td>\n",
       "    </tr>\n",
       "    <tr>\n",
       "      <th>109</th>\n",
       "      <td>c159-h5000m</td>\n",
       "      <td>POLYGON ((658310.319 4752298.087, 662640.446 4...</td>\n",
       "      <td>POINT (658310.319 4747298.087)</td>\n",
       "      <td>p2019-02-02-8d</td>\n",
       "      <td>2019-02-02 00:00:00-05:00</td>\n",
       "      <td>2019-02-05 23:59:59-05:00</td>\n",
       "      <td>2019-02-09 23:59:59-05:00</td>\n",
       "      <td>NaN</td>\n",
       "      <td>7977.949999</td>\n",
       "    </tr>\n",
       "  </tbody>\n",
       "</table>\n",
       "<p>110 rows × 9 columns</p>\n",
       "</div>"
      ],
      "text/plain": [
       "         cell_id                                            polygon  \\\n",
       "0    c013-h5000m  POLYGON ((602018.668 4699798.087, 606348.795 4...   \n",
       "1    c014-h5000m  POLYGON ((610678.922 4699798.087, 615009.049 4...   \n",
       "2    c015-h5000m  POLYGON ((619339.176 4699798.087, 623669.303 4...   \n",
       "3    c016-h5000m  POLYGON ((627999.43 4699798.087, 632329.557 46...   \n",
       "4    c017-h5000m  POLYGON ((636659.684 4699798.087, 640989.811 4...   \n",
       "..           ...                                                ...   \n",
       "105  c147-h5000m  POLYGON ((554387.271 4752298.087, 558717.398 4...   \n",
       "106  c148-h5000m  POLYGON ((563047.525 4752298.087, 567377.652 4...   \n",
       "107  c149-h5000m  POLYGON ((571707.779 4752298.087, 576037.906 4...   \n",
       "108  c150-h5000m  POLYGON ((580368.033 4752298.087, 584698.16 47...   \n",
       "109  c159-h5000m  POLYGON ((658310.319 4752298.087, 662640.446 4...   \n",
       "\n",
       "                           centroid       period_id              datetime_beg  \\\n",
       "0    POINT (602018.668 4694798.087)  p2019-02-02-8d 2019-02-02 00:00:00-05:00   \n",
       "1    POINT (610678.922 4694798.087)  p2019-02-02-8d 2019-02-02 00:00:00-05:00   \n",
       "2    POINT (619339.176 4694798.087)  p2019-02-02-8d 2019-02-02 00:00:00-05:00   \n",
       "3     POINT (627999.43 4694798.087)  p2019-02-02-8d 2019-02-02 00:00:00-05:00   \n",
       "4    POINT (636659.684 4694798.087)  p2019-02-02-8d 2019-02-02 00:00:00-05:00   \n",
       "..                              ...             ...                       ...   \n",
       "105  POINT (554387.271 4747298.087)  p2019-01-25-8d 2019-01-25 00:00:00-05:00   \n",
       "106  POINT (563047.525 4747298.087)  p2019-01-25-8d 2019-01-25 00:00:00-05:00   \n",
       "107  POINT (571707.779 4747298.087)  p2019-01-25-8d 2019-01-25 00:00:00-05:00   \n",
       "108  POINT (580368.033 4747298.087)  p2019-01-25-8d 2019-01-25 00:00:00-05:00   \n",
       "109  POINT (658310.319 4747298.087)  p2019-02-02-8d 2019-02-02 00:00:00-05:00   \n",
       "\n",
       "                 datetime_mid              datetime_end  individuals  \\\n",
       "0   2019-02-05 23:59:59-05:00 2019-02-09 23:59:59-05:00          NaN   \n",
       "1   2019-02-05 23:59:59-05:00 2019-02-09 23:59:59-05:00          4.0   \n",
       "2   2019-02-05 23:59:59-05:00 2019-02-09 23:59:59-05:00          2.0   \n",
       "3   2019-02-05 23:59:59-05:00 2019-02-09 23:59:59-05:00          NaN   \n",
       "4   2019-02-05 23:59:59-05:00 2019-02-09 23:59:59-05:00          NaN   \n",
       "..                        ...                       ...          ...   \n",
       "105 2019-01-28 23:59:59-05:00 2019-02-01 23:59:59-05:00          2.0   \n",
       "106 2019-01-28 23:59:59-05:00 2019-02-01 23:59:59-05:00          NaN   \n",
       "107 2019-01-28 23:59:59-05:00 2019-02-01 23:59:59-05:00          NaN   \n",
       "108 2019-01-28 23:59:59-05:00 2019-02-01 23:59:59-05:00          NaN   \n",
       "109 2019-02-05 23:59:59-05:00 2019-02-09 23:59:59-05:00          NaN   \n",
       "\n",
       "       se_length  \n",
       "0    4000.286022  \n",
       "1    8662.075856  \n",
       "2    8661.517653  \n",
       "3    8577.463371  \n",
       "4    8234.234607  \n",
       "..           ...  \n",
       "105  1543.406690  \n",
       "106  1704.820261  \n",
       "107  1869.663454  \n",
       "108   724.066435  \n",
       "109  7977.949999  \n",
       "\n",
       "[110 rows x 9 columns]"
      ]
     },
     "execution_count": 17,
     "metadata": {},
     "output_type": "execute_result"
    }
   ],
   "source": [
    "u_samples.samples"
   ]
  },
  {
   "cell_type": "markdown",
   "id": "b8954f35-1415-475a-9afb-9bd52a0d601b",
   "metadata": {},
   "source": [
    "### Save a ```Samples``` object\n",
    "```Samples``` objects have an inbuilt ```save``` method to save the samples as a CSV or GPKG."
   ]
  },
  {
   "cell_type": "code",
   "execution_count": 18,
   "id": "77a5d83a-c189-40da-afb0-39e4951190d4",
   "metadata": {},
   "outputs": [],
   "source": [
    "u_samples.save(\n",
    "    folder=output_folder,\n",
    "    filetype='gpkg'\n",
    ")"
   ]
  },
  {
   "cell_type": "markdown",
   "id": "30cd27bd-f2f5-4ba1-bf6c-eb3576a088e9",
   "metadata": {},
   "source": [
    "## Samples - segment approach"
   ]
  },
  {
   "cell_type": "markdown",
   "id": "2d6e5558-af9c-48b3-9ee8-b953779156c9",
   "metadata": {},
   "source": [
    "### Make a ```Samples``` object...\n",
    "If using the segment approach, we can make a ```Samples``` object from a ```DataPoints``` object with the ```Samples.segment()``` class method.\n",
    "<br>We can also make a ```Samples``` object with measures of survey effort from a ```Segments``` object with the ```Samples.segment_se()``` class method.\n",
    "<br>Additionally, we can merge multiple ```Samples``` objects into a single new ```Samples``` object with the ```Samples.merge()``` class method."
   ]
  },
  {
   "cell_type": "markdown",
   "id": "70a982dd-4129-483c-ac5c-530c6631888c",
   "metadata": {},
   "source": [
    "#### ...from a ```DataPoints``` object"
   ]
  },
  {
   "cell_type": "code",
   "execution_count": 19,
   "id": "d4727bed-c0ee-4c82-9bc6-afa8aeee46c9",
   "metadata": {},
   "outputs": [],
   "source": [
    "u_samples_sightings = Samples.segment(\n",
    "    datapoints=u_sightings,\n",
    "    segments=u_segments,\n",
    "    cols={'individuals': 'sum'},\n",
    "    how='midpoint')"
   ]
  },
  {
   "cell_type": "markdown",
   "id": "adc1f272-8013-4d37-af0f-142676b80c02",
   "metadata": {},
   "source": [
    "#### ...from a ```Sections``` object"
   ]
  },
  {
   "cell_type": "code",
   "execution_count": 20,
   "id": "9a3be325-83f8-49f3-81dc-8cec5891f10f",
   "metadata": {},
   "outputs": [],
   "source": [
    "u_samples_effort = Samples.segment_se(\n",
    "    segments=u_segments,\n",
    "    esw=2000)"
   ]
  },
  {
   "cell_type": "markdown",
   "id": "b94fdda7-9c12-4d98-a601-902b61e71d18",
   "metadata": {},
   "source": [
    "#### ...by merging multiple ```Samples``` objects"
   ]
  },
  {
   "cell_type": "code",
   "execution_count": 21,
   "id": "c205eb2e-2916-4258-953c-5901b67bac9d",
   "metadata": {},
   "outputs": [
    {
     "name": "stdout",
     "output_type": "stream",
     "text": [
      "\n",
      "Note: samples generated with the segment approach\n"
     ]
    }
   ],
   "source": [
    "u_samples = Samples.merge(\n",
    "    sightings=u_samples_sightings,\n",
    "    effort=u_samples_effort)"
   ]
  },
  {
   "cell_type": "markdown",
   "id": "28fcff93-7d9a-4983-86bb-5ebbec7aafc7",
   "metadata": {},
   "source": [
    "### Access a ```Samples``` object's attributes\n",
    "A ```Samples``` object, regardless of how it was made, will have three attributes (```name```, ```parameters```, and ```samples```) that we can access as follows."
   ]
  },
  {
   "cell_type": "code",
   "execution_count": 22,
   "id": "30c553f6-df14-41ca-bd24-f1055d2034bf",
   "metadata": {},
   "outputs": [
    {
     "data": {
      "text/plain": [
       "'samples-sightings+effort-x-segments-s10000m'"
      ]
     },
     "execution_count": 22,
     "metadata": {},
     "output_type": "execute_result"
    }
   ],
   "source": [
    "u_samples.name"
   ]
  },
  {
   "cell_type": "code",
   "execution_count": 23,
   "id": "26a58111-5c69-4c08-8dbd-88eab0a0e87a",
   "metadata": {},
   "outputs": [
    {
     "data": {
      "text/plain": [
       "{'names': 'samples-datapoints-sightings-x-segments-s10000m+samples-sections-sections-x-segments-s10000m',\n",
       " 'approach': 'segment',\n",
       " 'resampled': 'datapoints; effort',\n",
       " 'datapoints_name': 'datapoints-sightings; nan',\n",
       " 'datapoints_filepath': './input/sightings.gpkg; nan',\n",
       " 'datapoints_crs': 'EPSG:32619; nan',\n",
       " 'datapoints_tz': 'UTC-05:00; nan',\n",
       " 'datapoints_data_cols': 'individuals; nan',\n",
       " 'segments_name': 'segments-s10000m',\n",
       " 'sections_name': 'sections-sections',\n",
       " 'segments_crs': 'EPSG:32619',\n",
       " 'segments_var': 'simple',\n",
       " 'segments_randomise': 'True',\n",
       " 'segments_target': '10000',\n",
       " 'segments_unit': 'metre',\n",
       " 'cols': \"{'individuals': 'sum'}; nan\",\n",
       " 'effort_esw': 'nan; 2000.0',\n",
       " 'effort_audf': 'nan; None',\n",
       " 'effort_euc-geo': 'nan; euclidean'}"
      ]
     },
     "execution_count": 23,
     "metadata": {},
     "output_type": "execute_result"
    }
   ],
   "source": [
    "u_samples.parameters"
   ]
  },
  {
   "cell_type": "code",
   "execution_count": 24,
   "id": "d029a849-bac7-4f73-bae3-99bfcc041c41",
   "metadata": {},
   "outputs": [
    {
     "data": {
      "text/html": [
       "<div>\n",
       "<style scoped>\n",
       "    .dataframe tbody tr th:only-of-type {\n",
       "        vertical-align: middle;\n",
       "    }\n",
       "\n",
       "    .dataframe tbody tr th {\n",
       "        vertical-align: top;\n",
       "    }\n",
       "\n",
       "    .dataframe thead th {\n",
       "        text-align: right;\n",
       "    }\n",
       "</style>\n",
       "<table border=\"1\" class=\"dataframe\">\n",
       "  <thead>\n",
       "    <tr style=\"text-align: right;\">\n",
       "      <th></th>\n",
       "      <th>segment_id</th>\n",
       "      <th>line</th>\n",
       "      <th>midpoint</th>\n",
       "      <th>date</th>\n",
       "      <th>section_id</th>\n",
       "      <th>dfbsec_beg</th>\n",
       "      <th>dfbsec_end</th>\n",
       "      <th>individuals</th>\n",
       "      <th>se_length</th>\n",
       "      <th>se_area</th>\n",
       "    </tr>\n",
       "  </thead>\n",
       "  <tbody>\n",
       "    <tr>\n",
       "      <th>0</th>\n",
       "      <td>s01-s10000m</td>\n",
       "      <td>LINESTRING (580092.757 4742883.408, 579997.135...</td>\n",
       "      <td>POINT (575093.311 4742845.962)</td>\n",
       "      <td>2019-01-25</td>\n",
       "      <td>s1</td>\n",
       "      <td>0.000000</td>\n",
       "      <td>10000.000000</td>\n",
       "      <td>1.0</td>\n",
       "      <td>10000.0</td>\n",
       "      <td>4.000000e+07</td>\n",
       "    </tr>\n",
       "    <tr>\n",
       "      <th>1</th>\n",
       "      <td>s02-s10000m</td>\n",
       "      <td>LINESTRING (570094.222 4742829.916, 569917.081...</td>\n",
       "      <td>POINT (565094.73 4742799.725)</td>\n",
       "      <td>2019-01-25</td>\n",
       "      <td>s1</td>\n",
       "      <td>10000.000000</td>\n",
       "      <td>20000.000000</td>\n",
       "      <td>NaN</td>\n",
       "      <td>10000.0</td>\n",
       "      <td>4.000000e+07</td>\n",
       "    </tr>\n",
       "    <tr>\n",
       "      <th>2</th>\n",
       "      <td>s03-s10000m</td>\n",
       "      <td>LINESTRING (560095.148 4742773.163, 559864.339...</td>\n",
       "      <td>POINT (555095.521 4742749.119)</td>\n",
       "      <td>2019-01-25</td>\n",
       "      <td>s1</td>\n",
       "      <td>20000.000000</td>\n",
       "      <td>30000.000000</td>\n",
       "      <td>2.0</td>\n",
       "      <td>10000.0</td>\n",
       "      <td>4.000000e+07</td>\n",
       "    </tr>\n",
       "    <tr>\n",
       "      <th>3</th>\n",
       "      <td>s04-s10000m</td>\n",
       "      <td>LINESTRING (550095.667 4742710.935, 549838.842...</td>\n",
       "      <td>POINT (545095.787 4742676.383)</td>\n",
       "      <td>2019-01-25</td>\n",
       "      <td>s1</td>\n",
       "      <td>30000.000000</td>\n",
       "      <td>40000.000000</td>\n",
       "      <td>5.0</td>\n",
       "      <td>10000.0</td>\n",
       "      <td>4.000000e+07</td>\n",
       "    </tr>\n",
       "    <tr>\n",
       "      <th>4</th>\n",
       "      <td>s05-s10000m</td>\n",
       "      <td>LINESTRING (540095.882 4742645.456, 539704.822...</td>\n",
       "      <td>POINT (535096.832 4742648.569)</td>\n",
       "      <td>2019-01-25</td>\n",
       "      <td>s1</td>\n",
       "      <td>40000.000000</td>\n",
       "      <td>50000.000000</td>\n",
       "      <td>NaN</td>\n",
       "      <td>10000.0</td>\n",
       "      <td>4.000000e+07</td>\n",
       "    </tr>\n",
       "    <tr>\n",
       "      <th>...</th>\n",
       "      <td>...</td>\n",
       "      <td>...</td>\n",
       "      <td>...</td>\n",
       "      <td>...</td>\n",
       "      <td>...</td>\n",
       "      <td>...</td>\n",
       "      <td>...</td>\n",
       "      <td>...</td>\n",
       "      <td>...</td>\n",
       "      <td>...</td>\n",
       "    </tr>\n",
       "    <tr>\n",
       "      <th>68</th>\n",
       "      <td>s69-s10000m</td>\n",
       "      <td>LINESTRING (652338.76 4697682.02, 652197.878 4...</td>\n",
       "      <td>POINT (647339.987 4697611.472)</td>\n",
       "      <td>2019-02-05</td>\n",
       "      <td>s4</td>\n",
       "      <td>274105.324868</td>\n",
       "      <td>284105.324868</td>\n",
       "      <td>NaN</td>\n",
       "      <td>10000.0</td>\n",
       "      <td>4.000000e+07</td>\n",
       "    </tr>\n",
       "    <tr>\n",
       "      <th>69</th>\n",
       "      <td>s70-s10000m</td>\n",
       "      <td>LINESTRING (642341.15 4697526.723, 641994.147 ...</td>\n",
       "      <td>POINT (637342.194 4697445.552)</td>\n",
       "      <td>2019-02-05</td>\n",
       "      <td>s4</td>\n",
       "      <td>284105.324868</td>\n",
       "      <td>294105.324868</td>\n",
       "      <td>NaN</td>\n",
       "      <td>10000.0</td>\n",
       "      <td>4.000000e+07</td>\n",
       "    </tr>\n",
       "    <tr>\n",
       "      <th>70</th>\n",
       "      <td>s71-s10000m</td>\n",
       "      <td>LINESTRING (632343.125 4697349.07, 632326.134 ...</td>\n",
       "      <td>POINT (627344.065 4697254.461)</td>\n",
       "      <td>2019-02-05</td>\n",
       "      <td>s4</td>\n",
       "      <td>294105.324868</td>\n",
       "      <td>304105.324868</td>\n",
       "      <td>NaN</td>\n",
       "      <td>10000.0</td>\n",
       "      <td>4.000000e+07</td>\n",
       "    </tr>\n",
       "    <tr>\n",
       "      <th>71</th>\n",
       "      <td>s72-s10000m</td>\n",
       "      <td>LINESTRING (622345.629 4697147.973, 622000.67 ...</td>\n",
       "      <td>POINT (617346.364 4697062.225)</td>\n",
       "      <td>2019-02-05</td>\n",
       "      <td>s4</td>\n",
       "      <td>304105.324868</td>\n",
       "      <td>314105.324868</td>\n",
       "      <td>2.0</td>\n",
       "      <td>10000.0</td>\n",
       "      <td>4.000000e+07</td>\n",
       "    </tr>\n",
       "    <tr>\n",
       "      <th>72</th>\n",
       "      <td>s73-s10000m</td>\n",
       "      <td>LINESTRING (612347.04 4696980.054, 612333.116 ...</td>\n",
       "      <td>POINT (607348.392 4696882.591)</td>\n",
       "      <td>2019-02-05</td>\n",
       "      <td>s4</td>\n",
       "      <td>314105.324868</td>\n",
       "      <td>324105.324868</td>\n",
       "      <td>4.0</td>\n",
       "      <td>10000.0</td>\n",
       "      <td>4.000000e+07</td>\n",
       "    </tr>\n",
       "  </tbody>\n",
       "</table>\n",
       "<p>73 rows × 10 columns</p>\n",
       "</div>"
      ],
      "text/plain": [
       "     segment_id                                               line  \\\n",
       "0   s01-s10000m  LINESTRING (580092.757 4742883.408, 579997.135...   \n",
       "1   s02-s10000m  LINESTRING (570094.222 4742829.916, 569917.081...   \n",
       "2   s03-s10000m  LINESTRING (560095.148 4742773.163, 559864.339...   \n",
       "3   s04-s10000m  LINESTRING (550095.667 4742710.935, 549838.842...   \n",
       "4   s05-s10000m  LINESTRING (540095.882 4742645.456, 539704.822...   \n",
       "..          ...                                                ...   \n",
       "68  s69-s10000m  LINESTRING (652338.76 4697682.02, 652197.878 4...   \n",
       "69  s70-s10000m  LINESTRING (642341.15 4697526.723, 641994.147 ...   \n",
       "70  s71-s10000m  LINESTRING (632343.125 4697349.07, 632326.134 ...   \n",
       "71  s72-s10000m  LINESTRING (622345.629 4697147.973, 622000.67 ...   \n",
       "72  s73-s10000m  LINESTRING (612347.04 4696980.054, 612333.116 ...   \n",
       "\n",
       "                          midpoint        date section_id     dfbsec_beg  \\\n",
       "0   POINT (575093.311 4742845.962)  2019-01-25         s1       0.000000   \n",
       "1    POINT (565094.73 4742799.725)  2019-01-25         s1   10000.000000   \n",
       "2   POINT (555095.521 4742749.119)  2019-01-25         s1   20000.000000   \n",
       "3   POINT (545095.787 4742676.383)  2019-01-25         s1   30000.000000   \n",
       "4   POINT (535096.832 4742648.569)  2019-01-25         s1   40000.000000   \n",
       "..                             ...         ...        ...            ...   \n",
       "68  POINT (647339.987 4697611.472)  2019-02-05         s4  274105.324868   \n",
       "69  POINT (637342.194 4697445.552)  2019-02-05         s4  284105.324868   \n",
       "70  POINT (627344.065 4697254.461)  2019-02-05         s4  294105.324868   \n",
       "71  POINT (617346.364 4697062.225)  2019-02-05         s4  304105.324868   \n",
       "72  POINT (607348.392 4696882.591)  2019-02-05         s4  314105.324868   \n",
       "\n",
       "       dfbsec_end  individuals  se_length       se_area  \n",
       "0    10000.000000          1.0    10000.0  4.000000e+07  \n",
       "1    20000.000000          NaN    10000.0  4.000000e+07  \n",
       "2    30000.000000          2.0    10000.0  4.000000e+07  \n",
       "3    40000.000000          5.0    10000.0  4.000000e+07  \n",
       "4    50000.000000          NaN    10000.0  4.000000e+07  \n",
       "..            ...          ...        ...           ...  \n",
       "68  284105.324868          NaN    10000.0  4.000000e+07  \n",
       "69  294105.324868          NaN    10000.0  4.000000e+07  \n",
       "70  304105.324868          NaN    10000.0  4.000000e+07  \n",
       "71  314105.324868          2.0    10000.0  4.000000e+07  \n",
       "72  324105.324868          4.0    10000.0  4.000000e+07  \n",
       "\n",
       "[73 rows x 10 columns]"
      ]
     },
     "execution_count": 24,
     "metadata": {},
     "output_type": "execute_result"
    }
   ],
   "source": [
    "u_samples.samples"
   ]
  },
  {
   "cell_type": "markdown",
   "id": "1589d8ea-dfb5-42d3-b975-725ca7595988",
   "metadata": {},
   "source": [
    "### Save a ```Samples``` object\n",
    "```Samples``` objects have an inbuilt ```save``` method to save the samples as a CSV or GPKG."
   ]
  },
  {
   "cell_type": "code",
   "execution_count": 25,
   "id": "68d82439-fae8-45c4-8314-dafb0a332794",
   "metadata": {},
   "outputs": [],
   "source": [
    "u_samples.save(\n",
    "    folder=output_folder,\n",
    "    filetype='gpkg'\n",
    ")"
   ]
  },
  {
   "cell_type": "markdown",
   "id": "a309a6d8-e6aa-42b3-bf55-7bd620b789b7",
   "metadata": {},
   "source": [
    "## Samples - point approach"
   ]
  },
  {
   "cell_type": "markdown",
   "id": "e7a78120-7305-4aea-9707-0b0601dfbd63",
   "metadata": {},
   "source": [
    "### Make a ```Samples``` object...\n",
    "If using the point approach, we can make a ```Samples``` object from a ```DataPoints``` object with the ```Samples.point()``` class method."
   ]
  },
  {
   "cell_type": "markdown",
   "id": "6ccdace5-6d87-4f86-88fc-1fa5a7d4f9d7",
   "metadata": {},
   "source": [
    "#### ...from a ```DataPoints``` object"
   ]
  },
  {
   "cell_type": "code",
   "execution_count": 26,
   "id": "8e6853cd-2a72-463a-a791-0ed7d039cec1",
   "metadata": {},
   "outputs": [],
   "source": [
    "u_samples = Samples.point(\n",
    "    datapoints=u_sightings,\n",
    "    presences=u_presences,\n",
    "    absences=u_absences,\n",
    "    cols=['individuals'])"
   ]
  },
  {
   "cell_type": "markdown",
   "id": "1c1c45d6-c38e-47b1-a105-02abada89359",
   "metadata": {},
   "source": [
    "### Access a ```Samples``` object's attributes\n",
    "A ```Samples``` object, regardless of how it was made, will have three attributes (```name```, ```parameters```, and ```samples```) that we can access as follows."
   ]
  },
  {
   "cell_type": "code",
   "execution_count": 27,
   "id": "1ec63fa5-9d54-4b6c-84ac-0311bb7695cc",
   "metadata": {},
   "outputs": [
    {
     "data": {
      "text/plain": [
       "'samples-presences-sightings-+-absences-a-10000m-5day'"
      ]
     },
     "execution_count": 27,
     "metadata": {},
     "output_type": "execute_result"
    }
   ],
   "source": [
    "u_samples.name"
   ]
  },
  {
   "cell_type": "code",
   "execution_count": 28,
   "id": "5e52d109-c21a-4a59-96b0-85beaaee98c5",
   "metadata": {},
   "outputs": [
    {
     "data": {
      "text/plain": [
       "{'approach': 'point',\n",
       " 'resampled': 'datapoints',\n",
       " 'presences_name': 'presences-sightings',\n",
       " 'presences_crs': 'EPSG:32619',\n",
       " 'presences_sp_threshold': 10000,\n",
       " 'presences_tm_threshold': 5,\n",
       " 'presences_tm_unit': 'day',\n",
       " 'absences_name': 'absences-a-10000m-5day',\n",
       " 'absences_var': 'along',\n",
       " 'absences_target': 20,\n",
       " 'absences_crs': 'EPSG:32619',\n",
       " 'absences_sp_threshold': 10000,\n",
       " 'absences_tm_threshold': 5,\n",
       " 'absences_tm_unit': 'day'}"
      ]
     },
     "execution_count": 28,
     "metadata": {},
     "output_type": "execute_result"
    }
   ],
   "source": [
    "u_samples.parameters"
   ]
  },
  {
   "cell_type": "code",
   "execution_count": 29,
   "id": "d96ce8ca-b6d8-4186-a7a4-7436e7a55907",
   "metadata": {},
   "outputs": [
    {
     "data": {
      "text/html": [
       "<div>\n",
       "<style scoped>\n",
       "    .dataframe tbody tr th:only-of-type {\n",
       "        vertical-align: middle;\n",
       "    }\n",
       "\n",
       "    .dataframe tbody tr th {\n",
       "        vertical-align: top;\n",
       "    }\n",
       "\n",
       "    .dataframe thead th {\n",
       "        text-align: right;\n",
       "    }\n",
       "</style>\n",
       "<table border=\"1\" class=\"dataframe\">\n",
       "  <thead>\n",
       "    <tr style=\"text-align: right;\">\n",
       "      <th></th>\n",
       "      <th>point_id</th>\n",
       "      <th>point</th>\n",
       "      <th>date</th>\n",
       "      <th>p-a</th>\n",
       "      <th>individuals</th>\n",
       "      <th>datapoint_id</th>\n",
       "    </tr>\n",
       "  </thead>\n",
       "  <tbody>\n",
       "    <tr>\n",
       "      <th>0</th>\n",
       "      <td>p01</td>\n",
       "      <td>POINT (579166.78 4742872.701)</td>\n",
       "      <td>2019-01-25</td>\n",
       "      <td>1</td>\n",
       "      <td>1.0</td>\n",
       "      <td>d01</td>\n",
       "    </tr>\n",
       "    <tr>\n",
       "      <th>1</th>\n",
       "      <td>p03</td>\n",
       "      <td>POINT (548599.876 4742700.214)</td>\n",
       "      <td>2019-01-25</td>\n",
       "      <td>1</td>\n",
       "      <td>5.0</td>\n",
       "      <td>d03</td>\n",
       "    </tr>\n",
       "    <tr>\n",
       "      <th>2</th>\n",
       "      <td>p04</td>\n",
       "      <td>POINT (520909.741 4714855.058)</td>\n",
       "      <td>2019-02-02</td>\n",
       "      <td>1</td>\n",
       "      <td>1.0</td>\n",
       "      <td>d04</td>\n",
       "    </tr>\n",
       "    <tr>\n",
       "      <th>3</th>\n",
       "      <td>p05</td>\n",
       "      <td>POINT (532548.249 4714899.835)</td>\n",
       "      <td>2019-02-02</td>\n",
       "      <td>1</td>\n",
       "      <td>2.0</td>\n",
       "      <td>d05</td>\n",
       "    </tr>\n",
       "    <tr>\n",
       "      <th>4</th>\n",
       "      <td>p06</td>\n",
       "      <td>POINT (512817.407 4705582.465)</td>\n",
       "      <td>2019-02-02</td>\n",
       "      <td>1</td>\n",
       "      <td>1.0</td>\n",
       "      <td>d06</td>\n",
       "    </tr>\n",
       "    <tr>\n",
       "      <th>5</th>\n",
       "      <td>p08</td>\n",
       "      <td>POINT (654449.136 4716189.584)</td>\n",
       "      <td>2019-02-05</td>\n",
       "      <td>1</td>\n",
       "      <td>5.0</td>\n",
       "      <td>d08</td>\n",
       "    </tr>\n",
       "    <tr>\n",
       "      <th>6</th>\n",
       "      <td>p10</td>\n",
       "      <td>POINT (643532.681 4716066.52)</td>\n",
       "      <td>2019-02-05</td>\n",
       "      <td>1</td>\n",
       "      <td>1.0</td>\n",
       "      <td>d10</td>\n",
       "    </tr>\n",
       "    <tr>\n",
       "      <th>7</th>\n",
       "      <td>p11</td>\n",
       "      <td>POINT (629124.489 4706545.106)</td>\n",
       "      <td>2019-02-05</td>\n",
       "      <td>1</td>\n",
       "      <td>3.0</td>\n",
       "      <td>d11</td>\n",
       "    </tr>\n",
       "    <tr>\n",
       "      <th>8</th>\n",
       "      <td>p13</td>\n",
       "      <td>POINT (611976.857 4696974.111)</td>\n",
       "      <td>2019-02-05</td>\n",
       "      <td>1</td>\n",
       "      <td>4.0</td>\n",
       "      <td>d13</td>\n",
       "    </tr>\n",
       "    <tr>\n",
       "      <th>9</th>\n",
       "      <td>a02</td>\n",
       "      <td>POINT (504588.106 4742514.228)</td>\n",
       "      <td>2019-01-25</td>\n",
       "      <td>0</td>\n",
       "      <td>NaN</td>\n",
       "      <td>NaN</td>\n",
       "    </tr>\n",
       "    <tr>\n",
       "      <th>10</th>\n",
       "      <td>a03</td>\n",
       "      <td>POINT (591950.762 4706010.841)</td>\n",
       "      <td>2019-02-02</td>\n",
       "      <td>0</td>\n",
       "      <td>NaN</td>\n",
       "      <td>NaN</td>\n",
       "    </tr>\n",
       "    <tr>\n",
       "      <th>11</th>\n",
       "      <td>a04</td>\n",
       "      <td>POINT (554550.026 4705803.093)</td>\n",
       "      <td>2019-02-02</td>\n",
       "      <td>0</td>\n",
       "      <td>NaN</td>\n",
       "      <td>NaN</td>\n",
       "    </tr>\n",
       "    <tr>\n",
       "      <th>12</th>\n",
       "      <td>a05</td>\n",
       "      <td>POINT (631723.358 4734361.482)</td>\n",
       "      <td>2019-02-05</td>\n",
       "      <td>0</td>\n",
       "      <td>NaN</td>\n",
       "      <td>NaN</td>\n",
       "    </tr>\n",
       "    <tr>\n",
       "      <th>13</th>\n",
       "      <td>a09</td>\n",
       "      <td>POINT (602775.315 4712862.212)</td>\n",
       "      <td>2019-02-05</td>\n",
       "      <td>0</td>\n",
       "      <td>NaN</td>\n",
       "      <td>NaN</td>\n",
       "    </tr>\n",
       "    <tr>\n",
       "      <th>14</th>\n",
       "      <td>a10</td>\n",
       "      <td>POINT (657653.605 4702361.758)</td>\n",
       "      <td>2019-02-05</td>\n",
       "      <td>0</td>\n",
       "      <td>NaN</td>\n",
       "      <td>NaN</td>\n",
       "    </tr>\n",
       "    <tr>\n",
       "      <th>15</th>\n",
       "      <td>a11</td>\n",
       "      <td>POINT (585197.878 4733659.984)</td>\n",
       "      <td>2019-03-03</td>\n",
       "      <td>0</td>\n",
       "      <td>NaN</td>\n",
       "      <td>NaN</td>\n",
       "    </tr>\n",
       "    <tr>\n",
       "      <th>16</th>\n",
       "      <td>a13</td>\n",
       "      <td>POINT (568714.684 4733580.576)</td>\n",
       "      <td>2019-03-03</td>\n",
       "      <td>0</td>\n",
       "      <td>NaN</td>\n",
       "      <td>NaN</td>\n",
       "    </tr>\n",
       "    <tr>\n",
       "      <th>17</th>\n",
       "      <td>a16</td>\n",
       "      <td>POINT (540874.844 4733433.009)</td>\n",
       "      <td>2019-03-03</td>\n",
       "      <td>0</td>\n",
       "      <td>NaN</td>\n",
       "      <td>NaN</td>\n",
       "    </tr>\n",
       "  </tbody>\n",
       "</table>\n",
       "</div>"
      ],
      "text/plain": [
       "   point_id                           point       date  p-a  individuals  \\\n",
       "0       p01   POINT (579166.78 4742872.701) 2019-01-25    1          1.0   \n",
       "1       p03  POINT (548599.876 4742700.214) 2019-01-25    1          5.0   \n",
       "2       p04  POINT (520909.741 4714855.058) 2019-02-02    1          1.0   \n",
       "3       p05  POINT (532548.249 4714899.835) 2019-02-02    1          2.0   \n",
       "4       p06  POINT (512817.407 4705582.465) 2019-02-02    1          1.0   \n",
       "5       p08  POINT (654449.136 4716189.584) 2019-02-05    1          5.0   \n",
       "6       p10   POINT (643532.681 4716066.52) 2019-02-05    1          1.0   \n",
       "7       p11  POINT (629124.489 4706545.106) 2019-02-05    1          3.0   \n",
       "8       p13  POINT (611976.857 4696974.111) 2019-02-05    1          4.0   \n",
       "9       a02  POINT (504588.106 4742514.228) 2019-01-25    0          NaN   \n",
       "10      a03  POINT (591950.762 4706010.841) 2019-02-02    0          NaN   \n",
       "11      a04  POINT (554550.026 4705803.093) 2019-02-02    0          NaN   \n",
       "12      a05  POINT (631723.358 4734361.482) 2019-02-05    0          NaN   \n",
       "13      a09  POINT (602775.315 4712862.212) 2019-02-05    0          NaN   \n",
       "14      a10  POINT (657653.605 4702361.758) 2019-02-05    0          NaN   \n",
       "15      a11  POINT (585197.878 4733659.984) 2019-03-03    0          NaN   \n",
       "16      a13  POINT (568714.684 4733580.576) 2019-03-03    0          NaN   \n",
       "17      a16  POINT (540874.844 4733433.009) 2019-03-03    0          NaN   \n",
       "\n",
       "   datapoint_id  \n",
       "0           d01  \n",
       "1           d03  \n",
       "2           d04  \n",
       "3           d05  \n",
       "4           d06  \n",
       "5           d08  \n",
       "6           d10  \n",
       "7           d11  \n",
       "8           d13  \n",
       "9           NaN  \n",
       "10          NaN  \n",
       "11          NaN  \n",
       "12          NaN  \n",
       "13          NaN  \n",
       "14          NaN  \n",
       "15          NaN  \n",
       "16          NaN  \n",
       "17          NaN  "
      ]
     },
     "execution_count": 29,
     "metadata": {},
     "output_type": "execute_result"
    }
   ],
   "source": [
    "u_samples.samples"
   ]
  },
  {
   "cell_type": "markdown",
   "id": "1c9a8a68-ed11-4b31-a0f9-ad396ba23770",
   "metadata": {},
   "source": [
    "### Save a ```Samples``` object\n",
    "```Samples``` objects have an inbuilt ```save``` method to save the samples as a CSV or GPKG."
   ]
  },
  {
   "cell_type": "code",
   "execution_count": 30,
   "id": "fe57b346-8269-4f83-a4cb-3bf7682db64e",
   "metadata": {},
   "outputs": [],
   "source": [
    "u_samples.save(\n",
    "    folder=output_folder,\n",
    "    filetype='gpkg'\n",
    ")"
   ]
  }
 ],
 "metadata": {
  "kernelspec": {
   "display_name": "Python 3 (ipykernel)",
   "language": "python",
   "name": "python3"
  },
  "language_info": {
   "codemirror_mode": {
    "name": "ipython",
    "version": 3
   },
   "file_extension": ".py",
   "mimetype": "text/x-python",
   "name": "python",
   "nbconvert_exporter": "python",
   "pygments_lexer": "ipython3",
   "version": "3.12.3"
  }
 },
 "nbformat": 4,
 "nbformat_minor": 5
}
