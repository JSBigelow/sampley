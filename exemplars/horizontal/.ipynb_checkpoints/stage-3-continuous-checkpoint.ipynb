{
 "cells": [
  {
   "cell_type": "code",
   "execution_count": null,
   "id": "d03c91d1-9cae-4d42-94ad-f14b3b27164c",
   "metadata": {},
   "outputs": [],
   "source": []
  },
  {
   "cell_type": "markdown",
   "id": "001e611b-332e-406b-a7b5-aacf705f49ae",
   "metadata": {},
   "source": [
    "## Setup"
   ]
  },
  {
   "cell_type": "markdown",
   "id": "81fa6a14-33d5-4142-97b2-144cf7ae5c42",
   "metadata": {},
   "source": [
    "### Import the package"
   ]
  },
  {
   "cell_type": "code",
   "execution_count": 1,
   "id": "a34db27d-d4eb-42bf-8413-db48923734c9",
   "metadata": {},
   "outputs": [],
   "source": [
    "from sampley import *"
   ]
  },
  {
   "cell_type": "markdown",
   "id": "b787bc83-1220-4325-af67-69cc3a71dcc5",
   "metadata": {},
   "source": [
    "### Set the folder containing the mock data"
   ]
  },
  {
   "cell_type": "code",
   "execution_count": 2,
   "id": "0a60d752-8e10-472a-beec-9782bc92f759",
   "metadata": {},
   "outputs": [],
   "source": [
    "folder = 'C:/Users/jsyme/My Drive/JSBigelow/Data/CT_Sampler/ct_sampler/exemplars/'"
   ]
  },
  {
   "cell_type": "markdown",
   "id": "a86957dd-a152-4ce9-9e95-4c33616401ad",
   "metadata": {},
   "source": [
    "### Stage 1 - Make DataPoints and Sections objects and Stage 2 - Make delimiters"
   ]
  },
  {
   "cell_type": "markdown",
   "id": "50b1de30-92a8-4116-afb7-8b1b9e9444fa",
   "metadata": {},
   "source": [
    "Before making any objects in Stage 3, we, of course, have to conduct Stages 1 and 2. For the sake of this exemplar, we make one Sections and one DataPoints object below that are then used to make all the subsequent delimiters. See the Stage 1 and 2 exemplars and the manual for more details on Stages 1 and 2."
   ]
  },
  {
   "cell_type": "code",
   "execution_count": 3,
   "id": "e58af50a-181f-4f3f-974f-53cf3b1e993e",
   "metadata": {},
   "outputs": [
    {
     "name": "stdout",
     "output_type": "stream",
     "text": [
      "Opening file...\n",
      "Success: file successfully input.\n",
      "Parsing x and y (lon/lat) coordinates...\n",
      "Success: x and y (lon/lat) coordinates successfully parsed.\n",
      "Reprojecting CRS...\n",
      "Success: reprojected to CRS 'EPSG:32619'\n",
      "Parsing datetimes...\n",
      "Success: the column 'datetime' successfully reformatted to datetimes.\n",
      "Success: the timezone of column 'datetime' successfully set to 'UTC-05:00'.\n",
      "Converting timezone...\n",
      "Note: conversion of column 'datetime' to timezone 'UTC-05:00' is not necessary as it is already in timezone 'UTC-05:00'.\n",
      "Success: datapoint IDs successfully generated.\n"
     ]
    }
   ],
   "source": [
    "u_trackpoints = DataPoints.from_file(  # first make a DataPoints object (from a CSV, XLSX, GPKG, or SHP)\n",
    "    filepath=folder+'trackpoints.csv',\n",
    "    x_col='lon',\n",
    "    y_col='lat',\n",
    "    crs_input='EPSG:4326',\n",
    "    crs_working='EPSG:32619',\n",
    "    datetime_col='datetime',\n",
    "    tz_input='UTC-05:00',\n",
    "    tz_working='UTC-05:00',\n",
    "    section_id_col='section_id'  \n",
    ")"
   ]
  },
  {
   "cell_type": "code",
   "execution_count": 4,
   "id": "8ecab0a9-9a11-4ec4-aff5-95400f5b7d87",
   "metadata": {},
   "outputs": [],
   "source": [
    "u_sections = Sections.from_datapoints(datapoints=u_trackpoints)  # then make the Sections object from the DataPoints object"
   ]
  },
  {
   "cell_type": "code",
   "execution_count": 5,
   "id": "7912ea01-d8cc-4e54-a834-18f88d0d5c52",
   "metadata": {},
   "outputs": [],
   "source": [
    "u_periods = Periods.delimit(\n",
    "    extent=u_sections,\n",
    "    unit='day',\n",
    "    num=8)"
   ]
  },
  {
   "cell_type": "code",
   "execution_count": 6,
   "id": "7a537d82-ed31-4849-8289-af73e4e5017f",
   "metadata": {},
   "outputs": [],
   "source": [
    "u_cells = Cells.delimit(\n",
    "    extent=u_sections,\n",
    "    var='hexagonal',\n",
    "    side=5000,\n",
    "    buffer=2000)"
   ]
  },
  {
   "cell_type": "code",
   "execution_count": 7,
   "id": "0a3c33a5-7739-4155-92df-81631a0641bb",
   "metadata": {},
   "outputs": [],
   "source": [
    "u_segments = Segments.delimit(\n",
    "    sections=u_sections,\n",
    "    var='simple',\n",
    "    target=10000,\n",
    "    randomise=True)"
   ]
  },
  {
   "cell_type": "code",
   "execution_count": 8,
   "id": "46d56633-c9c8-4d67-8670-4c4089926e94",
   "metadata": {},
   "outputs": [
    {
     "name": "stdout",
     "output_type": "stream",
     "text": [
      "Conducting spatiotemporal thinning...\n",
      "Thinning complete.\n"
     ]
    }
   ],
   "source": [
    "u_presences = Presences.delimit(\n",
    "    datapoints=u_trackpoints,\n",
    "    presence_col='individuals')\n",
    "u_presences.thin(\n",
    "    sp_threshold=10000,\n",
    "    tm_threshold=5,\n",
    "    tm_unit='day')"
   ]
  },
  {
   "cell_type": "code",
   "execution_count": 9,
   "id": "b7606561-7ec5-47b3-a4c8-e2e3e57cc7f0",
   "metadata": {},
   "outputs": [
    {
     "name": "stdout",
     "output_type": "stream",
     "text": [
      "Note: absence lines to be generated with a temporal threshold of 5 day(s).\n"
     ]
    }
   ],
   "source": [
    "u_absencelines = AbsenceLines.delimit(\n",
    "    sections=u_sections,\n",
    "    presences=u_presences,\n",
    "    sp_threshold=10000,\n",
    "    tm_threshold=5,\n",
    "    tm_unit='day',\n",
    ")"
   ]
  },
  {
   "cell_type": "code",
   "execution_count": 10,
   "id": "889e44e6-b207-4046-98f6-532674973263",
   "metadata": {},
   "outputs": [
    {
     "name": "stdout",
     "output_type": "stream",
     "text": [
      "Conducting spatiotemporal thinning...\n",
      "Thinning complete.\n"
     ]
    }
   ],
   "source": [
    "u_absences = Absences.delimit(\n",
    "    absencelines=u_absencelines,\n",
    "    var='along',\n",
    "    target=20,\n",
    "    dfls=None)\n",
    "u_absences.thin(\n",
    "    sp_threshold=10000,\n",
    "    tm_threshold=5,\n",
    "    tm_unit='day',\n",
    "    target=9)"
   ]
  },
  {
   "cell_type": "markdown",
   "id": "30cd27bd-f2f5-4ba1-bf6c-eb3576a088e9",
   "metadata": {},
   "source": [
    "## Samples - segment approach"
   ]
  },
  {
   "cell_type": "markdown",
   "id": "2d6e5558-af9c-48b3-9ee8-b953779156c9",
   "metadata": {},
   "source": [
    "### Make a Samples object...\n",
    "If using the segment approach, we can make a Samples object from a DataPoints object with the Samples.segment() class method.\n",
    "<br>We can also make a Samples object with measures of survey effort from a Segments object with the Samples.segment_se() class method.\n",
    "<br>Additionally, we can merge multiple Samples objects into a single new Samples object with the Samples.merge() class method."
   ]
  },
  {
   "cell_type": "markdown",
   "id": "70a982dd-4129-483c-ac5c-530c6631888c",
   "metadata": {},
   "source": [
    "#### ...from a DataPoints object\n",
    "As the segments are made from sections that are made from datapoints, we can match those datapoints to the segments by their distance from the beginning of the section (how='dfb'), rather than by absolute distance to the midpoint or line. This is more accurate and faster."
   ]
  },
  {
   "cell_type": "code",
   "execution_count": 11,
   "id": "d4727bed-c0ee-4c82-9bc6-afa8aeee46c9",
   "metadata": {},
   "outputs": [],
   "source": [
    "u_samples_trackpoints = Samples.segment(\n",
    "    datapoints=u_trackpoints,\n",
    "    segments=u_segments,\n",
    "    cols={'individuals': 'sum', 'bss': 'mean'},\n",
    "    how='dfb')"
   ]
  },
  {
   "cell_type": "markdown",
   "id": "adc1f272-8013-4d37-af0f-142676b80c02",
   "metadata": {},
   "source": [
    "#### ...from a Sections object"
   ]
  },
  {
   "cell_type": "code",
   "execution_count": 12,
   "id": "9a3be325-83f8-49f3-81dc-8cec5891f10f",
   "metadata": {},
   "outputs": [],
   "source": [
    "u_samples_effort = Samples.segment_se(\n",
    "    segments=u_segments,\n",
    "    esw=2000)"
   ]
  },
  {
   "cell_type": "markdown",
   "id": "b94fdda7-9c12-4d98-a601-902b61e71d18",
   "metadata": {},
   "source": [
    "#### ...by merging multiple Samples objects"
   ]
  },
  {
   "cell_type": "code",
   "execution_count": 13,
   "id": "c205eb2e-2916-4258-953c-5901b67bac9d",
   "metadata": {},
   "outputs": [
    {
     "name": "stdout",
     "output_type": "stream",
     "text": [
      "\n",
      "Note: samples generated with the segment approach\n"
     ]
    }
   ],
   "source": [
    "u_samples = Samples.merge(\n",
    "    sightings=u_samples_trackpoints,\n",
    "    effort=u_samples_effort)"
   ]
  },
  {
   "cell_type": "markdown",
   "id": "28fcff93-7d9a-4983-86bb-5ebbec7aafc7",
   "metadata": {},
   "source": [
    "### Access a Samples object's attributes"
   ]
  },
  {
   "cell_type": "code",
   "execution_count": 14,
   "id": "30c553f6-df14-41ca-bd24-f1055d2034bf",
   "metadata": {},
   "outputs": [
    {
     "data": {
      "text/plain": [
       "'samples-sightings+effort-x-segments-s10000m'"
      ]
     },
     "execution_count": 14,
     "metadata": {},
     "output_type": "execute_result"
    }
   ],
   "source": [
    "u_samples.name"
   ]
  },
  {
   "cell_type": "code",
   "execution_count": 15,
   "id": "26a58111-5c69-4c08-8dbd-88eab0a0e87a",
   "metadata": {},
   "outputs": [
    {
     "data": {
      "text/plain": [
       "{'names': 'samples-datapoints-trackpoints-x-segments-s10000m+samples-sections-trackpoints-x-segments-s10000m',\n",
       " 'approach': 'segment',\n",
       " 'resampled': 'datapoints; effort',\n",
       " 'datapoints_name': 'datapoints-trackpoints; nan',\n",
       " 'datapoints_filepath': 'C:/Users/jsyme/My Drive/JSBigelow/Data/CT_Sampler/ct_sampler/exemplars/trackpoints.csv; nan',\n",
       " 'datapoints_crs': 'EPSG:32619; nan',\n",
       " 'datapoints_tz': 'UTC-05:00; nan',\n",
       " 'datapoints_data_cols': 'section_id, individuals, bss; nan',\n",
       " 'segments_name': 'segments-s10000m',\n",
       " 'sections_name': 'sections-trackpoints',\n",
       " 'segments_crs': 'EPSG:32619',\n",
       " 'segments_var': 'simple',\n",
       " 'segments_randomise': 'True',\n",
       " 'segments_target': '10000',\n",
       " 'segments_unit': 'metre',\n",
       " 'cols': \"{'individuals': 'sum', 'bss': 'mean'}; nan\",\n",
       " 'effort_esw': 'nan; 2000.0',\n",
       " 'effort_audf': 'nan; None',\n",
       " 'effort_euc-geo': 'nan; euclidean'}"
      ]
     },
     "execution_count": 15,
     "metadata": {},
     "output_type": "execute_result"
    }
   ],
   "source": [
    "u_samples.parameters"
   ]
  },
  {
   "cell_type": "code",
   "execution_count": 16,
   "id": "d029a849-bac7-4f73-bae3-99bfcc041c41",
   "metadata": {},
   "outputs": [
    {
     "data": {
      "text/html": [
       "<div>\n",
       "<style scoped>\n",
       "    .dataframe tbody tr th:only-of-type {\n",
       "        vertical-align: middle;\n",
       "    }\n",
       "\n",
       "    .dataframe tbody tr th {\n",
       "        vertical-align: top;\n",
       "    }\n",
       "\n",
       "    .dataframe thead th {\n",
       "        text-align: right;\n",
       "    }\n",
       "</style>\n",
       "<table border=\"1\" class=\"dataframe\">\n",
       "  <thead>\n",
       "    <tr style=\"text-align: right;\">\n",
       "      <th></th>\n",
       "      <th>segment_id</th>\n",
       "      <th>line</th>\n",
       "      <th>midpoint</th>\n",
       "      <th>date</th>\n",
       "      <th>section_id</th>\n",
       "      <th>dfbsec_beg</th>\n",
       "      <th>dfbsec_end</th>\n",
       "      <th>individuals</th>\n",
       "      <th>bss</th>\n",
       "      <th>se_length</th>\n",
       "      <th>se_area</th>\n",
       "    </tr>\n",
       "  </thead>\n",
       "  <tbody>\n",
       "    <tr>\n",
       "      <th>0</th>\n",
       "      <td>s01-s10000m</td>\n",
       "      <td>LINESTRING (580092.757 4742883.408, 579997.135...</td>\n",
       "      <td>POINT (575093.311 4742845.962)</td>\n",
       "      <td>2019-01-25</td>\n",
       "      <td>s001</td>\n",
       "      <td>0.000000</td>\n",
       "      <td>10000.000000</td>\n",
       "      <td>1.0</td>\n",
       "      <td>2.000000</td>\n",
       "      <td>10000.00000</td>\n",
       "      <td>4.000000e+07</td>\n",
       "    </tr>\n",
       "    <tr>\n",
       "      <th>1</th>\n",
       "      <td>s02-s10000m</td>\n",
       "      <td>LINESTRING (570094.222 4742829.916, 570089.58 ...</td>\n",
       "      <td>POINT (570091.901 4742829.892)</td>\n",
       "      <td>2019-01-25</td>\n",
       "      <td>s001</td>\n",
       "      <td>10000.000000</td>\n",
       "      <td>10004.642260</td>\n",
       "      <td>NaN</td>\n",
       "      <td>NaN</td>\n",
       "      <td>4.64226</td>\n",
       "      <td>1.856904e+04</td>\n",
       "    </tr>\n",
       "    <tr>\n",
       "      <th>2</th>\n",
       "      <td>s03-s10000m</td>\n",
       "      <td>LINESTRING (570089.58 4742829.868, 569917.081 ...</td>\n",
       "      <td>POINT (565090.088 4742799.681)</td>\n",
       "      <td>2019-01-25</td>\n",
       "      <td>s001</td>\n",
       "      <td>10004.642260</td>\n",
       "      <td>20004.642260</td>\n",
       "      <td>0.0</td>\n",
       "      <td>2.000000</td>\n",
       "      <td>10000.00000</td>\n",
       "      <td>4.000000e+07</td>\n",
       "    </tr>\n",
       "    <tr>\n",
       "      <th>3</th>\n",
       "      <td>s04-s10000m</td>\n",
       "      <td>LINESTRING (560090.506 4742773.123, 559864.339...</td>\n",
       "      <td>POINT (555090.879 4742749.082)</td>\n",
       "      <td>2019-01-25</td>\n",
       "      <td>s001</td>\n",
       "      <td>20004.642260</td>\n",
       "      <td>30004.642260</td>\n",
       "      <td>2.0</td>\n",
       "      <td>2.000000</td>\n",
       "      <td>10000.00000</td>\n",
       "      <td>4.000000e+07</td>\n",
       "    </tr>\n",
       "    <tr>\n",
       "      <th>4</th>\n",
       "      <td>s05-s10000m</td>\n",
       "      <td>LINESTRING (550091.025 4742710.901, 549838.842...</td>\n",
       "      <td>POINT (545091.144 4742676.352)</td>\n",
       "      <td>2019-01-25</td>\n",
       "      <td>s001</td>\n",
       "      <td>30004.642260</td>\n",
       "      <td>40004.642260</td>\n",
       "      <td>5.0</td>\n",
       "      <td>2.846154</td>\n",
       "      <td>10000.00000</td>\n",
       "      <td>4.000000e+07</td>\n",
       "    </tr>\n",
       "    <tr>\n",
       "      <th>...</th>\n",
       "      <td>...</td>\n",
       "      <td>...</td>\n",
       "      <td>...</td>\n",
       "      <td>...</td>\n",
       "      <td>...</td>\n",
       "      <td>...</td>\n",
       "      <td>...</td>\n",
       "      <td>...</td>\n",
       "      <td>...</td>\n",
       "      <td>...</td>\n",
       "      <td>...</td>\n",
       "    </tr>\n",
       "    <tr>\n",
       "      <th>68</th>\n",
       "      <td>s69-s10000m</td>\n",
       "      <td>LINESTRING (652338.76 4697682.02, 652197.878 4...</td>\n",
       "      <td>POINT (647339.987 4697611.472)</td>\n",
       "      <td>2019-02-05</td>\n",
       "      <td>s004</td>\n",
       "      <td>274105.324868</td>\n",
       "      <td>284105.324868</td>\n",
       "      <td>0.0</td>\n",
       "      <td>2.000000</td>\n",
       "      <td>10000.00000</td>\n",
       "      <td>4.000000e+07</td>\n",
       "    </tr>\n",
       "    <tr>\n",
       "      <th>69</th>\n",
       "      <td>s70-s10000m</td>\n",
       "      <td>LINESTRING (642341.15 4697526.723, 641994.147 ...</td>\n",
       "      <td>POINT (637342.194 4697445.552)</td>\n",
       "      <td>2019-02-05</td>\n",
       "      <td>s004</td>\n",
       "      <td>284105.324868</td>\n",
       "      <td>294105.324868</td>\n",
       "      <td>0.0</td>\n",
       "      <td>2.814815</td>\n",
       "      <td>10000.00000</td>\n",
       "      <td>4.000000e+07</td>\n",
       "    </tr>\n",
       "    <tr>\n",
       "      <th>70</th>\n",
       "      <td>s71-s10000m</td>\n",
       "      <td>LINESTRING (632343.125 4697349.07, 632326.134 ...</td>\n",
       "      <td>POINT (627344.065 4697254.461)</td>\n",
       "      <td>2019-02-05</td>\n",
       "      <td>s004</td>\n",
       "      <td>294105.324868</td>\n",
       "      <td>304105.324868</td>\n",
       "      <td>0.0</td>\n",
       "      <td>3.000000</td>\n",
       "      <td>10000.00000</td>\n",
       "      <td>4.000000e+07</td>\n",
       "    </tr>\n",
       "    <tr>\n",
       "      <th>71</th>\n",
       "      <td>s72-s10000m</td>\n",
       "      <td>LINESTRING (622345.629 4697147.973, 622000.67 ...</td>\n",
       "      <td>POINT (617346.364 4697062.225)</td>\n",
       "      <td>2019-02-05</td>\n",
       "      <td>s004</td>\n",
       "      <td>304105.324868</td>\n",
       "      <td>314105.324868</td>\n",
       "      <td>2.0</td>\n",
       "      <td>3.000000</td>\n",
       "      <td>10000.00000</td>\n",
       "      <td>4.000000e+07</td>\n",
       "    </tr>\n",
       "    <tr>\n",
       "      <th>72</th>\n",
       "      <td>s73-s10000m</td>\n",
       "      <td>LINESTRING (612347.04 4696980.054, 612333.116 ...</td>\n",
       "      <td>POINT (607348.392 4696882.591)</td>\n",
       "      <td>2019-02-05</td>\n",
       "      <td>s004</td>\n",
       "      <td>314105.324868</td>\n",
       "      <td>324105.324868</td>\n",
       "      <td>4.0</td>\n",
       "      <td>3.000000</td>\n",
       "      <td>10000.00000</td>\n",
       "      <td>4.000000e+07</td>\n",
       "    </tr>\n",
       "  </tbody>\n",
       "</table>\n",
       "<p>73 rows × 11 columns</p>\n",
       "</div>"
      ],
      "text/plain": [
       "     segment_id                                               line  \\\n",
       "0   s01-s10000m  LINESTRING (580092.757 4742883.408, 579997.135...   \n",
       "1   s02-s10000m  LINESTRING (570094.222 4742829.916, 570089.58 ...   \n",
       "2   s03-s10000m  LINESTRING (570089.58 4742829.868, 569917.081 ...   \n",
       "3   s04-s10000m  LINESTRING (560090.506 4742773.123, 559864.339...   \n",
       "4   s05-s10000m  LINESTRING (550091.025 4742710.901, 549838.842...   \n",
       "..          ...                                                ...   \n",
       "68  s69-s10000m  LINESTRING (652338.76 4697682.02, 652197.878 4...   \n",
       "69  s70-s10000m  LINESTRING (642341.15 4697526.723, 641994.147 ...   \n",
       "70  s71-s10000m  LINESTRING (632343.125 4697349.07, 632326.134 ...   \n",
       "71  s72-s10000m  LINESTRING (622345.629 4697147.973, 622000.67 ...   \n",
       "72  s73-s10000m  LINESTRING (612347.04 4696980.054, 612333.116 ...   \n",
       "\n",
       "                          midpoint        date section_id     dfbsec_beg  \\\n",
       "0   POINT (575093.311 4742845.962)  2019-01-25       s001       0.000000   \n",
       "1   POINT (570091.901 4742829.892)  2019-01-25       s001   10000.000000   \n",
       "2   POINT (565090.088 4742799.681)  2019-01-25       s001   10004.642260   \n",
       "3   POINT (555090.879 4742749.082)  2019-01-25       s001   20004.642260   \n",
       "4   POINT (545091.144 4742676.352)  2019-01-25       s001   30004.642260   \n",
       "..                             ...         ...        ...            ...   \n",
       "68  POINT (647339.987 4697611.472)  2019-02-05       s004  274105.324868   \n",
       "69  POINT (637342.194 4697445.552)  2019-02-05       s004  284105.324868   \n",
       "70  POINT (627344.065 4697254.461)  2019-02-05       s004  294105.324868   \n",
       "71  POINT (617346.364 4697062.225)  2019-02-05       s004  304105.324868   \n",
       "72  POINT (607348.392 4696882.591)  2019-02-05       s004  314105.324868   \n",
       "\n",
       "       dfbsec_end  individuals       bss    se_length       se_area  \n",
       "0    10000.000000          1.0  2.000000  10000.00000  4.000000e+07  \n",
       "1    10004.642260          NaN       NaN      4.64226  1.856904e+04  \n",
       "2    20004.642260          0.0  2.000000  10000.00000  4.000000e+07  \n",
       "3    30004.642260          2.0  2.000000  10000.00000  4.000000e+07  \n",
       "4    40004.642260          5.0  2.846154  10000.00000  4.000000e+07  \n",
       "..            ...          ...       ...          ...           ...  \n",
       "68  284105.324868          0.0  2.000000  10000.00000  4.000000e+07  \n",
       "69  294105.324868          0.0  2.814815  10000.00000  4.000000e+07  \n",
       "70  304105.324868          0.0  3.000000  10000.00000  4.000000e+07  \n",
       "71  314105.324868          2.0  3.000000  10000.00000  4.000000e+07  \n",
       "72  324105.324868          4.0  3.000000  10000.00000  4.000000e+07  \n",
       "\n",
       "[73 rows x 11 columns]"
      ]
     },
     "execution_count": 16,
     "metadata": {},
     "output_type": "execute_result"
    }
   ],
   "source": [
    "u_samples.samples"
   ]
  },
  {
   "cell_type": "markdown",
   "id": "a309a6d8-e6aa-42b3-bf55-7bd620b789b7",
   "metadata": {},
   "source": [
    "## Samples - point approach"
   ]
  },
  {
   "cell_type": "markdown",
   "id": "e7a78120-7305-4aea-9707-0b0601dfbd63",
   "metadata": {},
   "source": [
    "### Make a Samples object...\n",
    "If using the point approach, we can make a Samples object from a DataPoints object with the Samples.point() class method."
   ]
  },
  {
   "cell_type": "markdown",
   "id": "6ccdace5-6d87-4f86-88fc-1fa5a7d4f9d7",
   "metadata": {},
   "source": [
    "#### ...from a DataPoints object\n",
    "As the absence lines are made from sections that are made from datapoints, we can match those datapoints to the absences by their distance from the beginning of the absences lines in order to give values to the absences. To do so we must input the sections (sections=u_sections)."
   ]
  },
  {
   "cell_type": "code",
   "execution_count": 17,
   "id": "8e6853cd-2a72-463a-a791-0ed7d039cec1",
   "metadata": {},
   "outputs": [],
   "source": [
    "u_samples = Samples.point(\n",
    "    datapoints=u_trackpoints,\n",
    "    presences=u_presences,\n",
    "    absences=u_absences,\n",
    "    cols=['individuals', 'bss'],\n",
    "    sections=u_sections)"
   ]
  },
  {
   "cell_type": "markdown",
   "id": "1c1c45d6-c38e-47b1-a105-02abada89359",
   "metadata": {},
   "source": [
    "### Access a Samples object's attributes"
   ]
  },
  {
   "cell_type": "code",
   "execution_count": 18,
   "id": "1ec63fa5-9d54-4b6c-84ac-0311bb7695cc",
   "metadata": {},
   "outputs": [
    {
     "data": {
      "text/plain": [
       "'samples-presences-trackpoints-+-absences-a-10000m-5day'"
      ]
     },
     "execution_count": 18,
     "metadata": {},
     "output_type": "execute_result"
    }
   ],
   "source": [
    "u_samples.name"
   ]
  },
  {
   "cell_type": "code",
   "execution_count": 19,
   "id": "5e52d109-c21a-4a59-96b0-85beaaee98c5",
   "metadata": {},
   "outputs": [
    {
     "data": {
      "text/plain": [
       "{'approach': 'point',\n",
       " 'resampled': 'datapoints',\n",
       " 'presences_name': 'presences-trackpoints',\n",
       " 'presences_crs': 'EPSG:32619',\n",
       " 'presences_sp_threshold': 10000,\n",
       " 'presences_tm_threshold': 5,\n",
       " 'presences_tm_unit': 'day',\n",
       " 'absences_name': 'absences-a-10000m-5day',\n",
       " 'absences_var': 'along',\n",
       " 'absences_target': 20,\n",
       " 'absences_crs': 'EPSG:32619',\n",
       " 'absences_sp_threshold': 10000,\n",
       " 'absences_tm_threshold': 5,\n",
       " 'absences_tm_unit': 'day'}"
      ]
     },
     "execution_count": 19,
     "metadata": {},
     "output_type": "execute_result"
    }
   ],
   "source": [
    "u_samples.parameters"
   ]
  },
  {
   "cell_type": "code",
   "execution_count": 20,
   "id": "d96ce8ca-b6d8-4186-a7a4-7436e7a55907",
   "metadata": {},
   "outputs": [
    {
     "data": {
      "text/html": [
       "<div>\n",
       "<style scoped>\n",
       "    .dataframe tbody tr th:only-of-type {\n",
       "        vertical-align: middle;\n",
       "    }\n",
       "\n",
       "    .dataframe tbody tr th {\n",
       "        vertical-align: top;\n",
       "    }\n",
       "\n",
       "    .dataframe thead th {\n",
       "        text-align: right;\n",
       "    }\n",
       "</style>\n",
       "<table border=\"1\" class=\"dataframe\">\n",
       "  <thead>\n",
       "    <tr style=\"text-align: right;\">\n",
       "      <th></th>\n",
       "      <th>point_id</th>\n",
       "      <th>point</th>\n",
       "      <th>date</th>\n",
       "      <th>p-a</th>\n",
       "      <th>individuals</th>\n",
       "      <th>bss</th>\n",
       "      <th>datapoint_id</th>\n",
       "    </tr>\n",
       "  </thead>\n",
       "  <tbody>\n",
       "    <tr>\n",
       "      <th>0</th>\n",
       "      <td>p01</td>\n",
       "      <td>POINT (579166.78 4742872.701)</td>\n",
       "      <td>2019-01-25</td>\n",
       "      <td>1</td>\n",
       "      <td>1.0</td>\n",
       "      <td>2</td>\n",
       "      <td>d0004</td>\n",
       "    </tr>\n",
       "    <tr>\n",
       "      <th>1</th>\n",
       "      <td>p02</td>\n",
       "      <td>POINT (554184.217 4742741.886)</td>\n",
       "      <td>2019-01-25</td>\n",
       "      <td>1</td>\n",
       "      <td>2.0</td>\n",
       "      <td>2</td>\n",
       "      <td>d0068</td>\n",
       "    </tr>\n",
       "    <tr>\n",
       "      <th>2</th>\n",
       "      <td>p04</td>\n",
       "      <td>POINT (520909.741 4714855.058)</td>\n",
       "      <td>2019-02-02</td>\n",
       "      <td>1</td>\n",
       "      <td>1.0</td>\n",
       "      <td>1</td>\n",
       "      <td>d0480</td>\n",
       "    </tr>\n",
       "    <tr>\n",
       "      <th>3</th>\n",
       "      <td>p05</td>\n",
       "      <td>POINT (532548.249 4714899.835)</td>\n",
       "      <td>2019-02-02</td>\n",
       "      <td>1</td>\n",
       "      <td>2.0</td>\n",
       "      <td>1</td>\n",
       "      <td>d0510</td>\n",
       "    </tr>\n",
       "    <tr>\n",
       "      <th>4</th>\n",
       "      <td>p06</td>\n",
       "      <td>POINT (512817.407 4705582.465)</td>\n",
       "      <td>2019-02-02</td>\n",
       "      <td>1</td>\n",
       "      <td>1.0</td>\n",
       "      <td>1</td>\n",
       "      <td>d0910</td>\n",
       "    </tr>\n",
       "    <tr>\n",
       "      <th>5</th>\n",
       "      <td>p08</td>\n",
       "      <td>POINT (654449.136 4716189.584)</td>\n",
       "      <td>2019-02-05</td>\n",
       "      <td>1</td>\n",
       "      <td>5.0</td>\n",
       "      <td>1</td>\n",
       "      <td>d1306</td>\n",
       "    </tr>\n",
       "    <tr>\n",
       "      <th>6</th>\n",
       "      <td>p10</td>\n",
       "      <td>POINT (643532.681 4716066.52)</td>\n",
       "      <td>2019-02-05</td>\n",
       "      <td>1</td>\n",
       "      <td>1.0</td>\n",
       "      <td>2</td>\n",
       "      <td>d1336</td>\n",
       "    </tr>\n",
       "    <tr>\n",
       "      <th>7</th>\n",
       "      <td>p11</td>\n",
       "      <td>POINT (629124.489 4706545.106)</td>\n",
       "      <td>2019-02-05</td>\n",
       "      <td>1</td>\n",
       "      <td>3.0</td>\n",
       "      <td>2</td>\n",
       "      <td>d1527</td>\n",
       "    </tr>\n",
       "    <tr>\n",
       "      <th>8</th>\n",
       "      <td>p12</td>\n",
       "      <td>POINT (620560.818 4697116.949)</td>\n",
       "      <td>2019-02-05</td>\n",
       "      <td>1</td>\n",
       "      <td>2.0</td>\n",
       "      <td>3</td>\n",
       "      <td>d1715</td>\n",
       "    </tr>\n",
       "    <tr>\n",
       "      <th>9</th>\n",
       "      <td>a01</td>\n",
       "      <td>POINT (533058.673 4742626.96)</td>\n",
       "      <td>2019-01-25</td>\n",
       "      <td>0</td>\n",
       "      <td>NaN</td>\n",
       "      <td>3</td>\n",
       "      <td>d0121</td>\n",
       "    </tr>\n",
       "    <tr>\n",
       "      <th>10</th>\n",
       "      <td>a17</td>\n",
       "      <td>POINT (560032.987 4733536.309)</td>\n",
       "      <td>2019-03-03</td>\n",
       "      <td>0</td>\n",
       "      <td>NaN</td>\n",
       "      <td>3</td>\n",
       "      <td>d0282</td>\n",
       "    </tr>\n",
       "    <tr>\n",
       "      <th>11</th>\n",
       "      <td>a18</td>\n",
       "      <td>POINT (539068.599 4733437.498)</td>\n",
       "      <td>2019-03-03</td>\n",
       "      <td>0</td>\n",
       "      <td>NaN</td>\n",
       "      <td>3</td>\n",
       "      <td>d0331</td>\n",
       "    </tr>\n",
       "    <tr>\n",
       "      <th>12</th>\n",
       "      <td>a04</td>\n",
       "      <td>POINT (568242.422 4705904.874)</td>\n",
       "      <td>2019-02-02</td>\n",
       "      <td>0</td>\n",
       "      <td>NaN</td>\n",
       "      <td>2</td>\n",
       "      <td>d0770</td>\n",
       "    </tr>\n",
       "    <tr>\n",
       "      <th>13</th>\n",
       "      <td>a05</td>\n",
       "      <td>POINT (538421.134 4705732.128)</td>\n",
       "      <td>2019-02-02</td>\n",
       "      <td>0</td>\n",
       "      <td>NaN</td>\n",
       "      <td>2</td>\n",
       "      <td>d0846</td>\n",
       "    </tr>\n",
       "    <tr>\n",
       "      <th>14</th>\n",
       "      <td>a08</td>\n",
       "      <td>POINT (622009.648 4734186.504)</td>\n",
       "      <td>2019-02-05</td>\n",
       "      <td>0</td>\n",
       "      <td>NaN</td>\n",
       "      <td>0</td>\n",
       "      <td>d1075</td>\n",
       "    </tr>\n",
       "    <tr>\n",
       "      <th>15</th>\n",
       "      <td>a10</td>\n",
       "      <td>POINT (634447.936 4725160.466)</td>\n",
       "      <td>2019-02-05</td>\n",
       "      <td>0</td>\n",
       "      <td>NaN</td>\n",
       "      <td>0</td>\n",
       "      <td>d1225</td>\n",
       "    </tr>\n",
       "    <tr>\n",
       "      <th>16</th>\n",
       "      <td>a11</td>\n",
       "      <td>POINT (618391.053 4715610.286)</td>\n",
       "      <td>2019-02-05</td>\n",
       "      <td>0</td>\n",
       "      <td>NaN</td>\n",
       "      <td>2</td>\n",
       "      <td>d1404</td>\n",
       "    </tr>\n",
       "    <tr>\n",
       "      <th>17</th>\n",
       "      <td>a12</td>\n",
       "      <td>POINT (608019.195 4715404.611)</td>\n",
       "      <td>2019-02-05</td>\n",
       "      <td>0</td>\n",
       "      <td>NaN</td>\n",
       "      <td>2</td>\n",
       "      <td>d1432</td>\n",
       "    </tr>\n",
       "  </tbody>\n",
       "</table>\n",
       "</div>"
      ],
      "text/plain": [
       "   point_id                           point       date  p-a  individuals  bss  \\\n",
       "0       p01   POINT (579166.78 4742872.701) 2019-01-25    1          1.0    2   \n",
       "1       p02  POINT (554184.217 4742741.886) 2019-01-25    1          2.0    2   \n",
       "2       p04  POINT (520909.741 4714855.058) 2019-02-02    1          1.0    1   \n",
       "3       p05  POINT (532548.249 4714899.835) 2019-02-02    1          2.0    1   \n",
       "4       p06  POINT (512817.407 4705582.465) 2019-02-02    1          1.0    1   \n",
       "5       p08  POINT (654449.136 4716189.584) 2019-02-05    1          5.0    1   \n",
       "6       p10   POINT (643532.681 4716066.52) 2019-02-05    1          1.0    2   \n",
       "7       p11  POINT (629124.489 4706545.106) 2019-02-05    1          3.0    2   \n",
       "8       p12  POINT (620560.818 4697116.949) 2019-02-05    1          2.0    3   \n",
       "9       a01   POINT (533058.673 4742626.96) 2019-01-25    0          NaN    3   \n",
       "10      a17  POINT (560032.987 4733536.309) 2019-03-03    0          NaN    3   \n",
       "11      a18  POINT (539068.599 4733437.498) 2019-03-03    0          NaN    3   \n",
       "12      a04  POINT (568242.422 4705904.874) 2019-02-02    0          NaN    2   \n",
       "13      a05  POINT (538421.134 4705732.128) 2019-02-02    0          NaN    2   \n",
       "14      a08  POINT (622009.648 4734186.504) 2019-02-05    0          NaN    0   \n",
       "15      a10  POINT (634447.936 4725160.466) 2019-02-05    0          NaN    0   \n",
       "16      a11  POINT (618391.053 4715610.286) 2019-02-05    0          NaN    2   \n",
       "17      a12  POINT (608019.195 4715404.611) 2019-02-05    0          NaN    2   \n",
       "\n",
       "   datapoint_id  \n",
       "0         d0004  \n",
       "1         d0068  \n",
       "2         d0480  \n",
       "3         d0510  \n",
       "4         d0910  \n",
       "5         d1306  \n",
       "6         d1336  \n",
       "7         d1527  \n",
       "8         d1715  \n",
       "9         d0121  \n",
       "10        d0282  \n",
       "11        d0331  \n",
       "12        d0770  \n",
       "13        d0846  \n",
       "14        d1075  \n",
       "15        d1225  \n",
       "16        d1404  \n",
       "17        d1432  "
      ]
     },
     "execution_count": 20,
     "metadata": {},
     "output_type": "execute_result"
    }
   ],
   "source": [
    "u_samples.samples"
   ]
  }
 ],
 "metadata": {
  "kernelspec": {
   "display_name": "Python 3 (ipykernel)",
   "language": "python",
   "name": "python3"
  },
  "language_info": {
   "codemirror_mode": {
    "name": "ipython",
    "version": 3
   },
   "file_extension": ".py",
   "mimetype": "text/x-python",
   "name": "python",
   "nbconvert_exporter": "python",
   "pygments_lexer": "ipython3",
   "version": "3.12.3"
  }
 },
 "nbformat": 4,
 "nbformat_minor": 5
}
