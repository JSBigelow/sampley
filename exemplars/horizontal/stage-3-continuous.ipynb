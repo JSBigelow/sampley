{
 "cells": [
  {
   "cell_type": "markdown",
   "id": "ec003fca-7196-42d4-80a0-f445f780f912",
   "metadata": {},
   "source": [
    "# sampley exemplar: Stage 3 (continuous)\n",
    "Before going through this exemplar, please consult the Introduction to sampley exemplars (```intro.ipynb```).\n",
    "<br>This exemplar illustrates the classes that can be made in Stage 3, their class methods, their attributes, and their methods.\n",
    "<br>It differs from the Stage 3 exemplar in that it uses a single input file containing continuous datapoints (i.e., datapoints recorded at frequent, regular intervals and from which survey tracks can be made). If using the segment or point approach, having continuous datapoints allows for certain procedures to be applied that may be more efficient and accurate."
   ]
  },
  {
   "cell_type": "markdown",
   "id": "ae78d021-9f0f-4c9d-8c65-b3021e8e9ae2",
   "metadata": {},
   "source": [
    "## Setup"
   ]
  },
  {
   "cell_type": "markdown",
   "id": "430dfa36-8867-4b37-bbf7-b333dd42965d",
   "metadata": {},
   "source": [
    "### Import the package"
   ]
  },
  {
   "cell_type": "code",
   "execution_count": 1,
   "id": "a24e1fae-a017-4049-bb5e-9180e9ba3613",
   "metadata": {},
   "outputs": [],
   "source": [
    "from sampley import *"
   ]
  },
  {
   "cell_type": "markdown",
   "id": "aa0b236f-a36f-4acb-b140-ae3741a0c77b",
   "metadata": {},
   "source": [
    "### Set the input folder\n",
    "To run this exemplar, download the mock data files, put them in a folder, and set the path to the folder below."
   ]
  },
  {
   "cell_type": "code",
   "execution_count": 2,
   "id": "009556a4-6429-4b0d-a225-3e21ae03d046",
   "metadata": {},
   "outputs": [],
   "source": [
    "input_folder = './input/'"
   ]
  },
  {
   "cell_type": "markdown",
   "id": "55a87426-e2a9-4816-bc7b-c77d375fa08f",
   "metadata": {},
   "source": [
    "### Set the output folder\n",
    "To run this exemplar, make a folder to save the outputs in and set the path to the folder below."
   ]
  },
  {
   "cell_type": "code",
   "execution_count": 3,
   "id": "299d50e6-0ade-49e7-9455-91a6a5f99a08",
   "metadata": {},
   "outputs": [],
   "source": [
    "output_folder = './output/'"
   ]
  },
  {
   "cell_type": "markdown",
   "id": "5d829247-cdc2-451e-8cc6-05b2aef0afd5",
   "metadata": {},
   "source": [
    "### Make DataPoints, Sections, and delimiters (Stages 1 and 2)\n",
    "Before making any objects in Stage 3, we, of course, have to conduct Stages 1 and 2. For the sake of this exemplar, we make one ```Sections``` and one ```DataPoints``` object below that are then used to make all the subsequent delimiters. See the Stage 1 and 2 exemplars and the User Manual for more details on Stages 1 and 2."
   ]
  },
  {
   "cell_type": "code",
   "execution_count": 4,
   "id": "f89e507b-6b89-483e-ae06-7f751cded766",
   "metadata": {},
   "outputs": [
    {
     "name": "stdout",
     "output_type": "stream",
     "text": [
      "Opening file...\n",
      "Success: file successfully input.\n",
      "Parsing x and y (lon/lat) coordinates...\n",
      "Success: x and y (lon/lat) coordinates successfully parsed.\n",
      "Reprojecting CRS...\n",
      "Success: reprojected to CRS 'EPSG:32619'\n",
      "Parsing datetimes...\n",
      "Success: the column 'datetime' successfully reformatted to datetimes.\n",
      "Success: the timezone of column 'datetime' successfully set to 'UTC-05:00'.\n",
      "Converting timezone...\n",
      "Note: conversion of column 'datetime' to timezone 'UTC-05:00' is not necessary as it is already in timezone 'UTC-05:00'.\n",
      "Success: datapoint IDs successfully generated.\n"
     ]
    }
   ],
   "source": [
    "u_trackpoints = DataPoints.from_file(\n",
    "    filepath=input_folder+'trackpoints.csv',\n",
    "    x_col='lon',\n",
    "    y_col='lat',\n",
    "    crs_input='EPSG:4326',\n",
    "    crs_working='EPSG:32619',\n",
    "    datetime_col='datetime',\n",
    "    tz_input='UTC-05:00',\n",
    "    tz_working='UTC-05:00',\n",
    "    section_id_col='section_id'  \n",
    ")"
   ]
  },
  {
   "cell_type": "code",
   "execution_count": 5,
   "id": "4f1e4511-0c39-4a24-b712-10f619115de0",
   "metadata": {},
   "outputs": [],
   "source": [
    "u_sections = Sections.from_datapoints(datapoints=u_trackpoints)"
   ]
  },
  {
   "cell_type": "code",
   "execution_count": 6,
   "id": "72fc2fff-422e-44ed-903b-b4474879457f",
   "metadata": {},
   "outputs": [],
   "source": [
    "u_segments = Segments.delimit(\n",
    "    sections=u_sections,\n",
    "    var='simple',\n",
    "    target=10000,\n",
    "    randomise=True)"
   ]
  },
  {
   "cell_type": "code",
   "execution_count": 8,
   "id": "822080b5-9e9d-4ad8-8489-8330e4ba4f38",
   "metadata": {},
   "outputs": [
    {
     "name": "stdout",
     "output_type": "stream",
     "text": [
      "Conducting spatiotemporal thinning...\n",
      "Thinning complete.\n"
     ]
    }
   ],
   "source": [
    "u_presences = Presences.delimit(\n",
    "    datapoints=u_trackpoints,\n",
    "    presence_col='individuals')\n",
    "u_presences.thin(\n",
    "    sp_threshold=10000,\n",
    "    tm_threshold=5,\n",
    "    tm_unit='day')"
   ]
  },
  {
   "cell_type": "code",
   "execution_count": 9,
   "id": "6941ca46-e460-4c75-8a12-5d4db2f7c18f",
   "metadata": {},
   "outputs": [
    {
     "name": "stdout",
     "output_type": "stream",
     "text": [
      "Note: absence lines to be generated with a temporal threshold of 5 day(s).\n"
     ]
    }
   ],
   "source": [
    "u_absencelines = AbsenceLines.delimit(\n",
    "    sections=u_sections,\n",
    "    presences=u_presences,\n",
    "    sp_threshold=10000,\n",
    "    tm_threshold=5,\n",
    "    tm_unit='day',\n",
    ")"
   ]
  },
  {
   "cell_type": "code",
   "execution_count": 10,
   "id": "ef49694e-2150-45e6-a3d4-802f42925f8a",
   "metadata": {},
   "outputs": [
    {
     "name": "stdout",
     "output_type": "stream",
     "text": [
      "Conducting spatiotemporal thinning...\n",
      "Thinning complete.\n"
     ]
    }
   ],
   "source": [
    "u_absences = Absences.delimit(\n",
    "    absencelines=u_absencelines,\n",
    "    var='along',\n",
    "    target=20,\n",
    "    dfls=None)\n",
    "u_absences.thin(\n",
    "    sp_threshold=10000,\n",
    "    tm_threshold=5,\n",
    "    tm_unit='day',\n",
    "    target=9)"
   ]
  },
  {
   "cell_type": "markdown",
   "id": "f2ea8704-1152-488f-802f-8daf3723e7db",
   "metadata": {},
   "source": [
    "## Samples - segment approach"
   ]
  },
  {
   "cell_type": "markdown",
   "id": "beecfd40-dad9-4ab6-affe-194ce1b2a827",
   "metadata": {},
   "source": [
    "### Make a ```Samples``` object...\n",
    "If using the segment approach, we can make a ```Samples``` object from a ```DataPoints``` object with the ```Samples.segment()``` class method.\n",
    "<br>We can also make a ```Samples``` object with measures of survey effort from a ```Segments``` object with the ```Samples.segment_se()``` class method.\n",
    "<br>Additionally, we can merge multiple ```Samples``` objects into a single new ```Samples``` object with the ```Samples.merge()``` class method."
   ]
  },
  {
   "cell_type": "markdown",
   "id": "70a982dd-4129-483c-ac5c-530c6631888c",
   "metadata": {},
   "source": [
    "#### ...from a ```DataPoints``` object\n",
    "As the segments are made from sections that are made from datapoints, we can match those datapoints to the segments by their distance from the beginning of the section (```how='dfb'```), rather than by absolute distance to the midpoint or line. This is more accurate and faster."
   ]
  },
  {
   "cell_type": "code",
   "execution_count": 11,
   "id": "d4727bed-c0ee-4c82-9bc6-afa8aeee46c9",
   "metadata": {},
   "outputs": [],
   "source": [
    "u_samples_trackpoints = Samples.segment(\n",
    "    datapoints=u_trackpoints,\n",
    "    segments=u_segments,\n",
    "    cols={'individuals': 'sum', 'bss': 'mean'},\n",
    "    how='dfb')"
   ]
  },
  {
   "cell_type": "markdown",
   "id": "adc1f272-8013-4d37-af0f-142676b80c02",
   "metadata": {},
   "source": [
    "#### ...from a ```Sections``` object"
   ]
  },
  {
   "cell_type": "code",
   "execution_count": 12,
   "id": "9a3be325-83f8-49f3-81dc-8cec5891f10f",
   "metadata": {},
   "outputs": [],
   "source": [
    "u_samples_effort = Samples.segment_se(\n",
    "    segments=u_segments,\n",
    "    esw=2000)"
   ]
  },
  {
   "cell_type": "markdown",
   "id": "b94fdda7-9c12-4d98-a601-902b61e71d18",
   "metadata": {},
   "source": [
    "#### ...by merging multiple ```Samples``` objects"
   ]
  },
  {
   "cell_type": "code",
   "execution_count": 13,
   "id": "c205eb2e-2916-4258-953c-5901b67bac9d",
   "metadata": {},
   "outputs": [
    {
     "name": "stdout",
     "output_type": "stream",
     "text": [
      "\n",
      "Note: samples generated with the segment approach\n"
     ]
    }
   ],
   "source": [
    "u_samples = Samples.merge(\n",
    "    sightings=u_samples_trackpoints,\n",
    "    effort=u_samples_effort)"
   ]
  },
  {
   "cell_type": "markdown",
   "id": "5baa10f1-287a-471e-9dc9-8ae31294c9f6",
   "metadata": {},
   "source": [
    "### Access a ```Samples``` object's attributes\n",
    "A ```Samples``` object, regardless of how it was made, will have three attributes (```name```, ```parameters```, and ```samples```) that we can access as follows."
   ]
  },
  {
   "cell_type": "code",
   "execution_count": 14,
   "id": "758fe29d-0a26-4930-87dd-b1c19287f5f0",
   "metadata": {},
   "outputs": [
    {
     "data": {
      "text/plain": [
       "'samples-sightings+effort-x-segments-s10000m'"
      ]
     },
     "execution_count": 14,
     "metadata": {},
     "output_type": "execute_result"
    }
   ],
   "source": [
    "u_samples.name"
   ]
  },
  {
   "cell_type": "code",
   "execution_count": 15,
   "id": "16463acd-0e8c-4173-b585-86f721c781fe",
   "metadata": {},
   "outputs": [
    {
     "data": {
      "text/plain": [
       "{'names': 'samples-datapoints-trackpoints-x-segments-s10000m+samples-sections-trackpoints-x-segments-s10000m',\n",
       " 'approach': 'segment',\n",
       " 'resampled': 'datapoints; effort',\n",
       " 'datapoints_name': 'datapoints-trackpoints; nan',\n",
       " 'datapoints_filepath': './input/trackpoints.csv; nan',\n",
       " 'datapoints_crs': 'EPSG:32619; nan',\n",
       " 'datapoints_tz': 'UTC-05:00; nan',\n",
       " 'datapoints_data_cols': 'section_id, individuals, bss; nan',\n",
       " 'segments_name': 'segments-s10000m',\n",
       " 'sections_name': 'sections-trackpoints',\n",
       " 'segments_crs': 'EPSG:32619',\n",
       " 'segments_var': 'simple',\n",
       " 'segments_randomise': 'True',\n",
       " 'segments_target': '10000',\n",
       " 'segments_unit': 'metre',\n",
       " 'cols': \"{'individuals': 'sum', 'bss': 'mean'}; nan\",\n",
       " 'effort_esw': 'nan; 2000.0',\n",
       " 'effort_audf': 'nan; None',\n",
       " 'effort_euc-geo': 'nan; euclidean'}"
      ]
     },
     "execution_count": 15,
     "metadata": {},
     "output_type": "execute_result"
    }
   ],
   "source": [
    "u_samples.parameters"
   ]
  },
  {
   "cell_type": "code",
   "execution_count": 16,
   "id": "7d0c3434-8d76-46c6-a22e-0a10a085794a",
   "metadata": {},
   "outputs": [
    {
     "data": {
      "text/html": [
       "<div>\n",
       "<style scoped>\n",
       "    .dataframe tbody tr th:only-of-type {\n",
       "        vertical-align: middle;\n",
       "    }\n",
       "\n",
       "    .dataframe tbody tr th {\n",
       "        vertical-align: top;\n",
       "    }\n",
       "\n",
       "    .dataframe thead th {\n",
       "        text-align: right;\n",
       "    }\n",
       "</style>\n",
       "<table border=\"1\" class=\"dataframe\">\n",
       "  <thead>\n",
       "    <tr style=\"text-align: right;\">\n",
       "      <th></th>\n",
       "      <th>segment_id</th>\n",
       "      <th>line</th>\n",
       "      <th>midpoint</th>\n",
       "      <th>date</th>\n",
       "      <th>section_id</th>\n",
       "      <th>dfbsec_beg</th>\n",
       "      <th>dfbsec_end</th>\n",
       "      <th>individuals</th>\n",
       "      <th>bss</th>\n",
       "      <th>se_length</th>\n",
       "      <th>se_area</th>\n",
       "    </tr>\n",
       "  </thead>\n",
       "  <tbody>\n",
       "    <tr>\n",
       "      <th>0</th>\n",
       "      <td>s01-s10000m</td>\n",
       "      <td>LINESTRING (580092.757 4742883.408, 579997.135...</td>\n",
       "      <td>POINT (575093.311 4742845.962)</td>\n",
       "      <td>2019-01-25</td>\n",
       "      <td>s001</td>\n",
       "      <td>0.000000</td>\n",
       "      <td>10000.000000</td>\n",
       "      <td>1.0</td>\n",
       "      <td>2.000000</td>\n",
       "      <td>10000.00000</td>\n",
       "      <td>4.000000e+07</td>\n",
       "    </tr>\n",
       "    <tr>\n",
       "      <th>1</th>\n",
       "      <td>s02-s10000m</td>\n",
       "      <td>LINESTRING (570094.222 4742829.916, 570089.58 ...</td>\n",
       "      <td>POINT (570091.901 4742829.892)</td>\n",
       "      <td>2019-01-25</td>\n",
       "      <td>s001</td>\n",
       "      <td>10000.000000</td>\n",
       "      <td>10004.642260</td>\n",
       "      <td>NaN</td>\n",
       "      <td>NaN</td>\n",
       "      <td>4.64226</td>\n",
       "      <td>1.856904e+04</td>\n",
       "    </tr>\n",
       "    <tr>\n",
       "      <th>2</th>\n",
       "      <td>s03-s10000m</td>\n",
       "      <td>LINESTRING (570089.58 4742829.868, 569917.081 ...</td>\n",
       "      <td>POINT (565090.088 4742799.681)</td>\n",
       "      <td>2019-01-25</td>\n",
       "      <td>s001</td>\n",
       "      <td>10004.642260</td>\n",
       "      <td>20004.642260</td>\n",
       "      <td>0.0</td>\n",
       "      <td>2.000000</td>\n",
       "      <td>10000.00000</td>\n",
       "      <td>4.000000e+07</td>\n",
       "    </tr>\n",
       "    <tr>\n",
       "      <th>3</th>\n",
       "      <td>s04-s10000m</td>\n",
       "      <td>LINESTRING (560090.506 4742773.123, 559864.339...</td>\n",
       "      <td>POINT (555090.879 4742749.082)</td>\n",
       "      <td>2019-01-25</td>\n",
       "      <td>s001</td>\n",
       "      <td>20004.642260</td>\n",
       "      <td>30004.642260</td>\n",
       "      <td>2.0</td>\n",
       "      <td>2.000000</td>\n",
       "      <td>10000.00000</td>\n",
       "      <td>4.000000e+07</td>\n",
       "    </tr>\n",
       "    <tr>\n",
       "      <th>4</th>\n",
       "      <td>s05-s10000m</td>\n",
       "      <td>LINESTRING (550091.025 4742710.901, 549838.842...</td>\n",
       "      <td>POINT (545091.144 4742676.352)</td>\n",
       "      <td>2019-01-25</td>\n",
       "      <td>s001</td>\n",
       "      <td>30004.642260</td>\n",
       "      <td>40004.642260</td>\n",
       "      <td>5.0</td>\n",
       "      <td>2.846154</td>\n",
       "      <td>10000.00000</td>\n",
       "      <td>4.000000e+07</td>\n",
       "    </tr>\n",
       "    <tr>\n",
       "      <th>...</th>\n",
       "      <td>...</td>\n",
       "      <td>...</td>\n",
       "      <td>...</td>\n",
       "      <td>...</td>\n",
       "      <td>...</td>\n",
       "      <td>...</td>\n",
       "      <td>...</td>\n",
       "      <td>...</td>\n",
       "      <td>...</td>\n",
       "      <td>...</td>\n",
       "      <td>...</td>\n",
       "    </tr>\n",
       "    <tr>\n",
       "      <th>68</th>\n",
       "      <td>s69-s10000m</td>\n",
       "      <td>LINESTRING (652338.76 4697682.02, 652197.878 4...</td>\n",
       "      <td>POINT (647339.987 4697611.472)</td>\n",
       "      <td>2019-02-05</td>\n",
       "      <td>s004</td>\n",
       "      <td>274105.324868</td>\n",
       "      <td>284105.324868</td>\n",
       "      <td>0.0</td>\n",
       "      <td>2.000000</td>\n",
       "      <td>10000.00000</td>\n",
       "      <td>4.000000e+07</td>\n",
       "    </tr>\n",
       "    <tr>\n",
       "      <th>69</th>\n",
       "      <td>s70-s10000m</td>\n",
       "      <td>LINESTRING (642341.15 4697526.723, 641994.147 ...</td>\n",
       "      <td>POINT (637342.194 4697445.552)</td>\n",
       "      <td>2019-02-05</td>\n",
       "      <td>s004</td>\n",
       "      <td>284105.324868</td>\n",
       "      <td>294105.324868</td>\n",
       "      <td>0.0</td>\n",
       "      <td>2.814815</td>\n",
       "      <td>10000.00000</td>\n",
       "      <td>4.000000e+07</td>\n",
       "    </tr>\n",
       "    <tr>\n",
       "      <th>70</th>\n",
       "      <td>s71-s10000m</td>\n",
       "      <td>LINESTRING (632343.125 4697349.07, 632326.134 ...</td>\n",
       "      <td>POINT (627344.065 4697254.461)</td>\n",
       "      <td>2019-02-05</td>\n",
       "      <td>s004</td>\n",
       "      <td>294105.324868</td>\n",
       "      <td>304105.324868</td>\n",
       "      <td>0.0</td>\n",
       "      <td>3.000000</td>\n",
       "      <td>10000.00000</td>\n",
       "      <td>4.000000e+07</td>\n",
       "    </tr>\n",
       "    <tr>\n",
       "      <th>71</th>\n",
       "      <td>s72-s10000m</td>\n",
       "      <td>LINESTRING (622345.629 4697147.973, 622000.67 ...</td>\n",
       "      <td>POINT (617346.364 4697062.225)</td>\n",
       "      <td>2019-02-05</td>\n",
       "      <td>s004</td>\n",
       "      <td>304105.324868</td>\n",
       "      <td>314105.324868</td>\n",
       "      <td>2.0</td>\n",
       "      <td>3.000000</td>\n",
       "      <td>10000.00000</td>\n",
       "      <td>4.000000e+07</td>\n",
       "    </tr>\n",
       "    <tr>\n",
       "      <th>72</th>\n",
       "      <td>s73-s10000m</td>\n",
       "      <td>LINESTRING (612347.04 4696980.054, 612333.116 ...</td>\n",
       "      <td>POINT (607348.392 4696882.591)</td>\n",
       "      <td>2019-02-05</td>\n",
       "      <td>s004</td>\n",
       "      <td>314105.324868</td>\n",
       "      <td>324105.324868</td>\n",
       "      <td>4.0</td>\n",
       "      <td>3.000000</td>\n",
       "      <td>10000.00000</td>\n",
       "      <td>4.000000e+07</td>\n",
       "    </tr>\n",
       "  </tbody>\n",
       "</table>\n",
       "<p>73 rows × 11 columns</p>\n",
       "</div>"
      ],
      "text/plain": [
       "     segment_id                                               line  \\\n",
       "0   s01-s10000m  LINESTRING (580092.757 4742883.408, 579997.135...   \n",
       "1   s02-s10000m  LINESTRING (570094.222 4742829.916, 570089.58 ...   \n",
       "2   s03-s10000m  LINESTRING (570089.58 4742829.868, 569917.081 ...   \n",
       "3   s04-s10000m  LINESTRING (560090.506 4742773.123, 559864.339...   \n",
       "4   s05-s10000m  LINESTRING (550091.025 4742710.901, 549838.842...   \n",
       "..          ...                                                ...   \n",
       "68  s69-s10000m  LINESTRING (652338.76 4697682.02, 652197.878 4...   \n",
       "69  s70-s10000m  LINESTRING (642341.15 4697526.723, 641994.147 ...   \n",
       "70  s71-s10000m  LINESTRING (632343.125 4697349.07, 632326.134 ...   \n",
       "71  s72-s10000m  LINESTRING (622345.629 4697147.973, 622000.67 ...   \n",
       "72  s73-s10000m  LINESTRING (612347.04 4696980.054, 612333.116 ...   \n",
       "\n",
       "                          midpoint        date section_id     dfbsec_beg  \\\n",
       "0   POINT (575093.311 4742845.962)  2019-01-25       s001       0.000000   \n",
       "1   POINT (570091.901 4742829.892)  2019-01-25       s001   10000.000000   \n",
       "2   POINT (565090.088 4742799.681)  2019-01-25       s001   10004.642260   \n",
       "3   POINT (555090.879 4742749.082)  2019-01-25       s001   20004.642260   \n",
       "4   POINT (545091.144 4742676.352)  2019-01-25       s001   30004.642260   \n",
       "..                             ...         ...        ...            ...   \n",
       "68  POINT (647339.987 4697611.472)  2019-02-05       s004  274105.324868   \n",
       "69  POINT (637342.194 4697445.552)  2019-02-05       s004  284105.324868   \n",
       "70  POINT (627344.065 4697254.461)  2019-02-05       s004  294105.324868   \n",
       "71  POINT (617346.364 4697062.225)  2019-02-05       s004  304105.324868   \n",
       "72  POINT (607348.392 4696882.591)  2019-02-05       s004  314105.324868   \n",
       "\n",
       "       dfbsec_end  individuals       bss    se_length       se_area  \n",
       "0    10000.000000          1.0  2.000000  10000.00000  4.000000e+07  \n",
       "1    10004.642260          NaN       NaN      4.64226  1.856904e+04  \n",
       "2    20004.642260          0.0  2.000000  10000.00000  4.000000e+07  \n",
       "3    30004.642260          2.0  2.000000  10000.00000  4.000000e+07  \n",
       "4    40004.642260          5.0  2.846154  10000.00000  4.000000e+07  \n",
       "..            ...          ...       ...          ...           ...  \n",
       "68  284105.324868          0.0  2.000000  10000.00000  4.000000e+07  \n",
       "69  294105.324868          0.0  2.814815  10000.00000  4.000000e+07  \n",
       "70  304105.324868          0.0  3.000000  10000.00000  4.000000e+07  \n",
       "71  314105.324868          2.0  3.000000  10000.00000  4.000000e+07  \n",
       "72  324105.324868          4.0  3.000000  10000.00000  4.000000e+07  \n",
       "\n",
       "[73 rows x 11 columns]"
      ]
     },
     "execution_count": 16,
     "metadata": {},
     "output_type": "execute_result"
    }
   ],
   "source": [
    "u_samples.samples"
   ]
  },
  {
   "cell_type": "markdown",
   "id": "ec65a68e-3eb4-4654-bdd7-b10f7e3e275e",
   "metadata": {},
   "source": [
    "### Save a ```Samples``` object\n",
    "```Samples``` objects have an inbuilt ```save``` method to save the samples as a CSV or GPKG."
   ]
  },
  {
   "cell_type": "code",
   "execution_count": 17,
   "id": "09a0cc86-79ba-403e-98d7-f62ba3f8e0b9",
   "metadata": {},
   "outputs": [],
   "source": [
    "u_samples.save(\n",
    "    folder=output_folder,\n",
    "    filetype='gpkg'\n",
    ")"
   ]
  },
  {
   "cell_type": "markdown",
   "id": "a309a6d8-e6aa-42b3-bf55-7bd620b789b7",
   "metadata": {},
   "source": [
    "## Samples - point approach"
   ]
  },
  {
   "cell_type": "markdown",
   "id": "d09ff3d1-0015-4c1d-a4b7-dc9011ac89f4",
   "metadata": {},
   "source": [
    "### Make a ```Samples``` object...\n",
    "If using the point approach, we can make a ```Samples``` object from a ```DataPoints``` object with the ```Samples.point()``` class method."
   ]
  },
  {
   "cell_type": "markdown",
   "id": "6ccdace5-6d87-4f86-88fc-1fa5a7d4f9d7",
   "metadata": {},
   "source": [
    "#### ...from a ```DataPoints``` object\n",
    "As the absence lines are made from sections that are made from datapoints, we can match those datapoints to the absences by their distance from the beginning of the absences lines in order to give values to the absences. To do so we must input the sections (```sections=u_sections```)."
   ]
  },
  {
   "cell_type": "code",
   "execution_count": 18,
   "id": "8e6853cd-2a72-463a-a791-0ed7d039cec1",
   "metadata": {},
   "outputs": [],
   "source": [
    "u_samples = Samples.point(\n",
    "    datapoints=u_trackpoints,\n",
    "    presences=u_presences,\n",
    "    absences=u_absences,\n",
    "    cols=['individuals', 'bss'],\n",
    "    sections=u_sections)"
   ]
  },
  {
   "cell_type": "markdown",
   "id": "98f9f29a-5c30-4a32-a185-0d19053022f7",
   "metadata": {},
   "source": [
    "### Access a ```Samples``` object's attributes\n",
    "A ```Samples``` object, regardless of how it was made, will have three attributes (```name```, ```parameters```, and ```samples```) that we can access as follows."
   ]
  },
  {
   "cell_type": "code",
   "execution_count": 19,
   "id": "515bf028-9e0e-49ee-b057-a243d3047139",
   "metadata": {},
   "outputs": [
    {
     "data": {
      "text/plain": [
       "'samples-presences-trackpoints-+-absences-a-10000m-5day'"
      ]
     },
     "execution_count": 19,
     "metadata": {},
     "output_type": "execute_result"
    }
   ],
   "source": [
    "u_samples.name"
   ]
  },
  {
   "cell_type": "code",
   "execution_count": 20,
   "id": "35f53f21-9c85-4abf-b952-3e7ad0f1821a",
   "metadata": {},
   "outputs": [
    {
     "data": {
      "text/plain": [
       "{'approach': 'point',\n",
       " 'resampled': 'datapoints',\n",
       " 'presences_name': 'presences-trackpoints',\n",
       " 'presences_crs': 'EPSG:32619',\n",
       " 'presences_sp_threshold': 10000,\n",
       " 'presences_tm_threshold': 5,\n",
       " 'presences_tm_unit': 'day',\n",
       " 'absences_name': 'absences-a-10000m-5day',\n",
       " 'absences_var': 'along',\n",
       " 'absences_target': 20,\n",
       " 'absences_crs': 'EPSG:32619',\n",
       " 'absences_sp_threshold': 10000,\n",
       " 'absences_tm_threshold': 5,\n",
       " 'absences_tm_unit': 'day'}"
      ]
     },
     "execution_count": 20,
     "metadata": {},
     "output_type": "execute_result"
    }
   ],
   "source": [
    "u_samples.parameters"
   ]
  },
  {
   "cell_type": "code",
   "execution_count": 21,
   "id": "fac5a6a2-b45f-4ee1-885a-4f08dd14d392",
   "metadata": {},
   "outputs": [
    {
     "data": {
      "text/html": [
       "<div>\n",
       "<style scoped>\n",
       "    .dataframe tbody tr th:only-of-type {\n",
       "        vertical-align: middle;\n",
       "    }\n",
       "\n",
       "    .dataframe tbody tr th {\n",
       "        vertical-align: top;\n",
       "    }\n",
       "\n",
       "    .dataframe thead th {\n",
       "        text-align: right;\n",
       "    }\n",
       "</style>\n",
       "<table border=\"1\" class=\"dataframe\">\n",
       "  <thead>\n",
       "    <tr style=\"text-align: right;\">\n",
       "      <th></th>\n",
       "      <th>point_id</th>\n",
       "      <th>point</th>\n",
       "      <th>date</th>\n",
       "      <th>p-a</th>\n",
       "      <th>individuals</th>\n",
       "      <th>bss</th>\n",
       "      <th>datapoint_id</th>\n",
       "    </tr>\n",
       "  </thead>\n",
       "  <tbody>\n",
       "    <tr>\n",
       "      <th>0</th>\n",
       "      <td>p01</td>\n",
       "      <td>POINT (579166.78 4742872.701)</td>\n",
       "      <td>2019-01-25</td>\n",
       "      <td>1</td>\n",
       "      <td>1.0</td>\n",
       "      <td>2</td>\n",
       "      <td>d0004</td>\n",
       "    </tr>\n",
       "    <tr>\n",
       "      <th>1</th>\n",
       "      <td>p02</td>\n",
       "      <td>POINT (554184.217 4742741.886)</td>\n",
       "      <td>2019-01-25</td>\n",
       "      <td>1</td>\n",
       "      <td>2.0</td>\n",
       "      <td>2</td>\n",
       "      <td>d0068</td>\n",
       "    </tr>\n",
       "    <tr>\n",
       "      <th>2</th>\n",
       "      <td>p04</td>\n",
       "      <td>POINT (520909.741 4714855.058)</td>\n",
       "      <td>2019-02-02</td>\n",
       "      <td>1</td>\n",
       "      <td>1.0</td>\n",
       "      <td>1</td>\n",
       "      <td>d0480</td>\n",
       "    </tr>\n",
       "    <tr>\n",
       "      <th>3</th>\n",
       "      <td>p05</td>\n",
       "      <td>POINT (532548.249 4714899.835)</td>\n",
       "      <td>2019-02-02</td>\n",
       "      <td>1</td>\n",
       "      <td>2.0</td>\n",
       "      <td>1</td>\n",
       "      <td>d0510</td>\n",
       "    </tr>\n",
       "    <tr>\n",
       "      <th>4</th>\n",
       "      <td>p06</td>\n",
       "      <td>POINT (512817.407 4705582.465)</td>\n",
       "      <td>2019-02-02</td>\n",
       "      <td>1</td>\n",
       "      <td>1.0</td>\n",
       "      <td>1</td>\n",
       "      <td>d0910</td>\n",
       "    </tr>\n",
       "    <tr>\n",
       "      <th>5</th>\n",
       "      <td>p08</td>\n",
       "      <td>POINT (654449.136 4716189.584)</td>\n",
       "      <td>2019-02-05</td>\n",
       "      <td>1</td>\n",
       "      <td>5.0</td>\n",
       "      <td>1</td>\n",
       "      <td>d1306</td>\n",
       "    </tr>\n",
       "    <tr>\n",
       "      <th>6</th>\n",
       "      <td>p10</td>\n",
       "      <td>POINT (643532.681 4716066.52)</td>\n",
       "      <td>2019-02-05</td>\n",
       "      <td>1</td>\n",
       "      <td>1.0</td>\n",
       "      <td>2</td>\n",
       "      <td>d1336</td>\n",
       "    </tr>\n",
       "    <tr>\n",
       "      <th>7</th>\n",
       "      <td>p11</td>\n",
       "      <td>POINT (629124.489 4706545.106)</td>\n",
       "      <td>2019-02-05</td>\n",
       "      <td>1</td>\n",
       "      <td>3.0</td>\n",
       "      <td>2</td>\n",
       "      <td>d1527</td>\n",
       "    </tr>\n",
       "    <tr>\n",
       "      <th>8</th>\n",
       "      <td>p13</td>\n",
       "      <td>POINT (611976.857 4696974.111)</td>\n",
       "      <td>2019-02-05</td>\n",
       "      <td>1</td>\n",
       "      <td>4.0</td>\n",
       "      <td>3</td>\n",
       "      <td>d1739</td>\n",
       "    </tr>\n",
       "    <tr>\n",
       "      <th>9</th>\n",
       "      <td>a17</td>\n",
       "      <td>POINT (592247.065 4733695.898)</td>\n",
       "      <td>2019-03-03</td>\n",
       "      <td>0</td>\n",
       "      <td>NaN</td>\n",
       "      <td>3</td>\n",
       "      <td>d0209</td>\n",
       "    </tr>\n",
       "    <tr>\n",
       "      <th>10</th>\n",
       "      <td>a20</td>\n",
       "      <td>POINT (500616.525 4733238.803)</td>\n",
       "      <td>2019-03-03</td>\n",
       "      <td>0</td>\n",
       "      <td>NaN</td>\n",
       "      <td>3</td>\n",
       "      <td>d0425</td>\n",
       "    </tr>\n",
       "    <tr>\n",
       "      <th>11</th>\n",
       "      <td>a02</td>\n",
       "      <td>POINT (548451.857 4714992.548)</td>\n",
       "      <td>2019-02-02</td>\n",
       "      <td>0</td>\n",
       "      <td>NaN</td>\n",
       "      <td>1</td>\n",
       "      <td>d0550</td>\n",
       "    </tr>\n",
       "    <tr>\n",
       "      <th>12</th>\n",
       "      <td>a03</td>\n",
       "      <td>POINT (592299.858 4715214.627)</td>\n",
       "      <td>2019-02-02</td>\n",
       "      <td>0</td>\n",
       "      <td>NaN</td>\n",
       "      <td>2</td>\n",
       "      <td>d0661</td>\n",
       "    </tr>\n",
       "    <tr>\n",
       "      <th>13</th>\n",
       "      <td>a06</td>\n",
       "      <td>POINT (630065.772 4734333.532)</td>\n",
       "      <td>2019-02-05</td>\n",
       "      <td>0</td>\n",
       "      <td>NaN</td>\n",
       "      <td>0</td>\n",
       "      <td>d1053</td>\n",
       "    </tr>\n",
       "    <tr>\n",
       "      <th>14</th>\n",
       "      <td>a08</td>\n",
       "      <td>POINT (613953.036 4734029.988)</td>\n",
       "      <td>2019-02-05</td>\n",
       "      <td>0</td>\n",
       "      <td>NaN</td>\n",
       "      <td>0</td>\n",
       "      <td>d1097</td>\n",
       "    </tr>\n",
       "    <tr>\n",
       "      <th>15</th>\n",
       "      <td>a10</td>\n",
       "      <td>POINT (636846.66 4725207.448)</td>\n",
       "      <td>2019-02-05</td>\n",
       "      <td>0</td>\n",
       "      <td>NaN</td>\n",
       "      <td>0</td>\n",
       "      <td>d1230</td>\n",
       "    </tr>\n",
       "    <tr>\n",
       "      <th>16</th>\n",
       "      <td>a12</td>\n",
       "      <td>POINT (606002.06 4706086.91)</td>\n",
       "      <td>2019-02-05</td>\n",
       "      <td>0</td>\n",
       "      <td>NaN</td>\n",
       "      <td>2</td>\n",
       "      <td>d1473</td>\n",
       "    </tr>\n",
       "    <tr>\n",
       "      <th>17</th>\n",
       "      <td>a16</td>\n",
       "      <td>POINT (647708.461 4697619.252)</td>\n",
       "      <td>2019-02-05</td>\n",
       "      <td>0</td>\n",
       "      <td>NaN</td>\n",
       "      <td>2</td>\n",
       "      <td>d1639</td>\n",
       "    </tr>\n",
       "  </tbody>\n",
       "</table>\n",
       "</div>"
      ],
      "text/plain": [
       "   point_id                           point       date  p-a  individuals  bss  \\\n",
       "0       p01   POINT (579166.78 4742872.701) 2019-01-25    1          1.0    2   \n",
       "1       p02  POINT (554184.217 4742741.886) 2019-01-25    1          2.0    2   \n",
       "2       p04  POINT (520909.741 4714855.058) 2019-02-02    1          1.0    1   \n",
       "3       p05  POINT (532548.249 4714899.835) 2019-02-02    1          2.0    1   \n",
       "4       p06  POINT (512817.407 4705582.465) 2019-02-02    1          1.0    1   \n",
       "5       p08  POINT (654449.136 4716189.584) 2019-02-05    1          5.0    1   \n",
       "6       p10   POINT (643532.681 4716066.52) 2019-02-05    1          1.0    2   \n",
       "7       p11  POINT (629124.489 4706545.106) 2019-02-05    1          3.0    2   \n",
       "8       p13  POINT (611976.857 4696974.111) 2019-02-05    1          4.0    3   \n",
       "9       a17  POINT (592247.065 4733695.898) 2019-03-03    0          NaN    3   \n",
       "10      a20  POINT (500616.525 4733238.803) 2019-03-03    0          NaN    3   \n",
       "11      a02  POINT (548451.857 4714992.548) 2019-02-02    0          NaN    1   \n",
       "12      a03  POINT (592299.858 4715214.627) 2019-02-02    0          NaN    2   \n",
       "13      a06  POINT (630065.772 4734333.532) 2019-02-05    0          NaN    0   \n",
       "14      a08  POINT (613953.036 4734029.988) 2019-02-05    0          NaN    0   \n",
       "15      a10   POINT (636846.66 4725207.448) 2019-02-05    0          NaN    0   \n",
       "16      a12    POINT (606002.06 4706086.91) 2019-02-05    0          NaN    2   \n",
       "17      a16  POINT (647708.461 4697619.252) 2019-02-05    0          NaN    2   \n",
       "\n",
       "   datapoint_id  \n",
       "0         d0004  \n",
       "1         d0068  \n",
       "2         d0480  \n",
       "3         d0510  \n",
       "4         d0910  \n",
       "5         d1306  \n",
       "6         d1336  \n",
       "7         d1527  \n",
       "8         d1739  \n",
       "9         d0209  \n",
       "10        d0425  \n",
       "11        d0550  \n",
       "12        d0661  \n",
       "13        d1053  \n",
       "14        d1097  \n",
       "15        d1230  \n",
       "16        d1473  \n",
       "17        d1639  "
      ]
     },
     "execution_count": 21,
     "metadata": {},
     "output_type": "execute_result"
    }
   ],
   "source": [
    "u_samples.samples"
   ]
  },
  {
   "cell_type": "markdown",
   "id": "7d1ae0fd-1a88-40cc-9b6f-0bfccd28448d",
   "metadata": {},
   "source": [
    "### Save a ```Samples``` object\n",
    "```Samples``` objects have an inbuilt ```save``` method to save the samples as a CSV or GPKG."
   ]
  },
  {
   "cell_type": "code",
   "execution_count": 22,
   "id": "f0db60bb-47d7-437f-969a-0d79b234429d",
   "metadata": {},
   "outputs": [],
   "source": [
    "u_samples.save(\n",
    "    folder=output_folder,\n",
    "    filetype='gpkg'\n",
    ")"
   ]
  }
 ],
 "metadata": {
  "kernelspec": {
   "display_name": "Python 3 (ipykernel)",
   "language": "python",
   "name": "python3"
  },
  "language_info": {
   "codemirror_mode": {
    "name": "ipython",
    "version": 3
   },
   "file_extension": ".py",
   "mimetype": "text/x-python",
   "name": "python",
   "nbconvert_exporter": "python",
   "pygments_lexer": "ipython3",
   "version": "3.12.3"
  }
 },
 "nbformat": 4,
 "nbformat_minor": 5
}
