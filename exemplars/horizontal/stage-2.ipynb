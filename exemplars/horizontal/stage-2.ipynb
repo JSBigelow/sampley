{
 "cells": [
  {
   "cell_type": "markdown",
   "id": "b4ccfa3e-21f6-47dc-a686-cc1ea27df8bb",
   "metadata": {},
   "source": [
    "# sampley exemplar: Stage 2\n",
    "Before going through this exemplar, please consult the Introduction to sampley exemplars (```intro.ipynb```).\n",
    "<br>This exemplar illustrates the classes that can be made in Stage 2, their class methods, their attributes, and their methods. "
   ]
  },
  {
   "cell_type": "markdown",
   "id": "fa0060c9-30a9-43e1-aa04-dadefb672e14",
   "metadata": {},
   "source": [
    "## Setup"
   ]
  },
  {
   "cell_type": "markdown",
   "id": "3851f46e-20e7-4b7c-821c-3c1496370bba",
   "metadata": {},
   "source": [
    "### Import the package"
   ]
  },
  {
   "cell_type": "code",
   "execution_count": 1,
   "id": "b62bef27-3735-4b4f-8f5a-a20f1024d73a",
   "metadata": {},
   "outputs": [],
   "source": [
    "from sampley import *"
   ]
  },
  {
   "cell_type": "markdown",
   "id": "68f3a22b-41c0-47fa-b95a-4f4ffc1d19c7",
   "metadata": {},
   "source": [
    "### Set the input folder\n",
    "To run this exemplar, download the mock data files, put them in a folder, and set the path to the folder below."
   ]
  },
  {
   "cell_type": "code",
   "execution_count": 2,
   "id": "108a7d63-d333-4dbb-831d-a7570a19665c",
   "metadata": {},
   "outputs": [],
   "source": [
    "input_folder = './input/'"
   ]
  },
  {
   "cell_type": "markdown",
   "id": "74309bc0-a423-4cec-92bf-89da5fbe79c6",
   "metadata": {},
   "source": [
    "### Set the output folder\n",
    "To run this exemplar, make a folder to save the outputs in and set the path to the folder below."
   ]
  },
  {
   "cell_type": "code",
   "execution_count": 3,
   "id": "e2533f8b-617f-4020-9440-f773913c2b8c",
   "metadata": {},
   "outputs": [],
   "source": [
    "output_folder = './output/'"
   ]
  },
  {
   "cell_type": "markdown",
   "id": "92514ace-5875-4b48-9040-909eaa304ce0",
   "metadata": {},
   "source": [
    "### Make DataPoints and Sections objects (Stage 1)\n",
    "Before making any objects in Stage 2, we, of course, have to conduct Stage 1. For the sake of this exemplar, we make one ```Sections``` and one ```DataPoints``` object below that are then used to make all the subsequent delimiters. See the Stage 1 exemplar and the User Manual for more details."
   ]
  },
  {
   "cell_type": "code",
   "execution_count": 4,
   "id": "4a25f420-f595-4812-b9be-8c4084c2a052",
   "metadata": {},
   "outputs": [
    {
     "name": "stdout",
     "output_type": "stream",
     "text": [
      "Opening file...\n",
      "Success: file successfully input.\n",
      "Reprojecting CRS...\n",
      "Note: reprojection to CRS 'EPSG:32619' not necessary as already in CRS 'EPSG:32619'.\n",
      "Parsing datetimes...\n",
      "Success: the column 'datetime' successfully reformatted to datetimes.\n",
      "Success: the timezone of column 'datetime' successfully set to 'UTC-05:00'.\n",
      "Converting timezone...\n",
      "Note: conversion of column 'datetime' to timezone 'UTC-05:00' is not necessary as it is already in timezone 'UTC-05:00'.\n",
      "Success: datapoint IDs successfully generated.\n"
     ]
    }
   ],
   "source": [
    "u_sightings = DataPoints.from_file(\n",
    "    filepath=input_folder+'sightings.gpkg',\n",
    "    crs_working='EPSG:32619',\n",
    "    datetime_col='datetime',\n",
    "    tz_input='UTC-05:00',\n",
    "    tz_working='UTC-05:00'\n",
    ")"
   ]
  },
  {
   "cell_type": "code",
   "execution_count": 5,
   "id": "ec8f3ac3-4641-47ae-a4f2-d77304d5df36",
   "metadata": {},
   "outputs": [
    {
     "name": "stdout",
     "output_type": "stream",
     "text": [
      "Opening file...\n",
      "Success: file successfully input.\n",
      "Reprojecting CRS...\n",
      "Success: reprojected to CRS 'EPSG:32619'\n",
      "Parsing datetimes...\n",
      "Success: the column 'datetime_beg' successfully reformatted to datetimes.\n",
      "Success: the timezone of column 'datetime_beg' successfully set to 'UTC-05:00'.\n",
      "Converting timezone...\n",
      "Note: conversion of column 'datetime_beg' to timezone 'UTC-05:00' is not necessary as it is already in timezone 'UTC-05:00'.\n",
      "Note: column 'datetime_beg' renamed to 'datetime'.\n",
      "Success: section IDs successfully generated.\n"
     ]
    }
   ],
   "source": [
    "u_sections = Sections.from_file(\n",
    "    filepath=input_folder+'sections.gpkg',\n",
    "    crs_working='EPSG:32619',\n",
    "    datetime_col='datetime_beg',\n",
    "    tz_input='UTC-05:00',\n",
    "    tz_working='UTC-05:00'\n",
    ")"
   ]
  },
  {
   "cell_type": "markdown",
   "id": "10ad55f3-9a4e-47d6-83ed-d5f594602ac9",
   "metadata": {},
   "source": [
    "## Periods"
   ]
  },
  {
   "cell_type": "markdown",
   "id": "74aaf14b-5a16-4efe-b76e-d1ab47673aea",
   "metadata": {},
   "source": [
    "### Make a ```Periods``` object...\n",
    "We can make a ```Periods``` object from a ```DataPoints``` or ```Sections``` object with the ```Periods.delimit()``` class method."
   ]
  },
  {
   "cell_type": "code",
   "execution_count": 6,
   "id": "d9bbdfed-5ffc-4110-b450-30713241b580",
   "metadata": {},
   "outputs": [],
   "source": [
    "u_periods = Periods.delimit(\n",
    "    extent=u_sections,\n",
    "    unit='day',\n",
    "    num=8)"
   ]
  },
  {
   "cell_type": "markdown",
   "id": "6817ef8a-2e2a-4b20-8109-cf499d3dfa42",
   "metadata": {},
   "source": [
    "### Access a ```Periods``` object's attributes\n",
    "A ```Periods``` object, regardless of how it was made, will have three attributes (```name```, ```parameters```, and ```periods```) that we can access as follows."
   ]
  },
  {
   "cell_type": "code",
   "execution_count": 7,
   "id": "799da1a1-526b-490c-8953-dcfc5e98f886",
   "metadata": {},
   "outputs": [
    {
     "data": {
      "text/plain": [
       "'periods-8d'"
      ]
     },
     "execution_count": 7,
     "metadata": {},
     "output_type": "execute_result"
    }
   ],
   "source": [
    "u_periods.name"
   ]
  },
  {
   "cell_type": "code",
   "execution_count": 8,
   "id": "5ff29b8a-c9ae-43f3-830d-71b47ca4d260",
   "metadata": {},
   "outputs": [
    {
     "data": {
      "text/plain": [
       "{'periods_tz': 'UTC-05:00',\n",
       " 'periods_extent': '2019-01-25 00:00:00-2019-03-05 23:59:59',\n",
       " 'periods_extent_source': 'Sections - sections-sections',\n",
       " 'periods_number': 8,\n",
       " 'periods_unit': 'day'}"
      ]
     },
     "execution_count": 8,
     "metadata": {},
     "output_type": "execute_result"
    }
   ],
   "source": [
    "u_periods.parameters"
   ]
  },
  {
   "cell_type": "code",
   "execution_count": 9,
   "id": "e3825605-a911-45c2-8c40-7b7c500140b2",
   "metadata": {},
   "outputs": [
    {
     "data": {
      "text/html": [
       "<div>\n",
       "<style scoped>\n",
       "    .dataframe tbody tr th:only-of-type {\n",
       "        vertical-align: middle;\n",
       "    }\n",
       "\n",
       "    .dataframe tbody tr th {\n",
       "        vertical-align: top;\n",
       "    }\n",
       "\n",
       "    .dataframe thead th {\n",
       "        text-align: right;\n",
       "    }\n",
       "</style>\n",
       "<table border=\"1\" class=\"dataframe\">\n",
       "  <thead>\n",
       "    <tr style=\"text-align: right;\">\n",
       "      <th></th>\n",
       "      <th>period_id</th>\n",
       "      <th>datetime_beg</th>\n",
       "      <th>datetime_mid</th>\n",
       "      <th>datetime_end</th>\n",
       "    </tr>\n",
       "  </thead>\n",
       "  <tbody>\n",
       "    <tr>\n",
       "      <th>0</th>\n",
       "      <td>p2019-01-25-8d</td>\n",
       "      <td>2019-01-25 00:00:00-05:00</td>\n",
       "      <td>2019-01-28 23:59:59-05:00</td>\n",
       "      <td>2019-02-01 23:59:59-05:00</td>\n",
       "    </tr>\n",
       "    <tr>\n",
       "      <th>1</th>\n",
       "      <td>p2019-02-02-8d</td>\n",
       "      <td>2019-02-02 00:00:00-05:00</td>\n",
       "      <td>2019-02-05 23:59:59-05:00</td>\n",
       "      <td>2019-02-09 23:59:59-05:00</td>\n",
       "    </tr>\n",
       "    <tr>\n",
       "      <th>2</th>\n",
       "      <td>p2019-02-10-8d</td>\n",
       "      <td>2019-02-10 00:00:00-05:00</td>\n",
       "      <td>2019-02-13 23:59:59-05:00</td>\n",
       "      <td>2019-02-17 23:59:59-05:00</td>\n",
       "    </tr>\n",
       "    <tr>\n",
       "      <th>3</th>\n",
       "      <td>p2019-02-18-8d</td>\n",
       "      <td>2019-02-18 00:00:00-05:00</td>\n",
       "      <td>2019-02-21 23:59:59-05:00</td>\n",
       "      <td>2019-02-25 23:59:59-05:00</td>\n",
       "    </tr>\n",
       "    <tr>\n",
       "      <th>4</th>\n",
       "      <td>p2019-02-26-8d</td>\n",
       "      <td>2019-02-26 00:00:00-05:00</td>\n",
       "      <td>2019-03-01 23:59:59-05:00</td>\n",
       "      <td>2019-03-05 23:59:59-05:00</td>\n",
       "    </tr>\n",
       "  </tbody>\n",
       "</table>\n",
       "</div>"
      ],
      "text/plain": [
       "        period_id              datetime_beg              datetime_mid  \\\n",
       "0  p2019-01-25-8d 2019-01-25 00:00:00-05:00 2019-01-28 23:59:59-05:00   \n",
       "1  p2019-02-02-8d 2019-02-02 00:00:00-05:00 2019-02-05 23:59:59-05:00   \n",
       "2  p2019-02-10-8d 2019-02-10 00:00:00-05:00 2019-02-13 23:59:59-05:00   \n",
       "3  p2019-02-18-8d 2019-02-18 00:00:00-05:00 2019-02-21 23:59:59-05:00   \n",
       "4  p2019-02-26-8d 2019-02-26 00:00:00-05:00 2019-03-01 23:59:59-05:00   \n",
       "\n",
       "               datetime_end  \n",
       "0 2019-02-01 23:59:59-05:00  \n",
       "1 2019-02-09 23:59:59-05:00  \n",
       "2 2019-02-17 23:59:59-05:00  \n",
       "3 2019-02-25 23:59:59-05:00  \n",
       "4 2019-03-05 23:59:59-05:00  "
      ]
     },
     "execution_count": 9,
     "metadata": {},
     "output_type": "execute_result"
    }
   ],
   "source": [
    "u_periods.periods"
   ]
  },
  {
   "cell_type": "markdown",
   "id": "0ed1b940-7fcf-48da-b8e3-8c9fcc9382a5",
   "metadata": {},
   "source": [
    "### Save a ```Periods``` object\n",
    "```Periods``` objects have an inbuilt ```save``` method to save the periods as a CSV."
   ]
  },
  {
   "cell_type": "code",
   "execution_count": 10,
   "id": "92d45036-0a4a-458e-99d6-d6c48fc36220",
   "metadata": {},
   "outputs": [],
   "source": [
    "u_periods.save(folder=output_folder)"
   ]
  },
  {
   "cell_type": "markdown",
   "id": "ca356b43-d1fb-4f17-8c2f-0c6ff216dcbb",
   "metadata": {},
   "source": [
    "## Cells"
   ]
  },
  {
   "cell_type": "markdown",
   "id": "6a9c50e4-119e-435e-81cd-deccd3e5e465",
   "metadata": {},
   "source": [
    "### Make a ```Cells``` object...\n",
    "We can make a ```Cells``` object from a ```DataPoints``` or ```Sections``` object with the ```Cells.delimit()``` class method."
   ]
  },
  {
   "cell_type": "code",
   "execution_count": 11,
   "id": "1c7324f7-b2df-4c7d-b483-649acd245008",
   "metadata": {},
   "outputs": [],
   "source": [
    "u_cells = Cells.delimit(\n",
    "    extent=u_sections,\n",
    "    var='hexagonal',\n",
    "    side=5000,\n",
    "    buffer=2000)"
   ]
  },
  {
   "cell_type": "markdown",
   "id": "92a90e03-4300-40a4-8925-4b1b03742b6c",
   "metadata": {},
   "source": [
    "### Access a ```Cells``` object's attributes\n",
    "A ```Cells``` object, regardless of how it was made, will have three attributes (```name```, ```parameters```, and ```cells```) that we can access as follows."
   ]
  },
  {
   "cell_type": "code",
   "execution_count": 12,
   "id": "b1c4ea0d-889c-4923-9557-a1a40ed726e6",
   "metadata": {},
   "outputs": [
    {
     "data": {
      "text/plain": [
       "'cells-h5000m'"
      ]
     },
     "execution_count": 12,
     "metadata": {},
     "output_type": "execute_result"
    }
   ],
   "source": [
    "u_cells.name"
   ]
  },
  {
   "cell_type": "code",
   "execution_count": 13,
   "id": "db1c9ef5-6856-4fc1-bbe5-4fc7e22f37d3",
   "metadata": {},
   "outputs": [
    {
     "data": {
      "text/plain": [
       "{'cells_crs': 'EPSG:32619',\n",
       " 'cells_extent': '493765.49253164633, 4689798.086839909, 671300.7003074563, 4759798.086839909',\n",
       " 'cells_extent_source': 'Sections - sections-sections',\n",
       " 'cells_var': 'hexagonal',\n",
       " 'cells_side': 5000,\n",
       " 'cells_unit': 'metre',\n",
       " 'cells_buffer': 2000}"
      ]
     },
     "execution_count": 13,
     "metadata": {},
     "output_type": "execute_result"
    }
   ],
   "source": [
    "u_cells.parameters"
   ]
  },
  {
   "cell_type": "code",
   "execution_count": 14,
   "id": "53a2c410-a268-4629-adff-04c84d82b13c",
   "metadata": {},
   "outputs": [
    {
     "data": {
      "text/html": [
       "<div>\n",
       "<style scoped>\n",
       "    .dataframe tbody tr th:only-of-type {\n",
       "        vertical-align: middle;\n",
       "    }\n",
       "\n",
       "    .dataframe tbody tr th {\n",
       "        vertical-align: top;\n",
       "    }\n",
       "\n",
       "    .dataframe thead th {\n",
       "        text-align: right;\n",
       "    }\n",
       "</style>\n",
       "<table border=\"1\" class=\"dataframe\">\n",
       "  <thead>\n",
       "    <tr style=\"text-align: right;\">\n",
       "      <th></th>\n",
       "      <th>cell_id</th>\n",
       "      <th>polygon</th>\n",
       "      <th>centroid</th>\n",
       "    </tr>\n",
       "  </thead>\n",
       "  <tbody>\n",
       "    <tr>\n",
       "      <th>0</th>\n",
       "      <td>c001-h5000m</td>\n",
       "      <td>POLYGON ((498095.62 4699798.087, 502425.747 46...</td>\n",
       "      <td>POINT (498095.62 4694798.087)</td>\n",
       "    </tr>\n",
       "    <tr>\n",
       "      <th>1</th>\n",
       "      <td>c002-h5000m</td>\n",
       "      <td>POLYGON ((506755.874 4699798.087, 511086.001 4...</td>\n",
       "      <td>POINT (506755.874 4694798.087)</td>\n",
       "    </tr>\n",
       "    <tr>\n",
       "      <th>2</th>\n",
       "      <td>c003-h5000m</td>\n",
       "      <td>POLYGON ((515416.128 4699798.087, 519746.255 4...</td>\n",
       "      <td>POINT (515416.128 4694798.087)</td>\n",
       "    </tr>\n",
       "    <tr>\n",
       "      <th>3</th>\n",
       "      <td>c004-h5000m</td>\n",
       "      <td>POLYGON ((524076.382 4699798.087, 528406.509 4...</td>\n",
       "      <td>POINT (524076.382 4694798.087)</td>\n",
       "    </tr>\n",
       "    <tr>\n",
       "      <th>4</th>\n",
       "      <td>c005-h5000m</td>\n",
       "      <td>POLYGON ((532736.636 4699798.087, 537066.763 4...</td>\n",
       "      <td>POINT (532736.636 4694798.087)</td>\n",
       "    </tr>\n",
       "    <tr>\n",
       "      <th>...</th>\n",
       "      <td>...</td>\n",
       "      <td>...</td>\n",
       "      <td>...</td>\n",
       "    </tr>\n",
       "    <tr>\n",
       "      <th>175</th>\n",
       "      <td>c176-h5000m</td>\n",
       "      <td>POLYGON ((627999.43 4759798.087, 632329.557 47...</td>\n",
       "      <td>POINT (627999.43 4754798.087)</td>\n",
       "    </tr>\n",
       "    <tr>\n",
       "      <th>176</th>\n",
       "      <td>c177-h5000m</td>\n",
       "      <td>POLYGON ((636659.684 4759798.087, 640989.811 4...</td>\n",
       "      <td>POINT (636659.684 4754798.087)</td>\n",
       "    </tr>\n",
       "    <tr>\n",
       "      <th>177</th>\n",
       "      <td>c178-h5000m</td>\n",
       "      <td>POLYGON ((645319.938 4759798.087, 649650.065 4...</td>\n",
       "      <td>POINT (645319.938 4754798.087)</td>\n",
       "    </tr>\n",
       "    <tr>\n",
       "      <th>178</th>\n",
       "      <td>c179-h5000m</td>\n",
       "      <td>POLYGON ((653980.192 4759798.087, 658310.319 4...</td>\n",
       "      <td>POINT (653980.192 4754798.087)</td>\n",
       "    </tr>\n",
       "    <tr>\n",
       "      <th>179</th>\n",
       "      <td>c180-h5000m</td>\n",
       "      <td>POLYGON ((662640.446 4759798.087, 666970.573 4...</td>\n",
       "      <td>POINT (662640.446 4754798.087)</td>\n",
       "    </tr>\n",
       "  </tbody>\n",
       "</table>\n",
       "<p>180 rows × 3 columns</p>\n",
       "</div>"
      ],
      "text/plain": [
       "         cell_id                                            polygon  \\\n",
       "0    c001-h5000m  POLYGON ((498095.62 4699798.087, 502425.747 46...   \n",
       "1    c002-h5000m  POLYGON ((506755.874 4699798.087, 511086.001 4...   \n",
       "2    c003-h5000m  POLYGON ((515416.128 4699798.087, 519746.255 4...   \n",
       "3    c004-h5000m  POLYGON ((524076.382 4699798.087, 528406.509 4...   \n",
       "4    c005-h5000m  POLYGON ((532736.636 4699798.087, 537066.763 4...   \n",
       "..           ...                                                ...   \n",
       "175  c176-h5000m  POLYGON ((627999.43 4759798.087, 632329.557 47...   \n",
       "176  c177-h5000m  POLYGON ((636659.684 4759798.087, 640989.811 4...   \n",
       "177  c178-h5000m  POLYGON ((645319.938 4759798.087, 649650.065 4...   \n",
       "178  c179-h5000m  POLYGON ((653980.192 4759798.087, 658310.319 4...   \n",
       "179  c180-h5000m  POLYGON ((662640.446 4759798.087, 666970.573 4...   \n",
       "\n",
       "                           centroid  \n",
       "0     POINT (498095.62 4694798.087)  \n",
       "1    POINT (506755.874 4694798.087)  \n",
       "2    POINT (515416.128 4694798.087)  \n",
       "3    POINT (524076.382 4694798.087)  \n",
       "4    POINT (532736.636 4694798.087)  \n",
       "..                              ...  \n",
       "175   POINT (627999.43 4754798.087)  \n",
       "176  POINT (636659.684 4754798.087)  \n",
       "177  POINT (645319.938 4754798.087)  \n",
       "178  POINT (653980.192 4754798.087)  \n",
       "179  POINT (662640.446 4754798.087)  \n",
       "\n",
       "[180 rows x 3 columns]"
      ]
     },
     "execution_count": 14,
     "metadata": {},
     "output_type": "execute_result"
    }
   ],
   "source": [
    "u_cells.cells"
   ]
  },
  {
   "cell_type": "markdown",
   "id": "24eb1f90-7e7a-476a-8246-13216164b214",
   "metadata": {},
   "source": [
    "### Plot a ```Cells``` object\n",
    "```Cells``` objects have an inbuilt ```plot``` method to make a simple plot."
   ]
  },
  {
   "cell_type": "code",
   "execution_count": 15,
   "id": "527beee3-5306-485b-9b36-79f7cb4c00d4",
   "metadata": {},
   "outputs": [
    {
     "data": {
      "image/png": "[encoded data removed]",
      "text/plain": [
       "<Figure size 1600x800 with 1 Axes>"
      ]
     },
     "metadata": {},
     "output_type": "display_data"
    }
   ],
   "source": [
    "u_cells.plot()"
   ]
  },
  {
   "cell_type": "markdown",
   "id": "05e194e1-b6f4-4307-9105-2fd2a62c2d6a",
   "metadata": {},
   "source": [
    "### Save a ```Cells``` object\n",
    "```Cells``` objects have an inbuilt ```save``` method to save the cells as a GPKG."
   ]
  },
  {
   "cell_type": "code",
   "execution_count": 16,
   "id": "402d6e38-4d4b-4cfe-a15b-4db2e37c19ba",
   "metadata": {},
   "outputs": [],
   "source": [
    "u_cells.save(folder=output_folder)"
   ]
  },
  {
   "cell_type": "markdown",
   "id": "0daf6496-f92b-4577-b5fe-9848f9cd54b6",
   "metadata": {},
   "source": [
    "## Segments"
   ]
  },
  {
   "cell_type": "markdown",
   "id": "eda30736-3d7e-4085-a6d1-d578db1ef660",
   "metadata": {},
   "source": [
    "### Make a ```Segments``` object...\n",
    "We can make a ```Segments``` object from a ```Sections``` object with the ```Segments.delimit()``` class method."
   ]
  },
  {
   "cell_type": "code",
   "execution_count": 17,
   "id": "61277c26-f735-4464-8453-eb627e3c712f",
   "metadata": {},
   "outputs": [],
   "source": [
    "u_segments = Segments.delimit(\n",
    "    sections=u_sections,\n",
    "    var='simple',\n",
    "    target=10000,\n",
    "    randomise=True)"
   ]
  },
  {
   "cell_type": "markdown",
   "id": "d2063436-4d19-4913-aeae-6c0bcf0e1140",
   "metadata": {},
   "source": [
    "### Access a ```Segments``` object's attributes\n",
    "A ```Segments``` object, regardless of how it was made, will have three attributes (```name```, ```parameters```, and ```segments```) that we can access as follows."
   ]
  },
  {
   "cell_type": "code",
   "execution_count": 18,
   "id": "d93e8e60-e6a5-46df-af42-b7735c7b8188",
   "metadata": {},
   "outputs": [
    {
     "data": {
      "text/plain": [
       "'segments-s10000m'"
      ]
     },
     "execution_count": 18,
     "metadata": {},
     "output_type": "execute_result"
    }
   ],
   "source": [
    "u_segments.name"
   ]
  },
  {
   "cell_type": "code",
   "execution_count": 19,
   "id": "548b0d4f-c2f6-4f57-9ef4-dd3151dd5bdf",
   "metadata": {},
   "outputs": [
    {
     "data": {
      "text/plain": [
       "{'sections_name': 'sections-sections',\n",
       " 'segments_crs': 'EPSG:32619',\n",
       " 'segments_var': 'simple',\n",
       " 'segments_randomise': True,\n",
       " 'segments_target': 10000,\n",
       " 'segments_unit': 'metre'}"
      ]
     },
     "execution_count": 19,
     "metadata": {},
     "output_type": "execute_result"
    }
   ],
   "source": [
    "u_segments.parameters"
   ]
  },
  {
   "cell_type": "code",
   "execution_count": 20,
   "id": "99c208df-3bbe-4e45-ba57-0eca46c6b667",
   "metadata": {},
   "outputs": [
    {
     "data": {
      "text/html": [
       "<div>\n",
       "<style scoped>\n",
       "    .dataframe tbody tr th:only-of-type {\n",
       "        vertical-align: middle;\n",
       "    }\n",
       "\n",
       "    .dataframe tbody tr th {\n",
       "        vertical-align: top;\n",
       "    }\n",
       "\n",
       "    .dataframe thead th {\n",
       "        text-align: right;\n",
       "    }\n",
       "</style>\n",
       "<table border=\"1\" class=\"dataframe\">\n",
       "  <thead>\n",
       "    <tr style=\"text-align: right;\">\n",
       "      <th></th>\n",
       "      <th>segment_id</th>\n",
       "      <th>line</th>\n",
       "      <th>midpoint</th>\n",
       "      <th>date</th>\n",
       "      <th>section_id</th>\n",
       "      <th>dfbsec_beg</th>\n",
       "      <th>dfbsec_end</th>\n",
       "    </tr>\n",
       "  </thead>\n",
       "  <tbody>\n",
       "    <tr>\n",
       "      <th>0</th>\n",
       "      <td>s01-s10000m</td>\n",
       "      <td>LINESTRING (580092.757 4742883.408, 579997.135...</td>\n",
       "      <td>POINT (575093.311 4742845.962)</td>\n",
       "      <td>2019-01-25</td>\n",
       "      <td>s1</td>\n",
       "      <td>0.000000</td>\n",
       "      <td>10000.000000</td>\n",
       "    </tr>\n",
       "    <tr>\n",
       "      <th>1</th>\n",
       "      <td>s02-s10000m</td>\n",
       "      <td>LINESTRING (570094.222 4742829.916, 569917.081...</td>\n",
       "      <td>POINT (565094.73 4742799.725)</td>\n",
       "      <td>2019-01-25</td>\n",
       "      <td>s1</td>\n",
       "      <td>10000.000000</td>\n",
       "      <td>20000.000000</td>\n",
       "    </tr>\n",
       "    <tr>\n",
       "      <th>2</th>\n",
       "      <td>s03-s10000m</td>\n",
       "      <td>LINESTRING (560095.148 4742773.163, 559864.339...</td>\n",
       "      <td>POINT (555095.521 4742749.119)</td>\n",
       "      <td>2019-01-25</td>\n",
       "      <td>s1</td>\n",
       "      <td>20000.000000</td>\n",
       "      <td>30000.000000</td>\n",
       "    </tr>\n",
       "    <tr>\n",
       "      <th>3</th>\n",
       "      <td>s04-s10000m</td>\n",
       "      <td>LINESTRING (550095.667 4742710.935, 549838.842...</td>\n",
       "      <td>POINT (545095.787 4742676.383)</td>\n",
       "      <td>2019-01-25</td>\n",
       "      <td>s1</td>\n",
       "      <td>30000.000000</td>\n",
       "      <td>40000.000000</td>\n",
       "    </tr>\n",
       "    <tr>\n",
       "      <th>4</th>\n",
       "      <td>s05-s10000m</td>\n",
       "      <td>LINESTRING (540095.882 4742645.456, 539704.822...</td>\n",
       "      <td>POINT (535096.832 4742648.569)</td>\n",
       "      <td>2019-01-25</td>\n",
       "      <td>s1</td>\n",
       "      <td>40000.000000</td>\n",
       "      <td>50000.000000</td>\n",
       "    </tr>\n",
       "    <tr>\n",
       "      <th>...</th>\n",
       "      <td>...</td>\n",
       "      <td>...</td>\n",
       "      <td>...</td>\n",
       "      <td>...</td>\n",
       "      <td>...</td>\n",
       "      <td>...</td>\n",
       "      <td>...</td>\n",
       "    </tr>\n",
       "    <tr>\n",
       "      <th>68</th>\n",
       "      <td>s69-s10000m</td>\n",
       "      <td>LINESTRING (652338.76 4697682.02, 652197.878 4...</td>\n",
       "      <td>POINT (647339.987 4697611.472)</td>\n",
       "      <td>2019-02-05</td>\n",
       "      <td>s4</td>\n",
       "      <td>274105.324868</td>\n",
       "      <td>284105.324868</td>\n",
       "    </tr>\n",
       "    <tr>\n",
       "      <th>69</th>\n",
       "      <td>s70-s10000m</td>\n",
       "      <td>LINESTRING (642341.15 4697526.723, 641994.147 ...</td>\n",
       "      <td>POINT (637342.194 4697445.552)</td>\n",
       "      <td>2019-02-05</td>\n",
       "      <td>s4</td>\n",
       "      <td>284105.324868</td>\n",
       "      <td>294105.324868</td>\n",
       "    </tr>\n",
       "    <tr>\n",
       "      <th>70</th>\n",
       "      <td>s71-s10000m</td>\n",
       "      <td>LINESTRING (632343.125 4697349.07, 632326.134 ...</td>\n",
       "      <td>POINT (627344.065 4697254.461)</td>\n",
       "      <td>2019-02-05</td>\n",
       "      <td>s4</td>\n",
       "      <td>294105.324868</td>\n",
       "      <td>304105.324868</td>\n",
       "    </tr>\n",
       "    <tr>\n",
       "      <th>71</th>\n",
       "      <td>s72-s10000m</td>\n",
       "      <td>LINESTRING (622345.629 4697147.973, 622000.67 ...</td>\n",
       "      <td>POINT (617346.364 4697062.225)</td>\n",
       "      <td>2019-02-05</td>\n",
       "      <td>s4</td>\n",
       "      <td>304105.324868</td>\n",
       "      <td>314105.324868</td>\n",
       "    </tr>\n",
       "    <tr>\n",
       "      <th>72</th>\n",
       "      <td>s73-s10000m</td>\n",
       "      <td>LINESTRING (612347.04 4696980.054, 612333.116 ...</td>\n",
       "      <td>POINT (607348.392 4696882.591)</td>\n",
       "      <td>2019-02-05</td>\n",
       "      <td>s4</td>\n",
       "      <td>314105.324868</td>\n",
       "      <td>324105.324868</td>\n",
       "    </tr>\n",
       "  </tbody>\n",
       "</table>\n",
       "<p>73 rows × 7 columns</p>\n",
       "</div>"
      ],
      "text/plain": [
       "     segment_id                                               line  \\\n",
       "0   s01-s10000m  LINESTRING (580092.757 4742883.408, 579997.135...   \n",
       "1   s02-s10000m  LINESTRING (570094.222 4742829.916, 569917.081...   \n",
       "2   s03-s10000m  LINESTRING (560095.148 4742773.163, 559864.339...   \n",
       "3   s04-s10000m  LINESTRING (550095.667 4742710.935, 549838.842...   \n",
       "4   s05-s10000m  LINESTRING (540095.882 4742645.456, 539704.822...   \n",
       "..          ...                                                ...   \n",
       "68  s69-s10000m  LINESTRING (652338.76 4697682.02, 652197.878 4...   \n",
       "69  s70-s10000m  LINESTRING (642341.15 4697526.723, 641994.147 ...   \n",
       "70  s71-s10000m  LINESTRING (632343.125 4697349.07, 632326.134 ...   \n",
       "71  s72-s10000m  LINESTRING (622345.629 4697147.973, 622000.67 ...   \n",
       "72  s73-s10000m  LINESTRING (612347.04 4696980.054, 612333.116 ...   \n",
       "\n",
       "                          midpoint        date section_id     dfbsec_beg  \\\n",
       "0   POINT (575093.311 4742845.962)  2019-01-25         s1       0.000000   \n",
       "1    POINT (565094.73 4742799.725)  2019-01-25         s1   10000.000000   \n",
       "2   POINT (555095.521 4742749.119)  2019-01-25         s1   20000.000000   \n",
       "3   POINT (545095.787 4742676.383)  2019-01-25         s1   30000.000000   \n",
       "4   POINT (535096.832 4742648.569)  2019-01-25         s1   40000.000000   \n",
       "..                             ...         ...        ...            ...   \n",
       "68  POINT (647339.987 4697611.472)  2019-02-05         s4  274105.324868   \n",
       "69  POINT (637342.194 4697445.552)  2019-02-05         s4  284105.324868   \n",
       "70  POINT (627344.065 4697254.461)  2019-02-05         s4  294105.324868   \n",
       "71  POINT (617346.364 4697062.225)  2019-02-05         s4  304105.324868   \n",
       "72  POINT (607348.392 4696882.591)  2019-02-05         s4  314105.324868   \n",
       "\n",
       "       dfbsec_end  \n",
       "0    10000.000000  \n",
       "1    20000.000000  \n",
       "2    30000.000000  \n",
       "3    40000.000000  \n",
       "4    50000.000000  \n",
       "..            ...  \n",
       "68  284105.324868  \n",
       "69  294105.324868  \n",
       "70  304105.324868  \n",
       "71  314105.324868  \n",
       "72  324105.324868  \n",
       "\n",
       "[73 rows x 7 columns]"
      ]
     },
     "execution_count": 20,
     "metadata": {},
     "output_type": "execute_result"
    }
   ],
   "source": [
    "u_segments.segments"
   ]
  },
  {
   "cell_type": "markdown",
   "id": "42fd7d82-8696-4889-99df-197f1ba5c08a",
   "metadata": {},
   "source": [
    "### Plot a ```Segments``` object\n",
    "```Segments``` objects have an inbuilt ```plot``` method to make a simple plot."
   ]
  },
  {
   "cell_type": "code",
   "execution_count": 21,
   "id": "0a3fd046-c5b8-4a3d-b24c-09d75b9b1d3a",
   "metadata": {},
   "outputs": [
    {
     "data": {
      "image/png": "[encoded data removed]",
      "text/plain": [
       "<Figure size 1600x800 with 1 Axes>"
      ]
     },
     "metadata": {},
     "output_type": "display_data"
    }
   ],
   "source": [
    "u_segments.plot()"
   ]
  },
  {
   "cell_type": "markdown",
   "id": "471f816a-b2f4-48ad-aa30-1b7ee023dc2d",
   "metadata": {},
   "source": [
    "### Save a ```Segments``` object\n",
    "```Segments``` objects have an inbuilt ```save``` method to save the segments as a GPKG."
   ]
  },
  {
   "cell_type": "code",
   "execution_count": 22,
   "id": "3c5b7720-518e-42bf-8744-039a3fa750e6",
   "metadata": {},
   "outputs": [],
   "source": [
    "u_segments.save(folder=output_folder)"
   ]
  },
  {
   "cell_type": "markdown",
   "id": "f62bb799-73d0-4844-9bda-f60c12759695",
   "metadata": {},
   "source": [
    "## Presences"
   ]
  },
  {
   "cell_type": "markdown",
   "id": "f29f7deb-1037-475f-b98c-b75ac42296f5",
   "metadata": {},
   "source": [
    "### Make a ```Presences``` object...\n",
    "We can make a ```Presences``` object from a ```DataPoints``` object with the ```Presences.delimit()``` class method."
   ]
  },
  {
   "cell_type": "code",
   "execution_count": 23,
   "id": "0ab40051-6479-4b58-b4fc-d60753ccf062",
   "metadata": {},
   "outputs": [],
   "source": [
    "u_presences = Presences.delimit(\n",
    "    datapoints=u_sightings,\n",
    "    presence_col='individuals')"
   ]
  },
  {
   "cell_type": "markdown",
   "id": "f5d23d82-4030-41e5-aa14-3ed2bc022b48",
   "metadata": {},
   "source": [
    "### Thin a ```Presences``` object\n",
    "We can thin a ```Presences``` object with the ```Presences.thin``` method (based on the ```thinst``` function from the ```thinst``` package)."
   ]
  },
  {
   "cell_type": "code",
   "execution_count": 24,
   "id": "b53068bc-340f-4d63-9139-f040574fe1b3",
   "metadata": {},
   "outputs": [
    {
     "name": "stdout",
     "output_type": "stream",
     "text": [
      "Conducting spatiotemporal thinning...\n",
      "Thinning complete.\n"
     ]
    }
   ],
   "source": [
    "u_presences.thin(\n",
    "    sp_threshold=10000,\n",
    "    tm_threshold=5,\n",
    "    tm_unit='day')"
   ]
  },
  {
   "cell_type": "markdown",
   "id": "c1c31762-7192-46e5-a873-6b5e2d171e3d",
   "metadata": {},
   "source": [
    "### Access a ```Presences``` object's attributes\n",
    "A ```Presences``` object, regardless of how it was made, will have three attributes (```name```, ```parameters```, and ```full```). Two additional attributes will be added after running ```Presences.thin``` (```kept``` and ```removed```). We can access the attributes as follows."
   ]
  },
  {
   "cell_type": "code",
   "execution_count": 25,
   "id": "3984250e-49e7-4e77-9253-2d666719068d",
   "metadata": {},
   "outputs": [
    {
     "data": {
      "text/plain": [
       "'presences-sightings'"
      ]
     },
     "execution_count": 25,
     "metadata": {},
     "output_type": "execute_result"
    }
   ],
   "source": [
    "u_presences.name"
   ]
  },
  {
   "cell_type": "code",
   "execution_count": 26,
   "id": "574033d2-dc8a-4241-98dc-9f9d40f163df",
   "metadata": {},
   "outputs": [
    {
     "data": {
      "text/plain": [
       "{'presences_crs': 'EPSG:32619',\n",
       " 'presences_sp_threshold': 10000,\n",
       " 'presences_tm_threshold': 5,\n",
       " 'presences_tm_unit': 'day'}"
      ]
     },
     "execution_count": 26,
     "metadata": {},
     "output_type": "execute_result"
    }
   ],
   "source": [
    "u_presences.parameters"
   ]
  },
  {
   "cell_type": "code",
   "execution_count": 27,
   "id": "58801574-50e4-4342-8149-9b42d9dd20de",
   "metadata": {},
   "outputs": [
    {
     "data": {
      "text/html": [
       "<div>\n",
       "<style scoped>\n",
       "    .dataframe tbody tr th:only-of-type {\n",
       "        vertical-align: middle;\n",
       "    }\n",
       "\n",
       "    .dataframe tbody tr th {\n",
       "        vertical-align: top;\n",
       "    }\n",
       "\n",
       "    .dataframe thead th {\n",
       "        text-align: right;\n",
       "    }\n",
       "</style>\n",
       "<table border=\"1\" class=\"dataframe\">\n",
       "  <thead>\n",
       "    <tr style=\"text-align: right;\">\n",
       "      <th></th>\n",
       "      <th>point_id</th>\n",
       "      <th>point</th>\n",
       "      <th>date</th>\n",
       "      <th>datapoint_id</th>\n",
       "    </tr>\n",
       "  </thead>\n",
       "  <tbody>\n",
       "    <tr>\n",
       "      <th>0</th>\n",
       "      <td>p01</td>\n",
       "      <td>POINT (579166.78 4742872.701)</td>\n",
       "      <td>2019-01-25</td>\n",
       "      <td>d01</td>\n",
       "    </tr>\n",
       "    <tr>\n",
       "      <th>1</th>\n",
       "      <td>p02</td>\n",
       "      <td>POINT (554184.217 4742741.886)</td>\n",
       "      <td>2019-01-25</td>\n",
       "      <td>d02</td>\n",
       "    </tr>\n",
       "    <tr>\n",
       "      <th>2</th>\n",
       "      <td>p03</td>\n",
       "      <td>POINT (548599.876 4742700.214)</td>\n",
       "      <td>2019-01-25</td>\n",
       "      <td>d03</td>\n",
       "    </tr>\n",
       "    <tr>\n",
       "      <th>3</th>\n",
       "      <td>p04</td>\n",
       "      <td>POINT (520909.741 4714855.058)</td>\n",
       "      <td>2019-02-02</td>\n",
       "      <td>d04</td>\n",
       "    </tr>\n",
       "    <tr>\n",
       "      <th>4</th>\n",
       "      <td>p05</td>\n",
       "      <td>POINT (532548.249 4714899.835)</td>\n",
       "      <td>2019-02-02</td>\n",
       "      <td>d05</td>\n",
       "    </tr>\n",
       "    <tr>\n",
       "      <th>5</th>\n",
       "      <td>p06</td>\n",
       "      <td>POINT (512817.407 4705582.465)</td>\n",
       "      <td>2019-02-02</td>\n",
       "      <td>d06</td>\n",
       "    </tr>\n",
       "    <tr>\n",
       "      <th>6</th>\n",
       "      <td>p07</td>\n",
       "      <td>POINT (504710.41 4705553.392)</td>\n",
       "      <td>2019-02-02</td>\n",
       "      <td>d07</td>\n",
       "    </tr>\n",
       "    <tr>\n",
       "      <th>7</th>\n",
       "      <td>p08</td>\n",
       "      <td>POINT (654449.136 4716189.584)</td>\n",
       "      <td>2019-02-05</td>\n",
       "      <td>d08</td>\n",
       "    </tr>\n",
       "    <tr>\n",
       "      <th>8</th>\n",
       "      <td>p09</td>\n",
       "      <td>POINT (645666.237 4716110.937)</td>\n",
       "      <td>2019-02-05</td>\n",
       "      <td>d09</td>\n",
       "    </tr>\n",
       "    <tr>\n",
       "      <th>9</th>\n",
       "      <td>p10</td>\n",
       "      <td>POINT (643532.681 4716066.52)</td>\n",
       "      <td>2019-02-05</td>\n",
       "      <td>d10</td>\n",
       "    </tr>\n",
       "    <tr>\n",
       "      <th>10</th>\n",
       "      <td>p11</td>\n",
       "      <td>POINT (629124.489 4706545.106)</td>\n",
       "      <td>2019-02-05</td>\n",
       "      <td>d11</td>\n",
       "    </tr>\n",
       "    <tr>\n",
       "      <th>11</th>\n",
       "      <td>p12</td>\n",
       "      <td>POINT (620560.818 4697116.949)</td>\n",
       "      <td>2019-02-05</td>\n",
       "      <td>d12</td>\n",
       "    </tr>\n",
       "    <tr>\n",
       "      <th>12</th>\n",
       "      <td>p13</td>\n",
       "      <td>POINT (611976.857 4696974.111)</td>\n",
       "      <td>2019-02-05</td>\n",
       "      <td>d13</td>\n",
       "    </tr>\n",
       "  </tbody>\n",
       "</table>\n",
       "</div>"
      ],
      "text/plain": [
       "   point_id                           point       date datapoint_id\n",
       "0       p01   POINT (579166.78 4742872.701) 2019-01-25          d01\n",
       "1       p02  POINT (554184.217 4742741.886) 2019-01-25          d02\n",
       "2       p03  POINT (548599.876 4742700.214) 2019-01-25          d03\n",
       "3       p04  POINT (520909.741 4714855.058) 2019-02-02          d04\n",
       "4       p05  POINT (532548.249 4714899.835) 2019-02-02          d05\n",
       "5       p06  POINT (512817.407 4705582.465) 2019-02-02          d06\n",
       "6       p07   POINT (504710.41 4705553.392) 2019-02-02          d07\n",
       "7       p08  POINT (654449.136 4716189.584) 2019-02-05          d08\n",
       "8       p09  POINT (645666.237 4716110.937) 2019-02-05          d09\n",
       "9       p10   POINT (643532.681 4716066.52) 2019-02-05          d10\n",
       "10      p11  POINT (629124.489 4706545.106) 2019-02-05          d11\n",
       "11      p12  POINT (620560.818 4697116.949) 2019-02-05          d12\n",
       "12      p13  POINT (611976.857 4696974.111) 2019-02-05          d13"
      ]
     },
     "execution_count": 27,
     "metadata": {},
     "output_type": "execute_result"
    }
   ],
   "source": [
    "u_presences.full"
   ]
  },
  {
   "cell_type": "code",
   "execution_count": 28,
   "id": "85a58ea7-f52e-43f2-9237-a764d2c6ae9e",
   "metadata": {},
   "outputs": [
    {
     "data": {
      "text/html": [
       "<div>\n",
       "<style scoped>\n",
       "    .dataframe tbody tr th:only-of-type {\n",
       "        vertical-align: middle;\n",
       "    }\n",
       "\n",
       "    .dataframe tbody tr th {\n",
       "        vertical-align: top;\n",
       "    }\n",
       "\n",
       "    .dataframe thead th {\n",
       "        text-align: right;\n",
       "    }\n",
       "</style>\n",
       "<table border=\"1\" class=\"dataframe\">\n",
       "  <thead>\n",
       "    <tr style=\"text-align: right;\">\n",
       "      <th></th>\n",
       "      <th>point_id</th>\n",
       "      <th>point</th>\n",
       "      <th>date</th>\n",
       "      <th>datapoint_id</th>\n",
       "    </tr>\n",
       "  </thead>\n",
       "  <tbody>\n",
       "    <tr>\n",
       "      <th>0</th>\n",
       "      <td>p01</td>\n",
       "      <td>POINT (579166.78 4742872.701)</td>\n",
       "      <td>2019-01-25</td>\n",
       "      <td>d01</td>\n",
       "    </tr>\n",
       "    <tr>\n",
       "      <th>1</th>\n",
       "      <td>p02</td>\n",
       "      <td>POINT (554184.217 4742741.886)</td>\n",
       "      <td>2019-01-25</td>\n",
       "      <td>d02</td>\n",
       "    </tr>\n",
       "    <tr>\n",
       "      <th>3</th>\n",
       "      <td>p04</td>\n",
       "      <td>POINT (520909.741 4714855.058)</td>\n",
       "      <td>2019-02-02</td>\n",
       "      <td>d04</td>\n",
       "    </tr>\n",
       "    <tr>\n",
       "      <th>4</th>\n",
       "      <td>p05</td>\n",
       "      <td>POINT (532548.249 4714899.835)</td>\n",
       "      <td>2019-02-02</td>\n",
       "      <td>d05</td>\n",
       "    </tr>\n",
       "    <tr>\n",
       "      <th>6</th>\n",
       "      <td>p07</td>\n",
       "      <td>POINT (504710.41 4705553.392)</td>\n",
       "      <td>2019-02-02</td>\n",
       "      <td>d07</td>\n",
       "    </tr>\n",
       "    <tr>\n",
       "      <th>7</th>\n",
       "      <td>p08</td>\n",
       "      <td>POINT (654449.136 4716189.584)</td>\n",
       "      <td>2019-02-05</td>\n",
       "      <td>d08</td>\n",
       "    </tr>\n",
       "    <tr>\n",
       "      <th>9</th>\n",
       "      <td>p10</td>\n",
       "      <td>POINT (643532.681 4716066.52)</td>\n",
       "      <td>2019-02-05</td>\n",
       "      <td>d10</td>\n",
       "    </tr>\n",
       "    <tr>\n",
       "      <th>10</th>\n",
       "      <td>p11</td>\n",
       "      <td>POINT (629124.489 4706545.106)</td>\n",
       "      <td>2019-02-05</td>\n",
       "      <td>d11</td>\n",
       "    </tr>\n",
       "    <tr>\n",
       "      <th>12</th>\n",
       "      <td>p13</td>\n",
       "      <td>POINT (611976.857 4696974.111)</td>\n",
       "      <td>2019-02-05</td>\n",
       "      <td>d13</td>\n",
       "    </tr>\n",
       "  </tbody>\n",
       "</table>\n",
       "</div>"
      ],
      "text/plain": [
       "   point_id                           point       date datapoint_id\n",
       "0       p01   POINT (579166.78 4742872.701) 2019-01-25          d01\n",
       "1       p02  POINT (554184.217 4742741.886) 2019-01-25          d02\n",
       "3       p04  POINT (520909.741 4714855.058) 2019-02-02          d04\n",
       "4       p05  POINT (532548.249 4714899.835) 2019-02-02          d05\n",
       "6       p07   POINT (504710.41 4705553.392) 2019-02-02          d07\n",
       "7       p08  POINT (654449.136 4716189.584) 2019-02-05          d08\n",
       "9       p10   POINT (643532.681 4716066.52) 2019-02-05          d10\n",
       "10      p11  POINT (629124.489 4706545.106) 2019-02-05          d11\n",
       "12      p13  POINT (611976.857 4696974.111) 2019-02-05          d13"
      ]
     },
     "execution_count": 28,
     "metadata": {},
     "output_type": "execute_result"
    }
   ],
   "source": [
    "u_presences.kept"
   ]
  },
  {
   "cell_type": "code",
   "execution_count": 29,
   "id": "1153b3a8-9352-4415-85ff-662b4f10096a",
   "metadata": {},
   "outputs": [
    {
     "data": {
      "text/html": [
       "<div>\n",
       "<style scoped>\n",
       "    .dataframe tbody tr th:only-of-type {\n",
       "        vertical-align: middle;\n",
       "    }\n",
       "\n",
       "    .dataframe tbody tr th {\n",
       "        vertical-align: top;\n",
       "    }\n",
       "\n",
       "    .dataframe thead th {\n",
       "        text-align: right;\n",
       "    }\n",
       "</style>\n",
       "<table border=\"1\" class=\"dataframe\">\n",
       "  <thead>\n",
       "    <tr style=\"text-align: right;\">\n",
       "      <th></th>\n",
       "      <th>point_id</th>\n",
       "      <th>point</th>\n",
       "      <th>date</th>\n",
       "      <th>datapoint_id</th>\n",
       "    </tr>\n",
       "  </thead>\n",
       "  <tbody>\n",
       "    <tr>\n",
       "      <th>2</th>\n",
       "      <td>p03</td>\n",
       "      <td>POINT (548599.876 4742700.214)</td>\n",
       "      <td>2019-01-25</td>\n",
       "      <td>d03</td>\n",
       "    </tr>\n",
       "    <tr>\n",
       "      <th>5</th>\n",
       "      <td>p06</td>\n",
       "      <td>POINT (512817.407 4705582.465)</td>\n",
       "      <td>2019-02-02</td>\n",
       "      <td>d06</td>\n",
       "    </tr>\n",
       "    <tr>\n",
       "      <th>8</th>\n",
       "      <td>p09</td>\n",
       "      <td>POINT (645666.237 4716110.937)</td>\n",
       "      <td>2019-02-05</td>\n",
       "      <td>d09</td>\n",
       "    </tr>\n",
       "    <tr>\n",
       "      <th>11</th>\n",
       "      <td>p12</td>\n",
       "      <td>POINT (620560.818 4697116.949)</td>\n",
       "      <td>2019-02-05</td>\n",
       "      <td>d12</td>\n",
       "    </tr>\n",
       "  </tbody>\n",
       "</table>\n",
       "</div>"
      ],
      "text/plain": [
       "   point_id                           point       date datapoint_id\n",
       "2       p03  POINT (548599.876 4742700.214) 2019-01-25          d03\n",
       "5       p06  POINT (512817.407 4705582.465) 2019-02-02          d06\n",
       "8       p09  POINT (645666.237 4716110.937) 2019-02-05          d09\n",
       "11      p12  POINT (620560.818 4697116.949) 2019-02-05          d12"
      ]
     },
     "execution_count": 29,
     "metadata": {},
     "output_type": "execute_result"
    }
   ],
   "source": [
    "u_presences.removed"
   ]
  },
  {
   "cell_type": "markdown",
   "id": "bc671c40-2a3c-4ac6-a3dc-7f3bf371ba1d",
   "metadata": {},
   "source": [
    "### Plot a ```Presences``` object\n",
    "```Presences``` objects have an inbuilt ```plot``` method to make a simple plot.\n",
    "<br>We can set the parameter ```which``` to determine which of the attributes ```full```, ```kept```, or ```removed``` to plot (note that ```which='thinned'``` will plot both ```kept``` and ```removed```)."
   ]
  },
  {
   "cell_type": "code",
   "execution_count": 30,
   "id": "a0d3fc8f-10c6-4499-bb63-676e30e8e3ac",
   "metadata": {},
   "outputs": [
    {
     "data": {
      "image/png": "[encoded data removed]",
      "text/plain": [
       "<Figure size 1600x800 with 1 Axes>"
      ]
     },
     "metadata": {},
     "output_type": "display_data"
    }
   ],
   "source": [
    "u_presences.plot(sp_threshold=10000, which='full')"
   ]
  },
  {
   "cell_type": "code",
   "execution_count": 31,
   "id": "a4ae6c6c-0457-4968-bec7-3ea8b3dca6b1",
   "metadata": {},
   "outputs": [
    {
     "data": {
      "image/png": "[encoded data removed]",
      "text/plain": [
       "<Figure size 1600x800 with 1 Axes>"
      ]
     },
     "metadata": {},
     "output_type": "display_data"
    }
   ],
   "source": [
    "u_presences.plot(sp_threshold=10000, which='thinned')"
   ]
  },
  {
   "cell_type": "markdown",
   "id": "630cbbb5-dbe9-4b0e-8ab5-829d51f6612b",
   "metadata": {},
   "source": [
    "### Save a ```Presences``` object\n",
    "```Presences``` objects have an inbuilt ```save``` method to save the presences as a GPKG."
   ]
  },
  {
   "cell_type": "code",
   "execution_count": 32,
   "id": "11b33e52-c586-425e-ae7c-24f7ea94cd24",
   "metadata": {},
   "outputs": [],
   "source": [
    "u_presences.save(folder=output_folder)"
   ]
  },
  {
   "cell_type": "markdown",
   "id": "466d5b9c-9f92-4197-b1e6-b53aeb552c8e",
   "metadata": {},
   "source": [
    "## AbsenceLines\n",
    "Please note: the Presences section of this notebook must be run before running this section"
   ]
  },
  {
   "cell_type": "markdown",
   "id": "9cbcbfea-0e70-4e8c-9230-770c3009bca3",
   "metadata": {},
   "source": [
    "### Make an ```AbsenceLines``` object...\n",
    "We can make an ```AbsenceLines``` object from a ```Sections``` object and a ```Presences``` object with the ```AbsenceLines.delimit()``` class method."
   ]
  },
  {
   "cell_type": "code",
   "execution_count": 33,
   "id": "a69da512-8bd6-4dbe-9a46-f1cc744e7763",
   "metadata": {},
   "outputs": [
    {
     "name": "stdout",
     "output_type": "stream",
     "text": [
      "Note: absence lines to be generated with a temporal threshold of 5 day(s).\n"
     ]
    }
   ],
   "source": [
    "u_absencelines = AbsenceLines.delimit(\n",
    "    sections=u_sections,\n",
    "    presences=u_presences,\n",
    "    sp_threshold=10000,\n",
    "    tm_threshold=5,\n",
    "    tm_unit='day',\n",
    ")"
   ]
  },
  {
   "cell_type": "markdown",
   "id": "affa99d3-14eb-4d78-83ca-4c09d3428ad2",
   "metadata": {},
   "source": [
    "### Access an ```AbsenceLines``` object's attributes\n",
    "A ```AbsenceLines``` object, regardless of how it was made, will have three attributes (```name```, ```parameters```, and ```absencelines```) that we can access as follows."
   ]
  },
  {
   "cell_type": "code",
   "execution_count": 34,
   "id": "269d46ab-00fe-46a6-aecc-d8c67aeb6c9f",
   "metadata": {},
   "outputs": [
    {
     "data": {
      "text/plain": [
       "'absencelines-10000m-5day'"
      ]
     },
     "execution_count": 34,
     "metadata": {},
     "output_type": "execute_result"
    }
   ],
   "source": [
    "u_absencelines.name"
   ]
  },
  {
   "cell_type": "code",
   "execution_count": 35,
   "id": "f4a2fed4-b3a0-4a0b-a369-922ddf31b8aa",
   "metadata": {},
   "outputs": [
    {
     "data": {
      "text/plain": [
       "{'absences_crs': 'EPSG:32619',\n",
       " 'absences_sp_threshold': 10000,\n",
       " 'absences_tm_threshold': 5,\n",
       " 'absences_tm_unit': 'day'}"
      ]
     },
     "execution_count": 35,
     "metadata": {},
     "output_type": "execute_result"
    }
   ],
   "source": [
    "u_absencelines.parameters"
   ]
  },
  {
   "cell_type": "code",
   "execution_count": 36,
   "id": "33194b91-97d0-42b8-b662-051238b46738",
   "metadata": {},
   "outputs": [
    {
     "data": {
      "text/html": [
       "<div>\n",
       "<style scoped>\n",
       "    .dataframe tbody tr th:only-of-type {\n",
       "        vertical-align: middle;\n",
       "    }\n",
       "\n",
       "    .dataframe tbody tr th {\n",
       "        vertical-align: top;\n",
       "    }\n",
       "\n",
       "    .dataframe thead th {\n",
       "        text-align: right;\n",
       "    }\n",
       "</style>\n",
       "<table border=\"1\" class=\"dataframe\">\n",
       "  <thead>\n",
       "    <tr style=\"text-align: right;\">\n",
       "      <th></th>\n",
       "      <th>section_id</th>\n",
       "      <th>date</th>\n",
       "      <th>absencelines</th>\n",
       "      <th>presencezones</th>\n",
       "    </tr>\n",
       "  </thead>\n",
       "  <tbody>\n",
       "    <tr>\n",
       "      <th>0</th>\n",
       "      <td>s1</td>\n",
       "      <td>2019-01-25</td>\n",
       "      <td>MULTILINESTRING ((569169.341 4742820.563, 5691...</td>\n",
       "      <td>MULTIPOLYGON (((589166.78 4742872.701, 589118....</td>\n",
       "    </tr>\n",
       "    <tr>\n",
       "      <th>1</th>\n",
       "      <td>s2</td>\n",
       "      <td>2019-03-03</td>\n",
       "      <td>LINESTRING (592927.566 4733678.432, 592818.466...</td>\n",
       "      <td>None</td>\n",
       "    </tr>\n",
       "    <tr>\n",
       "      <th>2</th>\n",
       "      <td>s3</td>\n",
       "      <td>2019-02-02</td>\n",
       "      <td>MULTILINESTRING ((500383.195 4714750.316, 5007...</td>\n",
       "      <td>MULTIPOLYGON (((616117.835 4706064.327, 616733...</td>\n",
       "    </tr>\n",
       "    <tr>\n",
       "      <th>3</th>\n",
       "      <td>s4</td>\n",
       "      <td>2019-02-05</td>\n",
       "      <td>MULTILINESTRING ((656499.299 4751214.73, 65650...</td>\n",
       "      <td>MULTIPOLYGON (((616117.835 4706064.327, 616733...</td>\n",
       "    </tr>\n",
       "  </tbody>\n",
       "</table>\n",
       "</div>"
      ],
      "text/plain": [
       "  section_id       date                                       absencelines  \\\n",
       "0         s1 2019-01-25  MULTILINESTRING ((569169.341 4742820.563, 5691...   \n",
       "1         s2 2019-03-03  LINESTRING (592927.566 4733678.432, 592818.466...   \n",
       "2         s3 2019-02-02  MULTILINESTRING ((500383.195 4714750.316, 5007...   \n",
       "3         s4 2019-02-05  MULTILINESTRING ((656499.299 4751214.73, 65650...   \n",
       "\n",
       "                                       presencezones  \n",
       "0  MULTIPOLYGON (((589166.78 4742872.701, 589118....  \n",
       "1                                               None  \n",
       "2  MULTIPOLYGON (((616117.835 4706064.327, 616733...  \n",
       "3  MULTIPOLYGON (((616117.835 4706064.327, 616733...  "
      ]
     },
     "execution_count": 36,
     "metadata": {},
     "output_type": "execute_result"
    }
   ],
   "source": [
    "u_absencelines.absencelines"
   ]
  },
  {
   "cell_type": "markdown",
   "id": "6af8b231-a4b8-404c-af13-106e4297b908",
   "metadata": {},
   "source": [
    "### Plot an ```AbsenceLines``` object\n",
    "```AbsenceLines``` objects have an inbuilt ```plot``` method to make a simple plot."
   ]
  },
  {
   "cell_type": "code",
   "execution_count": 37,
   "id": "a04e2f7b-4d9c-466c-9d87-60840369b243",
   "metadata": {},
   "outputs": [
    {
     "data": {
      "image/png": "[encoded data removed]",
      "text/plain": [
       "<Figure size 1600x800 with 1 Axes>"
      ]
     },
     "metadata": {},
     "output_type": "display_data"
    }
   ],
   "source": [
    "u_absencelines.plot()"
   ]
  },
  {
   "cell_type": "markdown",
   "id": "d199fd8d-b289-4797-88d2-9a6b98ac9c74",
   "metadata": {},
   "source": [
    "### Save an ```AbsenceLines``` object\n",
    "```AbsenceLines``` objects have an inbuilt ```save``` method to save the absencelines as a GPKG."
   ]
  },
  {
   "cell_type": "code",
   "execution_count": 38,
   "id": "08a96756-836e-47f5-a658-d54e957c965a",
   "metadata": {},
   "outputs": [
    {
     "ename": "ValueError",
     "evalue": "GeoDataFrame contains multiple geometry columns but GeoDataFrame.to_file supports only a single geometry column. Use a GeoDataFrame.to_parquet or GeoDataFrame.to_feather, drop additional geometry columns or convert them to a supported format like a well-known text (WKT) using `GeoSeries.to_wkt()`.",
     "output_type": "error",
     "traceback": [
      "\u001b[1;31m---------------------------------------------------------------------------\u001b[0m",
      "\u001b[1;31mValueError\u001b[0m                                Traceback (most recent call last)",
      "Cell \u001b[1;32mIn[38], line 1\u001b[0m\n\u001b[1;32m----> 1\u001b[0m \u001b[43mu_absencelines\u001b[49m\u001b[38;5;241;43m.\u001b[39;49m\u001b[43msave\u001b[49m\u001b[43m(\u001b[49m\u001b[43mfolder\u001b[49m\u001b[38;5;241;43m=\u001b[39;49m\u001b[43moutput_folder\u001b[49m\u001b[43m)\u001b[49m\n",
      "File \u001b[1;32m~\\AppData\\Local\\Programs\\Python\\Python312\\Lib\\site-packages\\sampley\\classes.py:490\u001b[0m, in \u001b[0;36mAbsenceLines.save\u001b[1;34m(self, folder, crs_output)\u001b[0m\n\u001b[0;32m    488\u001b[0m     check_crs(par\u001b[38;5;241m=\u001b[39m\u001b[38;5;124m'\u001b[39m\u001b[38;5;124mcrs_output\u001b[39m\u001b[38;5;124m'\u001b[39m, crs\u001b[38;5;241m=\u001b[39mcrs_output)\n\u001b[0;32m    489\u001b[0m     output_lines \u001b[38;5;241m=\u001b[39m reproject(output_lines, crs_output)\n\u001b[1;32m--> 490\u001b[0m \u001b[43moutput_lines\u001b[49m\u001b[38;5;241;43m.\u001b[39;49m\u001b[43mto_file\u001b[49m\u001b[43m(\u001b[49m\u001b[43mfolder\u001b[49m\u001b[43m \u001b[49m\u001b[38;5;241;43m+\u001b[39;49m\u001b[43m \u001b[49m\u001b[38;5;124;43m'\u001b[39;49m\u001b[38;5;124;43m/\u001b[39;49m\u001b[38;5;124;43m'\u001b[39;49m\u001b[43m \u001b[49m\u001b[38;5;241;43m+\u001b[39;49m\u001b[43m \u001b[49m\u001b[38;5;28;43mself\u001b[39;49m\u001b[38;5;241;43m.\u001b[39;49m\u001b[43mname\u001b[49m\u001b[43m \u001b[49m\u001b[38;5;241;43m+\u001b[39;49m\u001b[43m \u001b[49m\u001b[38;5;124;43m'\u001b[39;49m\u001b[38;5;124;43m-absencelines.gpkg\u001b[39;49m\u001b[38;5;124;43m'\u001b[39;49m\u001b[43m)\u001b[49m\n",
      "File \u001b[1;32m~\\AppData\\Local\\Programs\\Python\\Python312\\Lib\\site-packages\\geopandas\\geodataframe.py:1536\u001b[0m, in \u001b[0;36mGeoDataFrame.to_file\u001b[1;34m(self, filename, driver, schema, index, **kwargs)\u001b[0m\n\u001b[0;32m   1441\u001b[0m \u001b[38;5;250m\u001b[39m\u001b[38;5;124;03m\"\"\"Write the ``GeoDataFrame`` to a file.\u001b[39;00m\n\u001b[0;32m   1442\u001b[0m \n\u001b[0;32m   1443\u001b[0m \u001b[38;5;124;03mBy default, an ESRI shapefile is written, but any OGR data source\u001b[39;00m\n\u001b[1;32m   (...)\u001b[0m\n\u001b[0;32m   1532\u001b[0m \n\u001b[0;32m   1533\u001b[0m \u001b[38;5;124;03m\"\"\"\u001b[39;00m\n\u001b[0;32m   1534\u001b[0m \u001b[38;5;28;01mfrom\u001b[39;00m \u001b[38;5;21;01mgeopandas\u001b[39;00m\u001b[38;5;21;01m.\u001b[39;00m\u001b[38;5;21;01mio\u001b[39;00m\u001b[38;5;21;01m.\u001b[39;00m\u001b[38;5;21;01mfile\u001b[39;00m \u001b[38;5;28;01mimport\u001b[39;00m _to_file\n\u001b[1;32m-> 1536\u001b[0m \u001b[43m_to_file\u001b[49m\u001b[43m(\u001b[49m\u001b[38;5;28;43mself\u001b[39;49m\u001b[43m,\u001b[49m\u001b[43m \u001b[49m\u001b[43mfilename\u001b[49m\u001b[43m,\u001b[49m\u001b[43m \u001b[49m\u001b[43mdriver\u001b[49m\u001b[43m,\u001b[49m\u001b[43m \u001b[49m\u001b[43mschema\u001b[49m\u001b[43m,\u001b[49m\u001b[43m \u001b[49m\u001b[43mindex\u001b[49m\u001b[43m,\u001b[49m\u001b[43m \u001b[49m\u001b[38;5;241;43m*\u001b[39;49m\u001b[38;5;241;43m*\u001b[39;49m\u001b[43mkwargs\u001b[49m\u001b[43m)\u001b[49m\n",
      "File \u001b[1;32m~\\AppData\\Local\\Programs\\Python\\Python312\\Lib\\site-packages\\geopandas\\io\\file.py:673\u001b[0m, in \u001b[0;36m_to_file\u001b[1;34m(df, filename, driver, schema, index, mode, crs, engine, metadata, **kwargs)\u001b[0m\n\u001b[0;32m    666\u001b[0m     warnings\u001b[38;5;241m.\u001b[39mwarn(\n\u001b[0;32m    667\u001b[0m         \u001b[38;5;124m\"\u001b[39m\u001b[38;5;124mColumn names longer than 10 characters will be truncated when saved to \u001b[39m\u001b[38;5;124m\"\u001b[39m\n\u001b[0;32m    668\u001b[0m         \u001b[38;5;124m\"\u001b[39m\u001b[38;5;124mESRI Shapefile.\u001b[39m\u001b[38;5;124m\"\u001b[39m,\n\u001b[0;32m    669\u001b[0m         stacklevel\u001b[38;5;241m=\u001b[39m\u001b[38;5;241m3\u001b[39m,\n\u001b[0;32m    670\u001b[0m     )\n\u001b[0;32m    672\u001b[0m \u001b[38;5;28;01mif\u001b[39;00m (df\u001b[38;5;241m.\u001b[39mdtypes \u001b[38;5;241m==\u001b[39m \u001b[38;5;124m\"\u001b[39m\u001b[38;5;124mgeometry\u001b[39m\u001b[38;5;124m\"\u001b[39m)\u001b[38;5;241m.\u001b[39msum() \u001b[38;5;241m>\u001b[39m \u001b[38;5;241m1\u001b[39m:\n\u001b[1;32m--> 673\u001b[0m     \u001b[38;5;28;01mraise\u001b[39;00m \u001b[38;5;167;01mValueError\u001b[39;00m(\n\u001b[0;32m    674\u001b[0m         \u001b[38;5;124m\"\u001b[39m\u001b[38;5;124mGeoDataFrame contains multiple geometry columns but GeoDataFrame.to_file \u001b[39m\u001b[38;5;124m\"\u001b[39m\n\u001b[0;32m    675\u001b[0m         \u001b[38;5;124m\"\u001b[39m\u001b[38;5;124msupports only a single geometry column. Use a GeoDataFrame.to_parquet or \u001b[39m\u001b[38;5;124m\"\u001b[39m\n\u001b[0;32m    676\u001b[0m         \u001b[38;5;124m\"\u001b[39m\u001b[38;5;124mGeoDataFrame.to_feather, drop additional geometry columns or convert them \u001b[39m\u001b[38;5;124m\"\u001b[39m\n\u001b[0;32m    677\u001b[0m         \u001b[38;5;124m\"\u001b[39m\u001b[38;5;124mto a supported format like a well-known text (WKT) using \u001b[39m\u001b[38;5;124m\"\u001b[39m\n\u001b[0;32m    678\u001b[0m         \u001b[38;5;124m\"\u001b[39m\u001b[38;5;124m`GeoSeries.to_wkt()`.\u001b[39m\u001b[38;5;124m\"\u001b[39m,\n\u001b[0;32m    679\u001b[0m     )\n\u001b[0;32m    680\u001b[0m _check_metadata_supported(metadata, engine, driver)\n\u001b[0;32m    682\u001b[0m \u001b[38;5;28;01mif\u001b[39;00m mode \u001b[38;5;129;01mnot\u001b[39;00m \u001b[38;5;129;01min\u001b[39;00m (\u001b[38;5;124m\"\u001b[39m\u001b[38;5;124mw\u001b[39m\u001b[38;5;124m\"\u001b[39m, \u001b[38;5;124m\"\u001b[39m\u001b[38;5;124ma\u001b[39m\u001b[38;5;124m\"\u001b[39m):\n",
      "\u001b[1;31mValueError\u001b[0m: GeoDataFrame contains multiple geometry columns but GeoDataFrame.to_file supports only a single geometry column. Use a GeoDataFrame.to_parquet or GeoDataFrame.to_feather, drop additional geometry columns or convert them to a supported format like a well-known text (WKT) using `GeoSeries.to_wkt()`."
     ]
    }
   ],
   "source": [
    "u_absencelines.save(folder=output_folder)"
   ]
  },
  {
   "cell_type": "markdown",
   "id": "29c4ba95-4c24-422c-a952-42261abc9519",
   "metadata": {},
   "source": [
    "## Absences\n",
    "Please note: the AbsenceLines sections of this notebook must be run before running this section"
   ]
  },
  {
   "cell_type": "markdown",
   "id": "03eaa88d-a8fb-4a20-87ee-b4f3d22348b3",
   "metadata": {},
   "source": [
    "### Make an ```Absences``` object...\n",
    "We can make an ```Absences``` object from an ```AbsenceLines``` object with the ```Absences.delimit()``` class method."
   ]
  },
  {
   "cell_type": "code",
   "execution_count": 41,
   "id": "fe919dd1-3457-40b7-91c2-ad043ee5f0c8",
   "metadata": {},
   "outputs": [],
   "source": [
    "u_absences = Absences.delimit(\n",
    "    absencelines=u_absencelines,\n",
    "    var='along',\n",
    "    target=20,\n",
    "    dfls=None)"
   ]
  },
  {
   "cell_type": "markdown",
   "id": "d662a8ae-524b-475e-8d79-40d00854bbd1",
   "metadata": {},
   "source": [
    "### Thin an ```Absences``` object\n",
    "We can thin a ```Absences``` object with the ```Absences.thin``` method (based on the ```thinst``` function from the ```thinst``` package)."
   ]
  },
  {
   "cell_type": "code",
   "execution_count": 42,
   "id": "1d463808-08f5-46b7-b262-ca96f1332027",
   "metadata": {},
   "outputs": [
    {
     "name": "stdout",
     "output_type": "stream",
     "text": [
      "Conducting spatiotemporal thinning...\n",
      "Thinning complete.\n"
     ]
    }
   ],
   "source": [
    "u_absences.thin(\n",
    "    sp_threshold=10000,\n",
    "    tm_threshold=5,\n",
    "    tm_unit='day',\n",
    "    target=9)"
   ]
  },
  {
   "cell_type": "markdown",
   "id": "134fd457-e0ad-4066-8aaa-8393e94a73ba",
   "metadata": {},
   "source": [
    "### Access an ```Absences``` object's attributes\n",
    "A ```Absences``` object, regardless of how it was made, will have three attributes (```name```, ```parameters```, and ```full```). Two additional attributes will be added after running ```Absences.thin``` (```kept``` and ```removed```). We can access the attributes as follows."
   ]
  },
  {
   "cell_type": "code",
   "execution_count": 43,
   "id": "aa5260e7-6fef-40be-941f-b3fba3f0dd08",
   "metadata": {},
   "outputs": [
    {
     "data": {
      "text/plain": [
       "'absences-a-10000m-5day'"
      ]
     },
     "execution_count": 43,
     "metadata": {},
     "output_type": "execute_result"
    }
   ],
   "source": [
    "u_absences.name"
   ]
  },
  {
   "cell_type": "code",
   "execution_count": 44,
   "id": "02b451a3-39d4-400d-aeec-9142e3f995eb",
   "metadata": {},
   "outputs": [
    {
     "data": {
      "text/plain": [
       "{'absences_var': 'along',\n",
       " 'absences_target': 20,\n",
       " 'absences_crs': 'EPSG:32619',\n",
       " 'absences_sp_threshold': 10000,\n",
       " 'absences_tm_threshold': 5,\n",
       " 'absences_tm_unit': 'day'}"
      ]
     },
     "execution_count": 44,
     "metadata": {},
     "output_type": "execute_result"
    }
   ],
   "source": [
    "u_absences.parameters"
   ]
  },
  {
   "cell_type": "code",
   "execution_count": 45,
   "id": "b5d8daf9-56be-4e5e-9a8b-f3f9c714e5d1",
   "metadata": {},
   "outputs": [
    {
     "data": {
      "text/html": [
       "<div>\n",
       "<style scoped>\n",
       "    .dataframe tbody tr th:only-of-type {\n",
       "        vertical-align: middle;\n",
       "    }\n",
       "\n",
       "    .dataframe tbody tr th {\n",
       "        vertical-align: top;\n",
       "    }\n",
       "\n",
       "    .dataframe thead th {\n",
       "        text-align: right;\n",
       "    }\n",
       "</style>\n",
       "<table border=\"1\" class=\"dataframe\">\n",
       "  <thead>\n",
       "    <tr style=\"text-align: right;\">\n",
       "      <th></th>\n",
       "      <th>point_id</th>\n",
       "      <th>point</th>\n",
       "      <th>date</th>\n",
       "    </tr>\n",
       "  </thead>\n",
       "  <tbody>\n",
       "    <tr>\n",
       "      <th>0</th>\n",
       "      <td>a01</td>\n",
       "      <td>POINT (566436.655 4742812.54)</td>\n",
       "      <td>2019-01-25</td>\n",
       "    </tr>\n",
       "    <tr>\n",
       "      <th>1</th>\n",
       "      <td>a02</td>\n",
       "      <td>POINT (509929.022 4742554.774)</td>\n",
       "      <td>2019-01-25</td>\n",
       "    </tr>\n",
       "    <tr>\n",
       "      <th>2</th>\n",
       "      <td>a03</td>\n",
       "      <td>POINT (507705.256 4742533.048)</td>\n",
       "      <td>2019-01-25</td>\n",
       "    </tr>\n",
       "    <tr>\n",
       "      <th>3</th>\n",
       "      <td>a04</td>\n",
       "      <td>POINT (556553.952 4715036.011)</td>\n",
       "      <td>2019-02-02</td>\n",
       "    </tr>\n",
       "    <tr>\n",
       "      <th>4</th>\n",
       "      <td>a05</td>\n",
       "      <td>POINT (558748.678 4715035.346)</td>\n",
       "      <td>2019-02-02</td>\n",
       "    </tr>\n",
       "    <tr>\n",
       "      <th>5</th>\n",
       "      <td>a06</td>\n",
       "      <td>POINT (596069.486 4705905.857)</td>\n",
       "      <td>2019-02-02</td>\n",
       "    </tr>\n",
       "    <tr>\n",
       "      <th>6</th>\n",
       "      <td>a07</td>\n",
       "      <td>POINT (573009.268 4705916.547)</td>\n",
       "      <td>2019-02-02</td>\n",
       "    </tr>\n",
       "    <tr>\n",
       "      <th>7</th>\n",
       "      <td>a08</td>\n",
       "      <td>POINT (650408.175 4734682.714)</td>\n",
       "      <td>2019-02-05</td>\n",
       "    </tr>\n",
       "    <tr>\n",
       "      <th>8</th>\n",
       "      <td>a09</td>\n",
       "      <td>POINT (633371.162 4734377.692)</td>\n",
       "      <td>2019-02-05</td>\n",
       "    </tr>\n",
       "    <tr>\n",
       "      <th>9</th>\n",
       "      <td>a10</td>\n",
       "      <td>POINT (613228.008 4734018.062)</td>\n",
       "      <td>2019-02-05</td>\n",
       "    </tr>\n",
       "    <tr>\n",
       "      <th>10</th>\n",
       "      <td>a11</td>\n",
       "      <td>POINT (633118.441 4725134.786)</td>\n",
       "      <td>2019-02-05</td>\n",
       "    </tr>\n",
       "    <tr>\n",
       "      <th>11</th>\n",
       "      <td>a12</td>\n",
       "      <td>POINT (618529.735 4715612.65)</td>\n",
       "      <td>2019-02-05</td>\n",
       "    </tr>\n",
       "    <tr>\n",
       "      <th>12</th>\n",
       "      <td>a13</td>\n",
       "      <td>POINT (603487.768 4706117.395)</td>\n",
       "      <td>2019-02-05</td>\n",
       "    </tr>\n",
       "    <tr>\n",
       "      <th>13</th>\n",
       "      <td>a14</td>\n",
       "      <td>POINT (646311.067 4697589.847)</td>\n",
       "      <td>2019-02-05</td>\n",
       "    </tr>\n",
       "    <tr>\n",
       "      <th>14</th>\n",
       "      <td>a15</td>\n",
       "      <td>POINT (639619.675 4697471.809)</td>\n",
       "      <td>2019-02-05</td>\n",
       "    </tr>\n",
       "    <tr>\n",
       "      <th>15</th>\n",
       "      <td>a16</td>\n",
       "      <td>POINT (578978.077 4733634.782)</td>\n",
       "      <td>2019-03-03</td>\n",
       "    </tr>\n",
       "    <tr>\n",
       "      <th>16</th>\n",
       "      <td>a17</td>\n",
       "      <td>POINT (558721.078 4733531.701)</td>\n",
       "      <td>2019-03-03</td>\n",
       "    </tr>\n",
       "    <tr>\n",
       "      <th>17</th>\n",
       "      <td>a18</td>\n",
       "      <td>POINT (554035.83 4733505.666)</td>\n",
       "      <td>2019-03-03</td>\n",
       "    </tr>\n",
       "    <tr>\n",
       "      <th>18</th>\n",
       "      <td>a19</td>\n",
       "      <td>POINT (539228.758 4733431.262)</td>\n",
       "      <td>2019-03-03</td>\n",
       "    </tr>\n",
       "    <tr>\n",
       "      <th>19</th>\n",
       "      <td>a20</td>\n",
       "      <td>POINT (510721.383 4733283.738)</td>\n",
       "      <td>2019-03-03</td>\n",
       "    </tr>\n",
       "  </tbody>\n",
       "</table>\n",
       "</div>"
      ],
      "text/plain": [
       "   point_id                           point       date\n",
       "0       a01   POINT (566436.655 4742812.54) 2019-01-25\n",
       "1       a02  POINT (509929.022 4742554.774) 2019-01-25\n",
       "2       a03  POINT (507705.256 4742533.048) 2019-01-25\n",
       "3       a04  POINT (556553.952 4715036.011) 2019-02-02\n",
       "4       a05  POINT (558748.678 4715035.346) 2019-02-02\n",
       "5       a06  POINT (596069.486 4705905.857) 2019-02-02\n",
       "6       a07  POINT (573009.268 4705916.547) 2019-02-02\n",
       "7       a08  POINT (650408.175 4734682.714) 2019-02-05\n",
       "8       a09  POINT (633371.162 4734377.692) 2019-02-05\n",
       "9       a10  POINT (613228.008 4734018.062) 2019-02-05\n",
       "10      a11  POINT (633118.441 4725134.786) 2019-02-05\n",
       "11      a12   POINT (618529.735 4715612.65) 2019-02-05\n",
       "12      a13  POINT (603487.768 4706117.395) 2019-02-05\n",
       "13      a14  POINT (646311.067 4697589.847) 2019-02-05\n",
       "14      a15  POINT (639619.675 4697471.809) 2019-02-05\n",
       "15      a16  POINT (578978.077 4733634.782) 2019-03-03\n",
       "16      a17  POINT (558721.078 4733531.701) 2019-03-03\n",
       "17      a18   POINT (554035.83 4733505.666) 2019-03-03\n",
       "18      a19  POINT (539228.758 4733431.262) 2019-03-03\n",
       "19      a20  POINT (510721.383 4733283.738) 2019-03-03"
      ]
     },
     "execution_count": 45,
     "metadata": {},
     "output_type": "execute_result"
    }
   ],
   "source": [
    "u_absences.full"
   ]
  },
  {
   "cell_type": "code",
   "execution_count": 46,
   "id": "31c0ad33-7d47-4538-a3c0-484b2b75d2a9",
   "metadata": {},
   "outputs": [
    {
     "data": {
      "text/html": [
       "<div>\n",
       "<style scoped>\n",
       "    .dataframe tbody tr th:only-of-type {\n",
       "        vertical-align: middle;\n",
       "    }\n",
       "\n",
       "    .dataframe tbody tr th {\n",
       "        vertical-align: top;\n",
       "    }\n",
       "\n",
       "    .dataframe thead th {\n",
       "        text-align: right;\n",
       "    }\n",
       "</style>\n",
       "<table border=\"1\" class=\"dataframe\">\n",
       "  <thead>\n",
       "    <tr style=\"text-align: right;\">\n",
       "      <th></th>\n",
       "      <th>point_id</th>\n",
       "      <th>point</th>\n",
       "      <th>date</th>\n",
       "    </tr>\n",
       "  </thead>\n",
       "  <tbody>\n",
       "    <tr>\n",
       "      <th>0</th>\n",
       "      <td>a01</td>\n",
       "      <td>POINT (566436.655 4742812.54)</td>\n",
       "      <td>2019-01-25</td>\n",
       "    </tr>\n",
       "    <tr>\n",
       "      <th>4</th>\n",
       "      <td>a05</td>\n",
       "      <td>POINT (558748.678 4715035.346)</td>\n",
       "      <td>2019-02-02</td>\n",
       "    </tr>\n",
       "    <tr>\n",
       "      <th>5</th>\n",
       "      <td>a06</td>\n",
       "      <td>POINT (596069.486 4705905.857)</td>\n",
       "      <td>2019-02-02</td>\n",
       "    </tr>\n",
       "    <tr>\n",
       "      <th>6</th>\n",
       "      <td>a07</td>\n",
       "      <td>POINT (573009.268 4705916.547)</td>\n",
       "      <td>2019-02-02</td>\n",
       "    </tr>\n",
       "    <tr>\n",
       "      <th>7</th>\n",
       "      <td>a08</td>\n",
       "      <td>POINT (650408.175 4734682.714)</td>\n",
       "      <td>2019-02-05</td>\n",
       "    </tr>\n",
       "    <tr>\n",
       "      <th>10</th>\n",
       "      <td>a11</td>\n",
       "      <td>POINT (633118.441 4725134.786)</td>\n",
       "      <td>2019-02-05</td>\n",
       "    </tr>\n",
       "    <tr>\n",
       "      <th>11</th>\n",
       "      <td>a12</td>\n",
       "      <td>POINT (618529.735 4715612.65)</td>\n",
       "      <td>2019-02-05</td>\n",
       "    </tr>\n",
       "    <tr>\n",
       "      <th>17</th>\n",
       "      <td>a18</td>\n",
       "      <td>POINT (554035.83 4733505.666)</td>\n",
       "      <td>2019-03-03</td>\n",
       "    </tr>\n",
       "    <tr>\n",
       "      <th>19</th>\n",
       "      <td>a20</td>\n",
       "      <td>POINT (510721.383 4733283.738)</td>\n",
       "      <td>2019-03-03</td>\n",
       "    </tr>\n",
       "  </tbody>\n",
       "</table>\n",
       "</div>"
      ],
      "text/plain": [
       "   point_id                           point       date\n",
       "0       a01   POINT (566436.655 4742812.54) 2019-01-25\n",
       "4       a05  POINT (558748.678 4715035.346) 2019-02-02\n",
       "5       a06  POINT (596069.486 4705905.857) 2019-02-02\n",
       "6       a07  POINT (573009.268 4705916.547) 2019-02-02\n",
       "7       a08  POINT (650408.175 4734682.714) 2019-02-05\n",
       "10      a11  POINT (633118.441 4725134.786) 2019-02-05\n",
       "11      a12   POINT (618529.735 4715612.65) 2019-02-05\n",
       "17      a18   POINT (554035.83 4733505.666) 2019-03-03\n",
       "19      a20  POINT (510721.383 4733283.738) 2019-03-03"
      ]
     },
     "execution_count": 46,
     "metadata": {},
     "output_type": "execute_result"
    }
   ],
   "source": [
    "u_absences.kept"
   ]
  },
  {
   "cell_type": "code",
   "execution_count": 47,
   "id": "c8d633d0-0df2-4944-bbc9-caa5b284cc8e",
   "metadata": {},
   "outputs": [
    {
     "data": {
      "text/html": [
       "<div>\n",
       "<style scoped>\n",
       "    .dataframe tbody tr th:only-of-type {\n",
       "        vertical-align: middle;\n",
       "    }\n",
       "\n",
       "    .dataframe tbody tr th {\n",
       "        vertical-align: top;\n",
       "    }\n",
       "\n",
       "    .dataframe thead th {\n",
       "        text-align: right;\n",
       "    }\n",
       "</style>\n",
       "<table border=\"1\" class=\"dataframe\">\n",
       "  <thead>\n",
       "    <tr style=\"text-align: right;\">\n",
       "      <th></th>\n",
       "      <th>point_id</th>\n",
       "      <th>point</th>\n",
       "      <th>date</th>\n",
       "    </tr>\n",
       "  </thead>\n",
       "  <tbody>\n",
       "    <tr>\n",
       "      <th>1</th>\n",
       "      <td>a02</td>\n",
       "      <td>POINT (509929.022 4742554.774)</td>\n",
       "      <td>2019-01-25</td>\n",
       "    </tr>\n",
       "    <tr>\n",
       "      <th>2</th>\n",
       "      <td>a03</td>\n",
       "      <td>POINT (507705.256 4742533.048)</td>\n",
       "      <td>2019-01-25</td>\n",
       "    </tr>\n",
       "    <tr>\n",
       "      <th>3</th>\n",
       "      <td>a04</td>\n",
       "      <td>POINT (556553.952 4715036.011)</td>\n",
       "      <td>2019-02-02</td>\n",
       "    </tr>\n",
       "    <tr>\n",
       "      <th>8</th>\n",
       "      <td>a09</td>\n",
       "      <td>POINT (633371.162 4734377.692)</td>\n",
       "      <td>2019-02-05</td>\n",
       "    </tr>\n",
       "    <tr>\n",
       "      <th>9</th>\n",
       "      <td>a10</td>\n",
       "      <td>POINT (613228.008 4734018.062)</td>\n",
       "      <td>2019-02-05</td>\n",
       "    </tr>\n",
       "    <tr>\n",
       "      <th>12</th>\n",
       "      <td>a13</td>\n",
       "      <td>POINT (603487.768 4706117.395)</td>\n",
       "      <td>2019-02-05</td>\n",
       "    </tr>\n",
       "    <tr>\n",
       "      <th>13</th>\n",
       "      <td>a14</td>\n",
       "      <td>POINT (646311.067 4697589.847)</td>\n",
       "      <td>2019-02-05</td>\n",
       "    </tr>\n",
       "    <tr>\n",
       "      <th>14</th>\n",
       "      <td>a15</td>\n",
       "      <td>POINT (639619.675 4697471.809)</td>\n",
       "      <td>2019-02-05</td>\n",
       "    </tr>\n",
       "    <tr>\n",
       "      <th>15</th>\n",
       "      <td>a16</td>\n",
       "      <td>POINT (578978.077 4733634.782)</td>\n",
       "      <td>2019-03-03</td>\n",
       "    </tr>\n",
       "    <tr>\n",
       "      <th>16</th>\n",
       "      <td>a17</td>\n",
       "      <td>POINT (558721.078 4733531.701)</td>\n",
       "      <td>2019-03-03</td>\n",
       "    </tr>\n",
       "    <tr>\n",
       "      <th>18</th>\n",
       "      <td>a19</td>\n",
       "      <td>POINT (539228.758 4733431.262)</td>\n",
       "      <td>2019-03-03</td>\n",
       "    </tr>\n",
       "  </tbody>\n",
       "</table>\n",
       "</div>"
      ],
      "text/plain": [
       "   point_id                           point       date\n",
       "1       a02  POINT (509929.022 4742554.774) 2019-01-25\n",
       "2       a03  POINT (507705.256 4742533.048) 2019-01-25\n",
       "3       a04  POINT (556553.952 4715036.011) 2019-02-02\n",
       "8       a09  POINT (633371.162 4734377.692) 2019-02-05\n",
       "9       a10  POINT (613228.008 4734018.062) 2019-02-05\n",
       "12      a13  POINT (603487.768 4706117.395) 2019-02-05\n",
       "13      a14  POINT (646311.067 4697589.847) 2019-02-05\n",
       "14      a15  POINT (639619.675 4697471.809) 2019-02-05\n",
       "15      a16  POINT (578978.077 4733634.782) 2019-03-03\n",
       "16      a17  POINT (558721.078 4733531.701) 2019-03-03\n",
       "18      a19  POINT (539228.758 4733431.262) 2019-03-03"
      ]
     },
     "execution_count": 47,
     "metadata": {},
     "output_type": "execute_result"
    }
   ],
   "source": [
    "u_absences.removed"
   ]
  },
  {
   "cell_type": "markdown",
   "id": "8faaa39e-dece-42dc-891f-eb941bd75710",
   "metadata": {},
   "source": [
    "### Plot an ```Absences``` object\n",
    "```Absences``` objects have an inbuilt ```plot``` method to make a simple plot.\n",
    "<br>We can set the parameter ```which``` to determine which of the attributes ```full```, ```kept```, or ```removed``` to plot (note that ```which='thinned'``` will plot both ```kept``` and ```removed```)."
   ]
  },
  {
   "cell_type": "code",
   "execution_count": 48,
   "id": "3cc2e021-af82-4d3c-b6e7-7b5078eeefa9",
   "metadata": {},
   "outputs": [
    {
     "data": {
      "image/png": "[encoded data removed]",
      "text/plain": [
       "<Figure size 1600x800 with 1 Axes>"
      ]
     },
     "metadata": {},
     "output_type": "display_data"
    }
   ],
   "source": [
    "u_absences.plot(sp_threshold=10000, which='full')"
   ]
  },
  {
   "cell_type": "code",
   "execution_count": 49,
   "id": "63d1485b-edc4-42ff-a0a0-e52212263e8d",
   "metadata": {},
   "outputs": [
    {
     "data": {
      "image/png": "[encoded data removed]",
      "text/plain": [
       "<Figure size 1600x800 with 1 Axes>"
      ]
     },
     "metadata": {},
     "output_type": "display_data"
    }
   ],
   "source": [
    "u_absences.plot(sp_threshold=10000, which='thinned')"
   ]
  },
  {
   "cell_type": "markdown",
   "id": "e24ba442-ab99-450a-9c3b-3d850b74ab57",
   "metadata": {},
   "source": [
    "### Save an ```Absences``` object\n",
    "```Absences``` objects have an inbuilt ```save``` method to save the absences as a GPKG."
   ]
  },
  {
   "cell_type": "code",
   "execution_count": 50,
   "id": "571b8236-36a6-4f3e-8d01-4837430ec3e8",
   "metadata": {},
   "outputs": [],
   "source": [
    "u_absences.save(folder=output_folder)"
   ]
  }
 ],
 "metadata": {
  "kernelspec": {
   "display_name": "Python 3 (ipykernel)",
   "language": "python",
   "name": "python3"
  },
  "language_info": {
   "codemirror_mode": {
    "name": "ipython",
    "version": 3
   },
   "file_extension": ".py",
   "mimetype": "text/x-python",
   "name": "python",
   "nbconvert_exporter": "python",
   "pygments_lexer": "ipython3",
   "version": "3.12.3"
  }
 },
 "nbformat": 4,
 "nbformat_minor": 5
}
