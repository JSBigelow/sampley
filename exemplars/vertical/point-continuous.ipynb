{
 "cells": [
  {
   "cell_type": "markdown",
   "id": "0de18513-ce8b-406b-88a8-772efd0bb0a3",
   "metadata": {},
   "source": [
    "# ```sampley``` exemplar: the point approach\n",
    "Before going through this exemplar, please consult the Introduction to sampley exemplars (```intro.ipynb```).\n",
    "<br>This exemplar illustrates an application of the point approach to data contained within a single file (```trackpoints.csv```) containing continuous datapoints (i.e., datapoints recorded at frequent, regular intervals) that can be joined to construct survey tracks.\n",
    "<br>It differs from the standard point exemplar as having continuous datapoints allows for certain procedures to be applied in Stage 3 that may be more efficient and precise."
   ]
  },
  {
   "cell_type": "markdown",
   "id": "a5f17978-8542-4d78-b4ac-cf397fc1a02d",
   "metadata": {},
   "source": [
    "## Setup"
   ]
  },
  {
   "cell_type": "markdown",
   "id": "c060e52d-229d-459d-b1cf-f2fe092a266a",
   "metadata": {},
   "source": [
    "### Import the package"
   ]
  },
  {
   "cell_type": "code",
   "execution_count": 1,
   "id": "00c26ed0-1dff-4b75-bcf2-0595373e7743",
   "metadata": {},
   "outputs": [],
   "source": [
    "from sampley import *"
   ]
  },
  {
   "cell_type": "markdown",
   "id": "8c681985-ba89-48a9-b39f-8cdd41760bbb",
   "metadata": {},
   "source": [
    "### Set the input folder\n",
    "To run this exemplar, download the mock data files, put them in a folder, and set the path to the folder below."
   ]
  },
  {
   "cell_type": "code",
   "execution_count": 2,
   "id": "90aca9bb-d9e0-4af9-b903-4180094dab22",
   "metadata": {},
   "outputs": [],
   "source": [
    "input_folder = './input/'"
   ]
  },
  {
   "cell_type": "markdown",
   "id": "887b329d-dc56-447b-b07d-6895e04cf73d",
   "metadata": {},
   "source": [
    "### Set the output folder\n",
    "To run this exemplar, make a folder to save the outputs in and set the path to the folder below."
   ]
  },
  {
   "cell_type": "code",
   "execution_count": 3,
   "id": "ad8e9468-4c66-4b7b-a323-0164ae0c08eb",
   "metadata": {},
   "outputs": [],
   "source": [
    "output_folder = './output/'"
   ]
  },
  {
   "cell_type": "markdown",
   "id": "d6a09925-bf1c-42ca-85a4-d0bccf0a8d43",
   "metadata": {},
   "source": [
    "## Stage 1\n",
    "In Stage 1, we import a single file (```trackpoints.csv```) to make a ```DataPoints``` object, from which we then make a ```Sections``` object.\n",
    "<br>Although we use a CSV file in this exemplar, there are other options for file types (including XLSX, GPKG, and SHP files). Please see the Stage 1 exemplar (```stage-1.ipynb```) in the horizontal exemplars folder or the User Manual for more details. Note that, regardless of the input file type, once any ```DataPoints``` and/or ```Sections``` objects have been made, the subsequent processing will be the same."
   ]
  },
  {
   "cell_type": "code",
   "execution_count": 4,
   "id": "43d348ba-dc97-48a6-9c1b-3a7754ada0ce",
   "metadata": {},
   "outputs": [
    {
     "name": "stdout",
     "output_type": "stream",
     "text": [
      "Success: file opened.\n",
      "Success: X and Y coordinates parsed.\n",
      "Success: reprojected to CRS \"EPSG:32619\"\n",
      "Success: column \"datetime\" reformatted to datetimes.\n",
      "Success: timezone of column \"datetime\" set to \"UTC-05:00\".\n",
      "Success: datapoint IDs generated.\n"
     ]
    }
   ],
   "source": [
    "u_trackpoints = DataPoints.from_file(\n",
    "    filepath=input_folder+'trackpoints.csv',\n",
    "    x_col='lon',\n",
    "    y_col='lat',\n",
    "    crs_input='EPSG:4326',\n",
    "    crs_working='EPSG:32619',\n",
    "    datetime_col='datetime',\n",
    "    tz_input='UTC-05:00',\n",
    "    section_id_col='section_id'  \n",
    ")"
   ]
  },
  {
   "cell_type": "code",
   "execution_count": 5,
   "id": "2a009720-1548-4f10-b858-39d8ef4b6f6b",
   "metadata": {},
   "outputs": [],
   "source": [
    "u_sections = Sections.from_datapoints(datapoints=u_trackpoints)"
   ]
  },
  {
   "cell_type": "markdown",
   "id": "3e27b45e-4de2-441c-9422-78e44117cceb",
   "metadata": {},
   "source": [
    "## Stage 2\n",
    "In Stage 2, we use the ```DataPoints``` object containing sightings data to make a ```Presences``` object which we thin with a spatial threshold of 10000 m and a temporal threshold of 5 days.\n",
    "<br>Then, we use the ```Presences``` object and the ```Sections``` object to make a ```PresenceZones``` object with the same thresholds. It should be noted that the presence zones object is made from all the presences, not only those kept after spatial thinning.\n",
    "<br>Finally, we use the ```Sections``` object and the ```PresenceZones``` object to make an ```Absences``` object. We also thin these absences with the same thresholds as well as a target equal to the number of presences kept after thinning."
   ]
  },
  {
   "cell_type": "code",
   "execution_count": 6,
   "id": "fa3c0931-4bd2-4312-963d-ecc2959b2c09",
   "metadata": {},
   "outputs": [],
   "source": [
    "u_presences = Presences.delimit(\n",
    "    datapoints=u_trackpoints,\n",
    "    presence_col='individuals')\n",
    "u_presences.thin(\n",
    "    sp_threshold=10000,\n",
    "    tm_threshold=5,\n",
    "    tm_unit='day')"
   ]
  },
  {
   "cell_type": "code",
   "execution_count": 7,
   "id": "97dfc0d5-f773-42ad-984e-de14af1a4fe7",
   "metadata": {},
   "outputs": [
    {
     "data": {
      "text/html": [
       "<div>\n",
       "<style scoped>\n",
       "    .dataframe tbody tr th:only-of-type {\n",
       "        vertical-align: middle;\n",
       "    }\n",
       "\n",
       "    .dataframe tbody tr th {\n",
       "        vertical-align: top;\n",
       "    }\n",
       "\n",
       "    .dataframe thead th {\n",
       "        text-align: right;\n",
       "    }\n",
       "</style>\n",
       "<table border=\"1\" class=\"dataframe\">\n",
       "  <thead>\n",
       "    <tr style=\"text-align: right;\">\n",
       "      <th></th>\n",
       "      <th>point_id</th>\n",
       "      <th>point</th>\n",
       "      <th>date</th>\n",
       "      <th>datapoint_id</th>\n",
       "    </tr>\n",
       "  </thead>\n",
       "  <tbody>\n",
       "    <tr>\n",
       "      <th>0</th>\n",
       "      <td>p01</td>\n",
       "      <td>POINT (579166.78 4742872.701)</td>\n",
       "      <td>2019-01-25</td>\n",
       "      <td>d0004</td>\n",
       "    </tr>\n",
       "    <tr>\n",
       "      <th>1</th>\n",
       "      <td>p02</td>\n",
       "      <td>POINT (554184.217 4742741.886)</td>\n",
       "      <td>2019-01-25</td>\n",
       "      <td>d0068</td>\n",
       "    </tr>\n",
       "    <tr>\n",
       "      <th>2</th>\n",
       "      <td>p03</td>\n",
       "      <td>POINT (548599.876 4742700.214)</td>\n",
       "      <td>2019-01-25</td>\n",
       "      <td>d0082</td>\n",
       "    </tr>\n",
       "    <tr>\n",
       "      <th>3</th>\n",
       "      <td>p04</td>\n",
       "      <td>POINT (520909.741 4714855.058)</td>\n",
       "      <td>2019-02-02</td>\n",
       "      <td>d0480</td>\n",
       "    </tr>\n",
       "    <tr>\n",
       "      <th>4</th>\n",
       "      <td>p05</td>\n",
       "      <td>POINT (532548.249 4714899.835)</td>\n",
       "      <td>2019-02-02</td>\n",
       "      <td>d0510</td>\n",
       "    </tr>\n",
       "    <tr>\n",
       "      <th>5</th>\n",
       "      <td>p06</td>\n",
       "      <td>POINT (512817.407 4705582.465)</td>\n",
       "      <td>2019-02-02</td>\n",
       "      <td>d0910</td>\n",
       "    </tr>\n",
       "    <tr>\n",
       "      <th>6</th>\n",
       "      <td>p07</td>\n",
       "      <td>POINT (504710.41 4705553.392)</td>\n",
       "      <td>2019-02-02</td>\n",
       "      <td>d0930</td>\n",
       "    </tr>\n",
       "    <tr>\n",
       "      <th>7</th>\n",
       "      <td>p08</td>\n",
       "      <td>POINT (654449.136 4716189.584)</td>\n",
       "      <td>2019-02-05</td>\n",
       "      <td>d1306</td>\n",
       "    </tr>\n",
       "    <tr>\n",
       "      <th>8</th>\n",
       "      <td>p09</td>\n",
       "      <td>POINT (645666.237 4716110.937)</td>\n",
       "      <td>2019-02-05</td>\n",
       "      <td>d1330</td>\n",
       "    </tr>\n",
       "    <tr>\n",
       "      <th>9</th>\n",
       "      <td>p10</td>\n",
       "      <td>POINT (643532.681 4716066.52)</td>\n",
       "      <td>2019-02-05</td>\n",
       "      <td>d1336</td>\n",
       "    </tr>\n",
       "    <tr>\n",
       "      <th>10</th>\n",
       "      <td>p11</td>\n",
       "      <td>POINT (629124.489 4706545.106)</td>\n",
       "      <td>2019-02-05</td>\n",
       "      <td>d1527</td>\n",
       "    </tr>\n",
       "    <tr>\n",
       "      <th>11</th>\n",
       "      <td>p12</td>\n",
       "      <td>POINT (620560.818 4697116.949)</td>\n",
       "      <td>2019-02-05</td>\n",
       "      <td>d1715</td>\n",
       "    </tr>\n",
       "    <tr>\n",
       "      <th>12</th>\n",
       "      <td>p13</td>\n",
       "      <td>POINT (611976.857 4696974.111)</td>\n",
       "      <td>2019-02-05</td>\n",
       "      <td>d1739</td>\n",
       "    </tr>\n",
       "  </tbody>\n",
       "</table>\n",
       "</div>"
      ],
      "text/plain": [
       "   point_id                           point       date datapoint_id\n",
       "0       p01   POINT (579166.78 4742872.701) 2019-01-25        d0004\n",
       "1       p02  POINT (554184.217 4742741.886) 2019-01-25        d0068\n",
       "2       p03  POINT (548599.876 4742700.214) 2019-01-25        d0082\n",
       "3       p04  POINT (520909.741 4714855.058) 2019-02-02        d0480\n",
       "4       p05  POINT (532548.249 4714899.835) 2019-02-02        d0510\n",
       "5       p06  POINT (512817.407 4705582.465) 2019-02-02        d0910\n",
       "6       p07   POINT (504710.41 4705553.392) 2019-02-02        d0930\n",
       "7       p08  POINT (654449.136 4716189.584) 2019-02-05        d1306\n",
       "8       p09  POINT (645666.237 4716110.937) 2019-02-05        d1330\n",
       "9       p10   POINT (643532.681 4716066.52) 2019-02-05        d1336\n",
       "10      p11  POINT (629124.489 4706545.106) 2019-02-05        d1527\n",
       "11      p12  POINT (620560.818 4697116.949) 2019-02-05        d1715\n",
       "12      p13  POINT (611976.857 4696974.111) 2019-02-05        d1739"
      ]
     },
     "execution_count": 7,
     "metadata": {},
     "output_type": "execute_result"
    }
   ],
   "source": [
    "u_presences.full  # print the presences GeoDataFrame"
   ]
  },
  {
   "cell_type": "code",
   "execution_count": 8,
   "id": "dbf29a5b-53bc-463b-a455-ee9e76cf278a",
   "metadata": {},
   "outputs": [
    {
     "data": {
      "image/png": "[encoded data removed]",
      "text/plain": [
       "<Figure size 1600x800 with 1 Axes>"
      ]
     },
     "metadata": {},
     "output_type": "display_data"
    }
   ],
   "source": [
    "u_presences.plot(which='thinned', sp_threshold=10000)  # plot the presences with their spatial threshold (those kept after thinning in blue, those removed in yellow)"
   ]
  },
  {
   "cell_type": "code",
   "execution_count": 9,
   "id": "3da055c7-e1d2-40df-b31f-dc0f5c913076",
   "metadata": {},
   "outputs": [],
   "source": [
    "u_presencezones = PresenceZones.delimit(\n",
    "    sections=u_sections,\n",
    "    presences=u_presences,\n",
    "    sp_threshold=10000,\n",
    "    tm_threshold=5,\n",
    "    tm_unit='day',\n",
    ")"
   ]
  },
  {
   "cell_type": "code",
   "execution_count": 10,
   "id": "04a1dd87-96e6-47a3-abaa-ba100bd03caa",
   "metadata": {},
   "outputs": [
    {
     "data": {
      "text/html": [
       "<div>\n",
       "<style scoped>\n",
       "    .dataframe tbody tr th:only-of-type {\n",
       "        vertical-align: middle;\n",
       "    }\n",
       "\n",
       "    .dataframe tbody tr th {\n",
       "        vertical-align: top;\n",
       "    }\n",
       "\n",
       "    .dataframe thead th {\n",
       "        text-align: right;\n",
       "    }\n",
       "</style>\n",
       "<table border=\"1\" class=\"dataframe\">\n",
       "  <thead>\n",
       "    <tr style=\"text-align: right;\">\n",
       "      <th></th>\n",
       "      <th>section_id</th>\n",
       "      <th>presencezones</th>\n",
       "    </tr>\n",
       "  </thead>\n",
       "  <tbody>\n",
       "    <tr>\n",
       "      <th>0</th>\n",
       "      <td>s001</td>\n",
       "      <td>MULTIPOLYGON (((589166.78 4742872.701, 589118....</td>\n",
       "    </tr>\n",
       "    <tr>\n",
       "      <th>1</th>\n",
       "      <td>s002</td>\n",
       "      <td>None</td>\n",
       "    </tr>\n",
       "    <tr>\n",
       "      <th>2</th>\n",
       "      <td>s003</td>\n",
       "      <td>MULTIPOLYGON (((616117.835 4706064.327, 616733...</td>\n",
       "    </tr>\n",
       "    <tr>\n",
       "      <th>3</th>\n",
       "      <td>s004</td>\n",
       "      <td>MULTIPOLYGON (((616117.835 4706064.327, 616733...</td>\n",
       "    </tr>\n",
       "  </tbody>\n",
       "</table>\n",
       "</div>"
      ],
      "text/plain": [
       "  section_id                                      presencezones\n",
       "0       s001  MULTIPOLYGON (((589166.78 4742872.701, 589118....\n",
       "1       s002                                               None\n",
       "2       s003  MULTIPOLYGON (((616117.835 4706064.327, 616733...\n",
       "3       s004  MULTIPOLYGON (((616117.835 4706064.327, 616733..."
      ]
     },
     "execution_count": 10,
     "metadata": {},
     "output_type": "execute_result"
    }
   ],
   "source": [
    "u_presencezones.presencezones  # print the presence zones GeoDataFrame"
   ]
  },
  {
   "cell_type": "code",
   "execution_count": 11,
   "id": "99f63fdf-90ee-4231-9498-cb8b652c215a",
   "metadata": {},
   "outputs": [
    {
     "data": {
      "image/png": "[encoded data removed]",
      "text/plain": [
       "<Figure size 1600x800 with 1 Axes>"
      ]
     },
     "metadata": {},
     "output_type": "display_data"
    }
   ],
   "source": [
    "u_presencezones.plot(sections=u_sections)  # plot the presence zones (in blue) over the sections (in grey)"
   ]
  },
  {
   "cell_type": "code",
   "execution_count": 12,
   "id": "093493d9-d8da-43c7-af4d-2bd3d60d4f78",
   "metadata": {},
   "outputs": [],
   "source": [
    "u_absences = Absences.delimit(\n",
    "    sections=u_sections,\n",
    "    presencezones=u_presencezones,\n",
    "    var='along',\n",
    "    target=20,\n",
    "    dfls=None)\n",
    "u_absences.thin(\n",
    "    sp_threshold=10000,\n",
    "    tm_threshold=5,\n",
    "    tm_unit='day',\n",
    "    target=9)"
   ]
  },
  {
   "cell_type": "code",
   "execution_count": 13,
   "id": "4d4a24a1-de50-417d-8759-b4125267c29d",
   "metadata": {},
   "outputs": [
    {
     "data": {
      "text/html": [
       "<div>\n",
       "<style scoped>\n",
       "    .dataframe tbody tr th:only-of-type {\n",
       "        vertical-align: middle;\n",
       "    }\n",
       "\n",
       "    .dataframe tbody tr th {\n",
       "        vertical-align: top;\n",
       "    }\n",
       "\n",
       "    .dataframe thead th {\n",
       "        text-align: right;\n",
       "    }\n",
       "</style>\n",
       "<table border=\"1\" class=\"dataframe\">\n",
       "  <thead>\n",
       "    <tr style=\"text-align: right;\">\n",
       "      <th></th>\n",
       "      <th>point_id</th>\n",
       "      <th>point</th>\n",
       "      <th>date</th>\n",
       "    </tr>\n",
       "  </thead>\n",
       "  <tbody>\n",
       "    <tr>\n",
       "      <th>0</th>\n",
       "      <td>a01</td>\n",
       "      <td>POINT (565655.362 4742805.048)</td>\n",
       "      <td>2019-01-25</td>\n",
       "    </tr>\n",
       "    <tr>\n",
       "      <th>1</th>\n",
       "      <td>a02</td>\n",
       "      <td>POINT (558900.013 4715036.627)</td>\n",
       "      <td>2019-02-02</td>\n",
       "    </tr>\n",
       "    <tr>\n",
       "      <th>2</th>\n",
       "      <td>a03</td>\n",
       "      <td>POINT (572790.397 4715111.159)</td>\n",
       "      <td>2019-02-02</td>\n",
       "    </tr>\n",
       "    <tr>\n",
       "      <th>3</th>\n",
       "      <td>a04</td>\n",
       "      <td>POINT (578147.715 4715160.361)</td>\n",
       "      <td>2019-02-02</td>\n",
       "    </tr>\n",
       "    <tr>\n",
       "      <th>4</th>\n",
       "      <td>a05</td>\n",
       "      <td>POINT (597005.854 4714466.603)</td>\n",
       "      <td>2019-02-02</td>\n",
       "    </tr>\n",
       "    <tr>\n",
       "      <th>5</th>\n",
       "      <td>a06</td>\n",
       "      <td>POINT (597563.602 4707298.489)</td>\n",
       "      <td>2019-02-02</td>\n",
       "    </tr>\n",
       "    <tr>\n",
       "      <th>6</th>\n",
       "      <td>a07</td>\n",
       "      <td>POINT (580427.126 4705945.789)</td>\n",
       "      <td>2019-02-02</td>\n",
       "    </tr>\n",
       "    <tr>\n",
       "      <th>7</th>\n",
       "      <td>a08</td>\n",
       "      <td>POINT (556612.794 4705819.549)</td>\n",
       "      <td>2019-02-02</td>\n",
       "    </tr>\n",
       "    <tr>\n",
       "      <th>8</th>\n",
       "      <td>a09</td>\n",
       "      <td>POINT (656816.641 4737268.16)</td>\n",
       "      <td>2019-02-05</td>\n",
       "    </tr>\n",
       "    <tr>\n",
       "      <th>9</th>\n",
       "      <td>a10</td>\n",
       "      <td>POINT (656829.43 4735418.936)</td>\n",
       "      <td>2019-02-05</td>\n",
       "    </tr>\n",
       "    <tr>\n",
       "      <th>10</th>\n",
       "      <td>a11</td>\n",
       "      <td>POINT (652625.757 4734710.652)</td>\n",
       "      <td>2019-02-05</td>\n",
       "    </tr>\n",
       "    <tr>\n",
       "      <th>11</th>\n",
       "      <td>a12</td>\n",
       "      <td>POINT (639724.701 4734503.321)</td>\n",
       "      <td>2019-02-05</td>\n",
       "    </tr>\n",
       "    <tr>\n",
       "      <th>12</th>\n",
       "      <td>a13</td>\n",
       "      <td>POINT (627038.002 4734277.169)</td>\n",
       "      <td>2019-02-05</td>\n",
       "    </tr>\n",
       "    <tr>\n",
       "      <th>13</th>\n",
       "      <td>a14</td>\n",
       "      <td>POINT (621958.882 4734185.607)</td>\n",
       "      <td>2019-02-05</td>\n",
       "    </tr>\n",
       "    <tr>\n",
       "      <th>14</th>\n",
       "      <td>a15</td>\n",
       "      <td>POINT (608187.773 4733919.497)</td>\n",
       "      <td>2019-02-05</td>\n",
       "    </tr>\n",
       "    <tr>\n",
       "      <th>15</th>\n",
       "      <td>a16</td>\n",
       "      <td>POINT (649394.099 4725447.855)</td>\n",
       "      <td>2019-02-05</td>\n",
       "    </tr>\n",
       "    <tr>\n",
       "      <th>16</th>\n",
       "      <td>a17</td>\n",
       "      <td>POINT (570608.832 4733580.799)</td>\n",
       "      <td>2019-03-03</td>\n",
       "    </tr>\n",
       "    <tr>\n",
       "      <th>17</th>\n",
       "      <td>a18</td>\n",
       "      <td>POINT (566454.668 4733558.463)</td>\n",
       "      <td>2019-03-03</td>\n",
       "    </tr>\n",
       "    <tr>\n",
       "      <th>18</th>\n",
       "      <td>a19</td>\n",
       "      <td>POINT (557949.586 4733537.393)</td>\n",
       "      <td>2019-03-03</td>\n",
       "    </tr>\n",
       "    <tr>\n",
       "      <th>19</th>\n",
       "      <td>a20</td>\n",
       "      <td>POINT (516615.327 4733314.281)</td>\n",
       "      <td>2019-03-03</td>\n",
       "    </tr>\n",
       "  </tbody>\n",
       "</table>\n",
       "</div>"
      ],
      "text/plain": [
       "   point_id                           point       date\n",
       "0       a01  POINT (565655.362 4742805.048) 2019-01-25\n",
       "1       a02  POINT (558900.013 4715036.627) 2019-02-02\n",
       "2       a03  POINT (572790.397 4715111.159) 2019-02-02\n",
       "3       a04  POINT (578147.715 4715160.361) 2019-02-02\n",
       "4       a05  POINT (597005.854 4714466.603) 2019-02-02\n",
       "5       a06  POINT (597563.602 4707298.489) 2019-02-02\n",
       "6       a07  POINT (580427.126 4705945.789) 2019-02-02\n",
       "7       a08  POINT (556612.794 4705819.549) 2019-02-02\n",
       "8       a09   POINT (656816.641 4737268.16) 2019-02-05\n",
       "9       a10   POINT (656829.43 4735418.936) 2019-02-05\n",
       "10      a11  POINT (652625.757 4734710.652) 2019-02-05\n",
       "11      a12  POINT (639724.701 4734503.321) 2019-02-05\n",
       "12      a13  POINT (627038.002 4734277.169) 2019-02-05\n",
       "13      a14  POINT (621958.882 4734185.607) 2019-02-05\n",
       "14      a15  POINT (608187.773 4733919.497) 2019-02-05\n",
       "15      a16  POINT (649394.099 4725447.855) 2019-02-05\n",
       "16      a17  POINT (570608.832 4733580.799) 2019-03-03\n",
       "17      a18  POINT (566454.668 4733558.463) 2019-03-03\n",
       "18      a19  POINT (557949.586 4733537.393) 2019-03-03\n",
       "19      a20  POINT (516615.327 4733314.281) 2019-03-03"
      ]
     },
     "execution_count": 13,
     "metadata": {},
     "output_type": "execute_result"
    }
   ],
   "source": [
    "u_absences.full  # print the absences GeoDataFrame"
   ]
  },
  {
   "cell_type": "code",
   "execution_count": 14,
   "id": "b951e9e6-2fd7-48e2-ac4f-146f70b4ea6b",
   "metadata": {},
   "outputs": [
    {
     "data": {
      "image/png": "[encoded data removed]",
      "text/plain": [
       "<Figure size 1600x800 with 1 Axes>"
      ]
     },
     "metadata": {},
     "output_type": "display_data"
    }
   ],
   "source": [
    "u_absences.plot(which='thinned', sp_threshold=10000)  # plot the absences with their spatial threshold (those kept after thinning in red, those removed in yellow)"
   ]
  },
  {
   "cell_type": "markdown",
   "id": "a6279b83-729a-4da0-b5e2-b749949181e2",
   "metadata": {},
   "source": [
    "## Stage 3\n",
    "In Stage 3, we make a ```Samples``` object from the ```DataPoints``` object, the ```Presences``` object, the ```Absences``` object, and the ```Sections``` object.\n",
    "<br>_Note that, as the absences are made from sections that are made from continuous datapoints, we can match those datapoints to the absences by their distance from the beginning of the absences lines in order to give values to the absences. To do so we must input the sections (```sections=u_sections```)._"
   ]
  },
  {
   "cell_type": "code",
   "execution_count": 15,
   "id": "143c6565-1cf6-418a-8392-d3f312d557eb",
   "metadata": {},
   "outputs": [],
   "source": [
    "u_samples = Samples.point(\n",
    "    datapoints=u_trackpoints,\n",
    "    presences=u_presences,\n",
    "    absences=u_absences,\n",
    "    cols=['individuals', 'bss'],\n",
    "    sections=u_sections)"
   ]
  },
  {
   "cell_type": "markdown",
   "id": "764faf10-00ae-4a44-afee-ed522b6c038c",
   "metadata": {},
   "source": [
    "## Output\n",
    "Finally, we save the ```Samples``` object to the output folder."
   ]
  },
  {
   "cell_type": "code",
   "execution_count": 16,
   "id": "f8fa530e-3dff-4e3b-9ea9-e027cdd241f9",
   "metadata": {},
   "outputs": [],
   "source": [
    "u_samples.save(\n",
    "    folder=output_folder,\n",
    "    filetype='csv'\n",
    ")"
   ]
  },
  {
   "cell_type": "markdown",
   "id": "b39c7a43-9bf0-4d46-8d51-3f9468a18c2a",
   "metadata": {},
   "source": [
    "In the output folder, there should be two new CSVs: the first should have the same name as the ```Samples``` object (run the box below to see the name) while the second should also have this name but with ```-parameters``` added at the end."
   ]
  },
  {
   "cell_type": "code",
   "execution_count": 17,
   "id": "acb12d13-553d-4f1e-ac6e-579dafb2cc8e",
   "metadata": {},
   "outputs": [
    {
     "data": {
      "text/plain": [
       "'samples-presences-trackpoints-+-absences-as-10000m-5day'"
      ]
     },
     "execution_count": 17,
     "metadata": {},
     "output_type": "execute_result"
    }
   ],
   "source": [
    "u_samples.name"
   ]
  },
  {
   "cell_type": "markdown",
   "id": "748c5e4a-c72a-47b9-abae-c4902f7d6974",
   "metadata": {},
   "source": [
    "The first CSV should contain the samples, like those shown in the box below. \n",
    "<br>In this dataframe, each row represents a given presence or absence, i.e., a sample. \n",
    "<br>The column ```point``` delimits the location of the presence/absence.\n",
    "<br>At the end are the data columns. In this particular example, they are ```p-a``` (presence-absence), ```individuals```, and ```bss```."
   ]
  },
  {
   "cell_type": "code",
   "execution_count": 18,
   "id": "807f7168-a8a6-4297-a41a-476beb14b2d8",
   "metadata": {},
   "outputs": [
    {
     "data": {
      "text/html": [
       "<div>\n",
       "<style scoped>\n",
       "    .dataframe tbody tr th:only-of-type {\n",
       "        vertical-align: middle;\n",
       "    }\n",
       "\n",
       "    .dataframe tbody tr th {\n",
       "        vertical-align: top;\n",
       "    }\n",
       "\n",
       "    .dataframe thead th {\n",
       "        text-align: right;\n",
       "    }\n",
       "</style>\n",
       "<table border=\"1\" class=\"dataframe\">\n",
       "  <thead>\n",
       "    <tr style=\"text-align: right;\">\n",
       "      <th></th>\n",
       "      <th>point_id</th>\n",
       "      <th>point</th>\n",
       "      <th>date</th>\n",
       "      <th>datapoint_id</th>\n",
       "      <th>p-a</th>\n",
       "      <th>individuals</th>\n",
       "      <th>bss</th>\n",
       "    </tr>\n",
       "  </thead>\n",
       "  <tbody>\n",
       "    <tr>\n",
       "      <th>0</th>\n",
       "      <td>p01</td>\n",
       "      <td>POINT (579166.78 4742872.701)</td>\n",
       "      <td>2019-01-25</td>\n",
       "      <td>d0004</td>\n",
       "      <td>1</td>\n",
       "      <td>1.0</td>\n",
       "      <td>2</td>\n",
       "    </tr>\n",
       "    <tr>\n",
       "      <th>1</th>\n",
       "      <td>p03</td>\n",
       "      <td>POINT (548599.876 4742700.214)</td>\n",
       "      <td>2019-01-25</td>\n",
       "      <td>d0082</td>\n",
       "      <td>1</td>\n",
       "      <td>5.0</td>\n",
       "      <td>2</td>\n",
       "    </tr>\n",
       "    <tr>\n",
       "      <th>2</th>\n",
       "      <td>p04</td>\n",
       "      <td>POINT (520909.741 4714855.058)</td>\n",
       "      <td>2019-02-02</td>\n",
       "      <td>d0480</td>\n",
       "      <td>1</td>\n",
       "      <td>1.0</td>\n",
       "      <td>1</td>\n",
       "    </tr>\n",
       "    <tr>\n",
       "      <th>3</th>\n",
       "      <td>p05</td>\n",
       "      <td>POINT (532548.249 4714899.835)</td>\n",
       "      <td>2019-02-02</td>\n",
       "      <td>d0510</td>\n",
       "      <td>1</td>\n",
       "      <td>2.0</td>\n",
       "      <td>1</td>\n",
       "    </tr>\n",
       "    <tr>\n",
       "      <th>4</th>\n",
       "      <td>p07</td>\n",
       "      <td>POINT (504710.41 4705553.392)</td>\n",
       "      <td>2019-02-02</td>\n",
       "      <td>d0930</td>\n",
       "      <td>1</td>\n",
       "      <td>3.0</td>\n",
       "      <td>1</td>\n",
       "    </tr>\n",
       "    <tr>\n",
       "      <th>5</th>\n",
       "      <td>p08</td>\n",
       "      <td>POINT (654449.136 4716189.584)</td>\n",
       "      <td>2019-02-05</td>\n",
       "      <td>d1306</td>\n",
       "      <td>1</td>\n",
       "      <td>5.0</td>\n",
       "      <td>1</td>\n",
       "    </tr>\n",
       "    <tr>\n",
       "      <th>6</th>\n",
       "      <td>p10</td>\n",
       "      <td>POINT (643532.681 4716066.52)</td>\n",
       "      <td>2019-02-05</td>\n",
       "      <td>d1336</td>\n",
       "      <td>1</td>\n",
       "      <td>1.0</td>\n",
       "      <td>2</td>\n",
       "    </tr>\n",
       "    <tr>\n",
       "      <th>7</th>\n",
       "      <td>p11</td>\n",
       "      <td>POINT (629124.489 4706545.106)</td>\n",
       "      <td>2019-02-05</td>\n",
       "      <td>d1527</td>\n",
       "      <td>1</td>\n",
       "      <td>3.0</td>\n",
       "      <td>2</td>\n",
       "    </tr>\n",
       "    <tr>\n",
       "      <th>8</th>\n",
       "      <td>p13</td>\n",
       "      <td>POINT (611976.857 4696974.111)</td>\n",
       "      <td>2019-02-05</td>\n",
       "      <td>d1739</td>\n",
       "      <td>1</td>\n",
       "      <td>4.0</td>\n",
       "      <td>3</td>\n",
       "    </tr>\n",
       "    <tr>\n",
       "      <th>9</th>\n",
       "      <td>a01</td>\n",
       "      <td>POINT (565655.362 4742805.048)</td>\n",
       "      <td>2019-01-25</td>\n",
       "      <td>d0038</td>\n",
       "      <td>0</td>\n",
       "      <td>NaN</td>\n",
       "      <td>2</td>\n",
       "    </tr>\n",
       "    <tr>\n",
       "      <th>10</th>\n",
       "      <td>a17</td>\n",
       "      <td>POINT (570608.832 4733580.799)</td>\n",
       "      <td>2019-03-03</td>\n",
       "      <td>d0257</td>\n",
       "      <td>0</td>\n",
       "      <td>NaN</td>\n",
       "      <td>3</td>\n",
       "    </tr>\n",
       "    <tr>\n",
       "      <th>11</th>\n",
       "      <td>a03</td>\n",
       "      <td>POINT (572790.397 4715111.159)</td>\n",
       "      <td>2019-02-02</td>\n",
       "      <td>d0611</td>\n",
       "      <td>0</td>\n",
       "      <td>NaN</td>\n",
       "      <td>1</td>\n",
       "    </tr>\n",
       "    <tr>\n",
       "      <th>12</th>\n",
       "      <td>a05</td>\n",
       "      <td>POINT (597005.854 4714466.603)</td>\n",
       "      <td>2019-02-02</td>\n",
       "      <td>d0673</td>\n",
       "      <td>0</td>\n",
       "      <td>NaN</td>\n",
       "      <td>2</td>\n",
       "    </tr>\n",
       "    <tr>\n",
       "      <th>13</th>\n",
       "      <td>a07</td>\n",
       "      <td>POINT (580427.126 4705945.789)</td>\n",
       "      <td>2019-02-02</td>\n",
       "      <td>d0739</td>\n",
       "      <td>0</td>\n",
       "      <td>NaN</td>\n",
       "      <td>2</td>\n",
       "    </tr>\n",
       "    <tr>\n",
       "      <th>14</th>\n",
       "      <td>a08</td>\n",
       "      <td>POINT (556612.794 4705819.549)</td>\n",
       "      <td>2019-02-02</td>\n",
       "      <td>d0800</td>\n",
       "      <td>0</td>\n",
       "      <td>NaN</td>\n",
       "      <td>2</td>\n",
       "    </tr>\n",
       "    <tr>\n",
       "      <th>15</th>\n",
       "      <td>a09</td>\n",
       "      <td>POINT (656816.641 4737268.16)</td>\n",
       "      <td>2019-02-05</td>\n",
       "      <td>d0973</td>\n",
       "      <td>0</td>\n",
       "      <td>NaN</td>\n",
       "      <td>0</td>\n",
       "    </tr>\n",
       "    <tr>\n",
       "      <th>16</th>\n",
       "      <td>a12</td>\n",
       "      <td>POINT (639724.701 4734503.321)</td>\n",
       "      <td>2019-02-05</td>\n",
       "      <td>d1026</td>\n",
       "      <td>0</td>\n",
       "      <td>NaN</td>\n",
       "      <td>0</td>\n",
       "    </tr>\n",
       "    <tr>\n",
       "      <th>17</th>\n",
       "      <td>a16</td>\n",
       "      <td>POINT (649394.099 4725447.855)</td>\n",
       "      <td>2019-02-05</td>\n",
       "      <td>d1259</td>\n",
       "      <td>0</td>\n",
       "      <td>NaN</td>\n",
       "      <td>0</td>\n",
       "    </tr>\n",
       "  </tbody>\n",
       "</table>\n",
       "</div>"
      ],
      "text/plain": [
       "   point_id                           point       date datapoint_id  p-a  \\\n",
       "0       p01   POINT (579166.78 4742872.701) 2019-01-25        d0004    1   \n",
       "1       p03  POINT (548599.876 4742700.214) 2019-01-25        d0082    1   \n",
       "2       p04  POINT (520909.741 4714855.058) 2019-02-02        d0480    1   \n",
       "3       p05  POINT (532548.249 4714899.835) 2019-02-02        d0510    1   \n",
       "4       p07   POINT (504710.41 4705553.392) 2019-02-02        d0930    1   \n",
       "5       p08  POINT (654449.136 4716189.584) 2019-02-05        d1306    1   \n",
       "6       p10   POINT (643532.681 4716066.52) 2019-02-05        d1336    1   \n",
       "7       p11  POINT (629124.489 4706545.106) 2019-02-05        d1527    1   \n",
       "8       p13  POINT (611976.857 4696974.111) 2019-02-05        d1739    1   \n",
       "9       a01  POINT (565655.362 4742805.048) 2019-01-25        d0038    0   \n",
       "10      a17  POINT (570608.832 4733580.799) 2019-03-03        d0257    0   \n",
       "11      a03  POINT (572790.397 4715111.159) 2019-02-02        d0611    0   \n",
       "12      a05  POINT (597005.854 4714466.603) 2019-02-02        d0673    0   \n",
       "13      a07  POINT (580427.126 4705945.789) 2019-02-02        d0739    0   \n",
       "14      a08  POINT (556612.794 4705819.549) 2019-02-02        d0800    0   \n",
       "15      a09   POINT (656816.641 4737268.16) 2019-02-05        d0973    0   \n",
       "16      a12  POINT (639724.701 4734503.321) 2019-02-05        d1026    0   \n",
       "17      a16  POINT (649394.099 4725447.855) 2019-02-05        d1259    0   \n",
       "\n",
       "    individuals  bss  \n",
       "0           1.0    2  \n",
       "1           5.0    2  \n",
       "2           1.0    1  \n",
       "3           2.0    1  \n",
       "4           3.0    1  \n",
       "5           5.0    1  \n",
       "6           1.0    2  \n",
       "7           3.0    2  \n",
       "8           4.0    3  \n",
       "9           NaN    2  \n",
       "10          NaN    3  \n",
       "11          NaN    1  \n",
       "12          NaN    2  \n",
       "13          NaN    2  \n",
       "14          NaN    2  \n",
       "15          NaN    0  \n",
       "16          NaN    0  \n",
       "17          NaN    0  "
      ]
     },
     "execution_count": 18,
     "metadata": {},
     "output_type": "execute_result"
    }
   ],
   "source": [
    "u_samples.samples"
   ]
  },
  {
   "cell_type": "markdown",
   "id": "0706395c-8dd7-4669-a349-16922299575b",
   "metadata": {},
   "source": [
    "The second CSV should contain the parameters, like those shown in the box below (but arranged in a table). This information may prove useful if, later, we need to know  how the samples were generated."
   ]
  },
  {
   "cell_type": "code",
   "execution_count": 19,
   "id": "68055e08-f44b-44de-830c-dfbf23669ca8",
   "metadata": {},
   "outputs": [
    {
     "data": {
      "text/plain": [
       "{'approach': 'point',\n",
       " 'resampled': 'datapoints',\n",
       " 'presences_name': 'presences-trackpoints',\n",
       " 'presences_crs': 'EPSG:32619',\n",
       " 'presences_sp_threshold': 10000,\n",
       " 'presences_tm_threshold': 5,\n",
       " 'presences_tm_unit': 'day',\n",
       " 'absences_name': 'absences-as-10000m-5day',\n",
       " 'absences_var': 'along',\n",
       " 'absences_target': 20,\n",
       " 'presencezones_crs': 'EPSG:32619',\n",
       " 'presencezones_sp_threshold': 10000,\n",
       " 'presencezones_tm_threshold': 5,\n",
       " 'presencezones_tm_unit': 'day',\n",
       " 'absences_sp_threshold': 10000,\n",
       " 'absences_tm_threshold': 5,\n",
       " 'absences_tm_unit': 'day'}"
      ]
     },
     "execution_count": 19,
     "metadata": {},
     "output_type": "execute_result"
    }
   ],
   "source": [
    "u_samples.parameters"
   ]
  }
 ],
 "metadata": {
  "kernelspec": {
   "display_name": "Python 3 (ipykernel)",
   "language": "python",
   "name": "python3"
  },
  "language_info": {
   "codemirror_mode": {
    "name": "ipython",
    "version": 3
   },
   "file_extension": ".py",
   "mimetype": "text/x-python",
   "name": "python",
   "nbconvert_exporter": "python",
   "pygments_lexer": "ipython3",
   "version": "3.12.3"
  }
 },
 "nbformat": 4,
 "nbformat_minor": 5
}
