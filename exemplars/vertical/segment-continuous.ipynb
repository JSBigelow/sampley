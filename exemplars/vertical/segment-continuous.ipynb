{
 "cells": [
  {
   "cell_type": "markdown",
   "id": "0de18513-ce8b-406b-88a8-772efd0bb0a3",
   "metadata": {},
   "source": [
    "# ```sampley``` exemplar: the segment approach with continuous datapoints\n",
    "Before going through this exemplar, please consult the _Introduction to sampley exemplars_ (```intro.ipynb```).\n",
    "<br>This exemplar illustrates an application of the segment approach to data contained within a single file (```trackpoints.csv```) that contains continuous datapoints (i.e., datapoints recorded at frequent, regular intervals) that can be joined to construct survey tracks.\n",
    "<br>It differs from the standard segment exemplar as having continuous datapoints allows for certain procedures to be applied in Stage 3 that may be more efficient and precise."
   ]
  },
  {
   "cell_type": "markdown",
   "id": "a5f17978-8542-4d78-b4ac-cf397fc1a02d",
   "metadata": {},
   "source": [
    "## Setup"
   ]
  },
  {
   "cell_type": "markdown",
   "id": "c060e52d-229d-459d-b1cf-f2fe092a266a",
   "metadata": {},
   "source": [
    "### Import the package"
   ]
  },
  {
   "cell_type": "code",
   "execution_count": 1,
   "id": "00c26ed0-1dff-4b75-bcf2-0595373e7743",
   "metadata": {},
   "outputs": [],
   "source": [
    "from sampley import *"
   ]
  },
  {
   "cell_type": "markdown",
   "id": "8c681985-ba89-48a9-b39f-8cdd41760bbb",
   "metadata": {},
   "source": [
    "### Set the input folder\n",
    "To run this exemplar, download the mock data files, put them in a folder, and set the path to the folder below."
   ]
  },
  {
   "cell_type": "code",
   "execution_count": 2,
   "id": "90aca9bb-d9e0-4af9-b903-4180094dab22",
   "metadata": {},
   "outputs": [],
   "source": [
    "input_folder = './input/'"
   ]
  },
  {
   "cell_type": "markdown",
   "id": "887b329d-dc56-447b-b07d-6895e04cf73d",
   "metadata": {},
   "source": [
    "### Set the output folder\n",
    "To run this exemplar, make a folder to save the outputs in and set the path to the folder below."
   ]
  },
  {
   "cell_type": "code",
   "execution_count": 3,
   "id": "ad8e9468-4c66-4b7b-a323-0164ae0c08eb",
   "metadata": {},
   "outputs": [],
   "source": [
    "output_folder = './output/'"
   ]
  },
  {
   "cell_type": "markdown",
   "id": "3cce13a9-9818-4492-8d28-31f761ff8865",
   "metadata": {},
   "source": [
    "## Stage 1\n",
    "In Stage 1, we import a single file (```trackpoints.csv```) to make a ```DataPoints``` object, from which we then make a ```Sections``` object."
   ]
  },
  {
   "cell_type": "code",
   "execution_count": 4,
   "id": "f239273a-e22a-4d85-b4c5-995fc401a9d7",
   "metadata": {},
   "outputs": [
    {
     "name": "stdout",
     "output_type": "stream",
     "text": [
      "Success: file successfully input.\n",
      "Success: x and y (lon/lat) coordinates successfully parsed.\n",
      "Success: reprojected to CRS 'EPSG:32619'\n",
      "Success: the column 'datetime' successfully reformatted to datetimes.\n",
      "Success: the timezone of column 'datetime' successfully set to 'UTC-05:00'.\n",
      "Success: datapoint IDs successfully generated.\n"
     ]
    }
   ],
   "source": [
    "u_trackpoints = DataPoints.from_file(\n",
    "    filepath=input_folder+'trackpoints.csv',\n",
    "    x_col='lon',\n",
    "    y_col='lat',\n",
    "    crs_input='EPSG:4326',\n",
    "    crs_working='EPSG:32619',\n",
    "    datetime_col='datetime',\n",
    "    tz_input='UTC-05:00',\n",
    "    section_id_col='section_id'  \n",
    ")"
   ]
  },
  {
   "cell_type": "code",
   "execution_count": 5,
   "id": "4d117c9b-d09b-422a-bfe3-495ed65fe157",
   "metadata": {},
   "outputs": [],
   "source": [
    "u_sections = Sections.from_datapoints(datapoints=u_trackpoints)"
   ]
  },
  {
   "cell_type": "markdown",
   "id": "3e27b45e-4de2-441c-9422-78e44117cceb",
   "metadata": {},
   "source": [
    "## Stage 2\n",
    "In Stage 2, we use the ```Sections``` object to make a ```Segments``` object containing segments with a target length of 10000 m."
   ]
  },
  {
   "cell_type": "code",
   "execution_count": 6,
   "id": "402bd28a-0ef1-4966-9aa5-49d99b028388",
   "metadata": {},
   "outputs": [],
   "source": [
    "u_segments = Segments.delimit(\n",
    "    sections=u_sections,\n",
    "    var='redistribution',\n",
    "    target=10000)"
   ]
  },
  {
   "cell_type": "markdown",
   "id": "75d62675-d857-46b9-b4a5-0ce1faaa4b18",
   "metadata": {},
   "source": [
    "## Stage 3\n",
    "In Stage 3, we, firstly, make two ```Samples``` objects:\n",
    "- one from the ```DataPoints``` object containing sightings and environmental data and the ```Segments``` object\n",
    "- one from the ```Segments``` object\n",
    "\n",
    "_Note that, as the segments are made from sections that are made from datapoints, we can match those datapoints to the segments by their distance from the beginning of the section (```how='dfb'```), rather than by absolute distance to the midpoint or line. This is more accurate and faster._\n",
    "<br>Then, we merge these two ```Samples``` objects to make our final ```Samples``` object."
   ]
  },
  {
   "cell_type": "code",
   "execution_count": 7,
   "id": "143c6565-1cf6-418a-8392-d3f312d557eb",
   "metadata": {},
   "outputs": [],
   "source": [
    "u_samples_trackpoints = Samples.segment(\n",
    "    datapoints=u_trackpoints,\n",
    "    segments=u_segments,\n",
    "    cols={'individuals': 'sum', 'bss': 'mean'},\n",
    "    how='dfb')"
   ]
  },
  {
   "cell_type": "code",
   "execution_count": 8,
   "id": "07850070-0b0f-46ab-acf7-58757357ad79",
   "metadata": {},
   "outputs": [],
   "source": [
    "u_samples_effort = Samples.segment_se(segments=u_segments)"
   ]
  },
  {
   "cell_type": "code",
   "execution_count": 9,
   "id": "b909d705-1407-4740-b621-66b6a0f0a37d",
   "metadata": {},
   "outputs": [
    {
     "name": "stdout",
     "output_type": "stream",
     "text": [
      "\n",
      "Note: samples generated with the segment approach\n"
     ]
    }
   ],
   "source": [
    "u_samples = Samples.merge(\n",
    "    trackpoints=u_samples_trackpoints,\n",
    "    effort=u_samples_effort)"
   ]
  },
  {
   "cell_type": "markdown",
   "id": "ad5c3ccc-fa34-4f5b-9926-2ce5149c4bb3",
   "metadata": {},
   "source": [
    "## Output\n",
    "Finally, we save the final ```Samples``` object to the output folder."
   ]
  },
  {
   "cell_type": "code",
   "execution_count": 10,
   "id": "7c020e16-09d9-4acd-a526-d5d1dc266150",
   "metadata": {},
   "outputs": [],
   "source": [
    "u_samples.save(\n",
    "    folder=output_folder,\n",
    "    filetype='csv'\n",
    ")"
   ]
  },
  {
   "cell_type": "markdown",
   "id": "2897a69f-068e-4006-8d39-580c0572f850",
   "metadata": {},
   "source": [
    "It should be saved as a CSV with the same name as the ```Samples``` object:"
   ]
  },
  {
   "cell_type": "code",
   "execution_count": 11,
   "id": "fcc55be1-cd6f-4d2b-ae66-ae3934541ba8",
   "metadata": {},
   "outputs": [
    {
     "data": {
      "text/plain": [
       "'samples-trackpoints+effort-x-segments-r10000m'"
      ]
     },
     "execution_count": 11,
     "metadata": {},
     "output_type": "execute_result"
    }
   ],
   "source": [
    "u_samples.name"
   ]
  },
  {
   "cell_type": "markdown",
   "id": "da186251-635a-4a3e-8d63-185cc25fd448",
   "metadata": {},
   "source": [
    "And it should contain the samples:"
   ]
  },
  {
   "cell_type": "code",
   "execution_count": 12,
   "id": "957b1757-f4a8-426a-9109-4c257fee51dc",
   "metadata": {},
   "outputs": [
    {
     "data": {
      "text/html": [
       "<div>\n",
       "<style scoped>\n",
       "    .dataframe tbody tr th:only-of-type {\n",
       "        vertical-align: middle;\n",
       "    }\n",
       "\n",
       "    .dataframe tbody tr th {\n",
       "        vertical-align: top;\n",
       "    }\n",
       "\n",
       "    .dataframe thead th {\n",
       "        text-align: right;\n",
       "    }\n",
       "</style>\n",
       "<table border=\"1\" class=\"dataframe\">\n",
       "  <thead>\n",
       "    <tr style=\"text-align: right;\">\n",
       "      <th></th>\n",
       "      <th>segment_id</th>\n",
       "      <th>line</th>\n",
       "      <th>midpoint</th>\n",
       "      <th>date</th>\n",
       "      <th>section_id</th>\n",
       "      <th>dfbsec_beg</th>\n",
       "      <th>dfbsec_end</th>\n",
       "      <th>individuals</th>\n",
       "      <th>bss</th>\n",
       "      <th>se_length</th>\n",
       "    </tr>\n",
       "  </thead>\n",
       "  <tbody>\n",
       "    <tr>\n",
       "      <th>0</th>\n",
       "      <td>s01-r10000m</td>\n",
       "      <td>LINESTRING (580092.757 4742883.408, 579997.135...</td>\n",
       "      <td>POINT (575093.021 4742845.959)</td>\n",
       "      <td>2019-01-25</td>\n",
       "      <td>s001</td>\n",
       "      <td>0.000000</td>\n",
       "      <td>10000.580283</td>\n",
       "      <td>1.0</td>\n",
       "      <td>2.000000</td>\n",
       "      <td>10000.580283</td>\n",
       "    </tr>\n",
       "    <tr>\n",
       "      <th>1</th>\n",
       "      <td>s02-r10000m</td>\n",
       "      <td>LINESTRING (570093.642 4742829.91, 569917.081 ...</td>\n",
       "      <td>POINT (565093.86 4742799.716)</td>\n",
       "      <td>2019-01-25</td>\n",
       "      <td>s001</td>\n",
       "      <td>10000.580283</td>\n",
       "      <td>20001.160565</td>\n",
       "      <td>0.0</td>\n",
       "      <td>2.000000</td>\n",
       "      <td>10000.580283</td>\n",
       "    </tr>\n",
       "    <tr>\n",
       "      <th>2</th>\n",
       "      <td>s03-r10000m</td>\n",
       "      <td>LINESTRING (560093.988 4742773.153, 559864.339...</td>\n",
       "      <td>POINT (555094.071 4742749.107)</td>\n",
       "      <td>2019-01-25</td>\n",
       "      <td>s001</td>\n",
       "      <td>20001.160565</td>\n",
       "      <td>30001.740848</td>\n",
       "      <td>2.0</td>\n",
       "      <td>2.000000</td>\n",
       "      <td>10000.580283</td>\n",
       "    </tr>\n",
       "    <tr>\n",
       "      <th>3</th>\n",
       "      <td>s04-r10000m</td>\n",
       "      <td>LINESTRING (550093.926 4742710.923, 549838.842...</td>\n",
       "      <td>POINT (545093.756 4742676.369)</td>\n",
       "      <td>2019-01-25</td>\n",
       "      <td>s001</td>\n",
       "      <td>30001.740848</td>\n",
       "      <td>40002.321130</td>\n",
       "      <td>5.0</td>\n",
       "      <td>2.846154</td>\n",
       "      <td>10000.580283</td>\n",
       "    </tr>\n",
       "    <tr>\n",
       "      <th>4</th>\n",
       "      <td>s05-r10000m</td>\n",
       "      <td>LINESTRING (540093.561 4742645.442, 539704.822...</td>\n",
       "      <td>POINT (535094.224 4742648.431)</td>\n",
       "      <td>2019-01-25</td>\n",
       "      <td>s001</td>\n",
       "      <td>40002.321130</td>\n",
       "      <td>50002.901413</td>\n",
       "      <td>0.0</td>\n",
       "      <td>3.000000</td>\n",
       "      <td>10000.580283</td>\n",
       "    </tr>\n",
       "    <tr>\n",
       "      <th>...</th>\n",
       "      <td>...</td>\n",
       "      <td>...</td>\n",
       "      <td>...</td>\n",
       "      <td>...</td>\n",
       "      <td>...</td>\n",
       "      <td>...</td>\n",
       "      <td>...</td>\n",
       "      <td>...</td>\n",
       "      <td>...</td>\n",
       "      <td>...</td>\n",
       "    </tr>\n",
       "    <tr>\n",
       "      <th>64</th>\n",
       "      <td>s65-r10000m</td>\n",
       "      <td>LINESTRING (652980.044 4697677.144, 652979.945...</td>\n",
       "      <td>POINT (647917.17 4697623.667)</td>\n",
       "      <td>2019-02-05</td>\n",
       "      <td>s004</td>\n",
       "      <td>273463.867857</td>\n",
       "      <td>283592.159259</td>\n",
       "      <td>0.0</td>\n",
       "      <td>2.000000</td>\n",
       "      <td>10128.291402</td>\n",
       "    </tr>\n",
       "    <tr>\n",
       "      <th>65</th>\n",
       "      <td>s66-r10000m</td>\n",
       "      <td>LINESTRING (642854.209 4697537.196, 642721.486...</td>\n",
       "      <td>POINT (637791.127 4697454.392)</td>\n",
       "      <td>2019-02-05</td>\n",
       "      <td>s004</td>\n",
       "      <td>283592.159259</td>\n",
       "      <td>293720.450662</td>\n",
       "      <td>0.0</td>\n",
       "      <td>2.740741</td>\n",
       "      <td>10128.291402</td>\n",
       "    </tr>\n",
       "    <tr>\n",
       "      <th>66</th>\n",
       "      <td>s67-r10000m</td>\n",
       "      <td>LINESTRING (632727.93 4697356.37, 632683.219 4...</td>\n",
       "      <td>POINT (627664.663 4697262.02)</td>\n",
       "      <td>2019-02-05</td>\n",
       "      <td>s004</td>\n",
       "      <td>293720.450662</td>\n",
       "      <td>303848.742064</td>\n",
       "      <td>0.0</td>\n",
       "      <td>3.000000</td>\n",
       "      <td>10128.291402</td>\n",
       "    </tr>\n",
       "    <tr>\n",
       "      <th>67</th>\n",
       "      <td>s68-r10000m</td>\n",
       "      <td>LINESTRING (622602.172 4697152.471, 622357.753...</td>\n",
       "      <td>POINT (617538.774 4697065.46)</td>\n",
       "      <td>2019-02-05</td>\n",
       "      <td>s004</td>\n",
       "      <td>303848.742064</td>\n",
       "      <td>313977.033466</td>\n",
       "      <td>2.0</td>\n",
       "      <td>3.000000</td>\n",
       "      <td>10128.291402</td>\n",
       "    </tr>\n",
       "    <tr>\n",
       "      <th>68</th>\n",
       "      <td>s69-r10000m</td>\n",
       "      <td>LINESTRING (612475.314 4696982.119, 612333.116...</td>\n",
       "      <td>POINT (607412.53 4696883.577)</td>\n",
       "      <td>2019-02-05</td>\n",
       "      <td>s004</td>\n",
       "      <td>313977.033466</td>\n",
       "      <td>324105.324868</td>\n",
       "      <td>4.0</td>\n",
       "      <td>3.000000</td>\n",
       "      <td>10128.291402</td>\n",
       "    </tr>\n",
       "  </tbody>\n",
       "</table>\n",
       "<p>69 rows × 10 columns</p>\n",
       "</div>"
      ],
      "text/plain": [
       "     segment_id                                               line  \\\n",
       "0   s01-r10000m  LINESTRING (580092.757 4742883.408, 579997.135...   \n",
       "1   s02-r10000m  LINESTRING (570093.642 4742829.91, 569917.081 ...   \n",
       "2   s03-r10000m  LINESTRING (560093.988 4742773.153, 559864.339...   \n",
       "3   s04-r10000m  LINESTRING (550093.926 4742710.923, 549838.842...   \n",
       "4   s05-r10000m  LINESTRING (540093.561 4742645.442, 539704.822...   \n",
       "..          ...                                                ...   \n",
       "64  s65-r10000m  LINESTRING (652980.044 4697677.144, 652979.945...   \n",
       "65  s66-r10000m  LINESTRING (642854.209 4697537.196, 642721.486...   \n",
       "66  s67-r10000m  LINESTRING (632727.93 4697356.37, 632683.219 4...   \n",
       "67  s68-r10000m  LINESTRING (622602.172 4697152.471, 622357.753...   \n",
       "68  s69-r10000m  LINESTRING (612475.314 4696982.119, 612333.116...   \n",
       "\n",
       "                          midpoint        date section_id     dfbsec_beg  \\\n",
       "0   POINT (575093.021 4742845.959)  2019-01-25       s001       0.000000   \n",
       "1    POINT (565093.86 4742799.716)  2019-01-25       s001   10000.580283   \n",
       "2   POINT (555094.071 4742749.107)  2019-01-25       s001   20001.160565   \n",
       "3   POINT (545093.756 4742676.369)  2019-01-25       s001   30001.740848   \n",
       "4   POINT (535094.224 4742648.431)  2019-01-25       s001   40002.321130   \n",
       "..                             ...         ...        ...            ...   \n",
       "64   POINT (647917.17 4697623.667)  2019-02-05       s004  273463.867857   \n",
       "65  POINT (637791.127 4697454.392)  2019-02-05       s004  283592.159259   \n",
       "66   POINT (627664.663 4697262.02)  2019-02-05       s004  293720.450662   \n",
       "67   POINT (617538.774 4697065.46)  2019-02-05       s004  303848.742064   \n",
       "68   POINT (607412.53 4696883.577)  2019-02-05       s004  313977.033466   \n",
       "\n",
       "       dfbsec_end  individuals       bss     se_length  \n",
       "0    10000.580283          1.0  2.000000  10000.580283  \n",
       "1    20001.160565          0.0  2.000000  10000.580283  \n",
       "2    30001.740848          2.0  2.000000  10000.580283  \n",
       "3    40002.321130          5.0  2.846154  10000.580283  \n",
       "4    50002.901413          0.0  3.000000  10000.580283  \n",
       "..            ...          ...       ...           ...  \n",
       "64  283592.159259          0.0  2.000000  10128.291402  \n",
       "65  293720.450662          0.0  2.740741  10128.291402  \n",
       "66  303848.742064          0.0  3.000000  10128.291402  \n",
       "67  313977.033466          2.0  3.000000  10128.291402  \n",
       "68  324105.324868          4.0  3.000000  10128.291402  \n",
       "\n",
       "[69 rows x 10 columns]"
      ]
     },
     "execution_count": 12,
     "metadata": {},
     "output_type": "execute_result"
    }
   ],
   "source": [
    "u_samples.samples"
   ]
  }
 ],
 "metadata": {
  "kernelspec": {
   "display_name": "Python 3 (ipykernel)",
   "language": "python",
   "name": "python3"
  },
  "language_info": {
   "codemirror_mode": {
    "name": "ipython",
    "version": 3
   },
   "file_extension": ".py",
   "mimetype": "text/x-python",
   "name": "python",
   "nbconvert_exporter": "python",
   "pygments_lexer": "ipython3",
   "version": "3.12.3"
  }
 },
 "nbformat": 4,
 "nbformat_minor": 5
}
