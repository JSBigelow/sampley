{
 "cells": [
  {
   "cell_type": "markdown",
   "id": "0de18513-ce8b-406b-88a8-772efd0bb0a3",
   "metadata": {},
   "source": [
    "# ```sampley``` exemplar: the segment approach\n",
    "Before going through this exemplar, please consult the _Introduction to sampley exemplars_ (```intro.ipynb```).\n",
    "<br>This exemplar illustrates an application of the segment approach to data contained within two files: one containing survey tracks (```sections.gpkg```) and one containing sightings data (```sightings.gpkg```)."
   ]
  },
  {
   "cell_type": "markdown",
   "id": "a5f17978-8542-4d78-b4ac-cf397fc1a02d",
   "metadata": {},
   "source": [
    "## Setup"
   ]
  },
  {
   "cell_type": "markdown",
   "id": "c060e52d-229d-459d-b1cf-f2fe092a266a",
   "metadata": {},
   "source": [
    "### Import the package"
   ]
  },
  {
   "cell_type": "code",
   "execution_count": 1,
   "id": "00c26ed0-1dff-4b75-bcf2-0595373e7743",
   "metadata": {},
   "outputs": [],
   "source": [
    "from sampley import *"
   ]
  },
  {
   "cell_type": "markdown",
   "id": "8c681985-ba89-48a9-b39f-8cdd41760bbb",
   "metadata": {},
   "source": [
    "### Set the input folder\n",
    "To run this exemplar, download the mock data files, put them in a folder, and set the path to the folder below."
   ]
  },
  {
   "cell_type": "code",
   "execution_count": 2,
   "id": "90aca9bb-d9e0-4af9-b903-4180094dab22",
   "metadata": {},
   "outputs": [],
   "source": [
    "input_folder = './input/'"
   ]
  },
  {
   "cell_type": "markdown",
   "id": "887b329d-dc56-447b-b07d-6895e04cf73d",
   "metadata": {},
   "source": [
    "### Set the output folder\n",
    "To run this exemplar, make a folder to save the outputs in and set the path to the folder below."
   ]
  },
  {
   "cell_type": "code",
   "execution_count": 3,
   "id": "ad8e9468-4c66-4b7b-a323-0164ae0c08eb",
   "metadata": {},
   "outputs": [],
   "source": [
    "output_folder = './output/'"
   ]
  },
  {
   "cell_type": "markdown",
   "id": "9c9b601c-21ba-41ad-9501-6fa6ac35505b",
   "metadata": {},
   "source": [
    "## Stage 1\n",
    "In Stage 1, we import two files (```sightings.csv``` and ```sections.gpkg```) and from them make a ```DataPoints``` and a ```Sections``` object, respectively.\n",
    "<br>Although we use a CSV file and a GPKG file in this exemplar, there are other options for file types (including XLSX and SHP files). Please see the Stage 1 exemplar (```stage-1.ipynb```) in the horizontal exemplars folder or the User Manual for more details. Note that, regardless of the input file type, once any ```DataPoints``` and/or ```Sections``` objects have been made, the subsequent processing will be the same."
   ]
  },
  {
   "cell_type": "code",
   "execution_count": 4,
   "id": "f239273a-e22a-4d85-b4c5-995fc401a9d7",
   "metadata": {},
   "outputs": [
    {
     "name": "stdout",
     "output_type": "stream",
     "text": [
      "Success: file successfully input.\n",
      "Success: x and y (lon/lat) coordinates successfully parsed.\n",
      "Success: reprojected to CRS 'EPSG:32619'\n",
      "Success: the column 'datetime' successfully reformatted to datetimes.\n",
      "Success: the timezone of column 'datetime' successfully set to 'UTC-05:00'.\n",
      "Success: datapoint IDs successfully generated.\n"
     ]
    }
   ],
   "source": [
    "u_sightings = DataPoints.from_file(\n",
    "    filepath=input_folder+'sightings.csv',\n",
    "    x_col='lon',\n",
    "    y_col='lat',\n",
    "    crs_input='EPSG:4326',\n",
    "    crs_working='EPSG:32619',\n",
    "    datetime_col='datetime',\n",
    "    tz_input='UTC-05:00'\n",
    ")"
   ]
  },
  {
   "cell_type": "code",
   "execution_count": 5,
   "id": "4d117c9b-d09b-422a-bfe3-495ed65fe157",
   "metadata": {},
   "outputs": [
    {
     "name": "stdout",
     "output_type": "stream",
     "text": [
      "Success: file successfully input.\n",
      "Success: reprojected to CRS 'EPSG:32619'\n",
      "Success: the column 'datetime_beg' successfully reformatted to datetimes.\n",
      "Success: the timezone of column 'datetime_beg' successfully set to 'UTC-05:00'.\n",
      "Note: column 'datetime_beg' renamed to 'datetime'.\n",
      "Success: section IDs successfully generated.\n"
     ]
    }
   ],
   "source": [
    "u_sections = Sections.from_file(\n",
    "    filepath=input_folder+'sections.gpkg',\n",
    "    crs_working='EPSG:32619',\n",
    "    datetime_col='datetime_beg',\n",
    "    tz_input='UTC-05:00'\n",
    ")"
   ]
  },
  {
   "cell_type": "markdown",
   "id": "3e27b45e-4de2-441c-9422-78e44117cceb",
   "metadata": {},
   "source": [
    "## Stage 2\n",
    "In Stage 2, we use the ```Sections``` object to make a ```Segments``` object containing segments with a target length of 10000 m."
   ]
  },
  {
   "cell_type": "code",
   "execution_count": 6,
   "id": "402bd28a-0ef1-4966-9aa5-49d99b028388",
   "metadata": {},
   "outputs": [],
   "source": [
    "u_segments = Segments.delimit(\n",
    "    sections=u_sections,\n",
    "    var='redistribution',\n",
    "    target=10000)"
   ]
  },
  {
   "cell_type": "code",
   "execution_count": 7,
   "id": "92c299f2-cc4b-40a7-939f-5e8729161f22",
   "metadata": {},
   "outputs": [
    {
     "data": {
      "text/html": [
       "<div>\n",
       "<style scoped>\n",
       "    .dataframe tbody tr th:only-of-type {\n",
       "        vertical-align: middle;\n",
       "    }\n",
       "\n",
       "    .dataframe tbody tr th {\n",
       "        vertical-align: top;\n",
       "    }\n",
       "\n",
       "    .dataframe thead th {\n",
       "        text-align: right;\n",
       "    }\n",
       "</style>\n",
       "<table border=\"1\" class=\"dataframe\">\n",
       "  <thead>\n",
       "    <tr style=\"text-align: right;\">\n",
       "      <th></th>\n",
       "      <th>segment_id</th>\n",
       "      <th>line</th>\n",
       "      <th>midpoint</th>\n",
       "      <th>date</th>\n",
       "      <th>section_id</th>\n",
       "      <th>dfbsec_beg</th>\n",
       "      <th>dfbsec_end</th>\n",
       "    </tr>\n",
       "  </thead>\n",
       "  <tbody>\n",
       "    <tr>\n",
       "      <th>0</th>\n",
       "      <td>s01-r10000m</td>\n",
       "      <td>LINESTRING (580092.757 4742883.408, 579997.135...</td>\n",
       "      <td>POINT (575093.021 4742845.959)</td>\n",
       "      <td>2019-01-25</td>\n",
       "      <td>s1</td>\n",
       "      <td>0.000000</td>\n",
       "      <td>10000.580283</td>\n",
       "    </tr>\n",
       "    <tr>\n",
       "      <th>1</th>\n",
       "      <td>s02-r10000m</td>\n",
       "      <td>LINESTRING (570093.642 4742829.91, 569917.081 ...</td>\n",
       "      <td>POINT (565093.86 4742799.716)</td>\n",
       "      <td>2019-01-25</td>\n",
       "      <td>s1</td>\n",
       "      <td>10000.580283</td>\n",
       "      <td>20001.160565</td>\n",
       "    </tr>\n",
       "    <tr>\n",
       "      <th>2</th>\n",
       "      <td>s03-r10000m</td>\n",
       "      <td>LINESTRING (560093.988 4742773.153, 559864.339...</td>\n",
       "      <td>POINT (555094.071 4742749.107)</td>\n",
       "      <td>2019-01-25</td>\n",
       "      <td>s1</td>\n",
       "      <td>20001.160565</td>\n",
       "      <td>30001.740848</td>\n",
       "    </tr>\n",
       "    <tr>\n",
       "      <th>3</th>\n",
       "      <td>s04-r10000m</td>\n",
       "      <td>LINESTRING (550093.926 4742710.923, 549838.842...</td>\n",
       "      <td>POINT (545093.756 4742676.369)</td>\n",
       "      <td>2019-01-25</td>\n",
       "      <td>s1</td>\n",
       "      <td>30001.740848</td>\n",
       "      <td>40002.321130</td>\n",
       "    </tr>\n",
       "    <tr>\n",
       "      <th>4</th>\n",
       "      <td>s05-r10000m</td>\n",
       "      <td>LINESTRING (540093.561 4742645.442, 539704.822...</td>\n",
       "      <td>POINT (535094.224 4742648.431)</td>\n",
       "      <td>2019-01-25</td>\n",
       "      <td>s1</td>\n",
       "      <td>40002.321130</td>\n",
       "      <td>50002.901413</td>\n",
       "    </tr>\n",
       "    <tr>\n",
       "      <th>...</th>\n",
       "      <td>...</td>\n",
       "      <td>...</td>\n",
       "      <td>...</td>\n",
       "      <td>...</td>\n",
       "      <td>...</td>\n",
       "      <td>...</td>\n",
       "      <td>...</td>\n",
       "    </tr>\n",
       "    <tr>\n",
       "      <th>64</th>\n",
       "      <td>s65-r10000m</td>\n",
       "      <td>LINESTRING (652980.044 4697677.144, 652979.945...</td>\n",
       "      <td>POINT (647917.17 4697623.667)</td>\n",
       "      <td>2019-02-05</td>\n",
       "      <td>s4</td>\n",
       "      <td>273463.867857</td>\n",
       "      <td>283592.159259</td>\n",
       "    </tr>\n",
       "    <tr>\n",
       "      <th>65</th>\n",
       "      <td>s66-r10000m</td>\n",
       "      <td>LINESTRING (642854.209 4697537.196, 642721.486...</td>\n",
       "      <td>POINT (637791.127 4697454.392)</td>\n",
       "      <td>2019-02-05</td>\n",
       "      <td>s4</td>\n",
       "      <td>283592.159259</td>\n",
       "      <td>293720.450662</td>\n",
       "    </tr>\n",
       "    <tr>\n",
       "      <th>66</th>\n",
       "      <td>s67-r10000m</td>\n",
       "      <td>LINESTRING (632727.93 4697356.37, 632683.219 4...</td>\n",
       "      <td>POINT (627664.663 4697262.02)</td>\n",
       "      <td>2019-02-05</td>\n",
       "      <td>s4</td>\n",
       "      <td>293720.450662</td>\n",
       "      <td>303848.742064</td>\n",
       "    </tr>\n",
       "    <tr>\n",
       "      <th>67</th>\n",
       "      <td>s68-r10000m</td>\n",
       "      <td>LINESTRING (622602.172 4697152.471, 622357.753...</td>\n",
       "      <td>POINT (617538.774 4697065.46)</td>\n",
       "      <td>2019-02-05</td>\n",
       "      <td>s4</td>\n",
       "      <td>303848.742064</td>\n",
       "      <td>313977.033466</td>\n",
       "    </tr>\n",
       "    <tr>\n",
       "      <th>68</th>\n",
       "      <td>s69-r10000m</td>\n",
       "      <td>LINESTRING (612475.314 4696982.119, 612333.116...</td>\n",
       "      <td>POINT (607412.53 4696883.577)</td>\n",
       "      <td>2019-02-05</td>\n",
       "      <td>s4</td>\n",
       "      <td>313977.033466</td>\n",
       "      <td>324105.324868</td>\n",
       "    </tr>\n",
       "  </tbody>\n",
       "</table>\n",
       "<p>69 rows × 7 columns</p>\n",
       "</div>"
      ],
      "text/plain": [
       "     segment_id                                               line  \\\n",
       "0   s01-r10000m  LINESTRING (580092.757 4742883.408, 579997.135...   \n",
       "1   s02-r10000m  LINESTRING (570093.642 4742829.91, 569917.081 ...   \n",
       "2   s03-r10000m  LINESTRING (560093.988 4742773.153, 559864.339...   \n",
       "3   s04-r10000m  LINESTRING (550093.926 4742710.923, 549838.842...   \n",
       "4   s05-r10000m  LINESTRING (540093.561 4742645.442, 539704.822...   \n",
       "..          ...                                                ...   \n",
       "64  s65-r10000m  LINESTRING (652980.044 4697677.144, 652979.945...   \n",
       "65  s66-r10000m  LINESTRING (642854.209 4697537.196, 642721.486...   \n",
       "66  s67-r10000m  LINESTRING (632727.93 4697356.37, 632683.219 4...   \n",
       "67  s68-r10000m  LINESTRING (622602.172 4697152.471, 622357.753...   \n",
       "68  s69-r10000m  LINESTRING (612475.314 4696982.119, 612333.116...   \n",
       "\n",
       "                          midpoint        date section_id     dfbsec_beg  \\\n",
       "0   POINT (575093.021 4742845.959)  2019-01-25         s1       0.000000   \n",
       "1    POINT (565093.86 4742799.716)  2019-01-25         s1   10000.580283   \n",
       "2   POINT (555094.071 4742749.107)  2019-01-25         s1   20001.160565   \n",
       "3   POINT (545093.756 4742676.369)  2019-01-25         s1   30001.740848   \n",
       "4   POINT (535094.224 4742648.431)  2019-01-25         s1   40002.321130   \n",
       "..                             ...         ...        ...            ...   \n",
       "64   POINT (647917.17 4697623.667)  2019-02-05         s4  273463.867857   \n",
       "65  POINT (637791.127 4697454.392)  2019-02-05         s4  283592.159259   \n",
       "66   POINT (627664.663 4697262.02)  2019-02-05         s4  293720.450662   \n",
       "67   POINT (617538.774 4697065.46)  2019-02-05         s4  303848.742064   \n",
       "68   POINT (607412.53 4696883.577)  2019-02-05         s4  313977.033466   \n",
       "\n",
       "       dfbsec_end  \n",
       "0    10000.580283  \n",
       "1    20001.160565  \n",
       "2    30001.740848  \n",
       "3    40002.321130  \n",
       "4    50002.901413  \n",
       "..            ...  \n",
       "64  283592.159259  \n",
       "65  293720.450662  \n",
       "66  303848.742064  \n",
       "67  313977.033466  \n",
       "68  324105.324868  \n",
       "\n",
       "[69 rows x 7 columns]"
      ]
     },
     "execution_count": 7,
     "metadata": {},
     "output_type": "execute_result"
    }
   ],
   "source": [
    "u_segments.segments  # print the segments GeoDataFrame"
   ]
  },
  {
   "cell_type": "code",
   "execution_count": 8,
   "id": "008af85d-77c1-4ef9-9c03-a44648532946",
   "metadata": {},
   "outputs": [
    {
     "data": {
      "image/png": "[encoded data removed]",
      "text/plain": [
       "<Figure size 1600x800 with 1 Axes>"
      ]
     },
     "metadata": {},
     "output_type": "display_data"
    }
   ],
   "source": [
    "u_segments.plot()  # plot the segments"
   ]
  },
  {
   "cell_type": "markdown",
   "id": "a6279b83-729a-4da0-b5e2-b749949181e2",
   "metadata": {},
   "source": [
    "## Stage 3\n",
    "In Stage 3, we, firstly, make two ```Samples``` objects:\n",
    "- one from the ```DataPoints``` object containing sightings data and the ```Segments``` object\n",
    "- one from the ```Segments``` object\n",
    "\n",
    "Then, we merge these two ```Samples``` objects to make our final ```Samples``` object."
   ]
  },
  {
   "cell_type": "code",
   "execution_count": 9,
   "id": "143c6565-1cf6-418a-8392-d3f312d557eb",
   "metadata": {},
   "outputs": [],
   "source": [
    "u_samples_sightings = Samples.segment(\n",
    "    datapoints=u_sightings,\n",
    "    segments=u_segments,\n",
    "    cols={'individuals': 'sum'},\n",
    "    how='line')"
   ]
  },
  {
   "cell_type": "code",
   "execution_count": 10,
   "id": "07850070-0b0f-46ab-acf7-58757357ad79",
   "metadata": {},
   "outputs": [],
   "source": [
    "u_samples_effort = Samples.segment_se(segments=u_segments)"
   ]
  },
  {
   "cell_type": "code",
   "execution_count": 11,
   "id": "b909d705-1407-4740-b621-66b6a0f0a37d",
   "metadata": {},
   "outputs": [
    {
     "name": "stdout",
     "output_type": "stream",
     "text": [
      "\n",
      "Note: samples generated with the segment approach\n"
     ]
    }
   ],
   "source": [
    "u_samples = Samples.merge(\n",
    "    sightings=u_samples_sightings,\n",
    "    effort=u_samples_effort)"
   ]
  },
  {
   "cell_type": "markdown",
   "id": "542e3720-5acd-45df-bbfd-668414e73c33",
   "metadata": {},
   "source": [
    "## Output\n",
    "Finally, we save the final ```Samples``` object to the output folder."
   ]
  },
  {
   "cell_type": "code",
   "execution_count": 12,
   "id": "60a07dd2-dfbf-430e-b5a9-5ef242f61f4f",
   "metadata": {},
   "outputs": [],
   "source": [
    "u_samples.save(\n",
    "    folder=output_folder,\n",
    "    filetype='csv'\n",
    ")"
   ]
  },
  {
   "cell_type": "markdown",
   "id": "6cc6b0a5-a68e-46ac-8abe-ab2a3ce98a8b",
   "metadata": {},
   "source": [
    "In the output folder, there should be two new CSVs: the first should have the same name as the ```Samples``` object (run the box below to see the name) while the second should also have this name but with ```-parameters``` added at the end."
   ]
  },
  {
   "cell_type": "code",
   "execution_count": 13,
   "id": "02b2e1e8-7db5-4593-a942-e31943afefef",
   "metadata": {},
   "outputs": [
    {
     "data": {
      "text/plain": [
       "'samples-sightings+effort-x-segments-r10000m'"
      ]
     },
     "execution_count": 13,
     "metadata": {},
     "output_type": "execute_result"
    }
   ],
   "source": [
    "u_samples.name"
   ]
  },
  {
   "cell_type": "markdown",
   "id": "37eddec5-3c3e-4bdf-85a7-226d3720bc3a",
   "metadata": {},
   "source": [
    "The first CSV should contain the samples, like those shown in the box below. \n",
    "<br>In this dataframe, each row represents a given segment, i.e., a sample. \n",
    "<br>The column ```line``` delimits the extent of the segment, while the column ```midpoint``` represents the centre of the segment.\n",
    "<br>At the end are the data columns. In this particular example, they are ```individuals``` and ```se_length```."
   ]
  },
  {
   "cell_type": "code",
   "execution_count": 14,
   "id": "2608947b-9a85-4261-b1a7-cc9e08ca1dbb",
   "metadata": {},
   "outputs": [
    {
     "data": {
      "text/html": [
       "<div>\n",
       "<style scoped>\n",
       "    .dataframe tbody tr th:only-of-type {\n",
       "        vertical-align: middle;\n",
       "    }\n",
       "\n",
       "    .dataframe tbody tr th {\n",
       "        vertical-align: top;\n",
       "    }\n",
       "\n",
       "    .dataframe thead th {\n",
       "        text-align: right;\n",
       "    }\n",
       "</style>\n",
       "<table border=\"1\" class=\"dataframe\">\n",
       "  <thead>\n",
       "    <tr style=\"text-align: right;\">\n",
       "      <th></th>\n",
       "      <th>segment_id</th>\n",
       "      <th>line</th>\n",
       "      <th>midpoint</th>\n",
       "      <th>date</th>\n",
       "      <th>section_id</th>\n",
       "      <th>dfbsec_beg</th>\n",
       "      <th>dfbsec_end</th>\n",
       "      <th>individuals</th>\n",
       "      <th>se_length</th>\n",
       "    </tr>\n",
       "  </thead>\n",
       "  <tbody>\n",
       "    <tr>\n",
       "      <th>0</th>\n",
       "      <td>s01-r10000m</td>\n",
       "      <td>LINESTRING (580092.757 4742883.408, 579997.135...</td>\n",
       "      <td>POINT (575093.021 4742845.959)</td>\n",
       "      <td>2019-01-25</td>\n",
       "      <td>s1</td>\n",
       "      <td>0.000000</td>\n",
       "      <td>10000.580283</td>\n",
       "      <td>1.0</td>\n",
       "      <td>10000.580283</td>\n",
       "    </tr>\n",
       "    <tr>\n",
       "      <th>1</th>\n",
       "      <td>s02-r10000m</td>\n",
       "      <td>LINESTRING (570093.642 4742829.91, 569917.081 ...</td>\n",
       "      <td>POINT (565093.86 4742799.716)</td>\n",
       "      <td>2019-01-25</td>\n",
       "      <td>s1</td>\n",
       "      <td>10000.580283</td>\n",
       "      <td>20001.160565</td>\n",
       "      <td>NaN</td>\n",
       "      <td>10000.580283</td>\n",
       "    </tr>\n",
       "    <tr>\n",
       "      <th>2</th>\n",
       "      <td>s03-r10000m</td>\n",
       "      <td>LINESTRING (560093.988 4742773.153, 559864.339...</td>\n",
       "      <td>POINT (555094.071 4742749.107)</td>\n",
       "      <td>2019-01-25</td>\n",
       "      <td>s1</td>\n",
       "      <td>20001.160565</td>\n",
       "      <td>30001.740848</td>\n",
       "      <td>2.0</td>\n",
       "      <td>10000.580283</td>\n",
       "    </tr>\n",
       "    <tr>\n",
       "      <th>3</th>\n",
       "      <td>s04-r10000m</td>\n",
       "      <td>LINESTRING (550093.926 4742710.923, 549838.842...</td>\n",
       "      <td>POINT (545093.756 4742676.369)</td>\n",
       "      <td>2019-01-25</td>\n",
       "      <td>s1</td>\n",
       "      <td>30001.740848</td>\n",
       "      <td>40002.321130</td>\n",
       "      <td>5.0</td>\n",
       "      <td>10000.580283</td>\n",
       "    </tr>\n",
       "    <tr>\n",
       "      <th>4</th>\n",
       "      <td>s05-r10000m</td>\n",
       "      <td>LINESTRING (540093.561 4742645.442, 539704.822...</td>\n",
       "      <td>POINT (535094.224 4742648.431)</td>\n",
       "      <td>2019-01-25</td>\n",
       "      <td>s1</td>\n",
       "      <td>40002.321130</td>\n",
       "      <td>50002.901413</td>\n",
       "      <td>NaN</td>\n",
       "      <td>10000.580283</td>\n",
       "    </tr>\n",
       "    <tr>\n",
       "      <th>...</th>\n",
       "      <td>...</td>\n",
       "      <td>...</td>\n",
       "      <td>...</td>\n",
       "      <td>...</td>\n",
       "      <td>...</td>\n",
       "      <td>...</td>\n",
       "      <td>...</td>\n",
       "      <td>...</td>\n",
       "      <td>...</td>\n",
       "    </tr>\n",
       "    <tr>\n",
       "      <th>64</th>\n",
       "      <td>s65-r10000m</td>\n",
       "      <td>LINESTRING (652980.044 4697677.144, 652979.945...</td>\n",
       "      <td>POINT (647917.17 4697623.667)</td>\n",
       "      <td>2019-02-05</td>\n",
       "      <td>s4</td>\n",
       "      <td>273463.867857</td>\n",
       "      <td>283592.159259</td>\n",
       "      <td>NaN</td>\n",
       "      <td>10128.291402</td>\n",
       "    </tr>\n",
       "    <tr>\n",
       "      <th>65</th>\n",
       "      <td>s66-r10000m</td>\n",
       "      <td>LINESTRING (642854.209 4697537.196, 642721.486...</td>\n",
       "      <td>POINT (637791.127 4697454.392)</td>\n",
       "      <td>2019-02-05</td>\n",
       "      <td>s4</td>\n",
       "      <td>283592.159259</td>\n",
       "      <td>293720.450662</td>\n",
       "      <td>NaN</td>\n",
       "      <td>10128.291402</td>\n",
       "    </tr>\n",
       "    <tr>\n",
       "      <th>66</th>\n",
       "      <td>s67-r10000m</td>\n",
       "      <td>LINESTRING (632727.93 4697356.37, 632683.219 4...</td>\n",
       "      <td>POINT (627664.663 4697262.02)</td>\n",
       "      <td>2019-02-05</td>\n",
       "      <td>s4</td>\n",
       "      <td>293720.450662</td>\n",
       "      <td>303848.742064</td>\n",
       "      <td>NaN</td>\n",
       "      <td>10128.291402</td>\n",
       "    </tr>\n",
       "    <tr>\n",
       "      <th>67</th>\n",
       "      <td>s68-r10000m</td>\n",
       "      <td>LINESTRING (622602.172 4697152.471, 622357.753...</td>\n",
       "      <td>POINT (617538.774 4697065.46)</td>\n",
       "      <td>2019-02-05</td>\n",
       "      <td>s4</td>\n",
       "      <td>303848.742064</td>\n",
       "      <td>313977.033466</td>\n",
       "      <td>2.0</td>\n",
       "      <td>10128.291402</td>\n",
       "    </tr>\n",
       "    <tr>\n",
       "      <th>68</th>\n",
       "      <td>s69-r10000m</td>\n",
       "      <td>LINESTRING (612475.314 4696982.119, 612333.116...</td>\n",
       "      <td>POINT (607412.53 4696883.577)</td>\n",
       "      <td>2019-02-05</td>\n",
       "      <td>s4</td>\n",
       "      <td>313977.033466</td>\n",
       "      <td>324105.324868</td>\n",
       "      <td>4.0</td>\n",
       "      <td>10128.291402</td>\n",
       "    </tr>\n",
       "  </tbody>\n",
       "</table>\n",
       "<p>69 rows × 9 columns</p>\n",
       "</div>"
      ],
      "text/plain": [
       "     segment_id                                               line  \\\n",
       "0   s01-r10000m  LINESTRING (580092.757 4742883.408, 579997.135...   \n",
       "1   s02-r10000m  LINESTRING (570093.642 4742829.91, 569917.081 ...   \n",
       "2   s03-r10000m  LINESTRING (560093.988 4742773.153, 559864.339...   \n",
       "3   s04-r10000m  LINESTRING (550093.926 4742710.923, 549838.842...   \n",
       "4   s05-r10000m  LINESTRING (540093.561 4742645.442, 539704.822...   \n",
       "..          ...                                                ...   \n",
       "64  s65-r10000m  LINESTRING (652980.044 4697677.144, 652979.945...   \n",
       "65  s66-r10000m  LINESTRING (642854.209 4697537.196, 642721.486...   \n",
       "66  s67-r10000m  LINESTRING (632727.93 4697356.37, 632683.219 4...   \n",
       "67  s68-r10000m  LINESTRING (622602.172 4697152.471, 622357.753...   \n",
       "68  s69-r10000m  LINESTRING (612475.314 4696982.119, 612333.116...   \n",
       "\n",
       "                          midpoint        date section_id     dfbsec_beg  \\\n",
       "0   POINT (575093.021 4742845.959)  2019-01-25         s1       0.000000   \n",
       "1    POINT (565093.86 4742799.716)  2019-01-25         s1   10000.580283   \n",
       "2   POINT (555094.071 4742749.107)  2019-01-25         s1   20001.160565   \n",
       "3   POINT (545093.756 4742676.369)  2019-01-25         s1   30001.740848   \n",
       "4   POINT (535094.224 4742648.431)  2019-01-25         s1   40002.321130   \n",
       "..                             ...         ...        ...            ...   \n",
       "64   POINT (647917.17 4697623.667)  2019-02-05         s4  273463.867857   \n",
       "65  POINT (637791.127 4697454.392)  2019-02-05         s4  283592.159259   \n",
       "66   POINT (627664.663 4697262.02)  2019-02-05         s4  293720.450662   \n",
       "67   POINT (617538.774 4697065.46)  2019-02-05         s4  303848.742064   \n",
       "68   POINT (607412.53 4696883.577)  2019-02-05         s4  313977.033466   \n",
       "\n",
       "       dfbsec_end  individuals     se_length  \n",
       "0    10000.580283          1.0  10000.580283  \n",
       "1    20001.160565          NaN  10000.580283  \n",
       "2    30001.740848          2.0  10000.580283  \n",
       "3    40002.321130          5.0  10000.580283  \n",
       "4    50002.901413          NaN  10000.580283  \n",
       "..            ...          ...           ...  \n",
       "64  283592.159259          NaN  10128.291402  \n",
       "65  293720.450662          NaN  10128.291402  \n",
       "66  303848.742064          NaN  10128.291402  \n",
       "67  313977.033466          2.0  10128.291402  \n",
       "68  324105.324868          4.0  10128.291402  \n",
       "\n",
       "[69 rows x 9 columns]"
      ]
     },
     "execution_count": 14,
     "metadata": {},
     "output_type": "execute_result"
    }
   ],
   "source": [
    "u_samples.samples"
   ]
  },
  {
   "cell_type": "markdown",
   "id": "f9e87b73-d377-43f5-8004-16d5ffd50d9a",
   "metadata": {},
   "source": [
    "The second CSV should contain the parameters, like those shown in the box below (but arranged in a table). This information may prove useful if, later, we need to know  how the samples were generated."
   ]
  },
  {
   "cell_type": "code",
   "execution_count": 15,
   "id": "011c9ef6-4eca-4d74-942f-de0a5b38e3e5",
   "metadata": {},
   "outputs": [
    {
     "data": {
      "text/plain": [
       "{'name': 'samples-sightings+effort-x-segments-r10000m',\n",
       " 'names': 'samples-datapoints-sightings-x-segments-r10000m+samples-sections-sections-x-segments-r10000m',\n",
       " 'approach': 'segment',\n",
       " 'resampled': 'datapoints; effort',\n",
       " 'datapoints_name': 'datapoints-sightings; nan',\n",
       " 'datapoints_filepath': './input/sightings.csv; nan',\n",
       " 'datapoints_crs': 'EPSG:32619; nan',\n",
       " 'datapoints_tz': 'UTC-05:00; nan',\n",
       " 'datapoints_data_cols': 'individuals; nan',\n",
       " 'segments_name': 'segments-r10000m',\n",
       " 'sections_name': 'sections-sections',\n",
       " 'segments_crs': 'EPSG:32619',\n",
       " 'segments_var': 'redistribution',\n",
       " 'segments_randomise': 'False',\n",
       " 'segments_target': '10000',\n",
       " 'segments_unit': 'metre',\n",
       " 'cols': \"{'individuals': 'sum'}; nan\",\n",
       " 'effort_esw': 'nan; None',\n",
       " 'effort_audf': 'nan; None',\n",
       " 'effort_euc-geo': 'nan; euclidean'}"
      ]
     },
     "execution_count": 15,
     "metadata": {},
     "output_type": "execute_result"
    }
   ],
   "source": [
    "u_samples.parameters"
   ]
  }
 ],
 "metadata": {
  "kernelspec": {
   "display_name": "Python 3 (ipykernel)",
   "language": "python",
   "name": "python3"
  },
  "language_info": {
   "codemirror_mode": {
    "name": "ipython",
    "version": 3
   },
   "file_extension": ".py",
   "mimetype": "text/x-python",
   "name": "python",
   "nbconvert_exporter": "python",
   "pygments_lexer": "ipython3",
   "version": "3.12.3"
  }
 },
 "nbformat": 4,
 "nbformat_minor": 5
}
