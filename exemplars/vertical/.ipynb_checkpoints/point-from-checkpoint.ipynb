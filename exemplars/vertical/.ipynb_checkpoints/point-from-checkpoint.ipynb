{
 "cells": [
  {
   "cell_type": "markdown",
   "id": "0de18513-ce8b-406b-88a8-772efd0bb0a3",
   "metadata": {},
   "source": [
    "# ```sampley``` exemplar: the point approach\n",
    "Before going through this exemplar, please consult the Introduction to sampley exemplars (```intro.ipynb```).\n",
    "<br>This exemplar illustrates an application of the point approach using the 'from-the-line' variation to data contained within two files: one containing survey tracks (```sections.gpkg```) and one containing sightings data (```sightings_off-line.gpkg```)."
   ]
  },
  {
   "cell_type": "markdown",
   "id": "a5f17978-8542-4d78-b4ac-cf397fc1a02d",
   "metadata": {},
   "source": [
    "## Setup"
   ]
  },
  {
   "cell_type": "markdown",
   "id": "c060e52d-229d-459d-b1cf-f2fe092a266a",
   "metadata": {},
   "source": [
    "### Import the package"
   ]
  },
  {
   "cell_type": "code",
   "execution_count": 1,
   "id": "00c26ed0-1dff-4b75-bcf2-0595373e7743",
   "metadata": {},
   "outputs": [],
   "source": [
    "from sampley import *"
   ]
  },
  {
   "cell_type": "markdown",
   "id": "27be2645-8e6a-4075-b8c2-03bb06933d2c",
   "metadata": {},
   "source": [
    "### Set the import folder\n",
    "To run this exemplar, download the mock data files, put them in a folder, and set the path to the folder below."
   ]
  },
  {
   "cell_type": "code",
   "execution_count": 2,
   "id": "3d64459c-8875-4e38-8d6d-1799dde2bd7f",
   "metadata": {},
   "outputs": [],
   "source": [
    "import_folder = './import/'"
   ]
  },
  {
   "cell_type": "markdown",
   "id": "dfc0fd50-7114-409d-b967-37aab373b342",
   "metadata": {},
   "source": [
    "### Set the export folder\n",
    "To run this exemplar, make a folder to save the samples in and set the path to the folder below."
   ]
  },
  {
   "cell_type": "code",
   "execution_count": 3,
   "id": "148a90c6-672f-4b04-8d3c-1464cd1b00d8",
   "metadata": {},
   "outputs": [],
   "source": [
    "export_folder = './export/'"
   ]
  },
  {
   "cell_type": "markdown",
   "id": "150c4663-8e42-40eb-8f7d-69935c3535ae",
   "metadata": {},
   "source": [
    "## Stage 1\n",
    "In Stage 1, we import two files (```sightings.csv``` and ```sections.gpkg```) and from them make a ```DataPoints``` and a ```Sections``` object, respectively.\n",
    "<br>Although we use a CSV file and a GPKG file in this exemplar, there are other options for file types (including XLSX and SHP files). Please see the Stage 1 exemplar (```stage-1.ipynb```) in the horizontal exemplars folder or the User Manual for more details. Note that, regardless of the imported file type, once any ```DataPoints``` and/or ```Sections``` objects have been made, the subsequent processing will be the same."
   ]
  },
  {
   "cell_type": "code",
   "execution_count": 4,
   "id": "47b0773f-9a44-432f-8d0f-1f96d44a9de3",
   "metadata": {},
   "outputs": [
    {
     "name": "stdout",
     "output_type": "stream",
     "text": [
      "Success: file opened.\n",
      "Success: reprojected to CRS \"EPSG:32619\"\n",
      "Success: column \"datetime\" reformatted to datetimes.\n",
      "Success: timezone of column \"datetime\" set to \"UTC-05:00\".\n",
      "Success: datapoint IDs generated.\n"
     ]
    }
   ],
   "source": [
    "u_sightings = DataPoints.from_file(\n",
    "    filepath=import_folder+'sightings_off-line.gpkg',\n",
    "    crs_working='EPSG:32619',\n",
    "    datetime_col='datetime',\n",
    "    tz_import='UTC-05:00'\n",
    ")"
   ]
  },
  {
   "cell_type": "code",
   "execution_count": 5,
   "id": "1aa95957-403d-481e-912c-b70bb5e48764",
   "metadata": {},
   "outputs": [
    {
     "name": "stdout",
     "output_type": "stream",
     "text": [
      "Success: file opened.\n",
      "Success: reprojected to CRS \"EPSG:32619\"\n",
      "Success: column \"datetime\" reformatted to datetimes.\n",
      "Success: timezone of column \"datetime\" set to \"UTC-05:00\".\n",
      "Success: section IDs generated.\n"
     ]
    }
   ],
   "source": [
    "u_sections = Sections.from_file(\n",
    "    filepath=import_folder+'sections.gpkg',\n",
    "    crs_working='EPSG:32619',\n",
    "    datetime_col='datetime',\n",
    "    tz_import='UTC-05:00'\n",
    ")"
   ]
  },
  {
   "cell_type": "markdown",
   "id": "04b82487-2a6d-454c-9245-7ae7d46e121f",
   "metadata": {},
   "source": [
    "## Stage 2\n",
    "In the first part of Stage 2, we use the ```DataPoints``` object containing sightings data to make a ```Presences``` object (```u_presences```)."
   ]
  },
  {
   "cell_type": "code",
   "execution_count": 6,
   "id": "e3884378-4a1a-4258-afce-1e212d309710",
   "metadata": {},
   "outputs": [],
   "source": [
    "u_presences = Presences.delimit(\n",
    "    datapoints=u_sightings,\n",
    "    presence_col='individuals')"
   ]
  },
  {
   "cell_type": "code",
   "execution_count": 7,
   "id": "c21f9f99-e03c-4725-b7e9-5291b6037254",
   "metadata": {},
   "outputs": [
    {
     "data": {
      "text/html": [
       "<div>\n",
       "<style scoped>\n",
       "    .dataframe tbody tr th:only-of-type {\n",
       "        vertical-align: middle;\n",
       "    }\n",
       "\n",
       "    .dataframe tbody tr th {\n",
       "        vertical-align: top;\n",
       "    }\n",
       "\n",
       "    .dataframe thead th {\n",
       "        text-align: right;\n",
       "    }\n",
       "</style>\n",
       "<table border=\"1\" class=\"dataframe\">\n",
       "  <thead>\n",
       "    <tr style=\"text-align: right;\">\n",
       "      <th></th>\n",
       "      <th>point_id</th>\n",
       "      <th>point</th>\n",
       "      <th>date</th>\n",
       "      <th>datapoint_id</th>\n",
       "    </tr>\n",
       "  </thead>\n",
       "  <tbody>\n",
       "    <tr>\n",
       "      <th>0</th>\n",
       "      <td>p01</td>\n",
       "      <td>POINT (579247.275 4743823.394)</td>\n",
       "      <td>2019-01-25</td>\n",
       "      <td>d01</td>\n",
       "    </tr>\n",
       "    <tr>\n",
       "      <th>1</th>\n",
       "      <td>p02</td>\n",
       "      <td>POINT (555739.203 4737785.585)</td>\n",
       "      <td>2019-01-25</td>\n",
       "      <td>d02</td>\n",
       "    </tr>\n",
       "    <tr>\n",
       "      <th>2</th>\n",
       "      <td>p03</td>\n",
       "      <td>POINT (548277.347 4745661.195)</td>\n",
       "      <td>2019-01-25</td>\n",
       "      <td>d03</td>\n",
       "    </tr>\n",
       "    <tr>\n",
       "      <th>3</th>\n",
       "      <td>p04</td>\n",
       "      <td>POINT (521883.134 4723148.616)</td>\n",
       "      <td>2019-03-02</td>\n",
       "      <td>d04</td>\n",
       "    </tr>\n",
       "    <tr>\n",
       "      <th>4</th>\n",
       "      <td>p05</td>\n",
       "      <td>POINT (537262.152 4720806.487)</td>\n",
       "      <td>2019-03-02</td>\n",
       "      <td>d05</td>\n",
       "    </tr>\n",
       "  </tbody>\n",
       "</table>\n",
       "</div>"
      ],
      "text/plain": [
       "  point_id                           point       date datapoint_id\n",
       "0      p01  POINT (579247.275 4743823.394) 2019-01-25          d01\n",
       "1      p02  POINT (555739.203 4737785.585) 2019-01-25          d02\n",
       "2      p03  POINT (548277.347 4745661.195) 2019-01-25          d03\n",
       "3      p04  POINT (521883.134 4723148.616) 2019-03-02          d04\n",
       "4      p05  POINT (537262.152 4720806.487) 2019-03-02          d05"
      ]
     },
     "execution_count": 7,
     "metadata": {},
     "output_type": "execute_result"
    }
   ],
   "source": [
    "u_presences.presences[:5]  # print the first five rows of the presences GeoDataFrame"
   ]
  },
  {
   "cell_type": "code",
   "execution_count": 8,
   "id": "3abbdddf-8d66-4ed5-8512-945f2b8a82b7",
   "metadata": {},
   "outputs": [
    {
     "data": {
      "image/png": "[encoded data removed]",
      "text/plain": [
       "<Figure size 1600x800 with 1 Axes>"
      ]
     },
     "metadata": {},
     "output_type": "display_data"
    }
   ],
   "source": [
    "u_presences.plot()  # plot the presences"
   ]
  },
  {
   "cell_type": "markdown",
   "id": "7884ed33-d75a-429f-843a-0f51a51e2af4",
   "metadata": {},
   "source": [
    "Then, we use the ```Presences``` object and the ```Sections``` object to make a ```PresenceZones``` object (```u_presencezones```) based on a spatial threshold of 10000 m and a temporal threshold of 5 days."
   ]
  },
  {
   "cell_type": "code",
   "execution_count": 9,
   "id": "8a7016c3-8fee-4159-a729-abd37c184d19",
   "metadata": {},
   "outputs": [],
   "source": [
    "u_presencezones = PresenceZones.delimit(\n",
    "    sections=u_sections,\n",
    "    presences=u_presences,\n",
    "    sp_threshold=10000,\n",
    "    tm_threshold=5,\n",
    "    tm_unit='day',\n",
    ")"
   ]
  },
  {
   "cell_type": "code",
   "execution_count": 10,
   "id": "5e3aa41f-1e68-4a2f-bc52-f070a16f0610",
   "metadata": {},
   "outputs": [
    {
     "data": {
      "text/html": [
       "<div>\n",
       "<style scoped>\n",
       "    .dataframe tbody tr th:only-of-type {\n",
       "        vertical-align: middle;\n",
       "    }\n",
       "\n",
       "    .dataframe tbody tr th {\n",
       "        vertical-align: top;\n",
       "    }\n",
       "\n",
       "    .dataframe thead th {\n",
       "        text-align: right;\n",
       "    }\n",
       "</style>\n",
       "<table border=\"1\" class=\"dataframe\">\n",
       "  <thead>\n",
       "    <tr style=\"text-align: right;\">\n",
       "      <th></th>\n",
       "      <th>section_id</th>\n",
       "      <th>presencezones</th>\n",
       "    </tr>\n",
       "  </thead>\n",
       "  <tbody>\n",
       "    <tr>\n",
       "      <th>0</th>\n",
       "      <td>s1</td>\n",
       "      <td>MULTIPOLYGON (((565691.051 4736805.413, 565547...</td>\n",
       "    </tr>\n",
       "    <tr>\n",
       "      <th>1</th>\n",
       "      <td>s2</td>\n",
       "      <td>MULTIPOLYGON (((565691.051 4736805.413, 565547...</td>\n",
       "    </tr>\n",
       "    <tr>\n",
       "      <th>2</th>\n",
       "      <td>s3</td>\n",
       "      <td>MULTIPOLYGON (((630730.025 4692794.346, 630399...</td>\n",
       "    </tr>\n",
       "    <tr>\n",
       "      <th>3</th>\n",
       "      <td>s4</td>\n",
       "      <td>MULTIPOLYGON (((630730.025 4692794.346, 630399...</td>\n",
       "    </tr>\n",
       "  </tbody>\n",
       "</table>\n",
       "</div>"
      ],
      "text/plain": [
       "  section_id                                      presencezones\n",
       "0         s1  MULTIPOLYGON (((565691.051 4736805.413, 565547...\n",
       "1         s2  MULTIPOLYGON (((565691.051 4736805.413, 565547...\n",
       "2         s3  MULTIPOLYGON (((630730.025 4692794.346, 630399...\n",
       "3         s4  MULTIPOLYGON (((630730.025 4692794.346, 630399..."
      ]
     },
     "execution_count": 10,
     "metadata": {},
     "output_type": "execute_result"
    }
   ],
   "source": [
    "u_presencezones.presencezones  # print the presence zones GeoDataFrame"
   ]
  },
  {
   "cell_type": "code",
   "execution_count": 11,
   "id": "fbda9666-3cec-453c-8653-c888dd678ec2",
   "metadata": {},
   "outputs": [
    {
     "data": {
      "image/png": "[encoded data removed]",
      "text/plain": [
       "<Figure size 1600x800 with 1 Axes>"
      ]
     },
     "metadata": {},
     "output_type": "display_data"
    }
   ],
   "source": [
    "u_presencezones.plot(sections=u_sections)  # plot the presence zones (in blue) over the sections (in grey)"
   ]
  },
  {
   "cell_type": "markdown",
   "id": "5e9706f6-01c3-43df-b3af-2ca9f614d198",
   "metadata": {},
   "source": [
    "Before we generate absences with the from-the-line variation, we need some distances from the line that we can select from when generating the absences. These distances should simply be a list of values and can be made either in ```sampley``` or beforehand with any software and imported.\n",
    "<br>Here, we make them with the following cells."
   ]
  },
  {
   "cell_type": "markdown",
   "id": "a83bd62b-f888-4c72-aa63-fadc5b216527",
   "metadata": {},
   "source": [
    "The first step is to set a detection function. Normally, this would be derived with specialised software, but here, for the sake of the example, we make a mock one with the following cell."
   ]
  },
  {
   "cell_type": "code",
   "execution_count": 12,
   "id": "38298d31-68b9-4861-b998-b5a26c7470d7",
   "metadata": {},
   "outputs": [],
   "source": [
    "from math import exp\n",
    "def detection_func(x): return exp((-x**2) / (2*500**2))"
   ]
  },
  {
   "cell_type": "markdown",
   "id": "d459264e-22a6-496a-8884-6a1513c04190",
   "metadata": {},
   "source": [
    "Now, we enter that distance function to the ```generate_dfls``` function. We also specify the number of candidate distances that we want to generate, the effective stripwidth, and the interval between candidate distances."
   ]
  },
  {
   "cell_type": "code",
   "execution_count": 13,
   "id": "4048ec1d-975a-44e6-8125-b740cc72dce5",
   "metadata": {},
   "outputs": [],
   "source": [
    "number = 100000\n",
    "esw = 2000\n",
    "interval = 1\n",
    "from sampley.functions import generate_dfls\n",
    "dfls = generate_dfls(number=number, esw=esw, interval=interval, dfunc=detection_func)"
   ]
  },
  {
   "cell_type": "markdown",
   "id": "360db530-abba-4f8d-9965-2060331d138b",
   "metadata": {},
   "source": [
    "We can now inspect the distances that we generated."
   ]
  },
  {
   "cell_type": "code",
   "execution_count": 14,
   "id": "273e0014-9e73-4bf3-b6cb-a60126681bb2",
   "metadata": {},
   "outputs": [
    {
     "name": "stdout",
     "output_type": "stream",
     "text": [
      "Number of candidate distances: 100000\n"
     ]
    },
    {
     "data": {
      "text/plain": [
       "[72.0, 415.0, 546.0, 594.0, 210.0]"
      ]
     },
     "execution_count": 14,
     "metadata": {},
     "output_type": "execute_result"
    }
   ],
   "source": [
    "print(f'Number of candidate distances: {len(dfls)}')\n",
    "dfls[:5]"
   ]
  },
  {
   "cell_type": "markdown",
   "id": "80d8f5ab-706c-4176-a681-bfe797f93641",
   "metadata": {},
   "source": [
    "We can also plot a histogram of the distances to see that they follow the detection function - nearer distances are more frequent, and so more likely to be selected, than further distances."
   ]
  },
  {
   "cell_type": "code",
   "execution_count": 15,
   "id": "03ccf63f-fe76-48fa-ae03-8f63a2c9b251",
   "metadata": {},
   "outputs": [
    {
     "data": {
      "image/png": "[encoded data removed]",
      "text/plain": [
       "<Figure size 640x480 with 1 Axes>"
      ]
     },
     "metadata": {},
     "output_type": "display_data"
    }
   ],
   "source": [
    "import matplotlib.pyplot as plt\n",
    "plt.hist(dfls, bins=50, facecolor='none', edgecolor='black');"
   ]
  },
  {
   "cell_type": "markdown",
   "id": "ee57db6a-f208-4cc8-8150-3e6c175b1f7e",
   "metadata": {},
   "source": [
    "Now, we use the ```Sections``` object and the ```PresenceZones``` object to make an ```Absences``` object (```u_absences```).\n",
    "<br>Note that the target number of absences to generate is set to five times the number of presences.\n",
    "<br>We also enter the distances from the line that we just generated."
   ]
  },
  {
   "cell_type": "code",
   "execution_count": 16,
   "id": "a6b76bb6-f125-4d99-9f3e-f42c74e61d9a",
   "metadata": {},
   "outputs": [
    {
     "name": "stdout",
     "output_type": "stream",
     "text": [
      "Target: 65 | Attempts: 113 | Successes: 65\n"
     ]
    }
   ],
   "source": [
    "u_absences = Absences.delimit(\n",
    "    sections=u_sections,\n",
    "    presencezones=u_presencezones,\n",
    "    var='from',\n",
    "    target=5*len(u_presences.presences),\n",
    "    dfls=dfls)"
   ]
  },
  {
   "cell_type": "code",
   "execution_count": 17,
   "id": "87dae20c-a10f-4a60-b485-c7d1356e79ff",
   "metadata": {},
   "outputs": [
    {
     "data": {
      "text/html": [
       "<div>\n",
       "<style scoped>\n",
       "    .dataframe tbody tr th:only-of-type {\n",
       "        vertical-align: middle;\n",
       "    }\n",
       "\n",
       "    .dataframe tbody tr th {\n",
       "        vertical-align: top;\n",
       "    }\n",
       "\n",
       "    .dataframe thead th {\n",
       "        text-align: right;\n",
       "    }\n",
       "</style>\n",
       "<table border=\"1\" class=\"dataframe\">\n",
       "  <thead>\n",
       "    <tr style=\"text-align: right;\">\n",
       "      <th></th>\n",
       "      <th>point_id</th>\n",
       "      <th>point</th>\n",
       "      <th>date</th>\n",
       "      <th>section_id</th>\n",
       "      <th>dfbs</th>\n",
       "      <th>point_al</th>\n",
       "    </tr>\n",
       "  </thead>\n",
       "  <tbody>\n",
       "    <tr>\n",
       "      <th>0</th>\n",
       "      <td>a01</td>\n",
       "      <td>POINT (567212.568 4743184.49)</td>\n",
       "      <td>2019-01-25</td>\n",
       "      <td>s1</td>\n",
       "      <td>12896.029337</td>\n",
       "      <td>POINT (567198.5445719849 4742815.756365811)</td>\n",
       "    </tr>\n",
       "    <tr>\n",
       "      <th>1</th>\n",
       "      <td>a02</td>\n",
       "      <td>POINT (532342.624 4742943.564)</td>\n",
       "      <td>2019-01-25</td>\n",
       "      <td>s1</td>\n",
       "      <td>47753.075864</td>\n",
       "      <td>POINT (532344.1230743601 4742623.567290779)</td>\n",
       "    </tr>\n",
       "    <tr>\n",
       "      <th>2</th>\n",
       "      <td>a03</td>\n",
       "      <td>POINT (530435.789 4742646.745)</td>\n",
       "      <td>2019-01-25</td>\n",
       "      <td>s1</td>\n",
       "      <td>49661.722030</td>\n",
       "      <td>POINT (530435.8464390063 4742633.745124272)</td>\n",
       "    </tr>\n",
       "    <tr>\n",
       "      <th>3</th>\n",
       "      <td>a04</td>\n",
       "      <td>POINT (528092.523 4742839.912)</td>\n",
       "      <td>2019-01-25</td>\n",
       "      <td>s1</td>\n",
       "      <td>52004.601693</td>\n",
       "      <td>POINT (528093.4755614919 4742604.914184473)</td>\n",
       "    </tr>\n",
       "    <tr>\n",
       "      <th>4</th>\n",
       "      <td>a05</td>\n",
       "      <td>POINT (521536.86 4743159.171)</td>\n",
       "      <td>2019-01-25</td>\n",
       "      <td>s1</td>\n",
       "      <td>58559.883667</td>\n",
       "      <td>POINT (521538.6121731414 4742600.173448814)</td>\n",
       "    </tr>\n",
       "  </tbody>\n",
       "</table>\n",
       "</div>"
      ],
      "text/plain": [
       "  point_id                           point       date section_id  \\\n",
       "0      a01   POINT (567212.568 4743184.49) 2019-01-25         s1   \n",
       "1      a02  POINT (532342.624 4742943.564) 2019-01-25         s1   \n",
       "2      a03  POINT (530435.789 4742646.745) 2019-01-25         s1   \n",
       "3      a04  POINT (528092.523 4742839.912) 2019-01-25         s1   \n",
       "4      a05   POINT (521536.86 4743159.171) 2019-01-25         s1   \n",
       "\n",
       "           dfbs                                     point_al  \n",
       "0  12896.029337  POINT (567198.5445719849 4742815.756365811)  \n",
       "1  47753.075864  POINT (532344.1230743601 4742623.567290779)  \n",
       "2  49661.722030  POINT (530435.8464390063 4742633.745124272)  \n",
       "3  52004.601693  POINT (528093.4755614919 4742604.914184473)  \n",
       "4  58559.883667  POINT (521538.6121731414 4742600.173448814)  "
      ]
     },
     "execution_count": 17,
     "metadata": {},
     "output_type": "execute_result"
    }
   ],
   "source": [
    "u_absences.absences[:5]  # print the first five rows of the absences GeoDataFrame"
   ]
  },
  {
   "cell_type": "code",
   "execution_count": 18,
   "id": "d4e04ab3-08ee-4fb7-89d2-17915b026881",
   "metadata": {},
   "outputs": [
    {
     "data": {
      "image/png": "[encoded data removed]",
      "text/plain": [
       "<Figure size 1600x800 with 1 Axes>"
      ]
     },
     "metadata": {},
     "output_type": "display_data"
    }
   ],
   "source": [
    "u_absences.plot()  # plot the absences"
   ]
  },
  {
   "cell_type": "markdown",
   "id": "a6279b83-729a-4da0-b5e2-b749949181e2",
   "metadata": {},
   "source": [
    "## Stage 3\n",
    "In Stage 3, we make a ```Samples``` object from the ```Presences``` object and the ```Absences``` object. We also import the ```DataPoints``` object that contains the data to assign to the presences and a list of the data columns to assign.\n",
    "<br>_Note that assigning data to the absences is not possible given the imported data. It is only possible if the absences are made from sections that are made from continuous datapoints (see the ```point-continuous.ipynb``` exemplar)._"
   ]
  },
  {
   "cell_type": "code",
   "execution_count": 19,
   "id": "143c6565-1cf6-418a-8392-d3f312d557eb",
   "metadata": {},
   "outputs": [],
   "source": [
    "u_samples = Samples.point(\n",
    "    presences=u_presences,\n",
    "    absences=u_absences,\n",
    "    datapoints_p=u_sightings,  # DataPoints object containing data to assign to the presences\n",
    "    cols_p=['individuals'])  # data columns in datapoints_p to assign to the presences"
   ]
  },
  {
   "cell_type": "code",
   "execution_count": 20,
   "id": "732e1e92-51fc-4920-8dbd-4baf9286e17a",
   "metadata": {},
   "outputs": [
    {
     "name": "stdout",
     "output_type": "stream",
     "text": [
      "Number of samples: 78\n"
     ]
    }
   ],
   "source": [
    "print(f'Number of samples: {len(u_samples.samples)}')"
   ]
  },
  {
   "cell_type": "code",
   "execution_count": 21,
   "id": "cdfbe6c2-260f-4b54-89a0-10baef941ee8",
   "metadata": {},
   "outputs": [
    {
     "data": {
      "text/html": [
       "<div>\n",
       "<style scoped>\n",
       "    .dataframe tbody tr th:only-of-type {\n",
       "        vertical-align: middle;\n",
       "    }\n",
       "\n",
       "    .dataframe tbody tr th {\n",
       "        vertical-align: top;\n",
       "    }\n",
       "\n",
       "    .dataframe thead th {\n",
       "        text-align: right;\n",
       "    }\n",
       "</style>\n",
       "<table border=\"1\" class=\"dataframe\">\n",
       "  <thead>\n",
       "    <tr style=\"text-align: right;\">\n",
       "      <th></th>\n",
       "      <th>point_id</th>\n",
       "      <th>point</th>\n",
       "      <th>date</th>\n",
       "      <th>datapoint_id</th>\n",
       "      <th>p-a</th>\n",
       "      <th>individuals</th>\n",
       "      <th>point_al</th>\n",
       "      <th>section_id</th>\n",
       "      <th>dfbs</th>\n",
       "    </tr>\n",
       "  </thead>\n",
       "  <tbody>\n",
       "    <tr>\n",
       "      <th>0</th>\n",
       "      <td>p01</td>\n",
       "      <td>POINT (579247.275 4743823.394)</td>\n",
       "      <td>2019-01-25</td>\n",
       "      <td>d01</td>\n",
       "      <td>1</td>\n",
       "      <td>1.0</td>\n",
       "      <td>NaN</td>\n",
       "      <td>NaN</td>\n",
       "      <td>NaN</td>\n",
       "    </tr>\n",
       "    <tr>\n",
       "      <th>1</th>\n",
       "      <td>p02</td>\n",
       "      <td>POINT (555739.203 4737785.585)</td>\n",
       "      <td>2019-01-25</td>\n",
       "      <td>d02</td>\n",
       "      <td>1</td>\n",
       "      <td>2.0</td>\n",
       "      <td>NaN</td>\n",
       "      <td>NaN</td>\n",
       "      <td>NaN</td>\n",
       "    </tr>\n",
       "    <tr>\n",
       "      <th>2</th>\n",
       "      <td>p03</td>\n",
       "      <td>POINT (548277.347 4745661.195)</td>\n",
       "      <td>2019-01-25</td>\n",
       "      <td>d03</td>\n",
       "      <td>1</td>\n",
       "      <td>5.0</td>\n",
       "      <td>NaN</td>\n",
       "      <td>NaN</td>\n",
       "      <td>NaN</td>\n",
       "    </tr>\n",
       "    <tr>\n",
       "      <th>3</th>\n",
       "      <td>p04</td>\n",
       "      <td>POINT (521883.134 4723148.616)</td>\n",
       "      <td>2019-03-02</td>\n",
       "      <td>d04</td>\n",
       "      <td>1</td>\n",
       "      <td>1.0</td>\n",
       "      <td>NaN</td>\n",
       "      <td>NaN</td>\n",
       "      <td>NaN</td>\n",
       "    </tr>\n",
       "    <tr>\n",
       "      <th>4</th>\n",
       "      <td>p05</td>\n",
       "      <td>POINT (537262.152 4720806.487)</td>\n",
       "      <td>2019-03-02</td>\n",
       "      <td>d05</td>\n",
       "      <td>1</td>\n",
       "      <td>2.0</td>\n",
       "      <td>NaN</td>\n",
       "      <td>NaN</td>\n",
       "      <td>NaN</td>\n",
       "    </tr>\n",
       "  </tbody>\n",
       "</table>\n",
       "</div>"
      ],
      "text/plain": [
       "  point_id                           point       date datapoint_id  p-a  \\\n",
       "0      p01  POINT (579247.275 4743823.394) 2019-01-25          d01    1   \n",
       "1      p02  POINT (555739.203 4737785.585) 2019-01-25          d02    1   \n",
       "2      p03  POINT (548277.347 4745661.195) 2019-01-25          d03    1   \n",
       "3      p04  POINT (521883.134 4723148.616) 2019-03-02          d04    1   \n",
       "4      p05  POINT (537262.152 4720806.487) 2019-03-02          d05    1   \n",
       "\n",
       "   individuals point_al section_id  dfbs  \n",
       "0          1.0      NaN        NaN   NaN  \n",
       "1          2.0      NaN        NaN   NaN  \n",
       "2          5.0      NaN        NaN   NaN  \n",
       "3          1.0      NaN        NaN   NaN  \n",
       "4          2.0      NaN        NaN   NaN  "
      ]
     },
     "execution_count": 21,
     "metadata": {},
     "output_type": "execute_result"
    }
   ],
   "source": [
    "u_samples.samples[:5]  # print the first five rows of the samples GeoDataFrame"
   ]
  },
  {
   "cell_type": "markdown",
   "id": "084d2b45-d195-4e92-83a8-374d1fd49a94",
   "metadata": {},
   "source": [
    "We know that, due to the presence zones, no absence will be within the spatial and temporal thresholds of a presence, however, by looking at the plots of the presences in Stage 2 above, we may see that some of the presences are close to other presences. The same applies to the absences. This may lead to issues associated with autocorrelation.\n",
    "<br>So, here, we thin the samples with a spatial threshold of 10000 m and a temporal threshold of 5 days, resulting in 25 samples that are kept (within the ```samples``` attribute)."
   ]
  },
  {
   "cell_type": "code",
   "execution_count": 22,
   "id": "9c0378bb-675d-49da-aeaa-20ef09339629",
   "metadata": {},
   "outputs": [],
   "source": [
    "u_samples.thin(\n",
    "    coords='point', \n",
    "    sp_threshold=10000,\n",
    "    datetimes='date',\n",
    "    tm_threshold=5,\n",
    "    tm_unit='day'\n",
    ")"
   ]
  },
  {
   "cell_type": "code",
   "execution_count": 23,
   "id": "26fa1a9a-8192-4e77-ab20-b2f267b2d587",
   "metadata": {},
   "outputs": [
    {
     "name": "stdout",
     "output_type": "stream",
     "text": [
      "Number of samples kept: 38\n"
     ]
    }
   ],
   "source": [
    "print(f'Number of samples kept: {len(u_samples.samples)}')"
   ]
  },
  {
   "cell_type": "code",
   "execution_count": 24,
   "id": "4ba2b7a3-8f11-4595-9dbf-d1f1c6f3c36c",
   "metadata": {},
   "outputs": [
    {
     "data": {
      "text/html": [
       "<div>\n",
       "<style scoped>\n",
       "    .dataframe tbody tr th:only-of-type {\n",
       "        vertical-align: middle;\n",
       "    }\n",
       "\n",
       "    .dataframe tbody tr th {\n",
       "        vertical-align: top;\n",
       "    }\n",
       "\n",
       "    .dataframe thead th {\n",
       "        text-align: right;\n",
       "    }\n",
       "</style>\n",
       "<table border=\"1\" class=\"dataframe\">\n",
       "  <thead>\n",
       "    <tr style=\"text-align: right;\">\n",
       "      <th></th>\n",
       "      <th>point_id</th>\n",
       "      <th>point</th>\n",
       "      <th>date</th>\n",
       "      <th>datapoint_id</th>\n",
       "      <th>p-a</th>\n",
       "      <th>individuals</th>\n",
       "      <th>point_al</th>\n",
       "      <th>section_id</th>\n",
       "      <th>dfbs</th>\n",
       "    </tr>\n",
       "  </thead>\n",
       "  <tbody>\n",
       "    <tr>\n",
       "      <th>0</th>\n",
       "      <td>p01</td>\n",
       "      <td>POINT (579247.275 4743823.394)</td>\n",
       "      <td>2019-01-25</td>\n",
       "      <td>d01</td>\n",
       "      <td>1</td>\n",
       "      <td>1.0</td>\n",
       "      <td>NaN</td>\n",
       "      <td>NaN</td>\n",
       "      <td>NaN</td>\n",
       "    </tr>\n",
       "    <tr>\n",
       "      <th>1</th>\n",
       "      <td>p02</td>\n",
       "      <td>POINT (555739.203 4737785.585)</td>\n",
       "      <td>2019-01-25</td>\n",
       "      <td>d02</td>\n",
       "      <td>1</td>\n",
       "      <td>2.0</td>\n",
       "      <td>NaN</td>\n",
       "      <td>NaN</td>\n",
       "      <td>NaN</td>\n",
       "    </tr>\n",
       "    <tr>\n",
       "      <th>2</th>\n",
       "      <td>p03</td>\n",
       "      <td>POINT (548277.347 4745661.195)</td>\n",
       "      <td>2019-01-25</td>\n",
       "      <td>d03</td>\n",
       "      <td>1</td>\n",
       "      <td>5.0</td>\n",
       "      <td>NaN</td>\n",
       "      <td>NaN</td>\n",
       "      <td>NaN</td>\n",
       "    </tr>\n",
       "    <tr>\n",
       "      <th>3</th>\n",
       "      <td>p04</td>\n",
       "      <td>POINT (521883.134 4723148.616)</td>\n",
       "      <td>2019-03-02</td>\n",
       "      <td>d04</td>\n",
       "      <td>1</td>\n",
       "      <td>1.0</td>\n",
       "      <td>NaN</td>\n",
       "      <td>NaN</td>\n",
       "      <td>NaN</td>\n",
       "    </tr>\n",
       "    <tr>\n",
       "      <th>4</th>\n",
       "      <td>p05</td>\n",
       "      <td>POINT (537262.152 4720806.487)</td>\n",
       "      <td>2019-03-02</td>\n",
       "      <td>d05</td>\n",
       "      <td>1</td>\n",
       "      <td>2.0</td>\n",
       "      <td>NaN</td>\n",
       "      <td>NaN</td>\n",
       "      <td>NaN</td>\n",
       "    </tr>\n",
       "  </tbody>\n",
       "</table>\n",
       "</div>"
      ],
      "text/plain": [
       "  point_id                           point       date datapoint_id  p-a  \\\n",
       "0      p01  POINT (579247.275 4743823.394) 2019-01-25          d01    1   \n",
       "1      p02  POINT (555739.203 4737785.585) 2019-01-25          d02    1   \n",
       "2      p03  POINT (548277.347 4745661.195) 2019-01-25          d03    1   \n",
       "3      p04  POINT (521883.134 4723148.616) 2019-03-02          d04    1   \n",
       "4      p05  POINT (537262.152 4720806.487) 2019-03-02          d05    1   \n",
       "\n",
       "   individuals point_al section_id  dfbs  \n",
       "0          1.0      NaN        NaN   NaN  \n",
       "1          2.0      NaN        NaN   NaN  \n",
       "2          5.0      NaN        NaN   NaN  \n",
       "3          1.0      NaN        NaN   NaN  \n",
       "4          2.0      NaN        NaN   NaN  "
      ]
     },
     "execution_count": 24,
     "metadata": {},
     "output_type": "execute_result"
    }
   ],
   "source": [
    "u_samples.samples[:5]  # print the first five rows of the samples GeoDataFrame"
   ]
  },
  {
   "cell_type": "markdown",
   "id": "cbf319e9-70a6-4b94-a29f-4016478d4dac",
   "metadata": {},
   "source": [
    "Those samples that were removed by thinning are now in a new attribute: ```removed```."
   ]
  },
  {
   "cell_type": "code",
   "execution_count": 25,
   "id": "52f5ea7e-5332-4b31-8cb7-e49a2d0deafd",
   "metadata": {},
   "outputs": [
    {
     "name": "stdout",
     "output_type": "stream",
     "text": [
      "Number of samples removed: 40\n"
     ]
    }
   ],
   "source": [
    "print(f'Number of samples removed: {len(u_samples.removed)}')"
   ]
  },
  {
   "cell_type": "code",
   "execution_count": 26,
   "id": "dd20f3fa-466d-468d-81ff-42b66ad22f23",
   "metadata": {},
   "outputs": [
    {
     "data": {
      "text/html": [
       "<div>\n",
       "<style scoped>\n",
       "    .dataframe tbody tr th:only-of-type {\n",
       "        vertical-align: middle;\n",
       "    }\n",
       "\n",
       "    .dataframe tbody tr th {\n",
       "        vertical-align: top;\n",
       "    }\n",
       "\n",
       "    .dataframe thead th {\n",
       "        text-align: right;\n",
       "    }\n",
       "</style>\n",
       "<table border=\"1\" class=\"dataframe\">\n",
       "  <thead>\n",
       "    <tr style=\"text-align: right;\">\n",
       "      <th></th>\n",
       "      <th>point_id</th>\n",
       "      <th>point</th>\n",
       "      <th>date</th>\n",
       "      <th>datapoint_id</th>\n",
       "      <th>p-a</th>\n",
       "      <th>individuals</th>\n",
       "      <th>point_al</th>\n",
       "      <th>section_id</th>\n",
       "      <th>dfbs</th>\n",
       "    </tr>\n",
       "  </thead>\n",
       "  <tbody>\n",
       "    <tr>\n",
       "      <th>0</th>\n",
       "      <td>p09</td>\n",
       "      <td>POINT (645110.432 4715423.485)</td>\n",
       "      <td>2019-03-05</td>\n",
       "      <td>d09</td>\n",
       "      <td>1</td>\n",
       "      <td>2.0</td>\n",
       "      <td>NaN</td>\n",
       "      <td>NaN</td>\n",
       "      <td>NaN</td>\n",
       "    </tr>\n",
       "    <tr>\n",
       "      <th>1</th>\n",
       "      <td>p12</td>\n",
       "      <td>POINT (621160.621 4695697.192)</td>\n",
       "      <td>2019-03-05</td>\n",
       "      <td>d12</td>\n",
       "      <td>1</td>\n",
       "      <td>2.0</td>\n",
       "      <td>NaN</td>\n",
       "      <td>NaN</td>\n",
       "      <td>NaN</td>\n",
       "    </tr>\n",
       "    <tr>\n",
       "      <th>2</th>\n",
       "      <td>a03</td>\n",
       "      <td>POINT (530435.789 4742646.745)</td>\n",
       "      <td>2019-01-25</td>\n",
       "      <td>NaN</td>\n",
       "      <td>0</td>\n",
       "      <td>NaN</td>\n",
       "      <td>POINT (530435.8464390063 4742633.745124272)</td>\n",
       "      <td>s1</td>\n",
       "      <td>49661.722030</td>\n",
       "    </tr>\n",
       "    <tr>\n",
       "      <th>3</th>\n",
       "      <td>a04</td>\n",
       "      <td>POINT (528092.523 4742839.912)</td>\n",
       "      <td>2019-01-25</td>\n",
       "      <td>NaN</td>\n",
       "      <td>0</td>\n",
       "      <td>NaN</td>\n",
       "      <td>POINT (528093.4755614919 4742604.914184473)</td>\n",
       "      <td>s1</td>\n",
       "      <td>52004.601693</td>\n",
       "    </tr>\n",
       "    <tr>\n",
       "      <th>4</th>\n",
       "      <td>a07</td>\n",
       "      <td>POINT (501198.161 4742865.405)</td>\n",
       "      <td>2019-01-25</td>\n",
       "      <td>NaN</td>\n",
       "      <td>0</td>\n",
       "      <td>NaN</td>\n",
       "      <td>POINT (501214.7856760223 4742506.79025718)</td>\n",
       "      <td>s1</td>\n",
       "      <td>78885.136979</td>\n",
       "    </tr>\n",
       "  </tbody>\n",
       "</table>\n",
       "</div>"
      ],
      "text/plain": [
       "  point_id                           point       date datapoint_id  p-a  \\\n",
       "0      p09  POINT (645110.432 4715423.485) 2019-03-05          d09    1   \n",
       "1      p12  POINT (621160.621 4695697.192) 2019-03-05          d12    1   \n",
       "2      a03  POINT (530435.789 4742646.745) 2019-01-25          NaN    0   \n",
       "3      a04  POINT (528092.523 4742839.912) 2019-01-25          NaN    0   \n",
       "4      a07  POINT (501198.161 4742865.405) 2019-01-25          NaN    0   \n",
       "\n",
       "   individuals                                     point_al section_id  \\\n",
       "0          2.0                                          NaN        NaN   \n",
       "1          2.0                                          NaN        NaN   \n",
       "2          NaN  POINT (530435.8464390063 4742633.745124272)         s1   \n",
       "3          NaN  POINT (528093.4755614919 4742604.914184473)         s1   \n",
       "4          NaN   POINT (501214.7856760223 4742506.79025718)         s1   \n",
       "\n",
       "           dfbs  \n",
       "0           NaN  \n",
       "1           NaN  \n",
       "2  49661.722030  \n",
       "3  52004.601693  \n",
       "4  78885.136979  "
      ]
     },
     "execution_count": 26,
     "metadata": {},
     "output_type": "execute_result"
    }
   ],
   "source": [
    "u_samples.removed[:5]  # print the first five rows of the removed samples GeoDataFrame"
   ]
  },
  {
   "cell_type": "markdown",
   "id": "c0828132-57e5-4637-b9f0-add13da45067",
   "metadata": {},
   "source": [
    "## Export\n",
    "Finally, we save the final ```Samples``` object to the export folder."
   ]
  },
  {
   "cell_type": "code",
   "execution_count": 27,
   "id": "1ffbf7cd-62b6-4be7-9188-2d583fb63532",
   "metadata": {},
   "outputs": [
    {
     "name": "stdout",
     "output_type": "stream",
     "text": [
      "Success: reprojected to CRS \"EPSG:4326\"\n"
     ]
    }
   ],
   "source": [
    "u_samples.save(\n",
    "    folder=export_folder,\n",
    "    filetype='csv',\n",
    "    crs_export='EPSG:4326'\n",
    ")"
   ]
  },
  {
   "cell_type": "markdown",
   "id": "973dc37e-0b4e-484a-a1f5-94cc21294aa7",
   "metadata": {},
   "source": [
    "In the export folder, there should be two new CSVs: the first should have the same name as the ```Samples``` object (run the box below to see the name) while the second should also have this name but with ```-parameters``` added at the end."
   ]
  },
  {
   "cell_type": "code",
   "execution_count": 28,
   "id": "595973a0-464e-4417-a612-f77f5d563745",
   "metadata": {},
   "outputs": [
    {
     "data": {
      "text/plain": [
       "'samples-presences-sightings_off-line-+-absences-fs-10000m-5day'"
      ]
     },
     "execution_count": 28,
     "metadata": {},
     "output_type": "execute_result"
    }
   ],
   "source": [
    "u_samples.name"
   ]
  },
  {
   "cell_type": "markdown",
   "id": "7d2c11eb-6a31-4ee9-a489-8740f8fb1563",
   "metadata": {},
   "source": [
    "The first CSV should contain the samples, like those shown in the box below. \n",
    "<br>In this dataframe, each row represents a given presence or absence, i.e., a sample. \n",
    "<br>The column ```point``` delimits the location of the presence/absence.\n",
    "<br>In this particular example, the data columns are ```p-a``` (presence-absence), ```individuals```, and ```bss```."
   ]
  },
  {
   "cell_type": "code",
   "execution_count": 29,
   "id": "ea5f1e9a-64ca-48ac-9a2a-7c1b996ff940",
   "metadata": {},
   "outputs": [
    {
     "data": {
      "text/html": [
       "<div>\n",
       "<style scoped>\n",
       "    .dataframe tbody tr th:only-of-type {\n",
       "        vertical-align: middle;\n",
       "    }\n",
       "\n",
       "    .dataframe tbody tr th {\n",
       "        vertical-align: top;\n",
       "    }\n",
       "\n",
       "    .dataframe thead th {\n",
       "        text-align: right;\n",
       "    }\n",
       "</style>\n",
       "<table border=\"1\" class=\"dataframe\">\n",
       "  <thead>\n",
       "    <tr style=\"text-align: right;\">\n",
       "      <th></th>\n",
       "      <th>point_id</th>\n",
       "      <th>point</th>\n",
       "      <th>date</th>\n",
       "      <th>datapoint_id</th>\n",
       "      <th>p-a</th>\n",
       "      <th>individuals</th>\n",
       "      <th>point_al</th>\n",
       "      <th>section_id</th>\n",
       "      <th>dfbs</th>\n",
       "    </tr>\n",
       "  </thead>\n",
       "  <tbody>\n",
       "    <tr>\n",
       "      <th>0</th>\n",
       "      <td>p01</td>\n",
       "      <td>POINT (579247.275 4743823.394)</td>\n",
       "      <td>2019-01-25</td>\n",
       "      <td>d01</td>\n",
       "      <td>1</td>\n",
       "      <td>1.0</td>\n",
       "      <td>NaN</td>\n",
       "      <td>NaN</td>\n",
       "      <td>NaN</td>\n",
       "    </tr>\n",
       "    <tr>\n",
       "      <th>1</th>\n",
       "      <td>p02</td>\n",
       "      <td>POINT (555739.203 4737785.585)</td>\n",
       "      <td>2019-01-25</td>\n",
       "      <td>d02</td>\n",
       "      <td>1</td>\n",
       "      <td>2.0</td>\n",
       "      <td>NaN</td>\n",
       "      <td>NaN</td>\n",
       "      <td>NaN</td>\n",
       "    </tr>\n",
       "    <tr>\n",
       "      <th>2</th>\n",
       "      <td>p03</td>\n",
       "      <td>POINT (548277.347 4745661.195)</td>\n",
       "      <td>2019-01-25</td>\n",
       "      <td>d03</td>\n",
       "      <td>1</td>\n",
       "      <td>5.0</td>\n",
       "      <td>NaN</td>\n",
       "      <td>NaN</td>\n",
       "      <td>NaN</td>\n",
       "    </tr>\n",
       "    <tr>\n",
       "      <th>3</th>\n",
       "      <td>p04</td>\n",
       "      <td>POINT (521883.134 4723148.616)</td>\n",
       "      <td>2019-03-02</td>\n",
       "      <td>d04</td>\n",
       "      <td>1</td>\n",
       "      <td>1.0</td>\n",
       "      <td>NaN</td>\n",
       "      <td>NaN</td>\n",
       "      <td>NaN</td>\n",
       "    </tr>\n",
       "    <tr>\n",
       "      <th>4</th>\n",
       "      <td>p05</td>\n",
       "      <td>POINT (537262.152 4720806.487)</td>\n",
       "      <td>2019-03-02</td>\n",
       "      <td>d05</td>\n",
       "      <td>1</td>\n",
       "      <td>2.0</td>\n",
       "      <td>NaN</td>\n",
       "      <td>NaN</td>\n",
       "      <td>NaN</td>\n",
       "    </tr>\n",
       "    <tr>\n",
       "      <th>5</th>\n",
       "      <td>p06</td>\n",
       "      <td>POINT (514284.369 4707549.723)</td>\n",
       "      <td>2019-03-02</td>\n",
       "      <td>d06</td>\n",
       "      <td>1</td>\n",
       "      <td>1.0</td>\n",
       "      <td>NaN</td>\n",
       "      <td>NaN</td>\n",
       "      <td>NaN</td>\n",
       "    </tr>\n",
       "    <tr>\n",
       "      <th>6</th>\n",
       "      <td>p07</td>\n",
       "      <td>POINT (503390.874 4703145.523)</td>\n",
       "      <td>2019-03-02</td>\n",
       "      <td>d07</td>\n",
       "      <td>1</td>\n",
       "      <td>3.0</td>\n",
       "      <td>NaN</td>\n",
       "      <td>NaN</td>\n",
       "      <td>NaN</td>\n",
       "    </tr>\n",
       "    <tr>\n",
       "      <th>7</th>\n",
       "      <td>p08</td>\n",
       "      <td>POINT (654496.459 4717184.616)</td>\n",
       "      <td>2019-03-05</td>\n",
       "      <td>d08</td>\n",
       "      <td>1</td>\n",
       "      <td>5.0</td>\n",
       "      <td>NaN</td>\n",
       "      <td>NaN</td>\n",
       "      <td>NaN</td>\n",
       "    </tr>\n",
       "    <tr>\n",
       "      <th>8</th>\n",
       "      <td>p10</td>\n",
       "      <td>POINT (642728.973 4719199.855)</td>\n",
       "      <td>2019-03-05</td>\n",
       "      <td>d10</td>\n",
       "      <td>1</td>\n",
       "      <td>1.0</td>\n",
       "      <td>NaN</td>\n",
       "      <td>NaN</td>\n",
       "      <td>NaN</td>\n",
       "    </tr>\n",
       "    <tr>\n",
       "      <th>9</th>\n",
       "      <td>p11</td>\n",
       "      <td>POINT (629622.26 4709308.371)</td>\n",
       "      <td>2019-03-05</td>\n",
       "      <td>d11</td>\n",
       "      <td>1</td>\n",
       "      <td>3.0</td>\n",
       "      <td>NaN</td>\n",
       "      <td>NaN</td>\n",
       "      <td>NaN</td>\n",
       "    </tr>\n",
       "    <tr>\n",
       "      <th>10</th>\n",
       "      <td>p13</td>\n",
       "      <td>POINT (612622.147 4697821.028)</td>\n",
       "      <td>2019-03-05</td>\n",
       "      <td>d13</td>\n",
       "      <td>1</td>\n",
       "      <td>4.0</td>\n",
       "      <td>NaN</td>\n",
       "      <td>NaN</td>\n",
       "      <td>NaN</td>\n",
       "    </tr>\n",
       "    <tr>\n",
       "      <th>11</th>\n",
       "      <td>a01</td>\n",
       "      <td>POINT (567212.568 4743184.49)</td>\n",
       "      <td>2019-01-25</td>\n",
       "      <td>NaN</td>\n",
       "      <td>0</td>\n",
       "      <td>NaN</td>\n",
       "      <td>POINT (567198.5445719849 4742815.756365811)</td>\n",
       "      <td>s1</td>\n",
       "      <td>12896.029337</td>\n",
       "    </tr>\n",
       "    <tr>\n",
       "      <th>12</th>\n",
       "      <td>a02</td>\n",
       "      <td>POINT (532342.624 4742943.564)</td>\n",
       "      <td>2019-01-25</td>\n",
       "      <td>NaN</td>\n",
       "      <td>0</td>\n",
       "      <td>NaN</td>\n",
       "      <td>POINT (532344.1230743601 4742623.567290779)</td>\n",
       "      <td>s1</td>\n",
       "      <td>47753.075864</td>\n",
       "    </tr>\n",
       "    <tr>\n",
       "      <th>13</th>\n",
       "      <td>a05</td>\n",
       "      <td>POINT (521536.86 4743159.171)</td>\n",
       "      <td>2019-01-25</td>\n",
       "      <td>NaN</td>\n",
       "      <td>0</td>\n",
       "      <td>NaN</td>\n",
       "      <td>POINT (521538.6121731414 4742600.173448814)</td>\n",
       "      <td>s1</td>\n",
       "      <td>58559.883667</td>\n",
       "    </tr>\n",
       "    <tr>\n",
       "      <th>14</th>\n",
       "      <td>a06</td>\n",
       "      <td>POINT (509600.963 4742977.311)</td>\n",
       "      <td>2019-01-25</td>\n",
       "      <td>NaN</td>\n",
       "      <td>0</td>\n",
       "      <td>NaN</td>\n",
       "      <td>POINT (509601.552722807 4742554.311152255)</td>\n",
       "      <td>s1</td>\n",
       "      <td>70497.448347</td>\n",
       "    </tr>\n",
       "    <tr>\n",
       "      <th>15</th>\n",
       "      <td>a10</td>\n",
       "      <td>POINT (583967.577 4734198.915)</td>\n",
       "      <td>2019-01-30</td>\n",
       "      <td>NaN</td>\n",
       "      <td>0</td>\n",
       "      <td>NaN</td>\n",
       "      <td>POINT (583974.1614572223 4733655.9550426295)</td>\n",
       "      <td>s2</td>\n",
       "      <td>88960.834979</td>\n",
       "    </tr>\n",
       "    <tr>\n",
       "      <th>16</th>\n",
       "      <td>a13</td>\n",
       "      <td>POINT (541990.56 4733199.695)</td>\n",
       "      <td>2019-01-30</td>\n",
       "      <td>NaN</td>\n",
       "      <td>0</td>\n",
       "      <td>NaN</td>\n",
       "      <td>POINT (541989.0962852702 4733439.690965867)</td>\n",
       "      <td>s2</td>\n",
       "      <td>130949.482463</td>\n",
       "    </tr>\n",
       "    <tr>\n",
       "      <th>17</th>\n",
       "      <td>a18</td>\n",
       "      <td>POINT (525775.461 4733849.075)</td>\n",
       "      <td>2019-01-30</td>\n",
       "      <td>NaN</td>\n",
       "      <td>0</td>\n",
       "      <td>NaN</td>\n",
       "      <td>POINT (525799.3219441654 4733370.66974669)</td>\n",
       "      <td>s2</td>\n",
       "      <td>147139.995724</td>\n",
       "    </tr>\n",
       "    <tr>\n",
       "      <th>18</th>\n",
       "      <td>a20</td>\n",
       "      <td>POINT (503469.116 4733842.413)</td>\n",
       "      <td>2019-01-30</td>\n",
       "      <td>NaN</td>\n",
       "      <td>0</td>\n",
       "      <td>NaN</td>\n",
       "      <td>POINT (503469.40732310864 4733257.413552792)</td>\n",
       "      <td>s2</td>\n",
       "      <td>169472.403546</td>\n",
       "    </tr>\n",
       "    <tr>\n",
       "      <th>19</th>\n",
       "      <td>a21</td>\n",
       "      <td>POINT (503382.628 4714256.898)</td>\n",
       "      <td>2019-03-02</td>\n",
       "      <td>NaN</td>\n",
       "      <td>0</td>\n",
       "      <td>NaN</td>\n",
       "      <td>POINT (503382.3855594607 4714768.897718211)</td>\n",
       "      <td>s3</td>\n",
       "      <td>175587.388551</td>\n",
       "    </tr>\n",
       "    <tr>\n",
       "      <th>20</th>\n",
       "      <td>a23</td>\n",
       "      <td>POINT (555183.731 4716344.034)</td>\n",
       "      <td>2019-03-02</td>\n",
       "      <td>NaN</td>\n",
       "      <td>0</td>\n",
       "      <td>NaN</td>\n",
       "      <td>POINT (555194.1843807554 4715025.075700324)</td>\n",
       "      <td>s3</td>\n",
       "      <td>227404.248581</td>\n",
       "    </tr>\n",
       "    <tr>\n",
       "      <th>21</th>\n",
       "      <td>a26</td>\n",
       "      <td>POINT (570787.255 4715060.932)</td>\n",
       "      <td>2019-03-02</td>\n",
       "      <td>NaN</td>\n",
       "      <td>0</td>\n",
       "      <td>NaN</td>\n",
       "      <td>POINT (570786.7450624986 4715110.929496612)</td>\n",
       "      <td>s3</td>\n",
       "      <td>242999.089350</td>\n",
       "    </tr>\n",
       "    <tr>\n",
       "      <th>22</th>\n",
       "      <td>a28</td>\n",
       "      <td>POINT (596369.997 4715010.946)</td>\n",
       "      <td>2019-03-02</td>\n",
       "      <td>NaN</td>\n",
       "      <td>0</td>\n",
       "      <td>NaN</td>\n",
       "      <td>POINT (596403.9015037884 4715076.722203056)</td>\n",
       "      <td>s3</td>\n",
       "      <td>268639.159022</td>\n",
       "    </tr>\n",
       "    <tr>\n",
       "      <th>23</th>\n",
       "      <td>a29</td>\n",
       "      <td>POINT (574878.298 4705910.504)</td>\n",
       "      <td>2019-03-02</td>\n",
       "      <td>NaN</td>\n",
       "      <td>0</td>\n",
       "      <td>NaN</td>\n",
       "      <td>POINT (574878.2225674866 4705917.503150809)</td>\n",
       "      <td>s3</td>\n",
       "      <td>300297.250059</td>\n",
       "    </tr>\n",
       "    <tr>\n",
       "      <th>24</th>\n",
       "      <td>a32</td>\n",
       "      <td>POINT (557331.473 4705727.423)</td>\n",
       "      <td>2019-03-02</td>\n",
       "      <td>NaN</td>\n",
       "      <td>0</td>\n",
       "      <td>NaN</td>\n",
       "      <td>POINT (557330.6650565028 4705825.419258524)</td>\n",
       "      <td>s3</td>\n",
       "      <td>317846.722917</td>\n",
       "    </tr>\n",
       "    <tr>\n",
       "      <th>25</th>\n",
       "      <td>a33</td>\n",
       "      <td>POINT (544806.935 4706234.28)</td>\n",
       "      <td>2019-03-02</td>\n",
       "      <td>NaN</td>\n",
       "      <td>0</td>\n",
       "      <td>NaN</td>\n",
       "      <td>POINT (544809.9094419711 4705770.289388721)</td>\n",
       "      <td>s3</td>\n",
       "      <td>330368.455841</td>\n",
       "    </tr>\n",
       "    <tr>\n",
       "      <th>26</th>\n",
       "      <td>a35</td>\n",
       "      <td>POINT (530307.396 4705404.109)</td>\n",
       "      <td>2019-03-02</td>\n",
       "      <td>NaN</td>\n",
       "      <td>0</td>\n",
       "      <td>NaN</td>\n",
       "      <td>POINT (530306.1365108126 4705692.105804189)</td>\n",
       "      <td>s3</td>\n",
       "      <td>344873.268959</td>\n",
       "    </tr>\n",
       "    <tr>\n",
       "      <th>27</th>\n",
       "      <td>a36</td>\n",
       "      <td>POINT (656409.505 4751160.77)</td>\n",
       "      <td>2019-03-05</td>\n",
       "      <td>NaN</td>\n",
       "      <td>0</td>\n",
       "      <td>NaN</td>\n",
       "      <td>POINT (656500.4810194545 4751162.842160602)</td>\n",
       "      <td>s4</td>\n",
       "      <td>374973.162614</td>\n",
       "    </tr>\n",
       "    <tr>\n",
       "      <th>28</th>\n",
       "      <td>a38</td>\n",
       "      <td>POINT (657804.712 4739432.421)</td>\n",
       "      <td>2019-03-05</td>\n",
       "      <td>NaN</td>\n",
       "      <td>0</td>\n",
       "      <td>NaN</td>\n",
       "      <td>POINT (656767.9799282559 4739408.850537448)</td>\n",
       "      <td>s4</td>\n",
       "      <td>386730.197732</td>\n",
       "    </tr>\n",
       "    <tr>\n",
       "      <th>29</th>\n",
       "      <td>a39</td>\n",
       "      <td>POINT (628999.373 4734513.565)</td>\n",
       "      <td>2019-03-05</td>\n",
       "      <td>NaN</td>\n",
       "      <td>0</td>\n",
       "      <td>NaN</td>\n",
       "      <td>POINT (629003.108713728 4734313.600063869)</td>\n",
       "      <td>s4</td>\n",
       "      <td>418866.236115</td>\n",
       "    </tr>\n",
       "    <tr>\n",
       "      <th>30</th>\n",
       "      <td>a40</td>\n",
       "      <td>POINT (617825.717 4733790.926)</td>\n",
       "      <td>2019-03-05</td>\n",
       "      <td>NaN</td>\n",
       "      <td>0</td>\n",
       "      <td>NaN</td>\n",
       "      <td>POINT (617820.5248465084 4734094.881572783)</td>\n",
       "      <td>s4</td>\n",
       "      <td>430053.583055</td>\n",
       "    </tr>\n",
       "    <tr>\n",
       "      <th>31</th>\n",
       "      <td>a43</td>\n",
       "      <td>POINT (603020.246 4727261.086)</td>\n",
       "      <td>2019-03-05</td>\n",
       "      <td>NaN</td>\n",
       "      <td>0</td>\n",
       "      <td>NaN</td>\n",
       "      <td>POINT (602422.3111153694 4727252.237397172)</td>\n",
       "      <td>s4</td>\n",
       "      <td>452021.680211</td>\n",
       "    </tr>\n",
       "    <tr>\n",
       "      <th>32</th>\n",
       "      <td>a46</td>\n",
       "      <td>POINT (633293.43 4725355.193)</td>\n",
       "      <td>2019-03-05</td>\n",
       "      <td>NaN</td>\n",
       "      <td>0</td>\n",
       "      <td>NaN</td>\n",
       "      <td>POINT (633297.6046688287 4725138.232992008)</td>\n",
       "      <td>s4</td>\n",
       "      <td>485215.959790</td>\n",
       "    </tr>\n",
       "    <tr>\n",
       "      <th>33</th>\n",
       "      <td>a49</td>\n",
       "      <td>POINT (620008.224 4715344.991)</td>\n",
       "      <td>2019-03-05</td>\n",
       "      <td>NaN</td>\n",
       "      <td>0</td>\n",
       "      <td>NaN</td>\n",
       "      <td>POINT (620003.1699646519 4715637.946952458)</td>\n",
       "      <td>s4</td>\n",
       "      <td>554962.761740</td>\n",
       "    </tr>\n",
       "    <tr>\n",
       "      <th>34</th>\n",
       "      <td>a54</td>\n",
       "      <td>POINT (606155.163 4707688.882)</td>\n",
       "      <td>2019-03-05</td>\n",
       "      <td>NaN</td>\n",
       "      <td>0</td>\n",
       "      <td>NaN</td>\n",
       "      <td>POINT (606249.917965196 4706101.707731049)</td>\n",
       "      <td>s4</td>\n",
       "      <td>584024.602614</td>\n",
       "    </tr>\n",
       "    <tr>\n",
       "      <th>35</th>\n",
       "      <td>a55</td>\n",
       "      <td>POINT (656653.906 4701185.182)</td>\n",
       "      <td>2019-03-05</td>\n",
       "      <td>NaN</td>\n",
       "      <td>0</td>\n",
       "      <td>NaN</td>\n",
       "      <td>POINT (657661.649070761 4701207.948294342)</td>\n",
       "      <td>s4</td>\n",
       "      <td>640626.685593</td>\n",
       "    </tr>\n",
       "    <tr>\n",
       "      <th>36</th>\n",
       "      <td>a58</td>\n",
       "      <td>POINT (643857.634 4697613.795)</td>\n",
       "      <td>2019-03-05</td>\n",
       "      <td>NaN</td>\n",
       "      <td>0</td>\n",
       "      <td>NaN</td>\n",
       "      <td>POINT (643858.7858055971 4697557.806821839)</td>\n",
       "      <td>s4</td>\n",
       "      <td>657508.631947</td>\n",
       "    </tr>\n",
       "    <tr>\n",
       "      <th>37</th>\n",
       "      <td>a63</td>\n",
       "      <td>POINT (632449.077 4697665.134)</td>\n",
       "      <td>2019-03-05</td>\n",
       "      <td>NaN</td>\n",
       "      <td>0</td>\n",
       "      <td>NaN</td>\n",
       "      <td>POINT (632455.0331444205 4697351.190628495)</td>\n",
       "      <td>s4</td>\n",
       "      <td>668914.657649</td>\n",
       "    </tr>\n",
       "  </tbody>\n",
       "</table>\n",
       "</div>"
      ],
      "text/plain": [
       "   point_id                           point       date datapoint_id  p-a  \\\n",
       "0       p01  POINT (579247.275 4743823.394) 2019-01-25          d01    1   \n",
       "1       p02  POINT (555739.203 4737785.585) 2019-01-25          d02    1   \n",
       "2       p03  POINT (548277.347 4745661.195) 2019-01-25          d03    1   \n",
       "3       p04  POINT (521883.134 4723148.616) 2019-03-02          d04    1   \n",
       "4       p05  POINT (537262.152 4720806.487) 2019-03-02          d05    1   \n",
       "5       p06  POINT (514284.369 4707549.723) 2019-03-02          d06    1   \n",
       "6       p07  POINT (503390.874 4703145.523) 2019-03-02          d07    1   \n",
       "7       p08  POINT (654496.459 4717184.616) 2019-03-05          d08    1   \n",
       "8       p10  POINT (642728.973 4719199.855) 2019-03-05          d10    1   \n",
       "9       p11   POINT (629622.26 4709308.371) 2019-03-05          d11    1   \n",
       "10      p13  POINT (612622.147 4697821.028) 2019-03-05          d13    1   \n",
       "11      a01   POINT (567212.568 4743184.49) 2019-01-25          NaN    0   \n",
       "12      a02  POINT (532342.624 4742943.564) 2019-01-25          NaN    0   \n",
       "13      a05   POINT (521536.86 4743159.171) 2019-01-25          NaN    0   \n",
       "14      a06  POINT (509600.963 4742977.311) 2019-01-25          NaN    0   \n",
       "15      a10  POINT (583967.577 4734198.915) 2019-01-30          NaN    0   \n",
       "16      a13   POINT (541990.56 4733199.695) 2019-01-30          NaN    0   \n",
       "17      a18  POINT (525775.461 4733849.075) 2019-01-30          NaN    0   \n",
       "18      a20  POINT (503469.116 4733842.413) 2019-01-30          NaN    0   \n",
       "19      a21  POINT (503382.628 4714256.898) 2019-03-02          NaN    0   \n",
       "20      a23  POINT (555183.731 4716344.034) 2019-03-02          NaN    0   \n",
       "21      a26  POINT (570787.255 4715060.932) 2019-03-02          NaN    0   \n",
       "22      a28  POINT (596369.997 4715010.946) 2019-03-02          NaN    0   \n",
       "23      a29  POINT (574878.298 4705910.504) 2019-03-02          NaN    0   \n",
       "24      a32  POINT (557331.473 4705727.423) 2019-03-02          NaN    0   \n",
       "25      a33   POINT (544806.935 4706234.28) 2019-03-02          NaN    0   \n",
       "26      a35  POINT (530307.396 4705404.109) 2019-03-02          NaN    0   \n",
       "27      a36   POINT (656409.505 4751160.77) 2019-03-05          NaN    0   \n",
       "28      a38  POINT (657804.712 4739432.421) 2019-03-05          NaN    0   \n",
       "29      a39  POINT (628999.373 4734513.565) 2019-03-05          NaN    0   \n",
       "30      a40  POINT (617825.717 4733790.926) 2019-03-05          NaN    0   \n",
       "31      a43  POINT (603020.246 4727261.086) 2019-03-05          NaN    0   \n",
       "32      a46   POINT (633293.43 4725355.193) 2019-03-05          NaN    0   \n",
       "33      a49  POINT (620008.224 4715344.991) 2019-03-05          NaN    0   \n",
       "34      a54  POINT (606155.163 4707688.882) 2019-03-05          NaN    0   \n",
       "35      a55  POINT (656653.906 4701185.182) 2019-03-05          NaN    0   \n",
       "36      a58  POINT (643857.634 4697613.795) 2019-03-05          NaN    0   \n",
       "37      a63  POINT (632449.077 4697665.134) 2019-03-05          NaN    0   \n",
       "\n",
       "    individuals                                      point_al section_id  \\\n",
       "0           1.0                                           NaN        NaN   \n",
       "1           2.0                                           NaN        NaN   \n",
       "2           5.0                                           NaN        NaN   \n",
       "3           1.0                                           NaN        NaN   \n",
       "4           2.0                                           NaN        NaN   \n",
       "5           1.0                                           NaN        NaN   \n",
       "6           3.0                                           NaN        NaN   \n",
       "7           5.0                                           NaN        NaN   \n",
       "8           1.0                                           NaN        NaN   \n",
       "9           3.0                                           NaN        NaN   \n",
       "10          4.0                                           NaN        NaN   \n",
       "11          NaN   POINT (567198.5445719849 4742815.756365811)         s1   \n",
       "12          NaN   POINT (532344.1230743601 4742623.567290779)         s1   \n",
       "13          NaN   POINT (521538.6121731414 4742600.173448814)         s1   \n",
       "14          NaN    POINT (509601.552722807 4742554.311152255)         s1   \n",
       "15          NaN  POINT (583974.1614572223 4733655.9550426295)         s2   \n",
       "16          NaN   POINT (541989.0962852702 4733439.690965867)         s2   \n",
       "17          NaN    POINT (525799.3219441654 4733370.66974669)         s2   \n",
       "18          NaN  POINT (503469.40732310864 4733257.413552792)         s2   \n",
       "19          NaN   POINT (503382.3855594607 4714768.897718211)         s3   \n",
       "20          NaN   POINT (555194.1843807554 4715025.075700324)         s3   \n",
       "21          NaN   POINT (570786.7450624986 4715110.929496612)         s3   \n",
       "22          NaN   POINT (596403.9015037884 4715076.722203056)         s3   \n",
       "23          NaN   POINT (574878.2225674866 4705917.503150809)         s3   \n",
       "24          NaN   POINT (557330.6650565028 4705825.419258524)         s3   \n",
       "25          NaN   POINT (544809.9094419711 4705770.289388721)         s3   \n",
       "26          NaN   POINT (530306.1365108126 4705692.105804189)         s3   \n",
       "27          NaN   POINT (656500.4810194545 4751162.842160602)         s4   \n",
       "28          NaN   POINT (656767.9799282559 4739408.850537448)         s4   \n",
       "29          NaN    POINT (629003.108713728 4734313.600063869)         s4   \n",
       "30          NaN   POINT (617820.5248465084 4734094.881572783)         s4   \n",
       "31          NaN   POINT (602422.3111153694 4727252.237397172)         s4   \n",
       "32          NaN   POINT (633297.6046688287 4725138.232992008)         s4   \n",
       "33          NaN   POINT (620003.1699646519 4715637.946952458)         s4   \n",
       "34          NaN    POINT (606249.917965196 4706101.707731049)         s4   \n",
       "35          NaN    POINT (657661.649070761 4701207.948294342)         s4   \n",
       "36          NaN   POINT (643858.7858055971 4697557.806821839)         s4   \n",
       "37          NaN   POINT (632455.0331444205 4697351.190628495)         s4   \n",
       "\n",
       "             dfbs  \n",
       "0             NaN  \n",
       "1             NaN  \n",
       "2             NaN  \n",
       "3             NaN  \n",
       "4             NaN  \n",
       "5             NaN  \n",
       "6             NaN  \n",
       "7             NaN  \n",
       "8             NaN  \n",
       "9             NaN  \n",
       "10            NaN  \n",
       "11   12896.029337  \n",
       "12   47753.075864  \n",
       "13   58559.883667  \n",
       "14   70497.448347  \n",
       "15   88960.834979  \n",
       "16  130949.482463  \n",
       "17  147139.995724  \n",
       "18  169472.403546  \n",
       "19  175587.388551  \n",
       "20  227404.248581  \n",
       "21  242999.089350  \n",
       "22  268639.159022  \n",
       "23  300297.250059  \n",
       "24  317846.722917  \n",
       "25  330368.455841  \n",
       "26  344873.268959  \n",
       "27  374973.162614  \n",
       "28  386730.197732  \n",
       "29  418866.236115  \n",
       "30  430053.583055  \n",
       "31  452021.680211  \n",
       "32  485215.959790  \n",
       "33  554962.761740  \n",
       "34  584024.602614  \n",
       "35  640626.685593  \n",
       "36  657508.631947  \n",
       "37  668914.657649  "
      ]
     },
     "execution_count": 29,
     "metadata": {},
     "output_type": "execute_result"
    }
   ],
   "source": [
    "u_samples.samples"
   ]
  },
  {
   "cell_type": "markdown",
   "id": "ad3c05c6-6757-4aea-bfe7-247d73eb306e",
   "metadata": {},
   "source": [
    "The second CSV should contain the parameters, like those shown in the box below (but arranged in a table). This information may prove useful if, later, we need to know  how the samples were generated."
   ]
  },
  {
   "cell_type": "code",
   "execution_count": 30,
   "id": "8bbf5454-f754-4f76-8ac1-5fff9cfeee48",
   "metadata": {},
   "outputs": [
    {
     "data": {
      "text/plain": [
       "{'approach': 'point',\n",
       " 'resampled': 'datapoints',\n",
       " 'presences_name': 'presences-sightings_off-line',\n",
       " 'presences_crs': 'EPSG:32619',\n",
       " 'absences_name': 'absences-fs-10000m-5day',\n",
       " 'absences_var': 'from',\n",
       " 'absences_target': 65,\n",
       " 'presencezones_crs': 'EPSG:32619',\n",
       " 'presencezones_sp_threshold': 10000,\n",
       " 'presencezones_tm_threshold': 5,\n",
       " 'presencezones_tm_unit': 'day',\n",
       " 'sp_threshold': 10000,\n",
       " 'tm_threshold': 5,\n",
       " 'tm_unit': 'day'}"
      ]
     },
     "execution_count": 30,
     "metadata": {},
     "output_type": "execute_result"
    }
   ],
   "source": [
    "u_samples.parameters"
   ]
  }
 ],
 "metadata": {
  "kernelspec": {
   "display_name": "Python 3 (ipykernel)",
   "language": "python",
   "name": "python3"
  },
  "language_info": {
   "codemirror_mode": {
    "name": "ipython",
    "version": 3
   },
   "file_extension": ".py",
   "mimetype": "text/x-python",
   "name": "python",
   "nbconvert_exporter": "python",
   "pygments_lexer": "ipython3",
   "version": "3.12.3"
  }
 },
 "nbformat": 4,
 "nbformat_minor": 5
}
