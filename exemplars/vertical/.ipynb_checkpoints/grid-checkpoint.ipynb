{
 "cells": [
  {
   "cell_type": "markdown",
   "id": "0de18513-ce8b-406b-88a8-772efd0bb0a3",
   "metadata": {},
   "source": [
    "# ```sampley``` exemplar: the grid approach\n",
    "Before going through this exemplar, please consult the _Introduction to sampley exemplars_ (```intro.ipynb```).\n",
    "<br>This exemplar illustrates an application of the grid approach to data contained within two files: one containing survey tracks (```sections.gpkg```) and one containing sightings data (```sightings.gpkg```)."
   ]
  },
  {
   "cell_type": "markdown",
   "id": "a5f17978-8542-4d78-b4ac-cf397fc1a02d",
   "metadata": {},
   "source": [
    "## Setup"
   ]
  },
  {
   "cell_type": "markdown",
   "id": "c060e52d-229d-459d-b1cf-f2fe092a266a",
   "metadata": {},
   "source": [
    "### Import the package"
   ]
  },
  {
   "cell_type": "code",
   "execution_count": 1,
   "id": "00c26ed0-1dff-4b75-bcf2-0595373e7743",
   "metadata": {},
   "outputs": [],
   "source": [
    "from sampley import *"
   ]
  },
  {
   "cell_type": "markdown",
   "id": "8c681985-ba89-48a9-b39f-8cdd41760bbb",
   "metadata": {},
   "source": [
    "### Set the input folder\n",
    "To run this exemplar, download the mock data files, put them in a folder, and set the path to the folder below."
   ]
  },
  {
   "cell_type": "code",
   "execution_count": 2,
   "id": "90aca9bb-d9e0-4af9-b903-4180094dab22",
   "metadata": {},
   "outputs": [],
   "source": [
    "input_folder = './input/'"
   ]
  },
  {
   "cell_type": "markdown",
   "id": "887b329d-dc56-447b-b07d-6895e04cf73d",
   "metadata": {},
   "source": [
    "### Set the output folder\n",
    "To run this exemplar, make a folder to save the outputs in and set the path to the folder below."
   ]
  },
  {
   "cell_type": "code",
   "execution_count": 3,
   "id": "ad8e9468-4c66-4b7b-a323-0164ae0c08eb",
   "metadata": {},
   "outputs": [],
   "source": [
    "output_folder = './output/'"
   ]
  },
  {
   "cell_type": "markdown",
   "id": "3cce13a9-9818-4492-8d28-31f761ff8865",
   "metadata": {},
   "source": [
    "## Stage 1\n",
    "In Stage 1, we import two files (```sightings.csv``` and ```sections.gpkg```) and from them make a ```DataPoints``` and a ```Sections``` object, respectively.\n",
    "<br>Although we use a CSV file and a GPKG file in this exemplar, there are other options for file types (including XLSX and SHP files). Please see the Stage 1 exemplar (```stage-1.ipynb```) in the horizontal exemplars folder or the User Manual for more details. Note that, regardless of the input file type, once any ```DataPoints``` and/or ```Sections``` objects have been made, the subsequent processing will be the same."
   ]
  },
  {
   "cell_type": "code",
   "execution_count": 4,
   "id": "f239273a-e22a-4d85-b4c5-995fc401a9d7",
   "metadata": {},
   "outputs": [
    {
     "name": "stdout",
     "output_type": "stream",
     "text": [
      "Success: file opened.\n",
      "Success: X and Y coordinates parsed.\n",
      "Success: reprojected to CRS \"EPSG:32619\"\n",
      "Success: column \"datetime\" reformatted to datetimes.\n",
      "Success: timezone of column \"datetime\" set to \"UTC-05:00\".\n",
      "Success: datapoint IDs generated.\n"
     ]
    }
   ],
   "source": [
    "u_sightings = DataPoints.from_file(\n",
    "    filepath=input_folder+'sightings.csv',\n",
    "    x_col='lon',\n",
    "    y_col='lat',\n",
    "    crs_input='EPSG:4326',\n",
    "    crs_working='EPSG:32619',\n",
    "    datetime_col='datetime',\n",
    "    tz_input='UTC-05:00'\n",
    ")"
   ]
  },
  {
   "cell_type": "code",
   "execution_count": 5,
   "id": "4d117c9b-d09b-422a-bfe3-495ed65fe157",
   "metadata": {},
   "outputs": [
    {
     "name": "stdout",
     "output_type": "stream",
     "text": [
      "Success: file opened.\n",
      "Success: reprojected to CRS \"EPSG:32619\"\n",
      "Success: column \"datetime_beg\" reformatted to datetimes.\n",
      "Success: timezone of column \"datetime_beg\" set to \"UTC-05:00\".\n",
      "Note: column \"datetime_beg\" renamed to \"datetime\".\n",
      "Success: section IDs generated.\n"
     ]
    }
   ],
   "source": [
    "u_sections = Sections.from_file(\n",
    "    filepath=input_folder+'sections.gpkg',\n",
    "    crs_working='EPSG:32619',\n",
    "    datetime_col='datetime_beg',\n",
    "    tz_input='UTC-05:00'\n",
    ")"
   ]
  },
  {
   "cell_type": "markdown",
   "id": "3e27b45e-4de2-441c-9422-78e44117cceb",
   "metadata": {},
   "source": [
    "## Stage 2\n",
    "In Stage 2, we use the ```Sections``` object to make a ```Periods``` object containing periods of 8 days and a ```Cells``` object containing hexagonal cells with 5000 m sides."
   ]
  },
  {
   "cell_type": "code",
   "execution_count": 6,
   "id": "402bd28a-0ef1-4966-9aa5-49d99b028388",
   "metadata": {},
   "outputs": [],
   "source": [
    "u_periods = Periods.delimit(\n",
    "    extent=u_sections,\n",
    "    unit='day',\n",
    "    num=8)"
   ]
  },
  {
   "cell_type": "code",
   "execution_count": 7,
   "id": "fe4cbe43-73ce-4fed-ac9c-ae3604937ff7",
   "metadata": {},
   "outputs": [
    {
     "data": {
      "text/html": [
       "<div>\n",
       "<style scoped>\n",
       "    .dataframe tbody tr th:only-of-type {\n",
       "        vertical-align: middle;\n",
       "    }\n",
       "\n",
       "    .dataframe tbody tr th {\n",
       "        vertical-align: top;\n",
       "    }\n",
       "\n",
       "    .dataframe thead th {\n",
       "        text-align: right;\n",
       "    }\n",
       "</style>\n",
       "<table border=\"1\" class=\"dataframe\">\n",
       "  <thead>\n",
       "    <tr style=\"text-align: right;\">\n",
       "      <th></th>\n",
       "      <th>period_id</th>\n",
       "      <th>date_beg</th>\n",
       "      <th>date_mid</th>\n",
       "      <th>date_end</th>\n",
       "    </tr>\n",
       "  </thead>\n",
       "  <tbody>\n",
       "    <tr>\n",
       "      <th>0</th>\n",
       "      <td>p2019-01-25-8d</td>\n",
       "      <td>2019-01-25 00:00:00-05:00</td>\n",
       "      <td>2019-01-29 00:00:00-05:00</td>\n",
       "      <td>2019-02-01 00:00:00-05:00</td>\n",
       "    </tr>\n",
       "    <tr>\n",
       "      <th>1</th>\n",
       "      <td>p2019-02-02-8d</td>\n",
       "      <td>2019-02-02 00:00:00-05:00</td>\n",
       "      <td>2019-02-06 00:00:00-05:00</td>\n",
       "      <td>2019-02-09 00:00:00-05:00</td>\n",
       "    </tr>\n",
       "    <tr>\n",
       "      <th>2</th>\n",
       "      <td>p2019-02-10-8d</td>\n",
       "      <td>2019-02-10 00:00:00-05:00</td>\n",
       "      <td>2019-02-14 00:00:00-05:00</td>\n",
       "      <td>2019-02-17 00:00:00-05:00</td>\n",
       "    </tr>\n",
       "    <tr>\n",
       "      <th>3</th>\n",
       "      <td>p2019-02-18-8d</td>\n",
       "      <td>2019-02-18 00:00:00-05:00</td>\n",
       "      <td>2019-02-22 00:00:00-05:00</td>\n",
       "      <td>2019-02-25 00:00:00-05:00</td>\n",
       "    </tr>\n",
       "    <tr>\n",
       "      <th>4</th>\n",
       "      <td>p2019-02-26-8d</td>\n",
       "      <td>2019-02-26 00:00:00-05:00</td>\n",
       "      <td>2019-03-02 00:00:00-05:00</td>\n",
       "      <td>2019-03-05 00:00:00-05:00</td>\n",
       "    </tr>\n",
       "  </tbody>\n",
       "</table>\n",
       "</div>"
      ],
      "text/plain": [
       "        period_id                  date_beg                  date_mid  \\\n",
       "0  p2019-01-25-8d 2019-01-25 00:00:00-05:00 2019-01-29 00:00:00-05:00   \n",
       "1  p2019-02-02-8d 2019-02-02 00:00:00-05:00 2019-02-06 00:00:00-05:00   \n",
       "2  p2019-02-10-8d 2019-02-10 00:00:00-05:00 2019-02-14 00:00:00-05:00   \n",
       "3  p2019-02-18-8d 2019-02-18 00:00:00-05:00 2019-02-22 00:00:00-05:00   \n",
       "4  p2019-02-26-8d 2019-02-26 00:00:00-05:00 2019-03-02 00:00:00-05:00   \n",
       "\n",
       "                   date_end  \n",
       "0 2019-02-01 00:00:00-05:00  \n",
       "1 2019-02-09 00:00:00-05:00  \n",
       "2 2019-02-17 00:00:00-05:00  \n",
       "3 2019-02-25 00:00:00-05:00  \n",
       "4 2019-03-05 00:00:00-05:00  "
      ]
     },
     "execution_count": 7,
     "metadata": {},
     "output_type": "execute_result"
    }
   ],
   "source": [
    "u_periods.periods  # print the periods DataFrame"
   ]
  },
  {
   "cell_type": "code",
   "execution_count": 8,
   "id": "d3d7a80a-2635-458c-9f5f-16e7a6dd12bc",
   "metadata": {},
   "outputs": [],
   "source": [
    "u_cells = Cells.delimit(\n",
    "    extent=u_sections,\n",
    "    var='hexagonal',\n",
    "    side=5000)"
   ]
  },
  {
   "cell_type": "code",
   "execution_count": 9,
   "id": "c215bcc5-6061-4cc3-9acc-f3aae852226f",
   "metadata": {},
   "outputs": [
    {
     "data": {
      "text/html": [
       "<div>\n",
       "<style scoped>\n",
       "    .dataframe tbody tr th:only-of-type {\n",
       "        vertical-align: middle;\n",
       "    }\n",
       "\n",
       "    .dataframe tbody tr th {\n",
       "        vertical-align: top;\n",
       "    }\n",
       "\n",
       "    .dataframe thead th {\n",
       "        text-align: right;\n",
       "    }\n",
       "</style>\n",
       "<table border=\"1\" class=\"dataframe\">\n",
       "  <thead>\n",
       "    <tr style=\"text-align: right;\">\n",
       "      <th></th>\n",
       "      <th>cell_id</th>\n",
       "      <th>polygon</th>\n",
       "      <th>centroid</th>\n",
       "    </tr>\n",
       "  </thead>\n",
       "  <tbody>\n",
       "    <tr>\n",
       "      <th>0</th>\n",
       "      <td>c001-h5000m</td>\n",
       "      <td>POLYGON ((500095.62 4701798.087, 504425.747 46...</td>\n",
       "      <td>POINT (500095.62 4696798.087)</td>\n",
       "    </tr>\n",
       "    <tr>\n",
       "      <th>1</th>\n",
       "      <td>c002-h5000m</td>\n",
       "      <td>POLYGON ((508755.874 4701798.087, 513086.001 4...</td>\n",
       "      <td>POINT (508755.874 4696798.087)</td>\n",
       "    </tr>\n",
       "    <tr>\n",
       "      <th>2</th>\n",
       "      <td>c003-h5000m</td>\n",
       "      <td>POLYGON ((517416.128 4701798.087, 521746.255 4...</td>\n",
       "      <td>POINT (517416.128 4696798.087)</td>\n",
       "    </tr>\n",
       "    <tr>\n",
       "      <th>3</th>\n",
       "      <td>c004-h5000m</td>\n",
       "      <td>POLYGON ((526076.382 4701798.087, 530406.509 4...</td>\n",
       "      <td>POINT (526076.382 4696798.087)</td>\n",
       "    </tr>\n",
       "    <tr>\n",
       "      <th>4</th>\n",
       "      <td>c005-h5000m</td>\n",
       "      <td>POLYGON ((534736.636 4701798.087, 539066.763 4...</td>\n",
       "      <td>POINT (534736.636 4696798.087)</td>\n",
       "    </tr>\n",
       "    <tr>\n",
       "      <th>...</th>\n",
       "      <td>...</td>\n",
       "      <td>...</td>\n",
       "      <td>...</td>\n",
       "    </tr>\n",
       "    <tr>\n",
       "      <th>175</th>\n",
       "      <td>c176-h5000m</td>\n",
       "      <td>POLYGON ((629999.43 4761798.087, 634329.557 47...</td>\n",
       "      <td>POINT (629999.43 4756798.087)</td>\n",
       "    </tr>\n",
       "    <tr>\n",
       "      <th>176</th>\n",
       "      <td>c177-h5000m</td>\n",
       "      <td>POLYGON ((638659.684 4761798.087, 642989.811 4...</td>\n",
       "      <td>POINT (638659.684 4756798.087)</td>\n",
       "    </tr>\n",
       "    <tr>\n",
       "      <th>177</th>\n",
       "      <td>c178-h5000m</td>\n",
       "      <td>POLYGON ((647319.938 4761798.087, 651650.065 4...</td>\n",
       "      <td>POINT (647319.938 4756798.087)</td>\n",
       "    </tr>\n",
       "    <tr>\n",
       "      <th>178</th>\n",
       "      <td>c179-h5000m</td>\n",
       "      <td>POLYGON ((655980.192 4761798.087, 660310.319 4...</td>\n",
       "      <td>POINT (655980.192 4756798.087)</td>\n",
       "    </tr>\n",
       "    <tr>\n",
       "      <th>179</th>\n",
       "      <td>c180-h5000m</td>\n",
       "      <td>POLYGON ((664640.446 4761798.087, 668970.573 4...</td>\n",
       "      <td>POINT (664640.446 4756798.087)</td>\n",
       "    </tr>\n",
       "  </tbody>\n",
       "</table>\n",
       "<p>180 rows × 3 columns</p>\n",
       "</div>"
      ],
      "text/plain": [
       "         cell_id                                            polygon  \\\n",
       "0    c001-h5000m  POLYGON ((500095.62 4701798.087, 504425.747 46...   \n",
       "1    c002-h5000m  POLYGON ((508755.874 4701798.087, 513086.001 4...   \n",
       "2    c003-h5000m  POLYGON ((517416.128 4701798.087, 521746.255 4...   \n",
       "3    c004-h5000m  POLYGON ((526076.382 4701798.087, 530406.509 4...   \n",
       "4    c005-h5000m  POLYGON ((534736.636 4701798.087, 539066.763 4...   \n",
       "..           ...                                                ...   \n",
       "175  c176-h5000m  POLYGON ((629999.43 4761798.087, 634329.557 47...   \n",
       "176  c177-h5000m  POLYGON ((638659.684 4761798.087, 642989.811 4...   \n",
       "177  c178-h5000m  POLYGON ((647319.938 4761798.087, 651650.065 4...   \n",
       "178  c179-h5000m  POLYGON ((655980.192 4761798.087, 660310.319 4...   \n",
       "179  c180-h5000m  POLYGON ((664640.446 4761798.087, 668970.573 4...   \n",
       "\n",
       "                           centroid  \n",
       "0     POINT (500095.62 4696798.087)  \n",
       "1    POINT (508755.874 4696798.087)  \n",
       "2    POINT (517416.128 4696798.087)  \n",
       "3    POINT (526076.382 4696798.087)  \n",
       "4    POINT (534736.636 4696798.087)  \n",
       "..                              ...  \n",
       "175   POINT (629999.43 4756798.087)  \n",
       "176  POINT (638659.684 4756798.087)  \n",
       "177  POINT (647319.938 4756798.087)  \n",
       "178  POINT (655980.192 4756798.087)  \n",
       "179  POINT (664640.446 4756798.087)  \n",
       "\n",
       "[180 rows x 3 columns]"
      ]
     },
     "execution_count": 9,
     "metadata": {},
     "output_type": "execute_result"
    }
   ],
   "source": [
    "u_cells.cells  # print the cells GeoDataFrame"
   ]
  },
  {
   "cell_type": "code",
   "execution_count": 10,
   "id": "73954404-e770-460a-85a1-fb4ad364b818",
   "metadata": {},
   "outputs": [
    {
     "data": {
      "image/png": "[encoded data removed]",
      "text/plain": [
       "<Figure size 1600x800 with 1 Axes>"
      ]
     },
     "metadata": {},
     "output_type": "display_data"
    }
   ],
   "source": [
    "u_cells.plot()  # plot the cells"
   ]
  },
  {
   "cell_type": "markdown",
   "id": "a6279b83-729a-4da0-b5e2-b749949181e2",
   "metadata": {},
   "source": [
    "## Stage 3\n",
    "In Stage 3, we, firstly, make two ```Samples``` objects:\n",
    "- one from the ```DataPoints``` object containing sightings data, the ```Periods``` objects, and the ```Cells``` object\n",
    "- one from the ```Sections``` object, the ```Periods``` objects, and the ```Cells``` object\n",
    "\n",
    "Then, we merge these two ```Samples``` objects to make our final ```Samples``` object."
   ]
  },
  {
   "cell_type": "code",
   "execution_count": 11,
   "id": "143c6565-1cf6-418a-8392-d3f312d557eb",
   "metadata": {},
   "outputs": [],
   "source": [
    "u_samples_sightings = Samples.grid(\n",
    "    datapoints=u_sightings,\n",
    "    cells=u_cells,\n",
    "    periods=u_periods,\n",
    "    cols={'individuals': 'sum'})"
   ]
  },
  {
   "cell_type": "code",
   "execution_count": 12,
   "id": "07850070-0b0f-46ab-acf7-58757357ad79",
   "metadata": {},
   "outputs": [],
   "source": [
    "u_samples_effort = Samples.grid_se(\n",
    "    sections=u_sections,\n",
    "    cells=u_cells,\n",
    "    periods=u_periods)"
   ]
  },
  {
   "cell_type": "code",
   "execution_count": 13,
   "id": "b909d705-1407-4740-b621-66b6a0f0a37d",
   "metadata": {},
   "outputs": [
    {
     "name": "stdout",
     "output_type": "stream",
     "text": [
      "\n",
      "Note: samples generated with the grid approach\n"
     ]
    }
   ],
   "source": [
    "u_samples = Samples.merge(\n",
    "    sightings=u_samples_sightings,\n",
    "    effort=u_samples_effort)"
   ]
  },
  {
   "cell_type": "markdown",
   "id": "ff7e888a-ea6a-40d3-b39b-f0f73d69862e",
   "metadata": {},
   "source": [
    "## Output\n",
    "Finally, we save the final ```Samples``` object to the output folder."
   ]
  },
  {
   "cell_type": "code",
   "execution_count": 14,
   "id": "460e71e1-b72c-43a2-934f-b87ebf6bbe23",
   "metadata": {},
   "outputs": [
    {
     "name": "stdout",
     "output_type": "stream",
     "text": [
      "Success: additional geometry column \"centroid\" reprojected to CRS \"EPSG:4326\"\n",
      "Success: reprojected to CRS \"EPSG:4326\"\n"
     ]
    }
   ],
   "source": [
    "u_samples.save(\n",
    "    folder=output_folder,\n",
    "    filetype='csv',\n",
    "    crs_output='EPSG:4326'\n",
    ")"
   ]
  },
  {
   "cell_type": "markdown",
   "id": "64285804-ba7e-4e57-851f-676cca657497",
   "metadata": {},
   "source": [
    "In the output folder, there should be two new CSVs: the first should have the same name as the ```Samples``` object (run the box below to see the name) while the second should also have this name but with ```-parameters``` added at the end."
   ]
  },
  {
   "cell_type": "code",
   "execution_count": 15,
   "id": "f0899a04-075c-4305-a6b6-595bfbea1dcc",
   "metadata": {},
   "outputs": [
    {
     "data": {
      "text/plain": [
       "'samples-sightings+effort-x-cells-h5000m-x-periods-8d'"
      ]
     },
     "execution_count": 15,
     "metadata": {},
     "output_type": "execute_result"
    }
   ],
   "source": [
    "u_samples.name"
   ]
  },
  {
   "cell_type": "markdown",
   "id": "31d9eec8-93c6-496e-8922-bbe524068943",
   "metadata": {},
   "source": [
    "The first CSV should contain the samples, like those shown in the box below. \n",
    "<br>In this dataframe, each row represents a given cell in a given period, i.e., a sample. \n",
    "<br>The columns ```polygon```, ```datetime_beg```, and ```datetime_end``` delimit the extent of the cell and period, while the columns ```centroid``` and ```datetime_mid``` represent the centre of the cell and period, respectively.\n",
    "<br>At the end are the data columns. In this particular example, they are ```individuals``` and ```se_length```."
   ]
  },
  {
   "cell_type": "code",
   "execution_count": 16,
   "id": "1a622f54-b719-4f6d-8c77-07298a89102a",
   "metadata": {},
   "outputs": [
    {
     "data": {
      "text/html": [
       "<div>\n",
       "<style scoped>\n",
       "    .dataframe tbody tr th:only-of-type {\n",
       "        vertical-align: middle;\n",
       "    }\n",
       "\n",
       "    .dataframe tbody tr th {\n",
       "        vertical-align: top;\n",
       "    }\n",
       "\n",
       "    .dataframe thead th {\n",
       "        text-align: right;\n",
       "    }\n",
       "</style>\n",
       "<table border=\"1\" class=\"dataframe\">\n",
       "  <thead>\n",
       "    <tr style=\"text-align: right;\">\n",
       "      <th></th>\n",
       "      <th>cell_id</th>\n",
       "      <th>polygon</th>\n",
       "      <th>centroid</th>\n",
       "      <th>period_id</th>\n",
       "      <th>date_beg</th>\n",
       "      <th>date_mid</th>\n",
       "      <th>date_end</th>\n",
       "      <th>individuals</th>\n",
       "      <th>se_length</th>\n",
       "    </tr>\n",
       "  </thead>\n",
       "  <tbody>\n",
       "    <tr>\n",
       "      <th>0</th>\n",
       "      <td>c013-h5000m</td>\n",
       "      <td>POLYGON ((604018.668 4701798.087, 608348.795 4...</td>\n",
       "      <td>POINT (604018.668 4696798.087)</td>\n",
       "      <td>p2019-02-02-8d</td>\n",
       "      <td>2019-02-02 00:00:00-05:00</td>\n",
       "      <td>2019-02-06 00:00:00-05:00</td>\n",
       "      <td>2019-02-09 00:00:00-05:00</td>\n",
       "      <td>NaN</td>\n",
       "      <td>6000.522001</td>\n",
       "    </tr>\n",
       "    <tr>\n",
       "      <th>1</th>\n",
       "      <td>c014-h5000m</td>\n",
       "      <td>POLYGON ((612678.922 4701798.087, 617009.049 4...</td>\n",
       "      <td>POINT (612678.922 4696798.087)</td>\n",
       "      <td>p2019-02-02-8d</td>\n",
       "      <td>2019-02-02 00:00:00-05:00</td>\n",
       "      <td>2019-02-06 00:00:00-05:00</td>\n",
       "      <td>2019-02-09 00:00:00-05:00</td>\n",
       "      <td>4.0</td>\n",
       "      <td>8662.115497</td>\n",
       "    </tr>\n",
       "    <tr>\n",
       "      <th>2</th>\n",
       "      <td>c015-h5000m</td>\n",
       "      <td>POLYGON ((621339.176 4701798.087, 625669.303 4...</td>\n",
       "      <td>POINT (621339.176 4696798.087)</td>\n",
       "      <td>p2019-02-02-8d</td>\n",
       "      <td>2019-02-02 00:00:00-05:00</td>\n",
       "      <td>2019-02-06 00:00:00-05:00</td>\n",
       "      <td>2019-02-09 00:00:00-05:00</td>\n",
       "      <td>2.0</td>\n",
       "      <td>8661.560380</td>\n",
       "    </tr>\n",
       "    <tr>\n",
       "      <th>3</th>\n",
       "      <td>c016-h5000m</td>\n",
       "      <td>POLYGON ((629999.43 4701798.087, 634329.557 46...</td>\n",
       "      <td>POINT (629999.43 4696798.087)</td>\n",
       "      <td>p2019-02-02-8d</td>\n",
       "      <td>2019-02-02 00:00:00-05:00</td>\n",
       "      <td>2019-02-06 00:00:00-05:00</td>\n",
       "      <td>2019-02-09 00:00:00-05:00</td>\n",
       "      <td>NaN</td>\n",
       "      <td>8662.595905</td>\n",
       "    </tr>\n",
       "    <tr>\n",
       "      <th>4</th>\n",
       "      <td>c017-h5000m</td>\n",
       "      <td>POLYGON ((638659.684 4701798.087, 642989.811 4...</td>\n",
       "      <td>POINT (638659.684 4696798.087)</td>\n",
       "      <td>p2019-02-02-8d</td>\n",
       "      <td>2019-02-02 00:00:00-05:00</td>\n",
       "      <td>2019-02-06 00:00:00-05:00</td>\n",
       "      <td>2019-02-09 00:00:00-05:00</td>\n",
       "      <td>NaN</td>\n",
       "      <td>8662.002385</td>\n",
       "    </tr>\n",
       "    <tr>\n",
       "      <th>...</th>\n",
       "      <td>...</td>\n",
       "      <td>...</td>\n",
       "      <td>...</td>\n",
       "      <td>...</td>\n",
       "      <td>...</td>\n",
       "      <td>...</td>\n",
       "      <td>...</td>\n",
       "      <td>...</td>\n",
       "      <td>...</td>\n",
       "    </tr>\n",
       "    <tr>\n",
       "      <th>96</th>\n",
       "      <td>c128-h5000m</td>\n",
       "      <td>POLYGON ((560717.398 4746798.087, 565047.525 4...</td>\n",
       "      <td>POINT (560717.398 4741798.087)</td>\n",
       "      <td>p2019-01-25-8d</td>\n",
       "      <td>2019-01-25 00:00:00-05:00</td>\n",
       "      <td>2019-01-29 00:00:00-05:00</td>\n",
       "      <td>2019-02-01 00:00:00-05:00</td>\n",
       "      <td>NaN</td>\n",
       "      <td>8661.000942</td>\n",
       "    </tr>\n",
       "    <tr>\n",
       "      <th>97</th>\n",
       "      <td>c129-h5000m</td>\n",
       "      <td>POLYGON ((569377.652 4746798.087, 573707.779 4...</td>\n",
       "      <td>POINT (569377.652 4741798.087)</td>\n",
       "      <td>p2019-01-25-8d</td>\n",
       "      <td>2019-01-25 00:00:00-05:00</td>\n",
       "      <td>2019-01-29 00:00:00-05:00</td>\n",
       "      <td>2019-02-01 00:00:00-05:00</td>\n",
       "      <td>NaN</td>\n",
       "      <td>8661.175721</td>\n",
       "    </tr>\n",
       "    <tr>\n",
       "      <th>98</th>\n",
       "      <td>c130-h5000m</td>\n",
       "      <td>POLYGON ((578037.906 4746798.087, 582368.033 4...</td>\n",
       "      <td>POINT (578037.906 4741798.087)</td>\n",
       "      <td>p2019-01-25-8d</td>\n",
       "      <td>2019-01-25 00:00:00-05:00</td>\n",
       "      <td>2019-01-29 00:00:00-05:00</td>\n",
       "      <td>2019-02-01 00:00:00-05:00</td>\n",
       "      <td>1.0</td>\n",
       "      <td>6386.031468</td>\n",
       "    </tr>\n",
       "    <tr>\n",
       "      <th>99</th>\n",
       "      <td>c139-h5000m</td>\n",
       "      <td>POLYGON ((655980.192 4746798.087, 660310.319 4...</td>\n",
       "      <td>POINT (655980.192 4741798.087)</td>\n",
       "      <td>p2019-02-02-8d</td>\n",
       "      <td>2019-02-02 00:00:00-05:00</td>\n",
       "      <td>2019-02-06 00:00:00-05:00</td>\n",
       "      <td>2019-02-09 00:00:00-05:00</td>\n",
       "      <td>NaN</td>\n",
       "      <td>9157.070699</td>\n",
       "    </tr>\n",
       "    <tr>\n",
       "      <th>100</th>\n",
       "      <td>c159-h5000m</td>\n",
       "      <td>POLYGON ((660310.319 4754298.087, 664640.446 4...</td>\n",
       "      <td>POINT (660310.319 4749298.087)</td>\n",
       "      <td>p2019-02-02-8d</td>\n",
       "      <td>2019-02-02 00:00:00-05:00</td>\n",
       "      <td>2019-02-06 00:00:00-05:00</td>\n",
       "      <td>2019-02-09 00:00:00-05:00</td>\n",
       "      <td>NaN</td>\n",
       "      <td>4780.422232</td>\n",
       "    </tr>\n",
       "  </tbody>\n",
       "</table>\n",
       "<p>101 rows × 9 columns</p>\n",
       "</div>"
      ],
      "text/plain": [
       "         cell_id                                            polygon  \\\n",
       "0    c013-h5000m  POLYGON ((604018.668 4701798.087, 608348.795 4...   \n",
       "1    c014-h5000m  POLYGON ((612678.922 4701798.087, 617009.049 4...   \n",
       "2    c015-h5000m  POLYGON ((621339.176 4701798.087, 625669.303 4...   \n",
       "3    c016-h5000m  POLYGON ((629999.43 4701798.087, 634329.557 46...   \n",
       "4    c017-h5000m  POLYGON ((638659.684 4701798.087, 642989.811 4...   \n",
       "..           ...                                                ...   \n",
       "96   c128-h5000m  POLYGON ((560717.398 4746798.087, 565047.525 4...   \n",
       "97   c129-h5000m  POLYGON ((569377.652 4746798.087, 573707.779 4...   \n",
       "98   c130-h5000m  POLYGON ((578037.906 4746798.087, 582368.033 4...   \n",
       "99   c139-h5000m  POLYGON ((655980.192 4746798.087, 660310.319 4...   \n",
       "100  c159-h5000m  POLYGON ((660310.319 4754298.087, 664640.446 4...   \n",
       "\n",
       "                           centroid       period_id                  date_beg  \\\n",
       "0    POINT (604018.668 4696798.087)  p2019-02-02-8d 2019-02-02 00:00:00-05:00   \n",
       "1    POINT (612678.922 4696798.087)  p2019-02-02-8d 2019-02-02 00:00:00-05:00   \n",
       "2    POINT (621339.176 4696798.087)  p2019-02-02-8d 2019-02-02 00:00:00-05:00   \n",
       "3     POINT (629999.43 4696798.087)  p2019-02-02-8d 2019-02-02 00:00:00-05:00   \n",
       "4    POINT (638659.684 4696798.087)  p2019-02-02-8d 2019-02-02 00:00:00-05:00   \n",
       "..                              ...             ...                       ...   \n",
       "96   POINT (560717.398 4741798.087)  p2019-01-25-8d 2019-01-25 00:00:00-05:00   \n",
       "97   POINT (569377.652 4741798.087)  p2019-01-25-8d 2019-01-25 00:00:00-05:00   \n",
       "98   POINT (578037.906 4741798.087)  p2019-01-25-8d 2019-01-25 00:00:00-05:00   \n",
       "99   POINT (655980.192 4741798.087)  p2019-02-02-8d 2019-02-02 00:00:00-05:00   \n",
       "100  POINT (660310.319 4749298.087)  p2019-02-02-8d 2019-02-02 00:00:00-05:00   \n",
       "\n",
       "                     date_mid                  date_end  individuals  \\\n",
       "0   2019-02-06 00:00:00-05:00 2019-02-09 00:00:00-05:00          NaN   \n",
       "1   2019-02-06 00:00:00-05:00 2019-02-09 00:00:00-05:00          4.0   \n",
       "2   2019-02-06 00:00:00-05:00 2019-02-09 00:00:00-05:00          2.0   \n",
       "3   2019-02-06 00:00:00-05:00 2019-02-09 00:00:00-05:00          NaN   \n",
       "4   2019-02-06 00:00:00-05:00 2019-02-09 00:00:00-05:00          NaN   \n",
       "..                        ...                       ...          ...   \n",
       "96  2019-01-29 00:00:00-05:00 2019-02-01 00:00:00-05:00          NaN   \n",
       "97  2019-01-29 00:00:00-05:00 2019-02-01 00:00:00-05:00          NaN   \n",
       "98  2019-01-29 00:00:00-05:00 2019-02-01 00:00:00-05:00          1.0   \n",
       "99  2019-02-06 00:00:00-05:00 2019-02-09 00:00:00-05:00          NaN   \n",
       "100 2019-02-06 00:00:00-05:00 2019-02-09 00:00:00-05:00          NaN   \n",
       "\n",
       "       se_length  \n",
       "0    6000.522001  \n",
       "1    8662.115497  \n",
       "2    8661.560380  \n",
       "3    8662.595905  \n",
       "4    8662.002385  \n",
       "..           ...  \n",
       "96   8661.000942  \n",
       "97   8661.175721  \n",
       "98   6386.031468  \n",
       "99   9157.070699  \n",
       "100  4780.422232  \n",
       "\n",
       "[101 rows x 9 columns]"
      ]
     },
     "execution_count": 16,
     "metadata": {},
     "output_type": "execute_result"
    }
   ],
   "source": [
    "u_samples.samples"
   ]
  },
  {
   "cell_type": "markdown",
   "id": "6cbee5be-bb45-4e1d-94ff-f8fb58d54ba4",
   "metadata": {},
   "source": [
    "The second CSV should contain the parameters, like those shown in the box below (but arranged in a table). This information may prove useful if, later, we need to know  how the samples were generated."
   ]
  },
  {
   "cell_type": "code",
   "execution_count": 17,
   "id": "34bb990b-5e9c-4e7f-9bf5-a36df1cb05c4",
   "metadata": {},
   "outputs": [
    {
     "data": {
      "text/plain": [
       "{'name': 'samples-sightings+effort-x-cells-h5000m-x-periods-8d',\n",
       " 'names': 'samples-datapoints-sightings-x-cells-h5000m-x-periods-8d+samples-sections-sections-x-cells-h5000m-x-periods-8d',\n",
       " 'approach': 'grid',\n",
       " 'resampled': 'datapoints; effort',\n",
       " 'datapoints_name': 'datapoints-sightings; nan',\n",
       " 'datapoints_filepath': './input/sightings.csv; nan',\n",
       " 'datapoints_crs': 'EPSG:32619; nan',\n",
       " 'datapoints_tz': 'UTC-05:00; nan',\n",
       " 'datapoints_data_cols': 'individuals; nan',\n",
       " 'cells_name': 'cells-h5000m',\n",
       " 'cells_crs': 'EPSG:32619',\n",
       " 'cells_extent': '495765.49253164633, 4691798.086839909, 673300.7003074563, 4761798.086839909',\n",
       " 'cells_extent_source': 'Sections - sections-sections',\n",
       " 'cells_var': 'hexagonal',\n",
       " 'cells_side': '5000',\n",
       " 'cells_unit': 'metre',\n",
       " 'cells_buffer': 'None',\n",
       " 'periods_name': 'periods-8d',\n",
       " 'periods_tz': 'UTC-05:00',\n",
       " 'periods_extent': '2019-01-25-2019-03-05',\n",
       " 'periods_extent_source': 'Sections - sections-sections',\n",
       " 'periods_number': '8',\n",
       " 'periods_unit': 'day',\n",
       " 'cols': \"{'individuals': 'sum'}; nan\",\n",
       " 'sections_name': 'nan; sections-sections',\n",
       " 'sections_filepath': 'nan; ./input/sections.gpkg',\n",
       " 'sections_crs': 'nan; EPSG:32619',\n",
       " 'sections_tz': 'nan; UTC-05:00',\n",
       " 'effort_esw': 'nan; None',\n",
       " 'effort_euc-geo': 'nan; euclidean'}"
      ]
     },
     "execution_count": 17,
     "metadata": {},
     "output_type": "execute_result"
    }
   ],
   "source": [
    "u_samples.parameters"
   ]
  }
 ],
 "metadata": {
  "kernelspec": {
   "display_name": "Python 3 (ipykernel)",
   "language": "python",
   "name": "python3"
  },
  "language_info": {
   "codemirror_mode": {
    "name": "ipython",
    "version": 3
   },
   "file_extension": ".py",
   "mimetype": "text/x-python",
   "name": "python",
   "nbconvert_exporter": "python",
   "pygments_lexer": "ipython3",
   "version": "3.12.3"
  }
 },
 "nbformat": 4,
 "nbformat_minor": 5
}
