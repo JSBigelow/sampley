{
 "cells": [
  {
   "cell_type": "markdown",
   "id": "0de18513-ce8b-406b-88a8-772efd0bb0a3",
   "metadata": {},
   "source": [
    "# ```sampley``` exemplar: the grid approach\n",
    "Before going through this exemplar, please consult the _Introduction to sampley exemplars_ (```intro.ipynb```).\n",
    "<br>This exemplar illustrates an application of the grid approach to data contained within two files: one containing survey tracks (```sections.gpkg```) and one containing sightings data (```sightings.gpkg```)."
   ]
  },
  {
   "cell_type": "markdown",
   "id": "a5f17978-8542-4d78-b4ac-cf397fc1a02d",
   "metadata": {},
   "source": [
    "## Setup"
   ]
  },
  {
   "cell_type": "markdown",
   "id": "c060e52d-229d-459d-b1cf-f2fe092a266a",
   "metadata": {},
   "source": [
    "### Import the package"
   ]
  },
  {
   "cell_type": "code",
   "execution_count": 1,
   "id": "00c26ed0-1dff-4b75-bcf2-0595373e7743",
   "metadata": {},
   "outputs": [],
   "source": [
    "from sampley import *"
   ]
  },
  {
   "cell_type": "markdown",
   "id": "8c681985-ba89-48a9-b39f-8cdd41760bbb",
   "metadata": {},
   "source": [
    "### Set the input folder\n",
    "To run this exemplar, download the mock data files, put them in a folder, and set the path to the folder below."
   ]
  },
  {
   "cell_type": "code",
   "execution_count": 2,
   "id": "90aca9bb-d9e0-4af9-b903-4180094dab22",
   "metadata": {},
   "outputs": [],
   "source": [
    "input_folder = './input/'"
   ]
  },
  {
   "cell_type": "markdown",
   "id": "887b329d-dc56-447b-b07d-6895e04cf73d",
   "metadata": {},
   "source": [
    "### Set the output folder\n",
    "To run this exemplar, make a folder to save the outputs in and set the path to the folder below."
   ]
  },
  {
   "cell_type": "code",
   "execution_count": 3,
   "id": "ad8e9468-4c66-4b7b-a323-0164ae0c08eb",
   "metadata": {},
   "outputs": [],
   "source": [
    "output_folder = './output/'"
   ]
  },
  {
   "cell_type": "markdown",
   "id": "3cce13a9-9818-4492-8d28-31f761ff8865",
   "metadata": {},
   "source": [
    "## Stage 1\n",
    "In Stage 1, we import two files (```sightings.gpkg``` and ```sections.gpkg```) and from them make a ```DataPoints``` and a ```Sections``` object, respectively."
   ]
  },
  {
   "cell_type": "code",
   "execution_count": 4,
   "id": "f239273a-e22a-4d85-b4c5-995fc401a9d7",
   "metadata": {},
   "outputs": [
    {
     "name": "stdout",
     "output_type": "stream",
     "text": [
      "Success: file successfully input.\n",
      "Success: reprojected to CRS 'EPSG:32619'\n",
      "Success: the column 'datetime' successfully reformatted to datetimes.\n",
      "Success: the timezone of column 'datetime' successfully set to 'UTC-05:00'.\n",
      "Success: datapoint IDs successfully generated.\n"
     ]
    }
   ],
   "source": [
    "u_sightings = DataPoints.from_file(\n",
    "    filepath=input_folder+'sightings.gpkg',\n",
    "    crs_working='EPSG:32619',\n",
    "    datetime_col='datetime',\n",
    "    tz_input='UTC-05:00'\n",
    ")"
   ]
  },
  {
   "cell_type": "code",
   "execution_count": 5,
   "id": "4d117c9b-d09b-422a-bfe3-495ed65fe157",
   "metadata": {},
   "outputs": [
    {
     "name": "stdout",
     "output_type": "stream",
     "text": [
      "Success: file successfully input.\n",
      "Success: reprojected to CRS 'EPSG:32619'\n",
      "Success: the column 'datetime_beg' successfully reformatted to datetimes.\n",
      "Success: the timezone of column 'datetime_beg' successfully set to 'UTC-05:00'.\n",
      "Note: column 'datetime_beg' renamed to 'datetime'.\n",
      "Success: section IDs successfully generated.\n"
     ]
    }
   ],
   "source": [
    "u_sections = Sections.from_file(\n",
    "    filepath=input_folder+'sections.gpkg',\n",
    "    crs_working='EPSG:32619',\n",
    "    datetime_col='datetime_beg',\n",
    "    tz_input='UTC-05:00'\n",
    ")"
   ]
  },
  {
   "cell_type": "markdown",
   "id": "3e27b45e-4de2-441c-9422-78e44117cceb",
   "metadata": {},
   "source": [
    "## Stage 2\n",
    "In Stage 2, we use the ```Sections``` object to make a ```Periods``` object containing periods of 8 days and a ```Cells``` object containing hexagonal cells with 5000 m sides."
   ]
  },
  {
   "cell_type": "code",
   "execution_count": 6,
   "id": "402bd28a-0ef1-4966-9aa5-49d99b028388",
   "metadata": {},
   "outputs": [],
   "source": [
    "u_periods = Periods.delimit(\n",
    "    extent=u_sections,\n",
    "    unit='day',\n",
    "    num=8)"
   ]
  },
  {
   "cell_type": "code",
   "execution_count": 7,
   "id": "d3d7a80a-2635-458c-9f5f-16e7a6dd12bc",
   "metadata": {},
   "outputs": [],
   "source": [
    "u_cells = Cells.delimit(\n",
    "    extent=u_sections,\n",
    "    var='hexagonal',\n",
    "    side=5000)"
   ]
  },
  {
   "cell_type": "markdown",
   "id": "a6279b83-729a-4da0-b5e2-b749949181e2",
   "metadata": {},
   "source": [
    "## Stage 3\n",
    "In Stage 3, we, firstly, make two ```Samples``` objects:\n",
    "- one from the ```DataPoints``` object containing sightings data, the ```Periods``` objects, and the ```Cells``` object\n",
    "- one from the ```Sections``` object, the ```Periods``` objects, and the ```Cells``` object\n",
    "\n",
    "Then, we merge these two ```Samples``` objects to make our final ```Samples``` object."
   ]
  },
  {
   "cell_type": "code",
   "execution_count": 8,
   "id": "143c6565-1cf6-418a-8392-d3f312d557eb",
   "metadata": {},
   "outputs": [],
   "source": [
    "u_samples_sightings = Samples.grid(\n",
    "    datapoints=u_sightings,\n",
    "    cells=u_cells,\n",
    "    periods=u_periods,\n",
    "    cols={'individuals': 'sum'})"
   ]
  },
  {
   "cell_type": "code",
   "execution_count": 9,
   "id": "07850070-0b0f-46ab-acf7-58757357ad79",
   "metadata": {},
   "outputs": [],
   "source": [
    "u_samples_effort = Samples.grid_se(\n",
    "    sections=u_sections,\n",
    "    cells=u_cells,\n",
    "    periods=u_periods)"
   ]
  },
  {
   "cell_type": "code",
   "execution_count": 10,
   "id": "b909d705-1407-4740-b621-66b6a0f0a37d",
   "metadata": {},
   "outputs": [
    {
     "name": "stdout",
     "output_type": "stream",
     "text": [
      "\n",
      "Note: samples generated with the grid approach\n"
     ]
    }
   ],
   "source": [
    "u_samples = Samples.merge(\n",
    "    sightings=u_samples_sightings,\n",
    "    effort=u_samples_effort)"
   ]
  },
  {
   "cell_type": "markdown",
   "id": "ff7e888a-ea6a-40d3-b39b-f0f73d69862e",
   "metadata": {},
   "source": [
    "## Output\n",
    "Finally, we save the final ```Samples``` object to the output folder."
   ]
  },
  {
   "cell_type": "code",
   "execution_count": 11,
   "id": "460e71e1-b72c-43a2-934f-b87ebf6bbe23",
   "metadata": {},
   "outputs": [],
   "source": [
    "u_samples.save(\n",
    "    folder=output_folder,\n",
    "    filetype='csv'\n",
    ")"
   ]
  },
  {
   "cell_type": "markdown",
   "id": "64285804-ba7e-4e57-851f-676cca657497",
   "metadata": {},
   "source": [
    "It should be saved as a CSV with the same name as the ```Samples``` object:"
   ]
  },
  {
   "cell_type": "code",
   "execution_count": 12,
   "id": "f0899a04-075c-4305-a6b6-595bfbea1dcc",
   "metadata": {},
   "outputs": [
    {
     "data": {
      "text/plain": [
       "'samples-sightings+effort-x-cells-h5000m-x-periods-8d'"
      ]
     },
     "execution_count": 12,
     "metadata": {},
     "output_type": "execute_result"
    }
   ],
   "source": [
    "u_samples.name"
   ]
  },
  {
   "cell_type": "markdown",
   "id": "31d9eec8-93c6-496e-8922-bbe524068943",
   "metadata": {},
   "source": [
    "And it should contain the samples:"
   ]
  },
  {
   "cell_type": "code",
   "execution_count": 13,
   "id": "1a622f54-b719-4f6d-8c77-07298a89102a",
   "metadata": {},
   "outputs": [
    {
     "data": {
      "text/html": [
       "<div>\n",
       "<style scoped>\n",
       "    .dataframe tbody tr th:only-of-type {\n",
       "        vertical-align: middle;\n",
       "    }\n",
       "\n",
       "    .dataframe tbody tr th {\n",
       "        vertical-align: top;\n",
       "    }\n",
       "\n",
       "    .dataframe thead th {\n",
       "        text-align: right;\n",
       "    }\n",
       "</style>\n",
       "<table border=\"1\" class=\"dataframe\">\n",
       "  <thead>\n",
       "    <tr style=\"text-align: right;\">\n",
       "      <th></th>\n",
       "      <th>cell_id</th>\n",
       "      <th>polygon</th>\n",
       "      <th>centroid</th>\n",
       "      <th>period_id</th>\n",
       "      <th>datetime_beg</th>\n",
       "      <th>datetime_mid</th>\n",
       "      <th>datetime_end</th>\n",
       "      <th>individuals</th>\n",
       "      <th>se_length</th>\n",
       "    </tr>\n",
       "  </thead>\n",
       "  <tbody>\n",
       "    <tr>\n",
       "      <th>0</th>\n",
       "      <td>c013-h5000m</td>\n",
       "      <td>POLYGON ((604018.668 4701798.087, 608348.795 4...</td>\n",
       "      <td>POINT (604018.668 4696798.087)</td>\n",
       "      <td>p2019-02-02-8d</td>\n",
       "      <td>2019-02-02 00:00:00-05:00</td>\n",
       "      <td>2019-02-05 23:59:59-05:00</td>\n",
       "      <td>2019-02-09 23:59:59-05:00</td>\n",
       "      <td>NaN</td>\n",
       "      <td>6000.522001</td>\n",
       "    </tr>\n",
       "    <tr>\n",
       "      <th>1</th>\n",
       "      <td>c014-h5000m</td>\n",
       "      <td>POLYGON ((612678.922 4701798.087, 617009.049 4...</td>\n",
       "      <td>POINT (612678.922 4696798.087)</td>\n",
       "      <td>p2019-02-02-8d</td>\n",
       "      <td>2019-02-02 00:00:00-05:00</td>\n",
       "      <td>2019-02-05 23:59:59-05:00</td>\n",
       "      <td>2019-02-09 23:59:59-05:00</td>\n",
       "      <td>4.0</td>\n",
       "      <td>8662.115497</td>\n",
       "    </tr>\n",
       "    <tr>\n",
       "      <th>2</th>\n",
       "      <td>c015-h5000m</td>\n",
       "      <td>POLYGON ((621339.176 4701798.087, 625669.303 4...</td>\n",
       "      <td>POINT (621339.176 4696798.087)</td>\n",
       "      <td>p2019-02-02-8d</td>\n",
       "      <td>2019-02-02 00:00:00-05:00</td>\n",
       "      <td>2019-02-05 23:59:59-05:00</td>\n",
       "      <td>2019-02-09 23:59:59-05:00</td>\n",
       "      <td>2.0</td>\n",
       "      <td>8661.560380</td>\n",
       "    </tr>\n",
       "    <tr>\n",
       "      <th>3</th>\n",
       "      <td>c016-h5000m</td>\n",
       "      <td>POLYGON ((629999.43 4701798.087, 634329.557 46...</td>\n",
       "      <td>POINT (629999.43 4696798.087)</td>\n",
       "      <td>p2019-02-02-8d</td>\n",
       "      <td>2019-02-02 00:00:00-05:00</td>\n",
       "      <td>2019-02-05 23:59:59-05:00</td>\n",
       "      <td>2019-02-09 23:59:59-05:00</td>\n",
       "      <td>NaN</td>\n",
       "      <td>8662.595905</td>\n",
       "    </tr>\n",
       "    <tr>\n",
       "      <th>4</th>\n",
       "      <td>c017-h5000m</td>\n",
       "      <td>POLYGON ((638659.684 4701798.087, 642989.811 4...</td>\n",
       "      <td>POINT (638659.684 4696798.087)</td>\n",
       "      <td>p2019-02-02-8d</td>\n",
       "      <td>2019-02-02 00:00:00-05:00</td>\n",
       "      <td>2019-02-05 23:59:59-05:00</td>\n",
       "      <td>2019-02-09 23:59:59-05:00</td>\n",
       "      <td>NaN</td>\n",
       "      <td>8662.002385</td>\n",
       "    </tr>\n",
       "    <tr>\n",
       "      <th>...</th>\n",
       "      <td>...</td>\n",
       "      <td>...</td>\n",
       "      <td>...</td>\n",
       "      <td>...</td>\n",
       "      <td>...</td>\n",
       "      <td>...</td>\n",
       "      <td>...</td>\n",
       "      <td>...</td>\n",
       "      <td>...</td>\n",
       "    </tr>\n",
       "    <tr>\n",
       "      <th>96</th>\n",
       "      <td>c128-h5000m</td>\n",
       "      <td>POLYGON ((560717.398 4746798.087, 565047.525 4...</td>\n",
       "      <td>POINT (560717.398 4741798.087)</td>\n",
       "      <td>p2019-01-25-8d</td>\n",
       "      <td>2019-01-25 00:00:00-05:00</td>\n",
       "      <td>2019-01-28 23:59:59-05:00</td>\n",
       "      <td>2019-02-01 23:59:59-05:00</td>\n",
       "      <td>NaN</td>\n",
       "      <td>8661.000942</td>\n",
       "    </tr>\n",
       "    <tr>\n",
       "      <th>97</th>\n",
       "      <td>c129-h5000m</td>\n",
       "      <td>POLYGON ((569377.652 4746798.087, 573707.779 4...</td>\n",
       "      <td>POINT (569377.652 4741798.087)</td>\n",
       "      <td>p2019-01-25-8d</td>\n",
       "      <td>2019-01-25 00:00:00-05:00</td>\n",
       "      <td>2019-01-28 23:59:59-05:00</td>\n",
       "      <td>2019-02-01 23:59:59-05:00</td>\n",
       "      <td>NaN</td>\n",
       "      <td>8661.175721</td>\n",
       "    </tr>\n",
       "    <tr>\n",
       "      <th>98</th>\n",
       "      <td>c130-h5000m</td>\n",
       "      <td>POLYGON ((578037.906 4746798.087, 582368.033 4...</td>\n",
       "      <td>POINT (578037.906 4741798.087)</td>\n",
       "      <td>p2019-01-25-8d</td>\n",
       "      <td>2019-01-25 00:00:00-05:00</td>\n",
       "      <td>2019-01-28 23:59:59-05:00</td>\n",
       "      <td>2019-02-01 23:59:59-05:00</td>\n",
       "      <td>1.0</td>\n",
       "      <td>6386.031468</td>\n",
       "    </tr>\n",
       "    <tr>\n",
       "      <th>99</th>\n",
       "      <td>c139-h5000m</td>\n",
       "      <td>POLYGON ((655980.192 4746798.087, 660310.319 4...</td>\n",
       "      <td>POINT (655980.192 4741798.087)</td>\n",
       "      <td>p2019-02-02-8d</td>\n",
       "      <td>2019-02-02 00:00:00-05:00</td>\n",
       "      <td>2019-02-05 23:59:59-05:00</td>\n",
       "      <td>2019-02-09 23:59:59-05:00</td>\n",
       "      <td>NaN</td>\n",
       "      <td>9157.070699</td>\n",
       "    </tr>\n",
       "    <tr>\n",
       "      <th>100</th>\n",
       "      <td>c159-h5000m</td>\n",
       "      <td>POLYGON ((660310.319 4754298.087, 664640.446 4...</td>\n",
       "      <td>POINT (660310.319 4749298.087)</td>\n",
       "      <td>p2019-02-02-8d</td>\n",
       "      <td>2019-02-02 00:00:00-05:00</td>\n",
       "      <td>2019-02-05 23:59:59-05:00</td>\n",
       "      <td>2019-02-09 23:59:59-05:00</td>\n",
       "      <td>NaN</td>\n",
       "      <td>4780.422232</td>\n",
       "    </tr>\n",
       "  </tbody>\n",
       "</table>\n",
       "<p>101 rows × 9 columns</p>\n",
       "</div>"
      ],
      "text/plain": [
       "         cell_id                                            polygon  \\\n",
       "0    c013-h5000m  POLYGON ((604018.668 4701798.087, 608348.795 4...   \n",
       "1    c014-h5000m  POLYGON ((612678.922 4701798.087, 617009.049 4...   \n",
       "2    c015-h5000m  POLYGON ((621339.176 4701798.087, 625669.303 4...   \n",
       "3    c016-h5000m  POLYGON ((629999.43 4701798.087, 634329.557 46...   \n",
       "4    c017-h5000m  POLYGON ((638659.684 4701798.087, 642989.811 4...   \n",
       "..           ...                                                ...   \n",
       "96   c128-h5000m  POLYGON ((560717.398 4746798.087, 565047.525 4...   \n",
       "97   c129-h5000m  POLYGON ((569377.652 4746798.087, 573707.779 4...   \n",
       "98   c130-h5000m  POLYGON ((578037.906 4746798.087, 582368.033 4...   \n",
       "99   c139-h5000m  POLYGON ((655980.192 4746798.087, 660310.319 4...   \n",
       "100  c159-h5000m  POLYGON ((660310.319 4754298.087, 664640.446 4...   \n",
       "\n",
       "                           centroid       period_id              datetime_beg  \\\n",
       "0    POINT (604018.668 4696798.087)  p2019-02-02-8d 2019-02-02 00:00:00-05:00   \n",
       "1    POINT (612678.922 4696798.087)  p2019-02-02-8d 2019-02-02 00:00:00-05:00   \n",
       "2    POINT (621339.176 4696798.087)  p2019-02-02-8d 2019-02-02 00:00:00-05:00   \n",
       "3     POINT (629999.43 4696798.087)  p2019-02-02-8d 2019-02-02 00:00:00-05:00   \n",
       "4    POINT (638659.684 4696798.087)  p2019-02-02-8d 2019-02-02 00:00:00-05:00   \n",
       "..                              ...             ...                       ...   \n",
       "96   POINT (560717.398 4741798.087)  p2019-01-25-8d 2019-01-25 00:00:00-05:00   \n",
       "97   POINT (569377.652 4741798.087)  p2019-01-25-8d 2019-01-25 00:00:00-05:00   \n",
       "98   POINT (578037.906 4741798.087)  p2019-01-25-8d 2019-01-25 00:00:00-05:00   \n",
       "99   POINT (655980.192 4741798.087)  p2019-02-02-8d 2019-02-02 00:00:00-05:00   \n",
       "100  POINT (660310.319 4749298.087)  p2019-02-02-8d 2019-02-02 00:00:00-05:00   \n",
       "\n",
       "                 datetime_mid              datetime_end  individuals  \\\n",
       "0   2019-02-05 23:59:59-05:00 2019-02-09 23:59:59-05:00          NaN   \n",
       "1   2019-02-05 23:59:59-05:00 2019-02-09 23:59:59-05:00          4.0   \n",
       "2   2019-02-05 23:59:59-05:00 2019-02-09 23:59:59-05:00          2.0   \n",
       "3   2019-02-05 23:59:59-05:00 2019-02-09 23:59:59-05:00          NaN   \n",
       "4   2019-02-05 23:59:59-05:00 2019-02-09 23:59:59-05:00          NaN   \n",
       "..                        ...                       ...          ...   \n",
       "96  2019-01-28 23:59:59-05:00 2019-02-01 23:59:59-05:00          NaN   \n",
       "97  2019-01-28 23:59:59-05:00 2019-02-01 23:59:59-05:00          NaN   \n",
       "98  2019-01-28 23:59:59-05:00 2019-02-01 23:59:59-05:00          1.0   \n",
       "99  2019-02-05 23:59:59-05:00 2019-02-09 23:59:59-05:00          NaN   \n",
       "100 2019-02-05 23:59:59-05:00 2019-02-09 23:59:59-05:00          NaN   \n",
       "\n",
       "       se_length  \n",
       "0    6000.522001  \n",
       "1    8662.115497  \n",
       "2    8661.560380  \n",
       "3    8662.595905  \n",
       "4    8662.002385  \n",
       "..           ...  \n",
       "96   8661.000942  \n",
       "97   8661.175721  \n",
       "98   6386.031468  \n",
       "99   9157.070699  \n",
       "100  4780.422232  \n",
       "\n",
       "[101 rows x 9 columns]"
      ]
     },
     "execution_count": 13,
     "metadata": {},
     "output_type": "execute_result"
    }
   ],
   "source": [
    "u_samples.samples"
   ]
  }
 ],
 "metadata": {
  "kernelspec": {
   "display_name": "Python 3 (ipykernel)",
   "language": "python",
   "name": "python3"
  },
  "language_info": {
   "codemirror_mode": {
    "name": "ipython",
    "version": 3
   },
   "file_extension": ".py",
   "mimetype": "text/x-python",
   "name": "python",
   "nbconvert_exporter": "python",
   "pygments_lexer": "ipython3",
   "version": "3.12.3"
  }
 },
 "nbformat": 4,
 "nbformat_minor": 5
}
