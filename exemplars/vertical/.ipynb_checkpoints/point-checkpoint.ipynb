{
 "cells": [
  {
   "cell_type": "markdown",
   "id": "0de18513-ce8b-406b-88a8-772efd0bb0a3",
   "metadata": {},
   "source": [
    "# ```sampley``` exemplar: the point approach\n",
    "Before going through this exemplar, please consult the Introduction to sampley exemplars (```intro.ipynb```).\n",
    "<br>This exemplar illustrates an application of the point approach to data contained within two files: one containing survey tracks (```sections.gpkg```) and one containing sightings data (```sightings.gpkg```)."
   ]
  },
  {
   "cell_type": "markdown",
   "id": "a5f17978-8542-4d78-b4ac-cf397fc1a02d",
   "metadata": {},
   "source": [
    "## Setup"
   ]
  },
  {
   "cell_type": "markdown",
   "id": "c060e52d-229d-459d-b1cf-f2fe092a266a",
   "metadata": {},
   "source": [
    "### Import the package"
   ]
  },
  {
   "cell_type": "code",
   "execution_count": 1,
   "id": "00c26ed0-1dff-4b75-bcf2-0595373e7743",
   "metadata": {},
   "outputs": [],
   "source": [
    "from sampley import *"
   ]
  },
  {
   "cell_type": "markdown",
   "id": "8c681985-ba89-48a9-b39f-8cdd41760bbb",
   "metadata": {},
   "source": [
    "### Set the input folder\n",
    "To run this exemplar, download the mock data files, put them in a folder, and set the path to the folder below."
   ]
  },
  {
   "cell_type": "code",
   "execution_count": 2,
   "id": "90aca9bb-d9e0-4af9-b903-4180094dab22",
   "metadata": {},
   "outputs": [],
   "source": [
    "input_folder = './input/'"
   ]
  },
  {
   "cell_type": "markdown",
   "id": "887b329d-dc56-447b-b07d-6895e04cf73d",
   "metadata": {},
   "source": [
    "### Set the output folder\n",
    "To run this exemplar, make a folder to save the outputs in and set the path to the folder below."
   ]
  },
  {
   "cell_type": "code",
   "execution_count": 3,
   "id": "ad8e9468-4c66-4b7b-a323-0164ae0c08eb",
   "metadata": {},
   "outputs": [],
   "source": [
    "output_folder = './output/'"
   ]
  },
  {
   "cell_type": "markdown",
   "id": "6a267934-417a-4d4c-ab9d-20056a678ea2",
   "metadata": {},
   "source": [
    "## Stage 1\n",
    "In Stage 1, we import two files (```sightings.csv``` and ```sections.gpkg```) and from them make a ```DataPoints``` and a ```Sections``` object, respectively.\n",
    "<br>Although we use a CSV file and a GPKG file in this exemplar, there are other options for file types (including XLSX and SHP files). Please see the Stage 1 exemplar (```stage-1.ipynb```) in the horizontal exemplars folder or the User Manual for more details. Note that, regardless of the input file type, once any ```DataPoints``` and/or ```Sections``` objects have been made, the subsequent processing will be the same."
   ]
  },
  {
   "cell_type": "code",
   "execution_count": 4,
   "id": "f239273a-e22a-4d85-b4c5-995fc401a9d7",
   "metadata": {},
   "outputs": [
    {
     "name": "stdout",
     "output_type": "stream",
     "text": [
      "Success: file opened.\n",
      "Success: X and Y coordinates parsed.\n",
      "Success: reprojected to CRS \"EPSG:32619\"\n",
      "Success: column \"datetime\" reformatted to datetimes.\n",
      "Success: timezone of column \"datetime\" set to \"UTC-05:00\".\n",
      "Success: datapoint IDs generated.\n"
     ]
    }
   ],
   "source": [
    "u_sightings = DataPoints.from_file(\n",
    "    filepath=input_folder+'sightings.csv',\n",
    "    x_col='lon',\n",
    "    y_col='lat',\n",
    "    crs_input='EPSG:4326',\n",
    "    crs_working='EPSG:32619',\n",
    "    datetime_col='datetime',\n",
    "    tz_input='UTC-05:00'\n",
    ")"
   ]
  },
  {
   "cell_type": "code",
   "execution_count": 5,
   "id": "4d117c9b-d09b-422a-bfe3-495ed65fe157",
   "metadata": {},
   "outputs": [
    {
     "name": "stdout",
     "output_type": "stream",
     "text": [
      "Success: file opened.\n",
      "Success: reprojected to CRS \"EPSG:32619\"\n",
      "Success: column \"datetime_beg\" reformatted to datetimes.\n",
      "Success: timezone of column \"datetime_beg\" set to \"UTC-05:00\".\n",
      "Note: column \"datetime_beg\" renamed to \"datetime\".\n",
      "Success: section IDs generated.\n"
     ]
    }
   ],
   "source": [
    "u_sections = Sections.from_file(\n",
    "    filepath=input_folder+'sections.gpkg',\n",
    "    crs_working='EPSG:32619',\n",
    "    datetime_col='datetime_beg',\n",
    "    tz_input='UTC-05:00'\n",
    ")"
   ]
  },
  {
   "cell_type": "markdown",
   "id": "04b82487-2a6d-454c-9245-7ae7d46e121f",
   "metadata": {},
   "source": [
    "## Stage 2\n",
    "In the first part of Stage 2, we use the ```DataPoints``` object containing sightings data to make a ```Presences``` object (```u_presences```)."
   ]
  },
  {
   "cell_type": "code",
   "execution_count": 6,
   "id": "e3884378-4a1a-4258-afce-1e212d309710",
   "metadata": {},
   "outputs": [],
   "source": [
    "u_presences = Presences.delimit(\n",
    "    datapoints=u_sightings,\n",
    "    presence_col='individuals')"
   ]
  },
  {
   "cell_type": "code",
   "execution_count": 7,
   "id": "c21f9f99-e03c-4725-b7e9-5291b6037254",
   "metadata": {},
   "outputs": [
    {
     "data": {
      "text/html": [
       "<div>\n",
       "<style scoped>\n",
       "    .dataframe tbody tr th:only-of-type {\n",
       "        vertical-align: middle;\n",
       "    }\n",
       "\n",
       "    .dataframe tbody tr th {\n",
       "        vertical-align: top;\n",
       "    }\n",
       "\n",
       "    .dataframe thead th {\n",
       "        text-align: right;\n",
       "    }\n",
       "</style>\n",
       "<table border=\"1\" class=\"dataframe\">\n",
       "  <thead>\n",
       "    <tr style=\"text-align: right;\">\n",
       "      <th></th>\n",
       "      <th>point_id</th>\n",
       "      <th>point</th>\n",
       "      <th>date</th>\n",
       "      <th>datapoint_id</th>\n",
       "    </tr>\n",
       "  </thead>\n",
       "  <tbody>\n",
       "    <tr>\n",
       "      <th>0</th>\n",
       "      <td>p01</td>\n",
       "      <td>POINT (579166.78 4742872.701)</td>\n",
       "      <td>2019-01-25</td>\n",
       "      <td>d01</td>\n",
       "    </tr>\n",
       "    <tr>\n",
       "      <th>1</th>\n",
       "      <td>p02</td>\n",
       "      <td>POINT (554184.217 4742741.886)</td>\n",
       "      <td>2019-01-25</td>\n",
       "      <td>d02</td>\n",
       "    </tr>\n",
       "    <tr>\n",
       "      <th>2</th>\n",
       "      <td>p03</td>\n",
       "      <td>POINT (548599.876 4742700.214)</td>\n",
       "      <td>2019-01-25</td>\n",
       "      <td>d03</td>\n",
       "    </tr>\n",
       "    <tr>\n",
       "      <th>3</th>\n",
       "      <td>p04</td>\n",
       "      <td>POINT (520909.741 4714855.058)</td>\n",
       "      <td>2019-02-02</td>\n",
       "      <td>d04</td>\n",
       "    </tr>\n",
       "    <tr>\n",
       "      <th>4</th>\n",
       "      <td>p05</td>\n",
       "      <td>POINT (532548.249 4714899.835)</td>\n",
       "      <td>2019-02-02</td>\n",
       "      <td>d05</td>\n",
       "    </tr>\n",
       "  </tbody>\n",
       "</table>\n",
       "</div>"
      ],
      "text/plain": [
       "  point_id                           point       date datapoint_id\n",
       "0      p01   POINT (579166.78 4742872.701) 2019-01-25          d01\n",
       "1      p02  POINT (554184.217 4742741.886) 2019-01-25          d02\n",
       "2      p03  POINT (548599.876 4742700.214) 2019-01-25          d03\n",
       "3      p04  POINT (520909.741 4714855.058) 2019-02-02          d04\n",
       "4      p05  POINT (532548.249 4714899.835) 2019-02-02          d05"
      ]
     },
     "execution_count": 7,
     "metadata": {},
     "output_type": "execute_result"
    }
   ],
   "source": [
    "u_presences.presences[:5]  # print the first five rows of the presences GeoDataFrame"
   ]
  },
  {
   "cell_type": "code",
   "execution_count": 8,
   "id": "3abbdddf-8d66-4ed5-8512-945f2b8a82b7",
   "metadata": {},
   "outputs": [
    {
     "data": {
      "image/png": "[encoded data removed]",
      "text/plain": [
       "<Figure size 1600x800 with 1 Axes>"
      ]
     },
     "metadata": {},
     "output_type": "display_data"
    }
   ],
   "source": [
    "u_presences.plot()  # plot the presences"
   ]
  },
  {
   "cell_type": "markdown",
   "id": "7884ed33-d75a-429f-843a-0f51a51e2af4",
   "metadata": {},
   "source": [
    "Then, we use the ```Presences``` object and the ```Sections``` object to make a ```PresenceZones``` object (```u_presencezones```) based on a spatial threshold of 10000 m and a temporal threshold of 5 days."
   ]
  },
  {
   "cell_type": "code",
   "execution_count": 9,
   "id": "8a7016c3-8fee-4159-a729-abd37c184d19",
   "metadata": {},
   "outputs": [],
   "source": [
    "u_presencezones = PresenceZones.delimit(\n",
    "    sections=u_sections,\n",
    "    presences=u_presences,\n",
    "    sp_threshold=10000,\n",
    "    tm_threshold=5,\n",
    "    tm_unit='day',\n",
    ")"
   ]
  },
  {
   "cell_type": "code",
   "execution_count": 10,
   "id": "5e3aa41f-1e68-4a2f-bc52-f070a16f0610",
   "metadata": {},
   "outputs": [
    {
     "data": {
      "text/html": [
       "<div>\n",
       "<style scoped>\n",
       "    .dataframe tbody tr th:only-of-type {\n",
       "        vertical-align: middle;\n",
       "    }\n",
       "\n",
       "    .dataframe tbody tr th {\n",
       "        vertical-align: top;\n",
       "    }\n",
       "\n",
       "    .dataframe thead th {\n",
       "        text-align: right;\n",
       "    }\n",
       "</style>\n",
       "<table border=\"1\" class=\"dataframe\">\n",
       "  <thead>\n",
       "    <tr style=\"text-align: right;\">\n",
       "      <th></th>\n",
       "      <th>section_id</th>\n",
       "      <th>presencezones</th>\n",
       "    </tr>\n",
       "  </thead>\n",
       "  <tbody>\n",
       "    <tr>\n",
       "      <th>0</th>\n",
       "      <td>s1</td>\n",
       "      <td>MULTIPOLYGON (((550550.779 4732892.362, 549580...</td>\n",
       "    </tr>\n",
       "    <tr>\n",
       "      <th>1</th>\n",
       "      <td>s2</td>\n",
       "      <td>None</td>\n",
       "    </tr>\n",
       "    <tr>\n",
       "      <th>2</th>\n",
       "      <td>s3</td>\n",
       "      <td>MULTIPOLYGON (((613927.76 4687166.258, 612957....</td>\n",
       "    </tr>\n",
       "    <tr>\n",
       "      <th>3</th>\n",
       "      <td>s4</td>\n",
       "      <td>MULTIPOLYGON (((613927.76 4687166.258, 612957....</td>\n",
       "    </tr>\n",
       "  </tbody>\n",
       "</table>\n",
       "</div>"
      ],
      "text/plain": [
       "  section_id                                      presencezones\n",
       "0         s1  MULTIPOLYGON (((550550.779 4732892.362, 549580...\n",
       "1         s2                                               None\n",
       "2         s3  MULTIPOLYGON (((613927.76 4687166.258, 612957....\n",
       "3         s4  MULTIPOLYGON (((613927.76 4687166.258, 612957...."
      ]
     },
     "execution_count": 10,
     "metadata": {},
     "output_type": "execute_result"
    }
   ],
   "source": [
    "u_presencezones.presencezones  # print the presence zones GeoDataFrame"
   ]
  },
  {
   "cell_type": "code",
   "execution_count": 11,
   "id": "fbda9666-3cec-453c-8653-c888dd678ec2",
   "metadata": {},
   "outputs": [
    {
     "data": {
      "image/png": "[encoded data removed]",
      "text/plain": [
       "<Figure size 1600x800 with 1 Axes>"
      ]
     },
     "metadata": {},
     "output_type": "display_data"
    }
   ],
   "source": [
    "u_presencezones.plot(sections=u_sections)  # plot the presence zones (in blue) over the sections (in grey)"
   ]
  },
  {
   "cell_type": "markdown",
   "id": "ee57db6a-f208-4cc8-8150-3e6c175b1f7e",
   "metadata": {},
   "source": [
    "Finally, we use the ```Sections``` object and the ```PresenceZones``` object to make an ```Absences``` object (```u_absences```).\n",
    "<br>Note that the target number of absences to generate is set to five times the number of presences."
   ]
  },
  {
   "cell_type": "code",
   "execution_count": 12,
   "id": "c60c8b8c-06f9-4e64-b694-e58e3a801aca",
   "metadata": {},
   "outputs": [
    {
     "name": "stdout",
     "output_type": "stream",
     "text": [
      "Target: 65 | Attempts: 94 | Successes: 65\n"
     ]
    }
   ],
   "source": [
    "u_absences = Absences.delimit(\n",
    "    sections=u_sections,\n",
    "    presencezones=u_presencezones,\n",
    "    var='along',\n",
    "    target=5*len(u_presences.presences))"
   ]
  },
  {
   "cell_type": "code",
   "execution_count": 13,
   "id": "87dae20c-a10f-4a60-b485-c7d1356e79ff",
   "metadata": {},
   "outputs": [
    {
     "data": {
      "text/html": [
       "<div>\n",
       "<style scoped>\n",
       "    .dataframe tbody tr th:only-of-type {\n",
       "        vertical-align: middle;\n",
       "    }\n",
       "\n",
       "    .dataframe tbody tr th {\n",
       "        vertical-align: top;\n",
       "    }\n",
       "\n",
       "    .dataframe thead th {\n",
       "        text-align: right;\n",
       "    }\n",
       "</style>\n",
       "<table border=\"1\" class=\"dataframe\">\n",
       "  <thead>\n",
       "    <tr style=\"text-align: right;\">\n",
       "      <th></th>\n",
       "      <th>point_id</th>\n",
       "      <th>point</th>\n",
       "      <th>date</th>\n",
       "      <th>section_id</th>\n",
       "      <th>dfbs</th>\n",
       "    </tr>\n",
       "  </thead>\n",
       "  <tbody>\n",
       "    <tr>\n",
       "      <th>0</th>\n",
       "      <td>a01</td>\n",
       "      <td>POINT (567355.912 4742809.771)</td>\n",
       "      <td>2019-01-25</td>\n",
       "      <td>s1</td>\n",
       "      <td>12738.548602</td>\n",
       "    </tr>\n",
       "    <tr>\n",
       "      <th>1</th>\n",
       "      <td>a02</td>\n",
       "      <td>POINT (566453.414 4742812.702)</td>\n",
       "      <td>2019-01-25</td>\n",
       "      <td>s1</td>\n",
       "      <td>13641.253514</td>\n",
       "    </tr>\n",
       "    <tr>\n",
       "      <th>2</th>\n",
       "      <td>a03</td>\n",
       "      <td>POINT (565621.431 4742804.724)</td>\n",
       "      <td>2019-01-25</td>\n",
       "      <td>s1</td>\n",
       "      <td>14473.274720</td>\n",
       "    </tr>\n",
       "    <tr>\n",
       "      <th>3</th>\n",
       "      <td>a04</td>\n",
       "      <td>POINT (515514.829 4742583.97)</td>\n",
       "      <td>2019-01-25</td>\n",
       "      <td>s1</td>\n",
       "      <td>64583.688480</td>\n",
       "    </tr>\n",
       "    <tr>\n",
       "      <th>4</th>\n",
       "      <td>a05</td>\n",
       "      <td>POINT (507213.39 4742532.516)</td>\n",
       "      <td>2019-01-25</td>\n",
       "      <td>s1</td>\n",
       "      <td>72886.019600</td>\n",
       "    </tr>\n",
       "  </tbody>\n",
       "</table>\n",
       "</div>"
      ],
      "text/plain": [
       "  point_id                           point       date section_id          dfbs\n",
       "0      a01  POINT (567355.912 4742809.771) 2019-01-25         s1  12738.548602\n",
       "1      a02  POINT (566453.414 4742812.702) 2019-01-25         s1  13641.253514\n",
       "2      a03  POINT (565621.431 4742804.724) 2019-01-25         s1  14473.274720\n",
       "3      a04   POINT (515514.829 4742583.97) 2019-01-25         s1  64583.688480\n",
       "4      a05   POINT (507213.39 4742532.516) 2019-01-25         s1  72886.019600"
      ]
     },
     "execution_count": 13,
     "metadata": {},
     "output_type": "execute_result"
    }
   ],
   "source": [
    "u_absences.absences[:5]  # print the first five rows of the absences GeoDataFrame"
   ]
  },
  {
   "cell_type": "code",
   "execution_count": 14,
   "id": "d4e04ab3-08ee-4fb7-89d2-17915b026881",
   "metadata": {},
   "outputs": [
    {
     "data": {
      "image/png": "[encoded data removed]",
      "text/plain": [
       "<Figure size 1600x800 with 1 Axes>"
      ]
     },
     "metadata": {},
     "output_type": "display_data"
    }
   ],
   "source": [
    "u_absences.plot()  # plot the absences"
   ]
  },
  {
   "cell_type": "markdown",
   "id": "a6279b83-729a-4da0-b5e2-b749949181e2",
   "metadata": {},
   "source": [
    "## Stage 3\n",
    "In Stage 3, we make a ```Samples``` object from the ```Presences``` object and the ```Absences``` object. We also input the ```DataPoints``` object that contains the data to assign to the presences and a list of the data columns to assign.\n",
    "<br>_Note that assigning data to the absences is not possible given the input data. It is only possible if the absences are made from sections that are made from continuous datapoints (see the ```point-continuous.ipynb``` exemplar)._"
   ]
  },
  {
   "cell_type": "code",
   "execution_count": 15,
   "id": "143c6565-1cf6-418a-8392-d3f312d557eb",
   "metadata": {},
   "outputs": [],
   "source": [
    "u_samples = Samples.point(\n",
    "    presences=u_presences,\n",
    "    absences=u_absences,\n",
    "    datapoints_p=u_sightings,  # DataPoints object containing data to assign to the presences\n",
    "    cols_p=['individuals'])  # data columns in datapoints_p to assign to the presences"
   ]
  },
  {
   "cell_type": "code",
   "execution_count": 16,
   "id": "732e1e92-51fc-4920-8dbd-4baf9286e17a",
   "metadata": {},
   "outputs": [
    {
     "name": "stdout",
     "output_type": "stream",
     "text": [
      "Number of samples: 78\n"
     ]
    }
   ],
   "source": [
    "print(f'Number of samples: {len(u_samples.samples)}')"
   ]
  },
  {
   "cell_type": "code",
   "execution_count": 17,
   "id": "cdfbe6c2-260f-4b54-89a0-10baef941ee8",
   "metadata": {},
   "outputs": [
    {
     "data": {
      "text/html": [
       "<div>\n",
       "<style scoped>\n",
       "    .dataframe tbody tr th:only-of-type {\n",
       "        vertical-align: middle;\n",
       "    }\n",
       "\n",
       "    .dataframe tbody tr th {\n",
       "        vertical-align: top;\n",
       "    }\n",
       "\n",
       "    .dataframe thead th {\n",
       "        text-align: right;\n",
       "    }\n",
       "</style>\n",
       "<table border=\"1\" class=\"dataframe\">\n",
       "  <thead>\n",
       "    <tr style=\"text-align: right;\">\n",
       "      <th></th>\n",
       "      <th>point_id</th>\n",
       "      <th>point</th>\n",
       "      <th>date</th>\n",
       "      <th>datapoint_id</th>\n",
       "      <th>p-a</th>\n",
       "      <th>individuals</th>\n",
       "      <th>section_id</th>\n",
       "      <th>dfbs</th>\n",
       "    </tr>\n",
       "  </thead>\n",
       "  <tbody>\n",
       "    <tr>\n",
       "      <th>0</th>\n",
       "      <td>p01</td>\n",
       "      <td>POINT (579166.78 4742872.701)</td>\n",
       "      <td>2019-01-25</td>\n",
       "      <td>d01</td>\n",
       "      <td>1</td>\n",
       "      <td>1.0</td>\n",
       "      <td>NaN</td>\n",
       "      <td>NaN</td>\n",
       "    </tr>\n",
       "    <tr>\n",
       "      <th>1</th>\n",
       "      <td>p02</td>\n",
       "      <td>POINT (554184.217 4742741.886)</td>\n",
       "      <td>2019-01-25</td>\n",
       "      <td>d02</td>\n",
       "      <td>1</td>\n",
       "      <td>2.0</td>\n",
       "      <td>NaN</td>\n",
       "      <td>NaN</td>\n",
       "    </tr>\n",
       "    <tr>\n",
       "      <th>2</th>\n",
       "      <td>p03</td>\n",
       "      <td>POINT (548599.876 4742700.214)</td>\n",
       "      <td>2019-01-25</td>\n",
       "      <td>d03</td>\n",
       "      <td>1</td>\n",
       "      <td>5.0</td>\n",
       "      <td>NaN</td>\n",
       "      <td>NaN</td>\n",
       "    </tr>\n",
       "    <tr>\n",
       "      <th>3</th>\n",
       "      <td>p04</td>\n",
       "      <td>POINT (520909.741 4714855.058)</td>\n",
       "      <td>2019-02-02</td>\n",
       "      <td>d04</td>\n",
       "      <td>1</td>\n",
       "      <td>1.0</td>\n",
       "      <td>NaN</td>\n",
       "      <td>NaN</td>\n",
       "    </tr>\n",
       "    <tr>\n",
       "      <th>4</th>\n",
       "      <td>p05</td>\n",
       "      <td>POINT (532548.249 4714899.835)</td>\n",
       "      <td>2019-02-02</td>\n",
       "      <td>d05</td>\n",
       "      <td>1</td>\n",
       "      <td>2.0</td>\n",
       "      <td>NaN</td>\n",
       "      <td>NaN</td>\n",
       "    </tr>\n",
       "  </tbody>\n",
       "</table>\n",
       "</div>"
      ],
      "text/plain": [
       "  point_id                           point       date datapoint_id  p-a  \\\n",
       "0      p01   POINT (579166.78 4742872.701) 2019-01-25          d01    1   \n",
       "1      p02  POINT (554184.217 4742741.886) 2019-01-25          d02    1   \n",
       "2      p03  POINT (548599.876 4742700.214) 2019-01-25          d03    1   \n",
       "3      p04  POINT (520909.741 4714855.058) 2019-02-02          d04    1   \n",
       "4      p05  POINT (532548.249 4714899.835) 2019-02-02          d05    1   \n",
       "\n",
       "   individuals section_id  dfbs  \n",
       "0          1.0        NaN   NaN  \n",
       "1          2.0        NaN   NaN  \n",
       "2          5.0        NaN   NaN  \n",
       "3          1.0        NaN   NaN  \n",
       "4          2.0        NaN   NaN  "
      ]
     },
     "execution_count": 17,
     "metadata": {},
     "output_type": "execute_result"
    }
   ],
   "source": [
    "u_samples.samples[:5]  # print the first five rows of the samples GeoDataFrame"
   ]
  },
  {
   "cell_type": "markdown",
   "id": "084d2b45-d195-4e92-83a8-374d1fd49a94",
   "metadata": {},
   "source": [
    "We know that, due to the presence zones, no absence will be within the spatial and temporal thresholds of a presence, however, by looking at the plots of the presences in Stage 2 above, we may see that some of the presences are close to other presences. The same applies to the absences. This may lead to issues associated with autocorrelation.\n",
    "<br>So, here, we thin the samples with a spatial threshold of 10000 m and a temporal threshold of 5 days, resulting in 25 samples that are kept (within the ```samples``` attribute)."
   ]
  },
  {
   "cell_type": "code",
   "execution_count": 18,
   "id": "9c0378bb-675d-49da-aeaa-20ef09339629",
   "metadata": {},
   "outputs": [],
   "source": [
    "u_samples.thin(\n",
    "    coords='point', \n",
    "    sp_threshold=10000,\n",
    "    datetimes='date',\n",
    "    tm_threshold=5,\n",
    "    tm_unit='day'\n",
    ")"
   ]
  },
  {
   "cell_type": "code",
   "execution_count": 19,
   "id": "26fa1a9a-8192-4e77-ab20-b2f267b2d587",
   "metadata": {},
   "outputs": [
    {
     "name": "stdout",
     "output_type": "stream",
     "text": [
      "Number of samples kept: 33\n"
     ]
    }
   ],
   "source": [
    "print(f'Number of samples kept: {len(u_samples.samples)}')"
   ]
  },
  {
   "cell_type": "code",
   "execution_count": 20,
   "id": "4ba2b7a3-8f11-4595-9dbf-d1f1c6f3c36c",
   "metadata": {},
   "outputs": [
    {
     "data": {
      "text/html": [
       "<div>\n",
       "<style scoped>\n",
       "    .dataframe tbody tr th:only-of-type {\n",
       "        vertical-align: middle;\n",
       "    }\n",
       "\n",
       "    .dataframe tbody tr th {\n",
       "        vertical-align: top;\n",
       "    }\n",
       "\n",
       "    .dataframe thead th {\n",
       "        text-align: right;\n",
       "    }\n",
       "</style>\n",
       "<table border=\"1\" class=\"dataframe\">\n",
       "  <thead>\n",
       "    <tr style=\"text-align: right;\">\n",
       "      <th></th>\n",
       "      <th>point_id</th>\n",
       "      <th>point</th>\n",
       "      <th>date</th>\n",
       "      <th>datapoint_id</th>\n",
       "      <th>p-a</th>\n",
       "      <th>individuals</th>\n",
       "      <th>section_id</th>\n",
       "      <th>dfbs</th>\n",
       "    </tr>\n",
       "  </thead>\n",
       "  <tbody>\n",
       "    <tr>\n",
       "      <th>0</th>\n",
       "      <td>p01</td>\n",
       "      <td>POINT (579166.78 4742872.701)</td>\n",
       "      <td>2019-01-25</td>\n",
       "      <td>d01</td>\n",
       "      <td>1</td>\n",
       "      <td>1.0</td>\n",
       "      <td>NaN</td>\n",
       "      <td>NaN</td>\n",
       "    </tr>\n",
       "    <tr>\n",
       "      <th>1</th>\n",
       "      <td>p03</td>\n",
       "      <td>POINT (548599.876 4742700.214)</td>\n",
       "      <td>2019-01-25</td>\n",
       "      <td>d03</td>\n",
       "      <td>1</td>\n",
       "      <td>5.0</td>\n",
       "      <td>NaN</td>\n",
       "      <td>NaN</td>\n",
       "    </tr>\n",
       "    <tr>\n",
       "      <th>2</th>\n",
       "      <td>p04</td>\n",
       "      <td>POINT (520909.741 4714855.058)</td>\n",
       "      <td>2019-02-02</td>\n",
       "      <td>d04</td>\n",
       "      <td>1</td>\n",
       "      <td>1.0</td>\n",
       "      <td>NaN</td>\n",
       "      <td>NaN</td>\n",
       "    </tr>\n",
       "    <tr>\n",
       "      <th>3</th>\n",
       "      <td>p05</td>\n",
       "      <td>POINT (532548.249 4714899.835)</td>\n",
       "      <td>2019-02-02</td>\n",
       "      <td>d05</td>\n",
       "      <td>1</td>\n",
       "      <td>2.0</td>\n",
       "      <td>NaN</td>\n",
       "      <td>NaN</td>\n",
       "    </tr>\n",
       "    <tr>\n",
       "      <th>4</th>\n",
       "      <td>p07</td>\n",
       "      <td>POINT (504710.41 4705553.392)</td>\n",
       "      <td>2019-02-02</td>\n",
       "      <td>d07</td>\n",
       "      <td>1</td>\n",
       "      <td>3.0</td>\n",
       "      <td>NaN</td>\n",
       "      <td>NaN</td>\n",
       "    </tr>\n",
       "  </tbody>\n",
       "</table>\n",
       "</div>"
      ],
      "text/plain": [
       "  point_id                           point       date datapoint_id  p-a  \\\n",
       "0      p01   POINT (579166.78 4742872.701) 2019-01-25          d01    1   \n",
       "1      p03  POINT (548599.876 4742700.214) 2019-01-25          d03    1   \n",
       "2      p04  POINT (520909.741 4714855.058) 2019-02-02          d04    1   \n",
       "3      p05  POINT (532548.249 4714899.835) 2019-02-02          d05    1   \n",
       "4      p07   POINT (504710.41 4705553.392) 2019-02-02          d07    1   \n",
       "\n",
       "   individuals section_id  dfbs  \n",
       "0          1.0        NaN   NaN  \n",
       "1          5.0        NaN   NaN  \n",
       "2          1.0        NaN   NaN  \n",
       "3          2.0        NaN   NaN  \n",
       "4          3.0        NaN   NaN  "
      ]
     },
     "execution_count": 20,
     "metadata": {},
     "output_type": "execute_result"
    }
   ],
   "source": [
    "u_samples.samples[:5]  # print the first five rows of the samples GeoDataFrame"
   ]
  },
  {
   "cell_type": "markdown",
   "id": "cbf319e9-70a6-4b94-a29f-4016478d4dac",
   "metadata": {},
   "source": [
    "Those samples that were removed by thinning are now in a new attribute: ```removed```."
   ]
  },
  {
   "cell_type": "code",
   "execution_count": 21,
   "id": "52f5ea7e-5332-4b31-8cb7-e49a2d0deafd",
   "metadata": {},
   "outputs": [
    {
     "name": "stdout",
     "output_type": "stream",
     "text": [
      "Number of samples removed: 45\n"
     ]
    }
   ],
   "source": [
    "print(f'Number of samples removed: {len(u_samples.removed)}')"
   ]
  },
  {
   "cell_type": "code",
   "execution_count": 22,
   "id": "dd20f3fa-466d-468d-81ff-42b66ad22f23",
   "metadata": {},
   "outputs": [
    {
     "data": {
      "text/html": [
       "<div>\n",
       "<style scoped>\n",
       "    .dataframe tbody tr th:only-of-type {\n",
       "        vertical-align: middle;\n",
       "    }\n",
       "\n",
       "    .dataframe tbody tr th {\n",
       "        vertical-align: top;\n",
       "    }\n",
       "\n",
       "    .dataframe thead th {\n",
       "        text-align: right;\n",
       "    }\n",
       "</style>\n",
       "<table border=\"1\" class=\"dataframe\">\n",
       "  <thead>\n",
       "    <tr style=\"text-align: right;\">\n",
       "      <th></th>\n",
       "      <th>point_id</th>\n",
       "      <th>point</th>\n",
       "      <th>date</th>\n",
       "      <th>datapoint_id</th>\n",
       "      <th>p-a</th>\n",
       "      <th>individuals</th>\n",
       "      <th>section_id</th>\n",
       "      <th>dfbs</th>\n",
       "    </tr>\n",
       "  </thead>\n",
       "  <tbody>\n",
       "    <tr>\n",
       "      <th>0</th>\n",
       "      <td>p02</td>\n",
       "      <td>POINT (554184.217 4742741.886)</td>\n",
       "      <td>2019-01-25</td>\n",
       "      <td>d02</td>\n",
       "      <td>1</td>\n",
       "      <td>2.0</td>\n",
       "      <td>NaN</td>\n",
       "      <td>NaN</td>\n",
       "    </tr>\n",
       "    <tr>\n",
       "      <th>1</th>\n",
       "      <td>p06</td>\n",
       "      <td>POINT (512817.407 4705582.465)</td>\n",
       "      <td>2019-02-02</td>\n",
       "      <td>d06</td>\n",
       "      <td>1</td>\n",
       "      <td>1.0</td>\n",
       "      <td>NaN</td>\n",
       "      <td>NaN</td>\n",
       "    </tr>\n",
       "    <tr>\n",
       "      <th>2</th>\n",
       "      <td>p09</td>\n",
       "      <td>POINT (645666.237 4716110.937)</td>\n",
       "      <td>2019-02-05</td>\n",
       "      <td>d09</td>\n",
       "      <td>1</td>\n",
       "      <td>2.0</td>\n",
       "      <td>NaN</td>\n",
       "      <td>NaN</td>\n",
       "    </tr>\n",
       "    <tr>\n",
       "      <th>3</th>\n",
       "      <td>p12</td>\n",
       "      <td>POINT (620560.818 4697116.949)</td>\n",
       "      <td>2019-02-05</td>\n",
       "      <td>d12</td>\n",
       "      <td>1</td>\n",
       "      <td>2.0</td>\n",
       "      <td>NaN</td>\n",
       "      <td>NaN</td>\n",
       "    </tr>\n",
       "    <tr>\n",
       "      <th>4</th>\n",
       "      <td>a01</td>\n",
       "      <td>POINT (567355.912 4742809.771)</td>\n",
       "      <td>2019-01-25</td>\n",
       "      <td>NaN</td>\n",
       "      <td>0</td>\n",
       "      <td>NaN</td>\n",
       "      <td>s1</td>\n",
       "      <td>12738.548602</td>\n",
       "    </tr>\n",
       "  </tbody>\n",
       "</table>\n",
       "</div>"
      ],
      "text/plain": [
       "  point_id                           point       date datapoint_id  p-a  \\\n",
       "0      p02  POINT (554184.217 4742741.886) 2019-01-25          d02    1   \n",
       "1      p06  POINT (512817.407 4705582.465) 2019-02-02          d06    1   \n",
       "2      p09  POINT (645666.237 4716110.937) 2019-02-05          d09    1   \n",
       "3      p12  POINT (620560.818 4697116.949) 2019-02-05          d12    1   \n",
       "4      a01  POINT (567355.912 4742809.771) 2019-01-25          NaN    0   \n",
       "\n",
       "   individuals section_id          dfbs  \n",
       "0          2.0        NaN           NaN  \n",
       "1          1.0        NaN           NaN  \n",
       "2          2.0        NaN           NaN  \n",
       "3          2.0        NaN           NaN  \n",
       "4          NaN         s1  12738.548602  "
      ]
     },
     "execution_count": 22,
     "metadata": {},
     "output_type": "execute_result"
    }
   ],
   "source": [
    "u_samples.removed[:5]  # print the first five rows of the removed samples GeoDataFrame"
   ]
  },
  {
   "cell_type": "markdown",
   "id": "8b8e2d08-f66c-47ff-9b27-83b90b8ae20a",
   "metadata": {},
   "source": [
    "## Output\n",
    "Finally, we save the ```Samples``` object to the output folder."
   ]
  },
  {
   "cell_type": "code",
   "execution_count": 23,
   "id": "ed14f8f3-65d9-4b2d-a704-740813810d75",
   "metadata": {},
   "outputs": [],
   "source": [
    "u_samples.save(\n",
    "    folder=output_folder,\n",
    "    filetype='csv'\n",
    ")"
   ]
  },
  {
   "cell_type": "markdown",
   "id": "973dc37e-0b4e-484a-a1f5-94cc21294aa7",
   "metadata": {},
   "source": [
    "In the output folder, there should be two new CSVs: the first should have the same name as the ```Samples``` object (run the box below to see the name) while the second should also have this name but with ```-parameters``` added at the end."
   ]
  },
  {
   "cell_type": "code",
   "execution_count": 24,
   "id": "595973a0-464e-4417-a612-f77f5d563745",
   "metadata": {},
   "outputs": [
    {
     "data": {
      "text/plain": [
       "'samples-presences-sightings-+-absences-as-10000m-5day'"
      ]
     },
     "execution_count": 24,
     "metadata": {},
     "output_type": "execute_result"
    }
   ],
   "source": [
    "u_samples.name"
   ]
  },
  {
   "cell_type": "markdown",
   "id": "7d2c11eb-6a31-4ee9-a489-8740f8fb1563",
   "metadata": {},
   "source": [
    "The first CSV should contain the samples, like those shown in the box below. \n",
    "<br>In this dataframe, each row represents a given presence or absence, i.e., a sample. \n",
    "<br>The column ```point``` delimits the location of the presence/absence.\n",
    "<br>In this particular example, the data columns are ```p-a``` (presence-absence), ```individuals```, and ```bss```."
   ]
  },
  {
   "cell_type": "code",
   "execution_count": 25,
   "id": "ea5f1e9a-64ca-48ac-9a2a-7c1b996ff940",
   "metadata": {},
   "outputs": [
    {
     "data": {
      "text/html": [
       "<div>\n",
       "<style scoped>\n",
       "    .dataframe tbody tr th:only-of-type {\n",
       "        vertical-align: middle;\n",
       "    }\n",
       "\n",
       "    .dataframe tbody tr th {\n",
       "        vertical-align: top;\n",
       "    }\n",
       "\n",
       "    .dataframe thead th {\n",
       "        text-align: right;\n",
       "    }\n",
       "</style>\n",
       "<table border=\"1\" class=\"dataframe\">\n",
       "  <thead>\n",
       "    <tr style=\"text-align: right;\">\n",
       "      <th></th>\n",
       "      <th>point_id</th>\n",
       "      <th>point</th>\n",
       "      <th>date</th>\n",
       "      <th>datapoint_id</th>\n",
       "      <th>p-a</th>\n",
       "      <th>individuals</th>\n",
       "      <th>section_id</th>\n",
       "      <th>dfbs</th>\n",
       "    </tr>\n",
       "  </thead>\n",
       "  <tbody>\n",
       "    <tr>\n",
       "      <th>0</th>\n",
       "      <td>p01</td>\n",
       "      <td>POINT (579166.78 4742872.701)</td>\n",
       "      <td>2019-01-25</td>\n",
       "      <td>d01</td>\n",
       "      <td>1</td>\n",
       "      <td>1.0</td>\n",
       "      <td>NaN</td>\n",
       "      <td>NaN</td>\n",
       "    </tr>\n",
       "    <tr>\n",
       "      <th>1</th>\n",
       "      <td>p03</td>\n",
       "      <td>POINT (548599.876 4742700.214)</td>\n",
       "      <td>2019-01-25</td>\n",
       "      <td>d03</td>\n",
       "      <td>1</td>\n",
       "      <td>5.0</td>\n",
       "      <td>NaN</td>\n",
       "      <td>NaN</td>\n",
       "    </tr>\n",
       "    <tr>\n",
       "      <th>2</th>\n",
       "      <td>p04</td>\n",
       "      <td>POINT (520909.741 4714855.058)</td>\n",
       "      <td>2019-02-02</td>\n",
       "      <td>d04</td>\n",
       "      <td>1</td>\n",
       "      <td>1.0</td>\n",
       "      <td>NaN</td>\n",
       "      <td>NaN</td>\n",
       "    </tr>\n",
       "    <tr>\n",
       "      <th>3</th>\n",
       "      <td>p05</td>\n",
       "      <td>POINT (532548.249 4714899.835)</td>\n",
       "      <td>2019-02-02</td>\n",
       "      <td>d05</td>\n",
       "      <td>1</td>\n",
       "      <td>2.0</td>\n",
       "      <td>NaN</td>\n",
       "      <td>NaN</td>\n",
       "    </tr>\n",
       "    <tr>\n",
       "      <th>4</th>\n",
       "      <td>p07</td>\n",
       "      <td>POINT (504710.41 4705553.392)</td>\n",
       "      <td>2019-02-02</td>\n",
       "      <td>d07</td>\n",
       "      <td>1</td>\n",
       "      <td>3.0</td>\n",
       "      <td>NaN</td>\n",
       "      <td>NaN</td>\n",
       "    </tr>\n",
       "    <tr>\n",
       "      <th>5</th>\n",
       "      <td>p08</td>\n",
       "      <td>POINT (654449.136 4716189.584)</td>\n",
       "      <td>2019-02-05</td>\n",
       "      <td>d08</td>\n",
       "      <td>1</td>\n",
       "      <td>5.0</td>\n",
       "      <td>NaN</td>\n",
       "      <td>NaN</td>\n",
       "    </tr>\n",
       "    <tr>\n",
       "      <th>6</th>\n",
       "      <td>p10</td>\n",
       "      <td>POINT (643532.681 4716066.52)</td>\n",
       "      <td>2019-02-05</td>\n",
       "      <td>d10</td>\n",
       "      <td>1</td>\n",
       "      <td>1.0</td>\n",
       "      <td>NaN</td>\n",
       "      <td>NaN</td>\n",
       "    </tr>\n",
       "    <tr>\n",
       "      <th>7</th>\n",
       "      <td>p11</td>\n",
       "      <td>POINT (629124.489 4706545.106)</td>\n",
       "      <td>2019-02-05</td>\n",
       "      <td>d11</td>\n",
       "      <td>1</td>\n",
       "      <td>3.0</td>\n",
       "      <td>NaN</td>\n",
       "      <td>NaN</td>\n",
       "    </tr>\n",
       "    <tr>\n",
       "      <th>8</th>\n",
       "      <td>p13</td>\n",
       "      <td>POINT (611976.857 4696974.111)</td>\n",
       "      <td>2019-02-05</td>\n",
       "      <td>d13</td>\n",
       "      <td>1</td>\n",
       "      <td>4.0</td>\n",
       "      <td>NaN</td>\n",
       "      <td>NaN</td>\n",
       "    </tr>\n",
       "    <tr>\n",
       "      <th>9</th>\n",
       "      <td>a03</td>\n",
       "      <td>POINT (565621.431 4742804.724)</td>\n",
       "      <td>2019-01-25</td>\n",
       "      <td>NaN</td>\n",
       "      <td>0</td>\n",
       "      <td>NaN</td>\n",
       "      <td>s1</td>\n",
       "      <td>14473.274720</td>\n",
       "    </tr>\n",
       "    <tr>\n",
       "      <th>10</th>\n",
       "      <td>a05</td>\n",
       "      <td>POINT (507213.39 4742532.516)</td>\n",
       "      <td>2019-01-25</td>\n",
       "      <td>NaN</td>\n",
       "      <td>0</td>\n",
       "      <td>NaN</td>\n",
       "      <td>s1</td>\n",
       "      <td>72886.019600</td>\n",
       "    </tr>\n",
       "    <tr>\n",
       "      <th>11</th>\n",
       "      <td>a07</td>\n",
       "      <td>POINT (552178.978 4715019.542)</td>\n",
       "      <td>2019-02-02</td>\n",
       "      <td>NaN</td>\n",
       "      <td>0</td>\n",
       "      <td>NaN</td>\n",
       "      <td>s3</td>\n",
       "      <td>224388.704605</td>\n",
       "    </tr>\n",
       "    <tr>\n",
       "      <th>12</th>\n",
       "      <td>a08</td>\n",
       "      <td>POINT (563109.913 4715092.475)</td>\n",
       "      <td>2019-02-02</td>\n",
       "      <td>NaN</td>\n",
       "      <td>0</td>\n",
       "      <td>NaN</td>\n",
       "      <td>s3</td>\n",
       "      <td>235321.177800</td>\n",
       "    </tr>\n",
       "    <tr>\n",
       "      <th>13</th>\n",
       "      <td>a10</td>\n",
       "      <td>POINT (573966.357 4715106.294)</td>\n",
       "      <td>2019-02-02</td>\n",
       "      <td>NaN</td>\n",
       "      <td>0</td>\n",
       "      <td>NaN</td>\n",
       "      <td>s3</td>\n",
       "      <td>246179.350011</td>\n",
       "    </tr>\n",
       "    <tr>\n",
       "      <th>14</th>\n",
       "      <td>a12</td>\n",
       "      <td>POINT (594775.035 4715211.303)</td>\n",
       "      <td>2019-02-02</td>\n",
       "      <td>NaN</td>\n",
       "      <td>0</td>\n",
       "      <td>NaN</td>\n",
       "      <td>s3</td>\n",
       "      <td>266991.979410</td>\n",
       "    </tr>\n",
       "    <tr>\n",
       "      <th>15</th>\n",
       "      <td>a15</td>\n",
       "      <td>POINT (584820.656 4705975.922)</td>\n",
       "      <td>2019-02-02</td>\n",
       "      <td>NaN</td>\n",
       "      <td>0</td>\n",
       "      <td>NaN</td>\n",
       "      <td>s3</td>\n",
       "      <td>290353.442088</td>\n",
       "    </tr>\n",
       "    <tr>\n",
       "      <th>16</th>\n",
       "      <td>a17</td>\n",
       "      <td>POINT (569166.578 4705913.986)</td>\n",
       "      <td>2019-02-02</td>\n",
       "      <td>NaN</td>\n",
       "      <td>0</td>\n",
       "      <td>NaN</td>\n",
       "      <td>s3</td>\n",
       "      <td>306009.964187</td>\n",
       "    </tr>\n",
       "    <tr>\n",
       "      <th>17</th>\n",
       "      <td>a21</td>\n",
       "      <td>POINT (557580.905 4705827.483)</td>\n",
       "      <td>2019-02-02</td>\n",
       "      <td>NaN</td>\n",
       "      <td>0</td>\n",
       "      <td>NaN</td>\n",
       "      <td>s3</td>\n",
       "      <td>317596.474338</td>\n",
       "    </tr>\n",
       "    <tr>\n",
       "      <th>18</th>\n",
       "      <td>a24</td>\n",
       "      <td>POINT (656697.331 4742515.485)</td>\n",
       "      <td>2019-02-05</td>\n",
       "      <td>NaN</td>\n",
       "      <td>0</td>\n",
       "      <td>NaN</td>\n",
       "      <td>s4</td>\n",
       "      <td>383622.760224</td>\n",
       "    </tr>\n",
       "    <tr>\n",
       "      <th>19</th>\n",
       "      <td>a30</td>\n",
       "      <td>POINT (644827.673 4734590.684)</td>\n",
       "      <td>2019-02-05</td>\n",
       "      <td>NaN</td>\n",
       "      <td>0</td>\n",
       "      <td>NaN</td>\n",
       "      <td>s4</td>\n",
       "      <td>403037.337858</td>\n",
       "    </tr>\n",
       "    <tr>\n",
       "      <th>20</th>\n",
       "      <td>a35</td>\n",
       "      <td>POINT (632710.907 4734364.971)</td>\n",
       "      <td>2019-02-05</td>\n",
       "      <td>NaN</td>\n",
       "      <td>0</td>\n",
       "      <td>NaN</td>\n",
       "      <td>s4</td>\n",
       "      <td>415156.610165</td>\n",
       "    </tr>\n",
       "    <tr>\n",
       "      <th>21</th>\n",
       "      <td>a37</td>\n",
       "      <td>POINT (613882.903 4734028.83)</td>\n",
       "      <td>2019-02-05</td>\n",
       "      <td>NaN</td>\n",
       "      <td>0</td>\n",
       "      <td>NaN</td>\n",
       "      <td>s4</td>\n",
       "      <td>433991.759160</td>\n",
       "    </tr>\n",
       "    <tr>\n",
       "      <th>22</th>\n",
       "      <td>a39</td>\n",
       "      <td>POINT (604059.252 4724543.951)</td>\n",
       "      <td>2019-02-05</td>\n",
       "      <td>NaN</td>\n",
       "      <td>0</td>\n",
       "      <td>NaN</td>\n",
       "      <td>s4</td>\n",
       "      <td>455969.740310</td>\n",
       "    </tr>\n",
       "    <tr>\n",
       "      <th>23</th>\n",
       "      <td>a41</td>\n",
       "      <td>POINT (612606.269 4715496.332)</td>\n",
       "      <td>2019-02-05</td>\n",
       "      <td>NaN</td>\n",
       "      <td>0</td>\n",
       "      <td>NaN</td>\n",
       "      <td>s4</td>\n",
       "      <td>562361.428414</td>\n",
       "    </tr>\n",
       "    <tr>\n",
       "      <th>24</th>\n",
       "      <td>a44</td>\n",
       "      <td>POINT (605347.818 4706067.647)</td>\n",
       "      <td>2019-02-05</td>\n",
       "      <td>NaN</td>\n",
       "      <td>0</td>\n",
       "      <td>NaN</td>\n",
       "      <td>s4</td>\n",
       "      <td>583121.642451</td>\n",
       "    </tr>\n",
       "    <tr>\n",
       "      <th>25</th>\n",
       "      <td>a47</td>\n",
       "      <td>POINT (653756.555 4697689.687)</td>\n",
       "      <td>2019-02-05</td>\n",
       "      <td>NaN</td>\n",
       "      <td>0</td>\n",
       "      <td>NaN</td>\n",
       "      <td>s4</td>\n",
       "      <td>647608.433230</td>\n",
       "    </tr>\n",
       "    <tr>\n",
       "      <th>26</th>\n",
       "      <td>a48</td>\n",
       "      <td>POINT (642719.311 4697534.437)</td>\n",
       "      <td>2019-02-05</td>\n",
       "      <td>NaN</td>\n",
       "      <td>0</td>\n",
       "      <td>NaN</td>\n",
       "      <td>s4</td>\n",
       "      <td>658648.346360</td>\n",
       "    </tr>\n",
       "    <tr>\n",
       "      <th>27</th>\n",
       "      <td>a51</td>\n",
       "      <td>POINT (577864.908 4733622.144)</td>\n",
       "      <td>2019-03-03</td>\n",
       "      <td>NaN</td>\n",
       "      <td>0</td>\n",
       "      <td>NaN</td>\n",
       "      <td>s2</td>\n",
       "      <td>95070.852977</td>\n",
       "    </tr>\n",
       "    <tr>\n",
       "      <th>28</th>\n",
       "      <td>a52</td>\n",
       "      <td>POINT (567582.709 4733569.405)</td>\n",
       "      <td>2019-03-03</td>\n",
       "      <td>NaN</td>\n",
       "      <td>0</td>\n",
       "      <td>NaN</td>\n",
       "      <td>s2</td>\n",
       "      <td>105354.156647</td>\n",
       "    </tr>\n",
       "    <tr>\n",
       "      <th>29</th>\n",
       "      <td>a56</td>\n",
       "      <td>POINT (538773.086 4733439.769)</td>\n",
       "      <td>2019-03-03</td>\n",
       "      <td>NaN</td>\n",
       "      <td>0</td>\n",
       "      <td>NaN</td>\n",
       "      <td>s2</td>\n",
       "      <td>134165.861261</td>\n",
       "    </tr>\n",
       "    <tr>\n",
       "      <th>30</th>\n",
       "      <td>a58</td>\n",
       "      <td>POINT (523468.942 4733351.933)</td>\n",
       "      <td>2019-03-03</td>\n",
       "      <td>NaN</td>\n",
       "      <td>0</td>\n",
       "      <td>NaN</td>\n",
       "      <td>s2</td>\n",
       "      <td>149470.669315</td>\n",
       "    </tr>\n",
       "    <tr>\n",
       "      <th>31</th>\n",
       "      <td>a62</td>\n",
       "      <td>POINT (513421.958 4733300.153)</td>\n",
       "      <td>2019-03-03</td>\n",
       "      <td>NaN</td>\n",
       "      <td>0</td>\n",
       "      <td>NaN</td>\n",
       "      <td>s2</td>\n",
       "      <td>159519.128394</td>\n",
       "    </tr>\n",
       "    <tr>\n",
       "      <th>32</th>\n",
       "      <td>a65</td>\n",
       "      <td>POINT (503405.446 4733257.382)</td>\n",
       "      <td>2019-03-03</td>\n",
       "      <td>NaN</td>\n",
       "      <td>0</td>\n",
       "      <td>NaN</td>\n",
       "      <td>s2</td>\n",
       "      <td>169536.364734</td>\n",
       "    </tr>\n",
       "  </tbody>\n",
       "</table>\n",
       "</div>"
      ],
      "text/plain": [
       "   point_id                           point       date datapoint_id  p-a  \\\n",
       "0       p01   POINT (579166.78 4742872.701) 2019-01-25          d01    1   \n",
       "1       p03  POINT (548599.876 4742700.214) 2019-01-25          d03    1   \n",
       "2       p04  POINT (520909.741 4714855.058) 2019-02-02          d04    1   \n",
       "3       p05  POINT (532548.249 4714899.835) 2019-02-02          d05    1   \n",
       "4       p07   POINT (504710.41 4705553.392) 2019-02-02          d07    1   \n",
       "5       p08  POINT (654449.136 4716189.584) 2019-02-05          d08    1   \n",
       "6       p10   POINT (643532.681 4716066.52) 2019-02-05          d10    1   \n",
       "7       p11  POINT (629124.489 4706545.106) 2019-02-05          d11    1   \n",
       "8       p13  POINT (611976.857 4696974.111) 2019-02-05          d13    1   \n",
       "9       a03  POINT (565621.431 4742804.724) 2019-01-25          NaN    0   \n",
       "10      a05   POINT (507213.39 4742532.516) 2019-01-25          NaN    0   \n",
       "11      a07  POINT (552178.978 4715019.542) 2019-02-02          NaN    0   \n",
       "12      a08  POINT (563109.913 4715092.475) 2019-02-02          NaN    0   \n",
       "13      a10  POINT (573966.357 4715106.294) 2019-02-02          NaN    0   \n",
       "14      a12  POINT (594775.035 4715211.303) 2019-02-02          NaN    0   \n",
       "15      a15  POINT (584820.656 4705975.922) 2019-02-02          NaN    0   \n",
       "16      a17  POINT (569166.578 4705913.986) 2019-02-02          NaN    0   \n",
       "17      a21  POINT (557580.905 4705827.483) 2019-02-02          NaN    0   \n",
       "18      a24  POINT (656697.331 4742515.485) 2019-02-05          NaN    0   \n",
       "19      a30  POINT (644827.673 4734590.684) 2019-02-05          NaN    0   \n",
       "20      a35  POINT (632710.907 4734364.971) 2019-02-05          NaN    0   \n",
       "21      a37   POINT (613882.903 4734028.83) 2019-02-05          NaN    0   \n",
       "22      a39  POINT (604059.252 4724543.951) 2019-02-05          NaN    0   \n",
       "23      a41  POINT (612606.269 4715496.332) 2019-02-05          NaN    0   \n",
       "24      a44  POINT (605347.818 4706067.647) 2019-02-05          NaN    0   \n",
       "25      a47  POINT (653756.555 4697689.687) 2019-02-05          NaN    0   \n",
       "26      a48  POINT (642719.311 4697534.437) 2019-02-05          NaN    0   \n",
       "27      a51  POINT (577864.908 4733622.144) 2019-03-03          NaN    0   \n",
       "28      a52  POINT (567582.709 4733569.405) 2019-03-03          NaN    0   \n",
       "29      a56  POINT (538773.086 4733439.769) 2019-03-03          NaN    0   \n",
       "30      a58  POINT (523468.942 4733351.933) 2019-03-03          NaN    0   \n",
       "31      a62  POINT (513421.958 4733300.153) 2019-03-03          NaN    0   \n",
       "32      a65  POINT (503405.446 4733257.382) 2019-03-03          NaN    0   \n",
       "\n",
       "    individuals section_id           dfbs  \n",
       "0           1.0        NaN            NaN  \n",
       "1           5.0        NaN            NaN  \n",
       "2           1.0        NaN            NaN  \n",
       "3           2.0        NaN            NaN  \n",
       "4           3.0        NaN            NaN  \n",
       "5           5.0        NaN            NaN  \n",
       "6           1.0        NaN            NaN  \n",
       "7           3.0        NaN            NaN  \n",
       "8           4.0        NaN            NaN  \n",
       "9           NaN         s1   14473.274720  \n",
       "10          NaN         s1   72886.019600  \n",
       "11          NaN         s3  224388.704605  \n",
       "12          NaN         s3  235321.177800  \n",
       "13          NaN         s3  246179.350011  \n",
       "14          NaN         s3  266991.979410  \n",
       "15          NaN         s3  290353.442088  \n",
       "16          NaN         s3  306009.964187  \n",
       "17          NaN         s3  317596.474338  \n",
       "18          NaN         s4  383622.760224  \n",
       "19          NaN         s4  403037.337858  \n",
       "20          NaN         s4  415156.610165  \n",
       "21          NaN         s4  433991.759160  \n",
       "22          NaN         s4  455969.740310  \n",
       "23          NaN         s4  562361.428414  \n",
       "24          NaN         s4  583121.642451  \n",
       "25          NaN         s4  647608.433230  \n",
       "26          NaN         s4  658648.346360  \n",
       "27          NaN         s2   95070.852977  \n",
       "28          NaN         s2  105354.156647  \n",
       "29          NaN         s2  134165.861261  \n",
       "30          NaN         s2  149470.669315  \n",
       "31          NaN         s2  159519.128394  \n",
       "32          NaN         s2  169536.364734  "
      ]
     },
     "execution_count": 25,
     "metadata": {},
     "output_type": "execute_result"
    }
   ],
   "source": [
    "u_samples.samples"
   ]
  },
  {
   "cell_type": "markdown",
   "id": "ad3c05c6-6757-4aea-bfe7-247d73eb306e",
   "metadata": {},
   "source": [
    "The second CSV should contain the parameters, like those shown in the box below (but arranged in a table). This information may prove useful if, later, we need to know  how the samples were generated."
   ]
  },
  {
   "cell_type": "code",
   "execution_count": 26,
   "id": "8bbf5454-f754-4f76-8ac1-5fff9cfeee48",
   "metadata": {},
   "outputs": [
    {
     "data": {
      "text/plain": [
       "{'approach': 'point',\n",
       " 'resampled': 'datapoints',\n",
       " 'presences_name': 'presences-sightings',\n",
       " 'presences_crs': 'EPSG:32619',\n",
       " 'absences_name': 'absences-as-10000m-5day',\n",
       " 'absences_var': 'along',\n",
       " 'absences_target': 65,\n",
       " 'presencezones_crs': 'EPSG:32619',\n",
       " 'presencezones_sp_threshold': 10000,\n",
       " 'presencezones_tm_threshold': 5,\n",
       " 'presencezones_tm_unit': 'day',\n",
       " 'sp_threshold': 10000,\n",
       " 'tm_threshold': 5,\n",
       " 'tm_unit': 'day'}"
      ]
     },
     "execution_count": 26,
     "metadata": {},
     "output_type": "execute_result"
    }
   ],
   "source": [
    "u_samples.parameters"
   ]
  }
 ],
 "metadata": {
  "kernelspec": {
   "display_name": "Python 3 (ipykernel)",
   "language": "python",
   "name": "python3"
  },
  "language_info": {
   "codemirror_mode": {
    "name": "ipython",
    "version": 3
   },
   "file_extension": ".py",
   "mimetype": "text/x-python",
   "name": "python",
   "nbconvert_exporter": "python",
   "pygments_lexer": "ipython3",
   "version": "3.12.3"
  }
 },
 "nbformat": 4,
 "nbformat_minor": 5
}
