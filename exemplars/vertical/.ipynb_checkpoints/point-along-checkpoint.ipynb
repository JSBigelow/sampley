{
 "cells": [
  {
   "cell_type": "markdown",
   "id": "0de18513-ce8b-406b-88a8-772efd0bb0a3",
   "metadata": {},
   "source": [
    "# ```sampley``` exemplar: the point approach\n",
    "Before going through this exemplar, please consult the Introduction to sampley exemplars (```intro.ipynb```).\n",
    "<br>This exemplar illustrates an application of the point approach using the 'along-the-line' variation to data contained within two files: one containing survey tracks (```sections.gpkg```) and one containing sightings data (```sightings.gpkg```)."
   ]
  },
  {
   "cell_type": "markdown",
   "id": "a5f17978-8542-4d78-b4ac-cf397fc1a02d",
   "metadata": {},
   "source": [
    "## Setup"
   ]
  },
  {
   "cell_type": "markdown",
   "id": "c060e52d-229d-459d-b1cf-f2fe092a266a",
   "metadata": {},
   "source": [
    "### Import the package"
   ]
  },
  {
   "cell_type": "code",
   "execution_count": 1,
   "id": "00c26ed0-1dff-4b75-bcf2-0595373e7743",
   "metadata": {},
   "outputs": [],
   "source": [
    "from sampley import *"
   ]
  },
  {
   "cell_type": "markdown",
   "id": "27be2645-8e6a-4075-b8c2-03bb06933d2c",
   "metadata": {},
   "source": [
    "### Set the import folder\n",
    "To run this exemplar, download the mock data files, put them in a folder, and set the path to the folder below."
   ]
  },
  {
   "cell_type": "code",
   "execution_count": 2,
   "id": "3d64459c-8875-4e38-8d6d-1799dde2bd7f",
   "metadata": {},
   "outputs": [],
   "source": [
    "import_folder = './import/'"
   ]
  },
  {
   "cell_type": "markdown",
   "id": "dfc0fd50-7114-409d-b967-37aab373b342",
   "metadata": {},
   "source": [
    "### Set the export folder\n",
    "To run this exemplar, make a folder to save the samples in and set the path to the folder below."
   ]
  },
  {
   "cell_type": "code",
   "execution_count": 3,
   "id": "148a90c6-672f-4b04-8d3c-1464cd1b00d8",
   "metadata": {},
   "outputs": [],
   "source": [
    "export_folder = './export/'"
   ]
  },
  {
   "cell_type": "markdown",
   "id": "150c4663-8e42-40eb-8f7d-69935c3535ae",
   "metadata": {},
   "source": [
    "## Stage 1\n",
    "In Stage 1, we import two files (```sightings.csv``` and ```sections.gpkg```) and from them make a ```DataPoints``` and a ```Sections``` object, respectively.\n",
    "<br>Although we use a CSV file and a GPKG file in this exemplar, there are other options for file types (including XLSX and SHP files). Please see the Stage 1 exemplar (```stage-1.ipynb```) in the horizontal exemplars folder or the User Manual for more details. Note that, regardless of the imported file type, once any ```DataPoints``` and/or ```Sections``` objects have been made, the subsequent processing will be the same."
   ]
  },
  {
   "cell_type": "code",
   "execution_count": 4,
   "id": "47b0773f-9a44-432f-8d0f-1f96d44a9de3",
   "metadata": {},
   "outputs": [
    {
     "name": "stdout",
     "output_type": "stream",
     "text": [
      "Success: file opened.\n",
      "Success: X and Y coordinates parsed.\n",
      "Success: reprojected to CRS \"EPSG:32619\"\n",
      "Success: column \"datetime\" reformatted to datetimes.\n",
      "Success: timezone of column \"datetime\" set to \"UTC-05:00\".\n",
      "Success: datapoint IDs generated.\n"
     ]
    }
   ],
   "source": [
    "u_sightings = DataPoints.from_file(\n",
    "    filepath=import_folder+'sightings.csv',\n",
    "    x_col='lon',\n",
    "    y_col='lat',\n",
    "    crs_import='EPSG:4326',\n",
    "    crs_working='EPSG:32619',\n",
    "    datetime_col='datetime',\n",
    "    tz_import='UTC-05:00'\n",
    ")"
   ]
  },
  {
   "cell_type": "code",
   "execution_count": 5,
   "id": "1aa95957-403d-481e-912c-b70bb5e48764",
   "metadata": {},
   "outputs": [
    {
     "name": "stdout",
     "output_type": "stream",
     "text": [
      "Success: file opened.\n",
      "Success: reprojected to CRS \"EPSG:32619\"\n",
      "Success: column \"datetime\" reformatted to datetimes.\n",
      "Success: timezone of column \"datetime\" set to \"UTC-05:00\".\n",
      "Success: section IDs generated.\n"
     ]
    }
   ],
   "source": [
    "u_sections = Sections.from_file(\n",
    "    filepath=import_folder+'sections.gpkg',\n",
    "    crs_working='EPSG:32619',\n",
    "    datetime_col='datetime',\n",
    "    tz_import='UTC-05:00'\n",
    ")"
   ]
  },
  {
   "cell_type": "markdown",
   "id": "04b82487-2a6d-454c-9245-7ae7d46e121f",
   "metadata": {},
   "source": [
    "## Stage 2\n",
    "In the first part of Stage 2, we use the ```DataPoints``` object containing sightings data to make a ```Presences``` object (```u_presences```)."
   ]
  },
  {
   "cell_type": "code",
   "execution_count": 6,
   "id": "e3884378-4a1a-4258-afce-1e212d309710",
   "metadata": {},
   "outputs": [],
   "source": [
    "u_presences = Presences.delimit(\n",
    "    datapoints=u_sightings,\n",
    "    presence_col='individuals')"
   ]
  },
  {
   "cell_type": "code",
   "execution_count": 7,
   "id": "c21f9f99-e03c-4725-b7e9-5291b6037254",
   "metadata": {},
   "outputs": [
    {
     "data": {
      "text/html": [
       "<div>\n",
       "<style scoped>\n",
       "    .dataframe tbody tr th:only-of-type {\n",
       "        vertical-align: middle;\n",
       "    }\n",
       "\n",
       "    .dataframe tbody tr th {\n",
       "        vertical-align: top;\n",
       "    }\n",
       "\n",
       "    .dataframe thead th {\n",
       "        text-align: right;\n",
       "    }\n",
       "</style>\n",
       "<table border=\"1\" class=\"dataframe\">\n",
       "  <thead>\n",
       "    <tr style=\"text-align: right;\">\n",
       "      <th></th>\n",
       "      <th>point_id</th>\n",
       "      <th>point</th>\n",
       "      <th>date</th>\n",
       "      <th>datapoint_id</th>\n",
       "    </tr>\n",
       "  </thead>\n",
       "  <tbody>\n",
       "    <tr>\n",
       "      <th>0</th>\n",
       "      <td>p01</td>\n",
       "      <td>POINT (579166.78 4742872.701)</td>\n",
       "      <td>2019-01-25</td>\n",
       "      <td>d01</td>\n",
       "    </tr>\n",
       "    <tr>\n",
       "      <th>1</th>\n",
       "      <td>p02</td>\n",
       "      <td>POINT (554184.217 4742741.886)</td>\n",
       "      <td>2019-01-25</td>\n",
       "      <td>d02</td>\n",
       "    </tr>\n",
       "    <tr>\n",
       "      <th>2</th>\n",
       "      <td>p03</td>\n",
       "      <td>POINT (548599.876 4742700.214)</td>\n",
       "      <td>2019-01-25</td>\n",
       "      <td>d03</td>\n",
       "    </tr>\n",
       "    <tr>\n",
       "      <th>3</th>\n",
       "      <td>p04</td>\n",
       "      <td>POINT (520909.741 4714855.058)</td>\n",
       "      <td>2019-03-02</td>\n",
       "      <td>d04</td>\n",
       "    </tr>\n",
       "    <tr>\n",
       "      <th>4</th>\n",
       "      <td>p05</td>\n",
       "      <td>POINT (532548.249 4714899.835)</td>\n",
       "      <td>2019-03-02</td>\n",
       "      <td>d05</td>\n",
       "    </tr>\n",
       "  </tbody>\n",
       "</table>\n",
       "</div>"
      ],
      "text/plain": [
       "  point_id                           point       date datapoint_id\n",
       "0      p01   POINT (579166.78 4742872.701) 2019-01-25          d01\n",
       "1      p02  POINT (554184.217 4742741.886) 2019-01-25          d02\n",
       "2      p03  POINT (548599.876 4742700.214) 2019-01-25          d03\n",
       "3      p04  POINT (520909.741 4714855.058) 2019-03-02          d04\n",
       "4      p05  POINT (532548.249 4714899.835) 2019-03-02          d05"
      ]
     },
     "execution_count": 7,
     "metadata": {},
     "output_type": "execute_result"
    }
   ],
   "source": [
    "u_presences.presences[:5]  # print the first five rows of the presences GeoDataFrame"
   ]
  },
  {
   "cell_type": "code",
   "execution_count": 8,
   "id": "3abbdddf-8d66-4ed5-8512-945f2b8a82b7",
   "metadata": {},
   "outputs": [
    {
     "data": {
      "image/png": "[encoded data removed]",
      "text/plain": [
       "<Figure size 1600x800 with 1 Axes>"
      ]
     },
     "metadata": {},
     "output_type": "display_data"
    }
   ],
   "source": [
    "u_presences.plot()  # plot the presences"
   ]
  },
  {
   "cell_type": "markdown",
   "id": "7884ed33-d75a-429f-843a-0f51a51e2af4",
   "metadata": {},
   "source": [
    "Then, we use the ```Presences``` object and the ```Sections``` object to make a ```PresenceZones``` object (```u_presencezones```) based on a spatial threshold of 10000 m and a temporal threshold of 5 days."
   ]
  },
  {
   "cell_type": "code",
   "execution_count": 9,
   "id": "8a7016c3-8fee-4159-a729-abd37c184d19",
   "metadata": {},
   "outputs": [],
   "source": [
    "u_presencezones = PresenceZones.delimit(\n",
    "    sections=u_sections,\n",
    "    presences=u_presences,\n",
    "    sp_threshold=10000,\n",
    "    tm_threshold=5,\n",
    "    tm_unit='day',\n",
    ")"
   ]
  },
  {
   "cell_type": "code",
   "execution_count": 10,
   "id": "5e3aa41f-1e68-4a2f-bc52-f070a16f0610",
   "metadata": {},
   "outputs": [
    {
     "data": {
      "text/html": [
       "<div>\n",
       "<style scoped>\n",
       "    .dataframe tbody tr th:only-of-type {\n",
       "        vertical-align: middle;\n",
       "    }\n",
       "\n",
       "    .dataframe tbody tr th {\n",
       "        vertical-align: top;\n",
       "    }\n",
       "\n",
       "    .dataframe thead th {\n",
       "        text-align: right;\n",
       "    }\n",
       "</style>\n",
       "<table border=\"1\" class=\"dataframe\">\n",
       "  <thead>\n",
       "    <tr style=\"text-align: right;\">\n",
       "      <th></th>\n",
       "      <th>section_id</th>\n",
       "      <th>presencezones</th>\n",
       "    </tr>\n",
       "  </thead>\n",
       "  <tbody>\n",
       "    <tr>\n",
       "      <th>0</th>\n",
       "      <td>s1</td>\n",
       "      <td>MULTIPOLYGON (((550550.779 4732892.362, 549580...</td>\n",
       "    </tr>\n",
       "    <tr>\n",
       "      <th>1</th>\n",
       "      <td>s2</td>\n",
       "      <td>MULTIPOLYGON (((550550.779 4732892.362, 549580...</td>\n",
       "    </tr>\n",
       "    <tr>\n",
       "      <th>2</th>\n",
       "      <td>s3</td>\n",
       "      <td>MULTIPOLYGON (((613927.76 4687166.258, 612957....</td>\n",
       "    </tr>\n",
       "    <tr>\n",
       "      <th>3</th>\n",
       "      <td>s4</td>\n",
       "      <td>MULTIPOLYGON (((613927.76 4687166.258, 612957....</td>\n",
       "    </tr>\n",
       "  </tbody>\n",
       "</table>\n",
       "</div>"
      ],
      "text/plain": [
       "  section_id                                      presencezones\n",
       "0         s1  MULTIPOLYGON (((550550.779 4732892.362, 549580...\n",
       "1         s2  MULTIPOLYGON (((550550.779 4732892.362, 549580...\n",
       "2         s3  MULTIPOLYGON (((613927.76 4687166.258, 612957....\n",
       "3         s4  MULTIPOLYGON (((613927.76 4687166.258, 612957...."
      ]
     },
     "execution_count": 10,
     "metadata": {},
     "output_type": "execute_result"
    }
   ],
   "source": [
    "u_presencezones.presencezones  # print the presence zones GeoDataFrame"
   ]
  },
  {
   "cell_type": "code",
   "execution_count": 11,
   "id": "fbda9666-3cec-453c-8653-c888dd678ec2",
   "metadata": {},
   "outputs": [
    {
     "data": {
      "image/png": "[encoded data removed]",
      "text/plain": [
       "<Figure size 1600x800 with 1 Axes>"
      ]
     },
     "metadata": {},
     "output_type": "display_data"
    }
   ],
   "source": [
    "u_presencezones.plot(sections=u_sections)  # plot the presence zones (in blue) over the sections (in grey)"
   ]
  },
  {
   "cell_type": "markdown",
   "id": "ee57db6a-f208-4cc8-8150-3e6c175b1f7e",
   "metadata": {},
   "source": [
    "Finally, we use the ```Sections``` object and the ```PresenceZones``` object to make an ```Absences``` object (```u_absences```).\n",
    "<br>Note that the target number of absences to generate is set to five times the number of presences."
   ]
  },
  {
   "cell_type": "code",
   "execution_count": 12,
   "id": "c60c8b8c-06f9-4e64-b694-e58e3a801aca",
   "metadata": {},
   "outputs": [
    {
     "name": "stdout",
     "output_type": "stream",
     "text": [
      "Target: 65 | Attempts: 114 | Successes: 65\n"
     ]
    }
   ],
   "source": [
    "u_absences = Absences.delimit(\n",
    "    sections=u_sections,\n",
    "    presencezones=u_presencezones,\n",
    "    var='along',\n",
    "    target=5*len(u_presences.presences))"
   ]
  },
  {
   "cell_type": "code",
   "execution_count": 13,
   "id": "87dae20c-a10f-4a60-b485-c7d1356e79ff",
   "metadata": {},
   "outputs": [
    {
     "data": {
      "text/html": [
       "<div>\n",
       "<style scoped>\n",
       "    .dataframe tbody tr th:only-of-type {\n",
       "        vertical-align: middle;\n",
       "    }\n",
       "\n",
       "    .dataframe tbody tr th {\n",
       "        vertical-align: top;\n",
       "    }\n",
       "\n",
       "    .dataframe thead th {\n",
       "        text-align: right;\n",
       "    }\n",
       "</style>\n",
       "<table border=\"1\" class=\"dataframe\">\n",
       "  <thead>\n",
       "    <tr style=\"text-align: right;\">\n",
       "      <th></th>\n",
       "      <th>point_id</th>\n",
       "      <th>point</th>\n",
       "      <th>date</th>\n",
       "      <th>section_id</th>\n",
       "      <th>dfbs</th>\n",
       "    </tr>\n",
       "  </thead>\n",
       "  <tbody>\n",
       "    <tr>\n",
       "      <th>0</th>\n",
       "      <td>a01</td>\n",
       "      <td>POINT (534703.21 4742635.051)</td>\n",
       "      <td>2019-01-25</td>\n",
       "      <td>s1</td>\n",
       "      <td>45393.961102</td>\n",
       "    </tr>\n",
       "    <tr>\n",
       "      <th>1</th>\n",
       "      <td>a02</td>\n",
       "      <td>POINT (523241.564 4742605.711)</td>\n",
       "      <td>2019-01-25</td>\n",
       "      <td>s1</td>\n",
       "      <td>56856.922386</td>\n",
       "    </tr>\n",
       "    <tr>\n",
       "      <th>2</th>\n",
       "      <td>a03</td>\n",
       "      <td>POINT (520258.143 4742596.287)</td>\n",
       "      <td>2019-01-25</td>\n",
       "      <td>s1</td>\n",
       "      <td>59840.358714</td>\n",
       "    </tr>\n",
       "    <tr>\n",
       "      <th>3</th>\n",
       "      <td>a04</td>\n",
       "      <td>POINT (514946.155 4742582.711)</td>\n",
       "      <td>2019-01-25</td>\n",
       "      <td>s1</td>\n",
       "      <td>65152.364320</td>\n",
       "    </tr>\n",
       "    <tr>\n",
       "      <th>4</th>\n",
       "      <td>a05</td>\n",
       "      <td>POINT (511838.332 4742557.79)</td>\n",
       "      <td>2019-01-25</td>\n",
       "      <td>s1</td>\n",
       "      <td>68260.666350</td>\n",
       "    </tr>\n",
       "  </tbody>\n",
       "</table>\n",
       "</div>"
      ],
      "text/plain": [
       "  point_id                           point       date section_id          dfbs\n",
       "0      a01   POINT (534703.21 4742635.051) 2019-01-25         s1  45393.961102\n",
       "1      a02  POINT (523241.564 4742605.711) 2019-01-25         s1  56856.922386\n",
       "2      a03  POINT (520258.143 4742596.287) 2019-01-25         s1  59840.358714\n",
       "3      a04  POINT (514946.155 4742582.711) 2019-01-25         s1  65152.364320\n",
       "4      a05   POINT (511838.332 4742557.79) 2019-01-25         s1  68260.666350"
      ]
     },
     "execution_count": 13,
     "metadata": {},
     "output_type": "execute_result"
    }
   ],
   "source": [
    "u_absences.absences[:5]  # print the first five rows of the absences GeoDataFrame"
   ]
  },
  {
   "cell_type": "code",
   "execution_count": 14,
   "id": "d4e04ab3-08ee-4fb7-89d2-17915b026881",
   "metadata": {},
   "outputs": [
    {
     "data": {
      "image/png": "[encoded data removed]",
      "text/plain": [
       "<Figure size 1600x800 with 1 Axes>"
      ]
     },
     "metadata": {},
     "output_type": "display_data"
    }
   ],
   "source": [
    "u_absences.plot()  # plot the absences"
   ]
  },
  {
   "cell_type": "markdown",
   "id": "a6279b83-729a-4da0-b5e2-b749949181e2",
   "metadata": {},
   "source": [
    "## Stage 3\n",
    "In Stage 3, we make a ```Samples``` object from the ```Presences``` object and the ```Absences``` object. We also import the ```DataPoints``` object that contains the data to assign to the presences and a list of the data columns to assign.\n",
    "<br>_Note that assigning data to the absences is not possible given the imported data. It is only possible if the absences are made from sections that are made from continuous datapoints (see the ```point-continuous.ipynb``` exemplar)._"
   ]
  },
  {
   "cell_type": "code",
   "execution_count": 15,
   "id": "143c6565-1cf6-418a-8392-d3f312d557eb",
   "metadata": {},
   "outputs": [],
   "source": [
    "u_samples = Samples.point(\n",
    "    presences=u_presences,\n",
    "    absences=u_absences,\n",
    "    datapoints_p=u_sightings,  # DataPoints object containing data to assign to the presences\n",
    "    cols_p=['individuals'])  # data columns in datapoints_p to assign to the presences"
   ]
  },
  {
   "cell_type": "code",
   "execution_count": 16,
   "id": "732e1e92-51fc-4920-8dbd-4baf9286e17a",
   "metadata": {},
   "outputs": [
    {
     "name": "stdout",
     "output_type": "stream",
     "text": [
      "Number of samples: 78\n"
     ]
    }
   ],
   "source": [
    "print(f'Number of samples: {len(u_samples.samples)}')"
   ]
  },
  {
   "cell_type": "code",
   "execution_count": 17,
   "id": "cdfbe6c2-260f-4b54-89a0-10baef941ee8",
   "metadata": {},
   "outputs": [
    {
     "data": {
      "text/html": [
       "<div>\n",
       "<style scoped>\n",
       "    .dataframe tbody tr th:only-of-type {\n",
       "        vertical-align: middle;\n",
       "    }\n",
       "\n",
       "    .dataframe tbody tr th {\n",
       "        vertical-align: top;\n",
       "    }\n",
       "\n",
       "    .dataframe thead th {\n",
       "        text-align: right;\n",
       "    }\n",
       "</style>\n",
       "<table border=\"1\" class=\"dataframe\">\n",
       "  <thead>\n",
       "    <tr style=\"text-align: right;\">\n",
       "      <th></th>\n",
       "      <th>point_id</th>\n",
       "      <th>point</th>\n",
       "      <th>date</th>\n",
       "      <th>datapoint_id</th>\n",
       "      <th>p-a</th>\n",
       "      <th>individuals</th>\n",
       "      <th>section_id</th>\n",
       "      <th>dfbs</th>\n",
       "    </tr>\n",
       "  </thead>\n",
       "  <tbody>\n",
       "    <tr>\n",
       "      <th>0</th>\n",
       "      <td>p01</td>\n",
       "      <td>POINT (579166.78 4742872.701)</td>\n",
       "      <td>2019-01-25</td>\n",
       "      <td>d01</td>\n",
       "      <td>1</td>\n",
       "      <td>1.0</td>\n",
       "      <td>NaN</td>\n",
       "      <td>NaN</td>\n",
       "    </tr>\n",
       "    <tr>\n",
       "      <th>1</th>\n",
       "      <td>p02</td>\n",
       "      <td>POINT (554184.217 4742741.886)</td>\n",
       "      <td>2019-01-25</td>\n",
       "      <td>d02</td>\n",
       "      <td>1</td>\n",
       "      <td>2.0</td>\n",
       "      <td>NaN</td>\n",
       "      <td>NaN</td>\n",
       "    </tr>\n",
       "    <tr>\n",
       "      <th>2</th>\n",
       "      <td>p03</td>\n",
       "      <td>POINT (548599.876 4742700.214)</td>\n",
       "      <td>2019-01-25</td>\n",
       "      <td>d03</td>\n",
       "      <td>1</td>\n",
       "      <td>5.0</td>\n",
       "      <td>NaN</td>\n",
       "      <td>NaN</td>\n",
       "    </tr>\n",
       "    <tr>\n",
       "      <th>3</th>\n",
       "      <td>p04</td>\n",
       "      <td>POINT (520909.741 4714855.058)</td>\n",
       "      <td>2019-03-02</td>\n",
       "      <td>d04</td>\n",
       "      <td>1</td>\n",
       "      <td>1.0</td>\n",
       "      <td>NaN</td>\n",
       "      <td>NaN</td>\n",
       "    </tr>\n",
       "    <tr>\n",
       "      <th>4</th>\n",
       "      <td>p05</td>\n",
       "      <td>POINT (532548.249 4714899.835)</td>\n",
       "      <td>2019-03-02</td>\n",
       "      <td>d05</td>\n",
       "      <td>1</td>\n",
       "      <td>2.0</td>\n",
       "      <td>NaN</td>\n",
       "      <td>NaN</td>\n",
       "    </tr>\n",
       "  </tbody>\n",
       "</table>\n",
       "</div>"
      ],
      "text/plain": [
       "  point_id                           point       date datapoint_id  p-a  \\\n",
       "0      p01   POINT (579166.78 4742872.701) 2019-01-25          d01    1   \n",
       "1      p02  POINT (554184.217 4742741.886) 2019-01-25          d02    1   \n",
       "2      p03  POINT (548599.876 4742700.214) 2019-01-25          d03    1   \n",
       "3      p04  POINT (520909.741 4714855.058) 2019-03-02          d04    1   \n",
       "4      p05  POINT (532548.249 4714899.835) 2019-03-02          d05    1   \n",
       "\n",
       "   individuals section_id  dfbs  \n",
       "0          1.0        NaN   NaN  \n",
       "1          2.0        NaN   NaN  \n",
       "2          5.0        NaN   NaN  \n",
       "3          1.0        NaN   NaN  \n",
       "4          2.0        NaN   NaN  "
      ]
     },
     "execution_count": 17,
     "metadata": {},
     "output_type": "execute_result"
    }
   ],
   "source": [
    "u_samples.samples[:5]  # print the first five rows of the samples GeoDataFrame"
   ]
  },
  {
   "cell_type": "markdown",
   "id": "084d2b45-d195-4e92-83a8-374d1fd49a94",
   "metadata": {},
   "source": [
    "We know that, due to the presence zones, no absence will be within the spatial and temporal thresholds of a presence, however, by looking at the plots of the presences in Stage 2 above, we may see that some of the presences are close to other presences. The same applies to the absences. This may lead to issues associated with autocorrelation.\n",
    "<br>So, here, we thin the samples with a spatial threshold of 10000 m and a temporal threshold of 5 days, resulting in 25 samples that are kept (within the ```samples``` attribute)."
   ]
  },
  {
   "cell_type": "code",
   "execution_count": 18,
   "id": "9c0378bb-675d-49da-aeaa-20ef09339629",
   "metadata": {},
   "outputs": [],
   "source": [
    "u_samples.thin(\n",
    "    coords='point', \n",
    "    sp_threshold=10000,\n",
    "    datetimes='date',\n",
    "    tm_threshold=5,\n",
    "    tm_unit='day'\n",
    ")"
   ]
  },
  {
   "cell_type": "code",
   "execution_count": 19,
   "id": "26fa1a9a-8192-4e77-ab20-b2f267b2d587",
   "metadata": {},
   "outputs": [
    {
     "name": "stdout",
     "output_type": "stream",
     "text": [
      "Number of samples kept: 33\n"
     ]
    }
   ],
   "source": [
    "print(f'Number of samples kept: {len(u_samples.samples)}')"
   ]
  },
  {
   "cell_type": "code",
   "execution_count": 20,
   "id": "4ba2b7a3-8f11-4595-9dbf-d1f1c6f3c36c",
   "metadata": {},
   "outputs": [
    {
     "data": {
      "text/html": [
       "<div>\n",
       "<style scoped>\n",
       "    .dataframe tbody tr th:only-of-type {\n",
       "        vertical-align: middle;\n",
       "    }\n",
       "\n",
       "    .dataframe tbody tr th {\n",
       "        vertical-align: top;\n",
       "    }\n",
       "\n",
       "    .dataframe thead th {\n",
       "        text-align: right;\n",
       "    }\n",
       "</style>\n",
       "<table border=\"1\" class=\"dataframe\">\n",
       "  <thead>\n",
       "    <tr style=\"text-align: right;\">\n",
       "      <th></th>\n",
       "      <th>point_id</th>\n",
       "      <th>point</th>\n",
       "      <th>date</th>\n",
       "      <th>datapoint_id</th>\n",
       "      <th>p-a</th>\n",
       "      <th>individuals</th>\n",
       "      <th>section_id</th>\n",
       "      <th>dfbs</th>\n",
       "    </tr>\n",
       "  </thead>\n",
       "  <tbody>\n",
       "    <tr>\n",
       "      <th>0</th>\n",
       "      <td>p01</td>\n",
       "      <td>POINT (579166.78 4742872.701)</td>\n",
       "      <td>2019-01-25</td>\n",
       "      <td>d01</td>\n",
       "      <td>1</td>\n",
       "      <td>1.0</td>\n",
       "      <td>NaN</td>\n",
       "      <td>NaN</td>\n",
       "    </tr>\n",
       "    <tr>\n",
       "      <th>1</th>\n",
       "      <td>p02</td>\n",
       "      <td>POINT (554184.217 4742741.886)</td>\n",
       "      <td>2019-01-25</td>\n",
       "      <td>d02</td>\n",
       "      <td>1</td>\n",
       "      <td>2.0</td>\n",
       "      <td>NaN</td>\n",
       "      <td>NaN</td>\n",
       "    </tr>\n",
       "    <tr>\n",
       "      <th>2</th>\n",
       "      <td>p04</td>\n",
       "      <td>POINT (520909.741 4714855.058)</td>\n",
       "      <td>2019-03-02</td>\n",
       "      <td>d04</td>\n",
       "      <td>1</td>\n",
       "      <td>1.0</td>\n",
       "      <td>NaN</td>\n",
       "      <td>NaN</td>\n",
       "    </tr>\n",
       "    <tr>\n",
       "      <th>3</th>\n",
       "      <td>p05</td>\n",
       "      <td>POINT (532548.249 4714899.835)</td>\n",
       "      <td>2019-03-02</td>\n",
       "      <td>d05</td>\n",
       "      <td>1</td>\n",
       "      <td>2.0</td>\n",
       "      <td>NaN</td>\n",
       "      <td>NaN</td>\n",
       "    </tr>\n",
       "    <tr>\n",
       "      <th>4</th>\n",
       "      <td>p06</td>\n",
       "      <td>POINT (512817.407 4705582.465)</td>\n",
       "      <td>2019-03-02</td>\n",
       "      <td>d06</td>\n",
       "      <td>1</td>\n",
       "      <td>1.0</td>\n",
       "      <td>NaN</td>\n",
       "      <td>NaN</td>\n",
       "    </tr>\n",
       "  </tbody>\n",
       "</table>\n",
       "</div>"
      ],
      "text/plain": [
       "  point_id                           point       date datapoint_id  p-a  \\\n",
       "0      p01   POINT (579166.78 4742872.701) 2019-01-25          d01    1   \n",
       "1      p02  POINT (554184.217 4742741.886) 2019-01-25          d02    1   \n",
       "2      p04  POINT (520909.741 4714855.058) 2019-03-02          d04    1   \n",
       "3      p05  POINT (532548.249 4714899.835) 2019-03-02          d05    1   \n",
       "4      p06  POINT (512817.407 4705582.465) 2019-03-02          d06    1   \n",
       "\n",
       "   individuals section_id  dfbs  \n",
       "0          1.0        NaN   NaN  \n",
       "1          2.0        NaN   NaN  \n",
       "2          1.0        NaN   NaN  \n",
       "3          2.0        NaN   NaN  \n",
       "4          1.0        NaN   NaN  "
      ]
     },
     "execution_count": 20,
     "metadata": {},
     "output_type": "execute_result"
    }
   ],
   "source": [
    "u_samples.samples[:5]  # print the first five rows of the samples GeoDataFrame"
   ]
  },
  {
   "cell_type": "markdown",
   "id": "cbf319e9-70a6-4b94-a29f-4016478d4dac",
   "metadata": {},
   "source": [
    "Those samples that were removed by thinning are now in a new attribute: ```removed```."
   ]
  },
  {
   "cell_type": "code",
   "execution_count": 21,
   "id": "52f5ea7e-5332-4b31-8cb7-e49a2d0deafd",
   "metadata": {},
   "outputs": [
    {
     "name": "stdout",
     "output_type": "stream",
     "text": [
      "Number of samples removed: 45\n"
     ]
    }
   ],
   "source": [
    "print(f'Number of samples removed: {len(u_samples.removed)}')"
   ]
  },
  {
   "cell_type": "code",
   "execution_count": 22,
   "id": "dd20f3fa-466d-468d-81ff-42b66ad22f23",
   "metadata": {},
   "outputs": [
    {
     "data": {
      "text/html": [
       "<div>\n",
       "<style scoped>\n",
       "    .dataframe tbody tr th:only-of-type {\n",
       "        vertical-align: middle;\n",
       "    }\n",
       "\n",
       "    .dataframe tbody tr th {\n",
       "        vertical-align: top;\n",
       "    }\n",
       "\n",
       "    .dataframe thead th {\n",
       "        text-align: right;\n",
       "    }\n",
       "</style>\n",
       "<table border=\"1\" class=\"dataframe\">\n",
       "  <thead>\n",
       "    <tr style=\"text-align: right;\">\n",
       "      <th></th>\n",
       "      <th>point_id</th>\n",
       "      <th>point</th>\n",
       "      <th>date</th>\n",
       "      <th>datapoint_id</th>\n",
       "      <th>p-a</th>\n",
       "      <th>individuals</th>\n",
       "      <th>section_id</th>\n",
       "      <th>dfbs</th>\n",
       "    </tr>\n",
       "  </thead>\n",
       "  <tbody>\n",
       "    <tr>\n",
       "      <th>0</th>\n",
       "      <td>p03</td>\n",
       "      <td>POINT (548599.876 4742700.214)</td>\n",
       "      <td>2019-01-25</td>\n",
       "      <td>d03</td>\n",
       "      <td>1</td>\n",
       "      <td>5.0</td>\n",
       "      <td>NaN</td>\n",
       "      <td>NaN</td>\n",
       "    </tr>\n",
       "    <tr>\n",
       "      <th>1</th>\n",
       "      <td>p07</td>\n",
       "      <td>POINT (504710.41 4705553.392)</td>\n",
       "      <td>2019-03-02</td>\n",
       "      <td>d07</td>\n",
       "      <td>1</td>\n",
       "      <td>3.0</td>\n",
       "      <td>NaN</td>\n",
       "      <td>NaN</td>\n",
       "    </tr>\n",
       "    <tr>\n",
       "      <th>2</th>\n",
       "      <td>p09</td>\n",
       "      <td>POINT (645666.237 4716110.937)</td>\n",
       "      <td>2019-03-05</td>\n",
       "      <td>d09</td>\n",
       "      <td>1</td>\n",
       "      <td>2.0</td>\n",
       "      <td>NaN</td>\n",
       "      <td>NaN</td>\n",
       "    </tr>\n",
       "    <tr>\n",
       "      <th>3</th>\n",
       "      <td>p12</td>\n",
       "      <td>POINT (620560.818 4697116.949)</td>\n",
       "      <td>2019-03-05</td>\n",
       "      <td>d12</td>\n",
       "      <td>1</td>\n",
       "      <td>2.0</td>\n",
       "      <td>NaN</td>\n",
       "      <td>NaN</td>\n",
       "    </tr>\n",
       "    <tr>\n",
       "      <th>4</th>\n",
       "      <td>a03</td>\n",
       "      <td>POINT (520258.143 4742596.287)</td>\n",
       "      <td>2019-01-25</td>\n",
       "      <td>NaN</td>\n",
       "      <td>0</td>\n",
       "      <td>NaN</td>\n",
       "      <td>s1</td>\n",
       "      <td>59840.358714</td>\n",
       "    </tr>\n",
       "  </tbody>\n",
       "</table>\n",
       "</div>"
      ],
      "text/plain": [
       "  point_id                           point       date datapoint_id  p-a  \\\n",
       "0      p03  POINT (548599.876 4742700.214) 2019-01-25          d03    1   \n",
       "1      p07   POINT (504710.41 4705553.392) 2019-03-02          d07    1   \n",
       "2      p09  POINT (645666.237 4716110.937) 2019-03-05          d09    1   \n",
       "3      p12  POINT (620560.818 4697116.949) 2019-03-05          d12    1   \n",
       "4      a03  POINT (520258.143 4742596.287) 2019-01-25          NaN    0   \n",
       "\n",
       "   individuals section_id          dfbs  \n",
       "0          5.0        NaN           NaN  \n",
       "1          3.0        NaN           NaN  \n",
       "2          2.0        NaN           NaN  \n",
       "3          2.0        NaN           NaN  \n",
       "4          NaN         s1  59840.358714  "
      ]
     },
     "execution_count": 22,
     "metadata": {},
     "output_type": "execute_result"
    }
   ],
   "source": [
    "u_samples.removed[:5]  # print the first five rows of the removed samples GeoDataFrame"
   ]
  },
  {
   "cell_type": "markdown",
   "id": "c0828132-57e5-4637-b9f0-add13da45067",
   "metadata": {},
   "source": [
    "## Export\n",
    "Finally, we save the final ```Samples``` object to the export folder."
   ]
  },
  {
   "cell_type": "code",
   "execution_count": 23,
   "id": "1ffbf7cd-62b6-4be7-9188-2d583fb63532",
   "metadata": {},
   "outputs": [
    {
     "name": "stdout",
     "output_type": "stream",
     "text": [
      "Success: reprojected to CRS \"EPSG:4326\"\n"
     ]
    }
   ],
   "source": [
    "u_samples.save(\n",
    "    folder=export_folder,\n",
    "    filetype='csv',\n",
    "    crs_export='EPSG:4326'\n",
    ")"
   ]
  },
  {
   "cell_type": "markdown",
   "id": "973dc37e-0b4e-484a-a1f5-94cc21294aa7",
   "metadata": {},
   "source": [
    "In the export folder, there should be two new CSVs: the first should have the same name as the ```Samples``` object (run the box below to see the name) while the second should also have this name but with ```-parameters``` added at the end."
   ]
  },
  {
   "cell_type": "code",
   "execution_count": 24,
   "id": "595973a0-464e-4417-a612-f77f5d563745",
   "metadata": {},
   "outputs": [
    {
     "data": {
      "text/plain": [
       "'samples-presences-sightings-+-absences-as-10000m-5day'"
      ]
     },
     "execution_count": 24,
     "metadata": {},
     "output_type": "execute_result"
    }
   ],
   "source": [
    "u_samples.name"
   ]
  },
  {
   "cell_type": "markdown",
   "id": "7d2c11eb-6a31-4ee9-a489-8740f8fb1563",
   "metadata": {},
   "source": [
    "The first CSV should contain the samples, like those shown in the box below. \n",
    "<br>In this dataframe, each row represents a given presence or absence, i.e., a sample. \n",
    "<br>The column ```point``` delimits the location of the presence/absence.\n",
    "<br>In this particular example, the data columns are ```p-a``` (presence-absence), ```individuals```, and ```bss```."
   ]
  },
  {
   "cell_type": "code",
   "execution_count": 25,
   "id": "ea5f1e9a-64ca-48ac-9a2a-7c1b996ff940",
   "metadata": {},
   "outputs": [
    {
     "data": {
      "text/html": [
       "<div>\n",
       "<style scoped>\n",
       "    .dataframe tbody tr th:only-of-type {\n",
       "        vertical-align: middle;\n",
       "    }\n",
       "\n",
       "    .dataframe tbody tr th {\n",
       "        vertical-align: top;\n",
       "    }\n",
       "\n",
       "    .dataframe thead th {\n",
       "        text-align: right;\n",
       "    }\n",
       "</style>\n",
       "<table border=\"1\" class=\"dataframe\">\n",
       "  <thead>\n",
       "    <tr style=\"text-align: right;\">\n",
       "      <th></th>\n",
       "      <th>point_id</th>\n",
       "      <th>point</th>\n",
       "      <th>date</th>\n",
       "      <th>datapoint_id</th>\n",
       "      <th>p-a</th>\n",
       "      <th>individuals</th>\n",
       "      <th>section_id</th>\n",
       "      <th>dfbs</th>\n",
       "    </tr>\n",
       "  </thead>\n",
       "  <tbody>\n",
       "    <tr>\n",
       "      <th>0</th>\n",
       "      <td>p01</td>\n",
       "      <td>POINT (579166.78 4742872.701)</td>\n",
       "      <td>2019-01-25</td>\n",
       "      <td>d01</td>\n",
       "      <td>1</td>\n",
       "      <td>1.0</td>\n",
       "      <td>NaN</td>\n",
       "      <td>NaN</td>\n",
       "    </tr>\n",
       "    <tr>\n",
       "      <th>1</th>\n",
       "      <td>p02</td>\n",
       "      <td>POINT (554184.217 4742741.886)</td>\n",
       "      <td>2019-01-25</td>\n",
       "      <td>d02</td>\n",
       "      <td>1</td>\n",
       "      <td>2.0</td>\n",
       "      <td>NaN</td>\n",
       "      <td>NaN</td>\n",
       "    </tr>\n",
       "    <tr>\n",
       "      <th>2</th>\n",
       "      <td>p04</td>\n",
       "      <td>POINT (520909.741 4714855.058)</td>\n",
       "      <td>2019-03-02</td>\n",
       "      <td>d04</td>\n",
       "      <td>1</td>\n",
       "      <td>1.0</td>\n",
       "      <td>NaN</td>\n",
       "      <td>NaN</td>\n",
       "    </tr>\n",
       "    <tr>\n",
       "      <th>3</th>\n",
       "      <td>p05</td>\n",
       "      <td>POINT (532548.249 4714899.835)</td>\n",
       "      <td>2019-03-02</td>\n",
       "      <td>d05</td>\n",
       "      <td>1</td>\n",
       "      <td>2.0</td>\n",
       "      <td>NaN</td>\n",
       "      <td>NaN</td>\n",
       "    </tr>\n",
       "    <tr>\n",
       "      <th>4</th>\n",
       "      <td>p06</td>\n",
       "      <td>POINT (512817.407 4705582.465)</td>\n",
       "      <td>2019-03-02</td>\n",
       "      <td>d06</td>\n",
       "      <td>1</td>\n",
       "      <td>1.0</td>\n",
       "      <td>NaN</td>\n",
       "      <td>NaN</td>\n",
       "    </tr>\n",
       "    <tr>\n",
       "      <th>5</th>\n",
       "      <td>p08</td>\n",
       "      <td>POINT (654449.136 4716189.584)</td>\n",
       "      <td>2019-03-05</td>\n",
       "      <td>d08</td>\n",
       "      <td>1</td>\n",
       "      <td>5.0</td>\n",
       "      <td>NaN</td>\n",
       "      <td>NaN</td>\n",
       "    </tr>\n",
       "    <tr>\n",
       "      <th>6</th>\n",
       "      <td>p10</td>\n",
       "      <td>POINT (643532.681 4716066.52)</td>\n",
       "      <td>2019-03-05</td>\n",
       "      <td>d10</td>\n",
       "      <td>1</td>\n",
       "      <td>1.0</td>\n",
       "      <td>NaN</td>\n",
       "      <td>NaN</td>\n",
       "    </tr>\n",
       "    <tr>\n",
       "      <th>7</th>\n",
       "      <td>p11</td>\n",
       "      <td>POINT (629124.489 4706545.106)</td>\n",
       "      <td>2019-03-05</td>\n",
       "      <td>d11</td>\n",
       "      <td>1</td>\n",
       "      <td>3.0</td>\n",
       "      <td>NaN</td>\n",
       "      <td>NaN</td>\n",
       "    </tr>\n",
       "    <tr>\n",
       "      <th>8</th>\n",
       "      <td>p13</td>\n",
       "      <td>POINT (611976.857 4696974.111)</td>\n",
       "      <td>2019-03-05</td>\n",
       "      <td>d13</td>\n",
       "      <td>1</td>\n",
       "      <td>4.0</td>\n",
       "      <td>NaN</td>\n",
       "      <td>NaN</td>\n",
       "    </tr>\n",
       "    <tr>\n",
       "      <th>9</th>\n",
       "      <td>a01</td>\n",
       "      <td>POINT (534703.21 4742635.051)</td>\n",
       "      <td>2019-01-25</td>\n",
       "      <td>NaN</td>\n",
       "      <td>0</td>\n",
       "      <td>NaN</td>\n",
       "      <td>s1</td>\n",
       "      <td>45393.961102</td>\n",
       "    </tr>\n",
       "    <tr>\n",
       "      <th>10</th>\n",
       "      <td>a02</td>\n",
       "      <td>POINT (523241.564 4742605.711)</td>\n",
       "      <td>2019-01-25</td>\n",
       "      <td>NaN</td>\n",
       "      <td>0</td>\n",
       "      <td>NaN</td>\n",
       "      <td>s1</td>\n",
       "      <td>56856.922386</td>\n",
       "    </tr>\n",
       "    <tr>\n",
       "      <th>11</th>\n",
       "      <td>a06</td>\n",
       "      <td>POINT (506947.784 4742532.242)</td>\n",
       "      <td>2019-01-25</td>\n",
       "      <td>NaN</td>\n",
       "      <td>0</td>\n",
       "      <td>NaN</td>\n",
       "      <td>s1</td>\n",
       "      <td>73151.626115</td>\n",
       "    </tr>\n",
       "    <tr>\n",
       "      <th>12</th>\n",
       "      <td>a08</td>\n",
       "      <td>POINT (591725.363 4733699.016)</td>\n",
       "      <td>2019-01-30</td>\n",
       "      <td>NaN</td>\n",
       "      <td>0</td>\n",
       "      <td>NaN</td>\n",
       "      <td>s2</td>\n",
       "      <td>81208.448353</td>\n",
       "    </tr>\n",
       "    <tr>\n",
       "      <th>13</th>\n",
       "      <td>a09</td>\n",
       "      <td>POINT (560655.408 4733541.745)</td>\n",
       "      <td>2019-01-30</td>\n",
       "      <td>NaN</td>\n",
       "      <td>0</td>\n",
       "      <td>NaN</td>\n",
       "      <td>s2</td>\n",
       "      <td>112282.199317</td>\n",
       "    </tr>\n",
       "    <tr>\n",
       "      <th>14</th>\n",
       "      <td>a11</td>\n",
       "      <td>POINT (512060.541 4733285.948)</td>\n",
       "      <td>2019-01-30</td>\n",
       "      <td>NaN</td>\n",
       "      <td>0</td>\n",
       "      <td>NaN</td>\n",
       "      <td>s2</td>\n",
       "      <td>160880.808462</td>\n",
       "    </tr>\n",
       "    <tr>\n",
       "      <th>15</th>\n",
       "      <td>a14</td>\n",
       "      <td>POINT (557022.386 4715039.842)</td>\n",
       "      <td>2019-03-02</td>\n",
       "      <td>NaN</td>\n",
       "      <td>0</td>\n",
       "      <td>NaN</td>\n",
       "      <td>s3</td>\n",
       "      <td>229232.509696</td>\n",
       "    </tr>\n",
       "    <tr>\n",
       "      <th>16</th>\n",
       "      <td>a15</td>\n",
       "      <td>POINT (578905.852 4715160.643)</td>\n",
       "      <td>2019-03-02</td>\n",
       "      <td>NaN</td>\n",
       "      <td>0</td>\n",
       "      <td>NaN</td>\n",
       "      <td>s3</td>\n",
       "      <td>251119.978881</td>\n",
       "    </tr>\n",
       "    <tr>\n",
       "      <th>17</th>\n",
       "      <td>a17</td>\n",
       "      <td>POINT (597563.914 4707294.161)</td>\n",
       "      <td>2019-03-02</td>\n",
       "      <td>NaN</td>\n",
       "      <td>0</td>\n",
       "      <td>NaN</td>\n",
       "      <td>s3</td>\n",
       "      <td>276735.976185</td>\n",
       "    </tr>\n",
       "    <tr>\n",
       "      <th>18</th>\n",
       "      <td>a19</td>\n",
       "      <td>POINT (585395.903 4705969.313)</td>\n",
       "      <td>2019-03-02</td>\n",
       "      <td>NaN</td>\n",
       "      <td>0</td>\n",
       "      <td>NaN</td>\n",
       "      <td>s3</td>\n",
       "      <td>289777.995671</td>\n",
       "    </tr>\n",
       "    <tr>\n",
       "      <th>19</th>\n",
       "      <td>a24</td>\n",
       "      <td>POINT (570590.169 4705909.386)</td>\n",
       "      <td>2019-03-02</td>\n",
       "      <td>NaN</td>\n",
       "      <td>0</td>\n",
       "      <td>NaN</td>\n",
       "      <td>s3</td>\n",
       "      <td>304586.028279</td>\n",
       "    </tr>\n",
       "    <tr>\n",
       "      <th>20</th>\n",
       "      <td>a27</td>\n",
       "      <td>POINT (542243.644 4705754.258)</td>\n",
       "      <td>2019-03-02</td>\n",
       "      <td>NaN</td>\n",
       "      <td>0</td>\n",
       "      <td>NaN</td>\n",
       "      <td>s3</td>\n",
       "      <td>332934.771423</td>\n",
       "    </tr>\n",
       "    <tr>\n",
       "      <th>21</th>\n",
       "      <td>a31</td>\n",
       "      <td>POINT (525105.775 4705652.552)</td>\n",
       "      <td>2019-03-02</td>\n",
       "      <td>NaN</td>\n",
       "      <td>0</td>\n",
       "      <td>NaN</td>\n",
       "      <td>s3</td>\n",
       "      <td>350074.192982</td>\n",
       "    </tr>\n",
       "    <tr>\n",
       "      <th>22</th>\n",
       "      <td>a32</td>\n",
       "      <td>POINT (656589.472 4747255.148)</td>\n",
       "      <td>2019-03-05</td>\n",
       "      <td>NaN</td>\n",
       "      <td>0</td>\n",
       "      <td>NaN</td>\n",
       "      <td>s4</td>\n",
       "      <td>378881.870174</td>\n",
       "    </tr>\n",
       "    <tr>\n",
       "      <th>23</th>\n",
       "      <td>a35</td>\n",
       "      <td>POINT (646909.59 4734634.658)</td>\n",
       "      <td>2019-03-05</td>\n",
       "      <td>NaN</td>\n",
       "      <td>0</td>\n",
       "      <td>NaN</td>\n",
       "      <td>s4</td>\n",
       "      <td>400954.955702</td>\n",
       "    </tr>\n",
       "    <tr>\n",
       "      <th>24</th>\n",
       "      <td>a39</td>\n",
       "      <td>POINT (630829.773 4734329.078)</td>\n",
       "      <td>2019-03-05</td>\n",
       "      <td>NaN</td>\n",
       "      <td>0</td>\n",
       "      <td>NaN</td>\n",
       "      <td>s4</td>\n",
       "      <td>417039.037037</td>\n",
       "    </tr>\n",
       "    <tr>\n",
       "      <th>25</th>\n",
       "      <td>a41</td>\n",
       "      <td>POINT (609017.154 4733932.538)</td>\n",
       "      <td>2019-03-05</td>\n",
       "      <td>NaN</td>\n",
       "      <td>0</td>\n",
       "      <td>NaN</td>\n",
       "      <td>s4</td>\n",
       "      <td>438858.856921</td>\n",
       "    </tr>\n",
       "    <tr>\n",
       "      <th>26</th>\n",
       "      <td>a45</td>\n",
       "      <td>POINT (614785.618 4724787.815)</td>\n",
       "      <td>2019-03-05</td>\n",
       "      <td>NaN</td>\n",
       "      <td>0</td>\n",
       "      <td>NaN</td>\n",
       "      <td>s4</td>\n",
       "      <td>466700.271750</td>\n",
       "    </tr>\n",
       "    <tr>\n",
       "      <th>27</th>\n",
       "      <td>a48</td>\n",
       "      <td>POINT (626056.583 4725002.656)</td>\n",
       "      <td>2019-03-05</td>\n",
       "      <td>NaN</td>\n",
       "      <td>0</td>\n",
       "      <td>NaN</td>\n",
       "      <td>s4</td>\n",
       "      <td>477973.668741</td>\n",
       "    </tr>\n",
       "    <tr>\n",
       "      <th>28</th>\n",
       "      <td>a51</td>\n",
       "      <td>POINT (609525.353 4715428.193)</td>\n",
       "      <td>2019-03-05</td>\n",
       "      <td>NaN</td>\n",
       "      <td>0</td>\n",
       "      <td>NaN</td>\n",
       "      <td>s4</td>\n",
       "      <td>565443.460173</td>\n",
       "    </tr>\n",
       "    <tr>\n",
       "      <th>29</th>\n",
       "      <td>a58</td>\n",
       "      <td>POINT (615938.887 4706294.315)</td>\n",
       "      <td>2019-03-05</td>\n",
       "      <td>NaN</td>\n",
       "      <td>0</td>\n",
       "      <td>NaN</td>\n",
       "      <td>s4</td>\n",
       "      <td>593716.206741</td>\n",
       "    </tr>\n",
       "    <tr>\n",
       "      <th>30</th>\n",
       "      <td>a59</td>\n",
       "      <td>POINT (649684.081 4706937.647)</td>\n",
       "      <td>2019-03-05</td>\n",
       "      <td>NaN</td>\n",
       "      <td>0</td>\n",
       "      <td>NaN</td>\n",
       "      <td>s4</td>\n",
       "      <td>627469.118690</td>\n",
       "    </tr>\n",
       "    <tr>\n",
       "      <th>31</th>\n",
       "      <td>a60</td>\n",
       "      <td>POINT (657625.371 4698322.005)</td>\n",
       "      <td>2019-03-05</td>\n",
       "      <td>NaN</td>\n",
       "      <td>0</td>\n",
       "      <td>NaN</td>\n",
       "      <td>s4</td>\n",
       "      <td>643526.971484</td>\n",
       "    </tr>\n",
       "    <tr>\n",
       "      <th>32</th>\n",
       "      <td>a65</td>\n",
       "      <td>POINT (635798.561 4697415.377)</td>\n",
       "      <td>2019-03-05</td>\n",
       "      <td>NaN</td>\n",
       "      <td>0</td>\n",
       "      <td>NaN</td>\n",
       "      <td>s4</td>\n",
       "      <td>665570.513626</td>\n",
       "    </tr>\n",
       "  </tbody>\n",
       "</table>\n",
       "</div>"
      ],
      "text/plain": [
       "   point_id                           point       date datapoint_id  p-a  \\\n",
       "0       p01   POINT (579166.78 4742872.701) 2019-01-25          d01    1   \n",
       "1       p02  POINT (554184.217 4742741.886) 2019-01-25          d02    1   \n",
       "2       p04  POINT (520909.741 4714855.058) 2019-03-02          d04    1   \n",
       "3       p05  POINT (532548.249 4714899.835) 2019-03-02          d05    1   \n",
       "4       p06  POINT (512817.407 4705582.465) 2019-03-02          d06    1   \n",
       "5       p08  POINT (654449.136 4716189.584) 2019-03-05          d08    1   \n",
       "6       p10   POINT (643532.681 4716066.52) 2019-03-05          d10    1   \n",
       "7       p11  POINT (629124.489 4706545.106) 2019-03-05          d11    1   \n",
       "8       p13  POINT (611976.857 4696974.111) 2019-03-05          d13    1   \n",
       "9       a01   POINT (534703.21 4742635.051) 2019-01-25          NaN    0   \n",
       "10      a02  POINT (523241.564 4742605.711) 2019-01-25          NaN    0   \n",
       "11      a06  POINT (506947.784 4742532.242) 2019-01-25          NaN    0   \n",
       "12      a08  POINT (591725.363 4733699.016) 2019-01-30          NaN    0   \n",
       "13      a09  POINT (560655.408 4733541.745) 2019-01-30          NaN    0   \n",
       "14      a11  POINT (512060.541 4733285.948) 2019-01-30          NaN    0   \n",
       "15      a14  POINT (557022.386 4715039.842) 2019-03-02          NaN    0   \n",
       "16      a15  POINT (578905.852 4715160.643) 2019-03-02          NaN    0   \n",
       "17      a17  POINT (597563.914 4707294.161) 2019-03-02          NaN    0   \n",
       "18      a19  POINT (585395.903 4705969.313) 2019-03-02          NaN    0   \n",
       "19      a24  POINT (570590.169 4705909.386) 2019-03-02          NaN    0   \n",
       "20      a27  POINT (542243.644 4705754.258) 2019-03-02          NaN    0   \n",
       "21      a31  POINT (525105.775 4705652.552) 2019-03-02          NaN    0   \n",
       "22      a32  POINT (656589.472 4747255.148) 2019-03-05          NaN    0   \n",
       "23      a35   POINT (646909.59 4734634.658) 2019-03-05          NaN    0   \n",
       "24      a39  POINT (630829.773 4734329.078) 2019-03-05          NaN    0   \n",
       "25      a41  POINT (609017.154 4733932.538) 2019-03-05          NaN    0   \n",
       "26      a45  POINT (614785.618 4724787.815) 2019-03-05          NaN    0   \n",
       "27      a48  POINT (626056.583 4725002.656) 2019-03-05          NaN    0   \n",
       "28      a51  POINT (609525.353 4715428.193) 2019-03-05          NaN    0   \n",
       "29      a58  POINT (615938.887 4706294.315) 2019-03-05          NaN    0   \n",
       "30      a59  POINT (649684.081 4706937.647) 2019-03-05          NaN    0   \n",
       "31      a60  POINT (657625.371 4698322.005) 2019-03-05          NaN    0   \n",
       "32      a65  POINT (635798.561 4697415.377) 2019-03-05          NaN    0   \n",
       "\n",
       "    individuals section_id           dfbs  \n",
       "0           1.0        NaN            NaN  \n",
       "1           2.0        NaN            NaN  \n",
       "2           1.0        NaN            NaN  \n",
       "3           2.0        NaN            NaN  \n",
       "4           1.0        NaN            NaN  \n",
       "5           5.0        NaN            NaN  \n",
       "6           1.0        NaN            NaN  \n",
       "7           3.0        NaN            NaN  \n",
       "8           4.0        NaN            NaN  \n",
       "9           NaN         s1   45393.961102  \n",
       "10          NaN         s1   56856.922386  \n",
       "11          NaN         s1   73151.626115  \n",
       "12          NaN         s2   81208.448353  \n",
       "13          NaN         s2  112282.199317  \n",
       "14          NaN         s2  160880.808462  \n",
       "15          NaN         s3  229232.509696  \n",
       "16          NaN         s3  251119.978881  \n",
       "17          NaN         s3  276735.976185  \n",
       "18          NaN         s3  289777.995671  \n",
       "19          NaN         s3  304586.028279  \n",
       "20          NaN         s3  332934.771423  \n",
       "21          NaN         s3  350074.192982  \n",
       "22          NaN         s4  378881.870174  \n",
       "23          NaN         s4  400954.955702  \n",
       "24          NaN         s4  417039.037037  \n",
       "25          NaN         s4  438858.856921  \n",
       "26          NaN         s4  466700.271750  \n",
       "27          NaN         s4  477973.668741  \n",
       "28          NaN         s4  565443.460173  \n",
       "29          NaN         s4  593716.206741  \n",
       "30          NaN         s4  627469.118690  \n",
       "31          NaN         s4  643526.971484  \n",
       "32          NaN         s4  665570.513626  "
      ]
     },
     "execution_count": 25,
     "metadata": {},
     "output_type": "execute_result"
    }
   ],
   "source": [
    "u_samples.samples"
   ]
  },
  {
   "cell_type": "markdown",
   "id": "ad3c05c6-6757-4aea-bfe7-247d73eb306e",
   "metadata": {},
   "source": [
    "The second CSV should contain the parameters, like those shown in the box below (but arranged in a table). This information may prove useful if, later, we need to know  how the samples were generated."
   ]
  },
  {
   "cell_type": "code",
   "execution_count": 26,
   "id": "8bbf5454-f754-4f76-8ac1-5fff9cfeee48",
   "metadata": {},
   "outputs": [
    {
     "data": {
      "text/plain": [
       "{'approach': 'point',\n",
       " 'resampled': 'datapoints',\n",
       " 'presences_name': 'presences-sightings',\n",
       " 'presences_crs': 'EPSG:32619',\n",
       " 'absences_name': 'absences-as-10000m-5day',\n",
       " 'absences_var': 'along',\n",
       " 'absences_target': 65,\n",
       " 'presencezones_crs': 'EPSG:32619',\n",
       " 'presencezones_sp_threshold': 10000,\n",
       " 'presencezones_tm_threshold': 5,\n",
       " 'presencezones_tm_unit': 'day',\n",
       " 'sp_threshold': 10000,\n",
       " 'tm_threshold': 5,\n",
       " 'tm_unit': 'day'}"
      ]
     },
     "execution_count": 26,
     "metadata": {},
     "output_type": "execute_result"
    }
   ],
   "source": [
    "u_samples.parameters"
   ]
  }
 ],
 "metadata": {
  "kernelspec": {
   "display_name": "Python 3 (ipykernel)",
   "language": "python",
   "name": "python3"
  },
  "language_info": {
   "codemirror_mode": {
    "name": "ipython",
    "version": 3
   },
   "file_extension": ".py",
   "mimetype": "text/x-python",
   "name": "python",
   "nbconvert_exporter": "python",
   "pygments_lexer": "ipython3",
   "version": "3.12.3"
  }
 },
 "nbformat": 4,
 "nbformat_minor": 5
}
