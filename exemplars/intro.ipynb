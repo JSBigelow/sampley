{
 "cells": [
  {
   "cell_type": "markdown",
   "id": "4bee67fd-4630-49ec-99e1-eec167d35066",
   "metadata": {},
   "source": [
    "# Introduction to ```sampley``` exemplars"
   ]
  },
  {
   "cell_type": "markdown",
   "id": "ccdf5dcd-8049-4846-8967-556210a3153e",
   "metadata": {},
   "source": [
    "## Install ```sampley``` (if not already installed)\n",
    "If sampley has not yet been installed, it can be installed by running the following box.\n",
    "<br>It can also be installed in terminal with the line ```pip install sampley```"
   ]
  },
  {
   "cell_type": "code",
   "execution_count": null,
   "id": "54192b40-1b14-4416-9b00-2ed898bd42d7",
   "metadata": {},
   "outputs": [],
   "source": [
    "%pip install sampley"
   ]
  },
  {
   "cell_type": "markdown",
   "id": "94eac196-8078-4ba6-9415-9092a7d79c70",
   "metadata": {},
   "source": [
    "## User Manual\n",
    "These exemplars are intended to accompany the User Manual (available on GitHub: https://github.com/JSBigelow/sampley/blob/main/sampley%20-%20User%20Manual.pdf) which contains more detailed information on the classes, methods, and parameters included within the sampley package."
   ]
  },
  {
   "cell_type": "markdown",
   "id": "1ae21490-841d-49b4-b3b5-36e974685a2f",
   "metadata": {},
   "source": [
    "## Exemplar sets\n",
    "The exemplars are divided into two sets: horizontal and vertical. It is recommended to start with the vertical exemplars, then refer to the horizontal ones if more detail is required.\n",
    "\n",
    "### Vertical\n",
    "The vertical exemplars each illustrate a path to take in order to process data from beginning to end. As such, the user may use them as models to run their own processing by replacing the values of certain parameters with their own values. To facilitate this, the names of all objects made in the exemplars begin with ```u_``` (short for 'user'; e.g., ```u_datapoints```) and may be changed to names of the user's choosing. There is limited technical information in these exemplars, however the user may refer to the horizontal exemplars and the User Manual for more details.\n",
    "\n",
    "### Horizontal\n",
    "The horizontal exemplars each illustrate one stage in the process and are intended to provide detail on the classes, their class methods, their attributes, and their methods (in other words, how the classes can be made and used). These exemplars are _not_ intended to be used as models for the user to run their own processing."
   ]
  },
  {
   "cell_type": "markdown",
   "id": "546594b6-e65e-4f28-b882-b1bfe56f3a26",
   "metadata": {},
   "source": [
    "## Mock data\n",
    "The exemplars use mock data to illustrate various aspects and uses of ```sampley```. These mock data are contained in four files (```sections.gpkg```, ```sightings.csv```, ```sightings.gpkg```, and ```trackpoints.csv```) that can be downloaded. The path to the folder containing these files should then be set with the ```input_folder``` parameter at the start of each exemplar."
   ]
  }
 ],
 "metadata": {
  "kernelspec": {
   "display_name": "Python 3 (ipykernel)",
   "language": "python",
   "name": "python3"
  },
  "language_info": {
   "codemirror_mode": {
    "name": "ipython",
    "version": 3
   },
   "file_extension": ".py",
   "mimetype": "text/x-python",
   "name": "python",
   "nbconvert_exporter": "python",
   "pygments_lexer": "ipython3",
   "version": "3.12.3"
  }
 },
 "nbformat": 4,
 "nbformat_minor": 5
}
